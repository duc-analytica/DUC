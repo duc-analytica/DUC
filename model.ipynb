{
 "cells": [
  {
   "cell_type": "code",
   "execution_count": 2,
   "metadata": {},
   "outputs": [],
   "source": [
    "# Modeling\n",
    "from sklearn.preprocessing import LabelEncoder\n",
    "from sklearn.preprocessing import MinMaxScaler\n",
    "import xgboost as xgb\n",
    "from scipy import stats\n",
    "import statsmodels.api as sm\n",
    "from sklearn.model_selection import train_test_split\n",
    "\n",
    "# Feature Selection\n",
    "import xgboost as xgb\n",
    "from sklearn.decomposition import PCA"
   ]
  },
  {
   "cell_type": "markdown",
   "metadata": {},
   "source": [
    "# Model Functions"
   ]
  },
  {
   "cell_type": "code",
   "execution_count": 3,
   "metadata": {},
   "outputs": [],
   "source": [
    "def linreg(X_train, y_train):\n",
    "    lr = LinearRegression()\n",
    "    lr.fit(X_train, y_train)\n",
    "    y_pred = lr.predict(X_train)\n",
    "    MAE = median_absolute_error(y_train, y_pred)\n",
    "    MSE = mean_squared_error(y_train, y_pred)\n",
    "    scatter = sns.scatterplot(y_train, y_pred)\n",
    "    return lr, lr.coef_, lr.intercept_, MAE, MSE, y_pred, scatter\n",
    "\n",
    "def ridge(X_train, y_train):\n",
    "    rr = Ridge(alpha=.5)\n",
    "    rr.fit(X_train, y_train)\n",
    "    y_pred = rr.predict((X_train))\n",
    "    MAE = median_absolute_error(y_train, y_pred)\n",
    "    MSE = mean_squared_error(y_train, y_pred)\n",
    "    scatter = sns.scatterplot(y_train, y_pred)\n",
    "    return rr, rr.coef_, rr.intercept_, MAE, MSE, y_pred, scatter\n",
    "\n",
    "def svm(X_train, y_train):\n",
    "    svr_rbf = SVR(kernel='rbf', C=100, gamma=0.1, epsilon=.1)\n",
    "    svr_lin = SVR(kernel='linear', C=100, gamma='auto')\n",
    "    svr_poly = SVR(kernel='poly', C=100, gamma='auto', degree=3, epsilon=.1,\n",
    "               coef0=1)\n",
    "    y_rbf = svr_rbf.fit(X_train, y_train).predict(X_train)\n",
    "    y_lin = svr_lin.fit(X_train, y_train).predict(X_train)\n",
    "    y_poly = svr_poly.fit(X_train, y_train).predict(X_train)\n",
    "    MSE_rbf = mean_squared_error(y_train, y_rbf)\n",
    "    MSE_lin = mean_squared_error(y_train, y_lin)\n",
    "    MSE_poly = mean_squared_error(y_train, y_poly)\n",
    "    return svr_rbf, svr_lin, svr_poly, MSE_rbf, MSE_lin, MSE_poly, y_rbf, y_lin, y_poly"
   ]
  },
  {
   "cell_type": "markdown",
   "metadata": {},
   "source": [
    "# Evaluate Algorithms"
   ]
  },
  {
   "cell_type": "code",
   "execution_count": 4,
   "metadata": {},
   "outputs": [],
   "source": [
    "# ignore warnings\n",
    "import warnings\n",
    "warnings.filterwarnings(\"ignore\")\n",
    "\n",
    "# Wrangling\n",
    "from acquire_prepare import acquire_oil\n",
    "from acquire_prepare import prep_data\n",
    "import numpy as np\n",
    "import pandas as pd\n",
    "\n",
    "# Visualizing\n",
    "%matplotlib inline\n",
    "import matplotlib.pyplot as plt\n",
    "import sys "
   ]
  },
  {
   "cell_type": "code",
   "execution_count": 5,
   "metadata": {},
   "outputs": [
    {
     "data": {
      "text/plain": [
       "(10621, 37)"
      ]
     },
     "execution_count": 5,
     "metadata": {},
     "output_type": "execute_result"
    }
   ],
   "source": [
    "df = acquire_oil()\n",
    "df = prep_data(df)\n",
    "df.shape"
   ]
  },
  {
   "cell_type": "code",
   "execution_count": 6,
   "metadata": {},
   "outputs": [
    {
     "data": {
      "text/plain": [
       "Index(['api14', 'proppant_ppf', 'frac_fluid_gpf', 'lateral_len', 'frac_stages',\n",
       "       'oil_gravity', 'peak_boepd', 'oil_hist', 'gas_hist', 'gor_hist',\n",
       "       'ip90_boeqpd', 'landing_depth', 'sur_lat', 'sur_long', 'well_id',\n",
       "       'mid_point_lat', 'mid_point_long', 'recovery', 'recovery_per_foot',\n",
       "       'months_active', 'recovery_per_month', 'vintage', 'vintage_bin'],\n",
       "      dtype='object')"
      ]
     },
     "execution_count": 6,
     "metadata": {},
     "output_type": "execute_result"
    }
   ],
   "source": [
    "numerics = ['int64', 'float64']\n",
    "\n",
    "num_df = df.select_dtypes(include=numerics)\n",
    "num_df.columns"
   ]
  },
  {
   "cell_type": "code",
   "execution_count": 7,
   "metadata": {},
   "outputs": [],
   "source": [
    "num_df = num_df.drop(columns=['gas_hist', 'recovery', 'recovery_per_foot', \n",
    "                              'recovery_per_month', 'landing_depth', 'api14',\n",
    "                              'sur_long', 'sur_lat', 'mid_point_lat', 'mid_point_long',\n",
    "                              'well_id', 'oil_hist'])"
   ]
  },
  {
   "cell_type": "markdown",
   "metadata": {},
   "source": [
    "### Use LabelEncoder to encode county and frak_fluid_type"
   ]
  },
  {
   "cell_type": "code",
   "execution_count": 8,
   "metadata": {},
   "outputs": [
    {
     "data": {
      "text/html": [
       "<div>\n",
       "<style scoped>\n",
       "    .dataframe tbody tr th:only-of-type {\n",
       "        vertical-align: middle;\n",
       "    }\n",
       "\n",
       "    .dataframe tbody tr th {\n",
       "        vertical-align: top;\n",
       "    }\n",
       "\n",
       "    .dataframe thead th {\n",
       "        text-align: right;\n",
       "    }\n",
       "</style>\n",
       "<table border=\"1\" class=\"dataframe\">\n",
       "  <thead>\n",
       "    <tr style=\"text-align: right;\">\n",
       "      <th></th>\n",
       "      <th>proppant_ppf</th>\n",
       "      <th>frac_fluid_gpf</th>\n",
       "      <th>lateral_len</th>\n",
       "      <th>frac_stages</th>\n",
       "      <th>oil_gravity</th>\n",
       "      <th>peak_boepd</th>\n",
       "      <th>gor_hist</th>\n",
       "      <th>ip90_boeqpd</th>\n",
       "      <th>months_active</th>\n",
       "      <th>vintage</th>\n",
       "      <th>vintage_bin</th>\n",
       "      <th>county</th>\n",
       "    </tr>\n",
       "  </thead>\n",
       "  <tbody>\n",
       "    <tr>\n",
       "      <th>8</th>\n",
       "      <td>213.525986</td>\n",
       "      <td>9.795906</td>\n",
       "      <td>4983.0</td>\n",
       "      <td>0.0</td>\n",
       "      <td>NaN</td>\n",
       "      <td>183.820175</td>\n",
       "      <td>1419.049680</td>\n",
       "      <td>106.681160</td>\n",
       "      <td>96</td>\n",
       "      <td>2011</td>\n",
       "      <td>4</td>\n",
       "      <td>2</td>\n",
       "    </tr>\n",
       "    <tr>\n",
       "      <th>9</th>\n",
       "      <td>253.196075</td>\n",
       "      <td>278.366364</td>\n",
       "      <td>5197.0</td>\n",
       "      <td>10.0</td>\n",
       "      <td>NaN</td>\n",
       "      <td>265.464478</td>\n",
       "      <td>1613.077390</td>\n",
       "      <td>77.726590</td>\n",
       "      <td>108</td>\n",
       "      <td>2010</td>\n",
       "      <td>4</td>\n",
       "      <td>2</td>\n",
       "    </tr>\n",
       "    <tr>\n",
       "      <th>10</th>\n",
       "      <td>333.403600</td>\n",
       "      <td>320.419400</td>\n",
       "      <td>4745.0</td>\n",
       "      <td>0.0</td>\n",
       "      <td>NaN</td>\n",
       "      <td>172.198200</td>\n",
       "      <td>1744.061160</td>\n",
       "      <td>114.559784</td>\n",
       "      <td>99</td>\n",
       "      <td>2010</td>\n",
       "      <td>4</td>\n",
       "      <td>2</td>\n",
       "    </tr>\n",
       "    <tr>\n",
       "      <th>11</th>\n",
       "      <td>1036.424680</td>\n",
       "      <td>894.965637</td>\n",
       "      <td>3871.0</td>\n",
       "      <td>0.0</td>\n",
       "      <td>NaN</td>\n",
       "      <td>33.046757</td>\n",
       "      <td>640.188232</td>\n",
       "      <td>15.327899</td>\n",
       "      <td>93</td>\n",
       "      <td>2010</td>\n",
       "      <td>4</td>\n",
       "      <td>2</td>\n",
       "    </tr>\n",
       "    <tr>\n",
       "      <th>12</th>\n",
       "      <td>395.533966</td>\n",
       "      <td>313.524200</td>\n",
       "      <td>3783.0</td>\n",
       "      <td>11.0</td>\n",
       "      <td>NaN</td>\n",
       "      <td>382.906219</td>\n",
       "      <td>1312.453370</td>\n",
       "      <td>352.800000</td>\n",
       "      <td>109</td>\n",
       "      <td>2010</td>\n",
       "      <td>4</td>\n",
       "      <td>2</td>\n",
       "    </tr>\n",
       "  </tbody>\n",
       "</table>\n",
       "</div>"
      ],
      "text/plain": [
       "    proppant_ppf  frac_fluid_gpf  lateral_len  frac_stages  oil_gravity  \\\n",
       "8     213.525986        9.795906       4983.0          0.0          NaN   \n",
       "9     253.196075      278.366364       5197.0         10.0          NaN   \n",
       "10    333.403600      320.419400       4745.0          0.0          NaN   \n",
       "11   1036.424680      894.965637       3871.0          0.0          NaN   \n",
       "12    395.533966      313.524200       3783.0         11.0          NaN   \n",
       "\n",
       "    peak_boepd     gor_hist  ip90_boeqpd  months_active  vintage  vintage_bin  \\\n",
       "8   183.820175  1419.049680   106.681160             96     2011            4   \n",
       "9   265.464478  1613.077390    77.726590            108     2010            4   \n",
       "10  172.198200  1744.061160   114.559784             99     2010            4   \n",
       "11   33.046757   640.188232    15.327899             93     2010            4   \n",
       "12  382.906219  1312.453370   352.800000            109     2010            4   \n",
       "\n",
       "    county  \n",
       "8        2  \n",
       "9        2  \n",
       "10       2  \n",
       "11       2  \n",
       "12       2  "
      ]
     },
     "execution_count": 8,
     "metadata": {},
     "output_type": "execute_result"
    }
   ],
   "source": [
    "encoder = LabelEncoder()\n",
    "\n",
    "encoder.fit(df.county)\n",
    "num_df['county'] = encoder.transform(df.county)\n",
    "\n",
    "num_df.head()"
   ]
  },
  {
   "cell_type": "code",
   "execution_count": 9,
   "metadata": {},
   "outputs": [
    {
     "data": {
      "text/html": [
       "<div>\n",
       "<style scoped>\n",
       "    .dataframe tbody tr th:only-of-type {\n",
       "        vertical-align: middle;\n",
       "    }\n",
       "\n",
       "    .dataframe tbody tr th {\n",
       "        vertical-align: top;\n",
       "    }\n",
       "\n",
       "    .dataframe thead th {\n",
       "        text-align: right;\n",
       "    }\n",
       "</style>\n",
       "<table border=\"1\" class=\"dataframe\">\n",
       "  <thead>\n",
       "    <tr style=\"text-align: right;\">\n",
       "      <th></th>\n",
       "      <th>proppant_ppf</th>\n",
       "      <th>frac_fluid_gpf</th>\n",
       "      <th>lateral_len</th>\n",
       "      <th>frac_stages</th>\n",
       "      <th>oil_gravity</th>\n",
       "      <th>peak_boepd</th>\n",
       "      <th>gor_hist</th>\n",
       "      <th>ip90_boeqpd</th>\n",
       "      <th>months_active</th>\n",
       "      <th>vintage</th>\n",
       "      <th>vintage_bin</th>\n",
       "      <th>county</th>\n",
       "      <th>frac_fluid_type</th>\n",
       "    </tr>\n",
       "  </thead>\n",
       "  <tbody>\n",
       "    <tr>\n",
       "      <th>8</th>\n",
       "      <td>213.525986</td>\n",
       "      <td>9.795906</td>\n",
       "      <td>4983.0</td>\n",
       "      <td>0.0</td>\n",
       "      <td>NaN</td>\n",
       "      <td>183.820175</td>\n",
       "      <td>1419.049680</td>\n",
       "      <td>106.681160</td>\n",
       "      <td>96</td>\n",
       "      <td>2011</td>\n",
       "      <td>4</td>\n",
       "      <td>2</td>\n",
       "      <td>0</td>\n",
       "    </tr>\n",
       "    <tr>\n",
       "      <th>9</th>\n",
       "      <td>253.196075</td>\n",
       "      <td>278.366364</td>\n",
       "      <td>5197.0</td>\n",
       "      <td>10.0</td>\n",
       "      <td>NaN</td>\n",
       "      <td>265.464478</td>\n",
       "      <td>1613.077390</td>\n",
       "      <td>77.726590</td>\n",
       "      <td>108</td>\n",
       "      <td>2010</td>\n",
       "      <td>4</td>\n",
       "      <td>2</td>\n",
       "      <td>3</td>\n",
       "    </tr>\n",
       "    <tr>\n",
       "      <th>10</th>\n",
       "      <td>333.403600</td>\n",
       "      <td>320.419400</td>\n",
       "      <td>4745.0</td>\n",
       "      <td>0.0</td>\n",
       "      <td>NaN</td>\n",
       "      <td>172.198200</td>\n",
       "      <td>1744.061160</td>\n",
       "      <td>114.559784</td>\n",
       "      <td>99</td>\n",
       "      <td>2010</td>\n",
       "      <td>4</td>\n",
       "      <td>2</td>\n",
       "      <td>3</td>\n",
       "    </tr>\n",
       "    <tr>\n",
       "      <th>11</th>\n",
       "      <td>1036.424680</td>\n",
       "      <td>894.965637</td>\n",
       "      <td>3871.0</td>\n",
       "      <td>0.0</td>\n",
       "      <td>NaN</td>\n",
       "      <td>33.046757</td>\n",
       "      <td>640.188232</td>\n",
       "      <td>15.327899</td>\n",
       "      <td>93</td>\n",
       "      <td>2010</td>\n",
       "      <td>4</td>\n",
       "      <td>2</td>\n",
       "      <td>8</td>\n",
       "    </tr>\n",
       "    <tr>\n",
       "      <th>12</th>\n",
       "      <td>395.533966</td>\n",
       "      <td>313.524200</td>\n",
       "      <td>3783.0</td>\n",
       "      <td>11.0</td>\n",
       "      <td>NaN</td>\n",
       "      <td>382.906219</td>\n",
       "      <td>1312.453370</td>\n",
       "      <td>352.800000</td>\n",
       "      <td>109</td>\n",
       "      <td>2010</td>\n",
       "      <td>4</td>\n",
       "      <td>2</td>\n",
       "      <td>3</td>\n",
       "    </tr>\n",
       "  </tbody>\n",
       "</table>\n",
       "</div>"
      ],
      "text/plain": [
       "    proppant_ppf  frac_fluid_gpf  lateral_len  frac_stages  oil_gravity  \\\n",
       "8     213.525986        9.795906       4983.0          0.0          NaN   \n",
       "9     253.196075      278.366364       5197.0         10.0          NaN   \n",
       "10    333.403600      320.419400       4745.0          0.0          NaN   \n",
       "11   1036.424680      894.965637       3871.0          0.0          NaN   \n",
       "12    395.533966      313.524200       3783.0         11.0          NaN   \n",
       "\n",
       "    peak_boepd     gor_hist  ip90_boeqpd  months_active  vintage  vintage_bin  \\\n",
       "8   183.820175  1419.049680   106.681160             96     2011            4   \n",
       "9   265.464478  1613.077390    77.726590            108     2010            4   \n",
       "10  172.198200  1744.061160   114.559784             99     2010            4   \n",
       "11   33.046757   640.188232    15.327899             93     2010            4   \n",
       "12  382.906219  1312.453370   352.800000            109     2010            4   \n",
       "\n",
       "    county  frac_fluid_type  \n",
       "8        2                0  \n",
       "9        2                3  \n",
       "10       2                3  \n",
       "11       2                8  \n",
       "12       2                3  "
      ]
     },
     "execution_count": 9,
     "metadata": {},
     "output_type": "execute_result"
    }
   ],
   "source": [
    "encoder = LabelEncoder()\n",
    "encoder.fit(df.frac_fluid_type)\n",
    "num_df['frac_fluid_type'] = encoder.transform(df.frac_fluid_type)\n",
    "num_df.head()"
   ]
  },
  {
   "cell_type": "markdown",
   "metadata": {},
   "source": [
    "### Standardize Numeric Data"
   ]
  },
  {
   "cell_type": "code",
   "execution_count": 10,
   "metadata": {},
   "outputs": [],
   "source": [
    "scaled_df = num_df.copy()\n",
    "\n",
    "scaled_df['proppant_ppf'] = (scaled_df.proppant_ppf - scaled_df.proppant_ppf.min()) / (scaled_df.proppant_ppf.max() - scaled_df.proppant_ppf.min())\n",
    "scaled_df['frac_fluid_gpf'] = (scaled_df.frac_fluid_gpf - scaled_df.frac_fluid_gpf.min()) / (scaled_df.frac_fluid_gpf.max() - scaled_df.frac_fluid_gpf.min())\n",
    "scaled_df['lateral_len'] = (scaled_df.lateral_len - scaled_df.lateral_len.min()) / (scaled_df.lateral_len.max() - scaled_df.lateral_len.min())\n",
    "scaled_df['frac_stages'] = (scaled_df.frac_stages - scaled_df.frac_stages.min()) / (scaled_df.frac_stages.max() - scaled_df.frac_stages.min())\n",
    "scaled_df['oil_gravity'] = (scaled_df.oil_gravity - scaled_df.oil_gravity.min()) / (scaled_df.oil_gravity.max() - scaled_df.oil_gravity.min())\n",
    "scaled_df['peak_boepd'] = (scaled_df.peak_boepd - scaled_df.peak_boepd.min()) / (scaled_df.peak_boepd.max() - scaled_df.peak_boepd.min())\n",
    "scaled_df['gor_hist'] = (scaled_df.gor_hist - scaled_df.gor_hist.min()) / (scaled_df.gor_hist.max() - scaled_df.gor_hist.min())\n",
    "scaled_df['ip90_boeqpd'] = (scaled_df.ip90_boeqpd - scaled_df.ip90_boeqpd.min()) / (scaled_df.ip90_boeqpd.max() - scaled_df.ip90_boeqpd.min())\n",
    "scaled_df['months_active'] = (scaled_df.months_active - scaled_df.months_active.min()) / (scaled_df.months_active.max() - scaled_df.months_active.min())\n",
    "scaled_df['vintage'] = (scaled_df.vintage - scaled_df.vintage.min()) / (scaled_df.vintage.max() - scaled_df.vintage.min())"
   ]
  },
  {
   "cell_type": "code",
   "execution_count": 11,
   "metadata": {},
   "outputs": [],
   "source": [
    "xgb_df = scaled_df.copy()"
   ]
  },
  {
   "cell_type": "markdown",
   "metadata": {},
   "source": [
    "### XGBoost Feature Recommender"
   ]
  },
  {
   "cell_type": "code",
   "execution_count": null,
   "metadata": {},
   "outputs": [],
   "source": [
    "xgb_params = {\n",
    "    'max_depth': 8,\n",
    "    'seed' : 493\n",
    "}\n",
    "\n",
    "dtrain = xgb.DMatrix(xgb_df, df.oil_hist, feature_names=xgb_df.columns.values)\n",
    "model = xgb.train(dict(xgb_params, silent=0), dtrain, num_boost_round=50)\n",
    "\n",
    "# plot the important features #\n",
    "fig, ax = plt.subplots(figsize=(12,8))\n",
    "xgb.plot_importance(model, max_num_features=50, height=0.8, ax=ax)\n",
    "plt.show()"
   ]
  },
  {
   "cell_type": "markdown",
   "metadata": {},
   "source": [
    "## Test Harness and Options"
   ]
  },
  {
   "cell_type": "code",
   "execution_count": null,
   "metadata": {},
   "outputs": [],
   "source": []
  },
  {
   "cell_type": "markdown",
   "metadata": {},
   "source": [
    "## Explore and select algorithms"
   ]
  },
  {
   "cell_type": "code",
   "execution_count": null,
   "metadata": {},
   "outputs": [],
   "source": []
  },
  {
   "cell_type": "markdown",
   "metadata": {},
   "source": [
    "## Interpret and report results"
   ]
  },
  {
   "cell_type": "code",
   "execution_count": null,
   "metadata": {},
   "outputs": [],
   "source": []
  },
  {
   "cell_type": "markdown",
   "metadata": {},
   "source": [
    "# Improve Results"
   ]
  },
  {
   "cell_type": "markdown",
   "metadata": {},
   "source": [
    "## Algorithm Tuning"
   ]
  },
  {
   "cell_type": "code",
   "execution_count": null,
   "metadata": {},
   "outputs": [],
   "source": []
  },
  {
   "cell_type": "markdown",
   "metadata": {},
   "source": [
    "## Ensemble Methods"
   ]
  },
  {
   "cell_type": "markdown",
   "metadata": {},
   "source": [
    "### Bagging"
   ]
  },
  {
   "cell_type": "code",
   "execution_count": null,
   "metadata": {},
   "outputs": [],
   "source": []
  },
  {
   "cell_type": "markdown",
   "metadata": {},
   "source": [
    "### Boosting"
   ]
  },
  {
   "cell_type": "code",
   "execution_count": null,
   "metadata": {},
   "outputs": [],
   "source": []
  },
  {
   "cell_type": "markdown",
   "metadata": {},
   "source": [
    "### Blending"
   ]
  },
  {
   "cell_type": "code",
   "execution_count": null,
   "metadata": {},
   "outputs": [],
   "source": []
  },
  {
   "cell_type": "markdown",
   "metadata": {},
   "source": [
    "## Extreme Feature Engineering"
   ]
  },
  {
   "cell_type": "code",
   "execution_count": null,
   "metadata": {},
   "outputs": [],
   "source": []
  }
 ],
 "metadata": {
  "kernelspec": {
   "display_name": "Python 3",
   "language": "python",
   "name": "python3"
  },
  "language_info": {
   "codemirror_mode": {
    "name": "ipython",
    "version": 3
   },
   "file_extension": ".py",
   "mimetype": "text/x-python",
   "name": "python",
   "nbconvert_exporter": "python",
   "pygments_lexer": "ipython3",
   "version": "3.7.1"
  }
 },
 "nbformat": 4,
 "nbformat_minor": 2
}
