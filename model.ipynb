{
 "cells": [
  {
   "cell_type": "code",
   "execution_count": 3,
   "metadata": {},
   "outputs": [],
   "source": [
    "# Modeling\n",
    "from sklearn.preprocessing import LabelEncoder\n",
    "from sklearn.preprocessing import MinMaxScaler\n",
    "import xgboost as xgb\n",
    "from scipy import stats\n",
    "import statsmodels.api as sm\n",
    "from sklearn.model_selection import train_test_split\n",
    "from sklearn import preprocessing\n",
    "\n",
    "# Feature Selection\n",
    "import xgboost as xgb\n",
    "from sklearn.decomposition import PCA"
   ]
  },
  {
   "cell_type": "markdown",
   "metadata": {},
   "source": [
    "# Evaluate Algorithms"
   ]
  },
  {
   "cell_type": "code",
   "execution_count": 4,
   "metadata": {},
   "outputs": [],
   "source": [
    "# ignore warnings\n",
    "import warnings\n",
    "warnings.filterwarnings(\"ignore\")\n",
    "\n",
    "# Wrangling\n",
    "from acquire_prepare import acquire_oil\n",
    "from acquire_prepare import prep_data\n",
    "\n",
    "import model\n",
    "import numpy as np\n",
    "import pandas as pd\n",
    "\n",
    "# Visualizing\n",
    "%matplotlib inline\n",
    "import matplotlib.pyplot as plt\n",
    "import sys "
   ]
  },
  {
   "cell_type": "markdown",
   "metadata": {},
   "source": [
    "**Let's bring in the DataFrame**"
   ]
  },
  {
   "cell_type": "code",
   "execution_count": 5,
   "metadata": {},
   "outputs": [],
   "source": [
    "df = acquire_oil()\n",
    "df = prep_data(df)"
   ]
  },
  {
   "cell_type": "markdown",
   "metadata": {},
   "source": [
    "**(Rows, Columns)**"
   ]
  },
  {
   "cell_type": "code",
   "execution_count": 6,
   "metadata": {},
   "outputs": [
    {
     "data": {
      "text/plain": [
       "(7888, 62)"
      ]
     },
     "execution_count": 6,
     "metadata": {},
     "output_type": "execute_result"
    }
   ],
   "source": [
    "df.shape"
   ]
  },
  {
   "cell_type": "markdown",
   "metadata": {},
   "source": [
    "**We need to make sure the numberic types are correct**"
   ]
  },
  {
   "cell_type": "code",
   "execution_count": 7,
   "metadata": {},
   "outputs": [
    {
     "data": {
      "text/plain": [
       "Index(['api14', 'proppant_ppf', 'frac_fluid_gpf', 'gross_perfs', 'frac_stages',\n",
       "       'oil_gravity', 'peak_boepd', 'oil_hist', 'gas_hist', 'gor_hist',\n",
       "       'ip90_boeqpd', 'tvd', 'sur_lat', 'sur_long', 'well_id', 'mid_point_lat',\n",
       "       'mid_point_long', 'recovery', 'recovery_per_foot', 'months_active',\n",
       "       'recovery_per_month', 'vintage', 'vintage_bin', 'encoded_direction',\n",
       "       'encoded_frac_fluid_type', 'encoded_county', 'encoded_oper',\n",
       "       'encoded_formation', 'encoded_sub-basin', 'encoded_lateral_class',\n",
       "       'scaled_direction', 'scaled_frac_fluid_type', 'scaled_county',\n",
       "       'scaled_oper', 'scaled_formation', 'scaled_sub-basin',\n",
       "       'scaled_lateral_class', 'scaled_proppant_ppf', 'scaled_frac_fluid_gpf',\n",
       "       'scaled_gross_perfs', 'scaled_frac_stages', 'scaled_oil_gravity',\n",
       "       'scaled_gor_hist', 'scaled_tvd', 'scaled_mid_point_lat',\n",
       "       'scaled_mid_point_long', 'scaled_vintage'],\n",
       "      dtype='object')"
      ]
     },
     "execution_count": 7,
     "metadata": {},
     "output_type": "execute_result"
    }
   ],
   "source": [
    "numerics = ['int64', 'float64']\n",
    "\n",
    "num_df = df.select_dtypes(include=numerics)\n",
    "num_df.columns"
   ]
  },
  {
   "cell_type": "code",
   "execution_count": 8,
   "metadata": {},
   "outputs": [],
   "source": [
    "num_df = num_df.drop(columns=['gas_hist', 'recovery', 'recovery_per_foot', \n",
    "                              'recovery_per_month', 'api14',\n",
    "                              'sur_long', 'sur_lat', 'mid_point_lat', 'mid_point_long',\n",
    "                              'well_id', 'oil_hist'])"
   ]
  },
  {
   "cell_type": "markdown",
   "metadata": {},
   "source": [
    "### Use LabelEncoder to encode county and frak_fluid_type"
   ]
  },
  {
   "cell_type": "code",
   "execution_count": 9,
   "metadata": {},
   "outputs": [
    {
     "data": {
      "text/html": [
       "<div>\n",
       "<style scoped>\n",
       "    .dataframe tbody tr th:only-of-type {\n",
       "        vertical-align: middle;\n",
       "    }\n",
       "\n",
       "    .dataframe tbody tr th {\n",
       "        vertical-align: top;\n",
       "    }\n",
       "\n",
       "    .dataframe thead th {\n",
       "        text-align: right;\n",
       "    }\n",
       "</style>\n",
       "<table border=\"1\" class=\"dataframe\">\n",
       "  <thead>\n",
       "    <tr style=\"text-align: right;\">\n",
       "      <th></th>\n",
       "      <th>proppant_ppf</th>\n",
       "      <th>frac_fluid_gpf</th>\n",
       "      <th>gross_perfs</th>\n",
       "      <th>frac_stages</th>\n",
       "      <th>oil_gravity</th>\n",
       "      <th>peak_boepd</th>\n",
       "      <th>gor_hist</th>\n",
       "      <th>ip90_boeqpd</th>\n",
       "      <th>tvd</th>\n",
       "      <th>months_active</th>\n",
       "      <th>...</th>\n",
       "      <th>scaled_frac_fluid_gpf</th>\n",
       "      <th>scaled_gross_perfs</th>\n",
       "      <th>scaled_frac_stages</th>\n",
       "      <th>scaled_oil_gravity</th>\n",
       "      <th>scaled_gor_hist</th>\n",
       "      <th>scaled_tvd</th>\n",
       "      <th>scaled_mid_point_lat</th>\n",
       "      <th>scaled_mid_point_long</th>\n",
       "      <th>scaled_vintage</th>\n",
       "      <th>county</th>\n",
       "    </tr>\n",
       "  </thead>\n",
       "  <tbody>\n",
       "    <tr>\n",
       "      <th>30</th>\n",
       "      <td>1311.78809</td>\n",
       "      <td>1642.58887</td>\n",
       "      <td>3977.0</td>\n",
       "      <td>0.0</td>\n",
       "      <td>0.0</td>\n",
       "      <td>61.408554</td>\n",
       "      <td>1738.53259</td>\n",
       "      <td>47.452900</td>\n",
       "      <td>10021.0</td>\n",
       "      <td>33</td>\n",
       "      <td>...</td>\n",
       "      <td>0.547863</td>\n",
       "      <td>0.292627</td>\n",
       "      <td>0.000000</td>\n",
       "      <td>0.0</td>\n",
       "      <td>0.087056</td>\n",
       "      <td>0.745943</td>\n",
       "      <td>0.614855</td>\n",
       "      <td>0.580622</td>\n",
       "      <td>0.966667</td>\n",
       "      <td>0</td>\n",
       "    </tr>\n",
       "    <tr>\n",
       "      <th>31</th>\n",
       "      <td>1088.56238</td>\n",
       "      <td>1493.36900</td>\n",
       "      <td>7283.0</td>\n",
       "      <td>0.0</td>\n",
       "      <td>0.0</td>\n",
       "      <td>416.961182</td>\n",
       "      <td>1381.57100</td>\n",
       "      <td>351.796700</td>\n",
       "      <td>9764.0</td>\n",
       "      <td>66</td>\n",
       "      <td>...</td>\n",
       "      <td>0.498082</td>\n",
       "      <td>0.536127</td>\n",
       "      <td>0.000000</td>\n",
       "      <td>0.0</td>\n",
       "      <td>0.069179</td>\n",
       "      <td>0.726813</td>\n",
       "      <td>0.517410</td>\n",
       "      <td>0.581774</td>\n",
       "      <td>0.916667</td>\n",
       "      <td>0</td>\n",
       "    </tr>\n",
       "    <tr>\n",
       "      <th>32</th>\n",
       "      <td>951.97060</td>\n",
       "      <td>1369.34363</td>\n",
       "      <td>7382.0</td>\n",
       "      <td>0.0</td>\n",
       "      <td>0.0</td>\n",
       "      <td>838.371765</td>\n",
       "      <td>1961.41300</td>\n",
       "      <td>688.525400</td>\n",
       "      <td>10798.0</td>\n",
       "      <td>64</td>\n",
       "      <td>...</td>\n",
       "      <td>0.456706</td>\n",
       "      <td>0.543419</td>\n",
       "      <td>0.000000</td>\n",
       "      <td>0.0</td>\n",
       "      <td>0.098218</td>\n",
       "      <td>0.803781</td>\n",
       "      <td>0.587606</td>\n",
       "      <td>0.571086</td>\n",
       "      <td>0.916667</td>\n",
       "      <td>0</td>\n",
       "    </tr>\n",
       "    <tr>\n",
       "      <th>33</th>\n",
       "      <td>1155.36267</td>\n",
       "      <td>1299.68433</td>\n",
       "      <td>7382.0</td>\n",
       "      <td>31.0</td>\n",
       "      <td>0.0</td>\n",
       "      <td>438.325684</td>\n",
       "      <td>1325.53870</td>\n",
       "      <td>406.427765</td>\n",
       "      <td>9506.0</td>\n",
       "      <td>63</td>\n",
       "      <td>...</td>\n",
       "      <td>0.433468</td>\n",
       "      <td>0.543419</td>\n",
       "      <td>0.442857</td>\n",
       "      <td>0.0</td>\n",
       "      <td>0.066373</td>\n",
       "      <td>0.707608</td>\n",
       "      <td>0.592304</td>\n",
       "      <td>0.570250</td>\n",
       "      <td>0.916667</td>\n",
       "      <td>0</td>\n",
       "    </tr>\n",
       "    <tr>\n",
       "      <th>34</th>\n",
       "      <td>1284.25537</td>\n",
       "      <td>1596.72742</td>\n",
       "      <td>7050.0</td>\n",
       "      <td>0.0</td>\n",
       "      <td>0.0</td>\n",
       "      <td>443.969543</td>\n",
       "      <td>2816.79077</td>\n",
       "      <td>289.934052</td>\n",
       "      <td>10138.0</td>\n",
       "      <td>59</td>\n",
       "      <td>...</td>\n",
       "      <td>0.532564</td>\n",
       "      <td>0.518966</td>\n",
       "      <td>0.000000</td>\n",
       "      <td>0.0</td>\n",
       "      <td>0.141055</td>\n",
       "      <td>0.754652</td>\n",
       "      <td>0.576165</td>\n",
       "      <td>0.563362</td>\n",
       "      <td>0.933333</td>\n",
       "      <td>0</td>\n",
       "    </tr>\n",
       "  </tbody>\n",
       "</table>\n",
       "<p>5 rows × 37 columns</p>\n",
       "</div>"
      ],
      "text/plain": [
       "    proppant_ppf  frac_fluid_gpf  gross_perfs  frac_stages  oil_gravity  \\\n",
       "30    1311.78809      1642.58887       3977.0          0.0          0.0   \n",
       "31    1088.56238      1493.36900       7283.0          0.0          0.0   \n",
       "32     951.97060      1369.34363       7382.0          0.0          0.0   \n",
       "33    1155.36267      1299.68433       7382.0         31.0          0.0   \n",
       "34    1284.25537      1596.72742       7050.0          0.0          0.0   \n",
       "\n",
       "    peak_boepd    gor_hist  ip90_boeqpd      tvd  months_active   ...    \\\n",
       "30   61.408554  1738.53259    47.452900  10021.0             33   ...     \n",
       "31  416.961182  1381.57100   351.796700   9764.0             66   ...     \n",
       "32  838.371765  1961.41300   688.525400  10798.0             64   ...     \n",
       "33  438.325684  1325.53870   406.427765   9506.0             63   ...     \n",
       "34  443.969543  2816.79077   289.934052  10138.0             59   ...     \n",
       "\n",
       "    scaled_frac_fluid_gpf  scaled_gross_perfs  scaled_frac_stages  \\\n",
       "30               0.547863            0.292627            0.000000   \n",
       "31               0.498082            0.536127            0.000000   \n",
       "32               0.456706            0.543419            0.000000   \n",
       "33               0.433468            0.543419            0.442857   \n",
       "34               0.532564            0.518966            0.000000   \n",
       "\n",
       "    scaled_oil_gravity  scaled_gor_hist  scaled_tvd  scaled_mid_point_lat  \\\n",
       "30                 0.0         0.087056    0.745943              0.614855   \n",
       "31                 0.0         0.069179    0.726813              0.517410   \n",
       "32                 0.0         0.098218    0.803781              0.587606   \n",
       "33                 0.0         0.066373    0.707608              0.592304   \n",
       "34                 0.0         0.141055    0.754652              0.576165   \n",
       "\n",
       "    scaled_mid_point_long  scaled_vintage  county  \n",
       "30               0.580622        0.966667       0  \n",
       "31               0.581774        0.916667       0  \n",
       "32               0.571086        0.916667       0  \n",
       "33               0.570250        0.916667       0  \n",
       "34               0.563362        0.933333       0  \n",
       "\n",
       "[5 rows x 37 columns]"
      ]
     },
     "execution_count": 9,
     "metadata": {},
     "output_type": "execute_result"
    }
   ],
   "source": [
    "encoder = LabelEncoder()\n",
    "\n",
    "encoder.fit(df.county)\n",
    "num_df['county'] = encoder.transform(df.county)\n",
    "\n",
    "num_df.head()"
   ]
  },
  {
   "cell_type": "code",
   "execution_count": 10,
   "metadata": {},
   "outputs": [
    {
     "data": {
      "text/html": [
       "<div>\n",
       "<style scoped>\n",
       "    .dataframe tbody tr th:only-of-type {\n",
       "        vertical-align: middle;\n",
       "    }\n",
       "\n",
       "    .dataframe tbody tr th {\n",
       "        vertical-align: top;\n",
       "    }\n",
       "\n",
       "    .dataframe thead th {\n",
       "        text-align: right;\n",
       "    }\n",
       "</style>\n",
       "<table border=\"1\" class=\"dataframe\">\n",
       "  <thead>\n",
       "    <tr style=\"text-align: right;\">\n",
       "      <th></th>\n",
       "      <th>proppant_ppf</th>\n",
       "      <th>frac_fluid_gpf</th>\n",
       "      <th>gross_perfs</th>\n",
       "      <th>frac_stages</th>\n",
       "      <th>oil_gravity</th>\n",
       "      <th>peak_boepd</th>\n",
       "      <th>gor_hist</th>\n",
       "      <th>ip90_boeqpd</th>\n",
       "      <th>tvd</th>\n",
       "      <th>months_active</th>\n",
       "      <th>...</th>\n",
       "      <th>scaled_gross_perfs</th>\n",
       "      <th>scaled_frac_stages</th>\n",
       "      <th>scaled_oil_gravity</th>\n",
       "      <th>scaled_gor_hist</th>\n",
       "      <th>scaled_tvd</th>\n",
       "      <th>scaled_mid_point_lat</th>\n",
       "      <th>scaled_mid_point_long</th>\n",
       "      <th>scaled_vintage</th>\n",
       "      <th>county</th>\n",
       "      <th>frac_fluid_type</th>\n",
       "    </tr>\n",
       "  </thead>\n",
       "  <tbody>\n",
       "    <tr>\n",
       "      <th>30</th>\n",
       "      <td>1311.78809</td>\n",
       "      <td>1642.58887</td>\n",
       "      <td>3977.0</td>\n",
       "      <td>0.0</td>\n",
       "      <td>0.0</td>\n",
       "      <td>61.408554</td>\n",
       "      <td>1738.53259</td>\n",
       "      <td>47.452900</td>\n",
       "      <td>10021.0</td>\n",
       "      <td>33</td>\n",
       "      <td>...</td>\n",
       "      <td>0.292627</td>\n",
       "      <td>0.000000</td>\n",
       "      <td>0.0</td>\n",
       "      <td>0.087056</td>\n",
       "      <td>0.745943</td>\n",
       "      <td>0.614855</td>\n",
       "      <td>0.580622</td>\n",
       "      <td>0.966667</td>\n",
       "      <td>0</td>\n",
       "      <td>7</td>\n",
       "    </tr>\n",
       "    <tr>\n",
       "      <th>31</th>\n",
       "      <td>1088.56238</td>\n",
       "      <td>1493.36900</td>\n",
       "      <td>7283.0</td>\n",
       "      <td>0.0</td>\n",
       "      <td>0.0</td>\n",
       "      <td>416.961182</td>\n",
       "      <td>1381.57100</td>\n",
       "      <td>351.796700</td>\n",
       "      <td>9764.0</td>\n",
       "      <td>66</td>\n",
       "      <td>...</td>\n",
       "      <td>0.536127</td>\n",
       "      <td>0.000000</td>\n",
       "      <td>0.0</td>\n",
       "      <td>0.069179</td>\n",
       "      <td>0.726813</td>\n",
       "      <td>0.517410</td>\n",
       "      <td>0.581774</td>\n",
       "      <td>0.916667</td>\n",
       "      <td>0</td>\n",
       "      <td>3</td>\n",
       "    </tr>\n",
       "    <tr>\n",
       "      <th>32</th>\n",
       "      <td>951.97060</td>\n",
       "      <td>1369.34363</td>\n",
       "      <td>7382.0</td>\n",
       "      <td>0.0</td>\n",
       "      <td>0.0</td>\n",
       "      <td>838.371765</td>\n",
       "      <td>1961.41300</td>\n",
       "      <td>688.525400</td>\n",
       "      <td>10798.0</td>\n",
       "      <td>64</td>\n",
       "      <td>...</td>\n",
       "      <td>0.543419</td>\n",
       "      <td>0.000000</td>\n",
       "      <td>0.0</td>\n",
       "      <td>0.098218</td>\n",
       "      <td>0.803781</td>\n",
       "      <td>0.587606</td>\n",
       "      <td>0.571086</td>\n",
       "      <td>0.916667</td>\n",
       "      <td>0</td>\n",
       "      <td>0</td>\n",
       "    </tr>\n",
       "    <tr>\n",
       "      <th>33</th>\n",
       "      <td>1155.36267</td>\n",
       "      <td>1299.68433</td>\n",
       "      <td>7382.0</td>\n",
       "      <td>31.0</td>\n",
       "      <td>0.0</td>\n",
       "      <td>438.325684</td>\n",
       "      <td>1325.53870</td>\n",
       "      <td>406.427765</td>\n",
       "      <td>9506.0</td>\n",
       "      <td>63</td>\n",
       "      <td>...</td>\n",
       "      <td>0.543419</td>\n",
       "      <td>0.442857</td>\n",
       "      <td>0.0</td>\n",
       "      <td>0.066373</td>\n",
       "      <td>0.707608</td>\n",
       "      <td>0.592304</td>\n",
       "      <td>0.570250</td>\n",
       "      <td>0.916667</td>\n",
       "      <td>0</td>\n",
       "      <td>3</td>\n",
       "    </tr>\n",
       "    <tr>\n",
       "      <th>34</th>\n",
       "      <td>1284.25537</td>\n",
       "      <td>1596.72742</td>\n",
       "      <td>7050.0</td>\n",
       "      <td>0.0</td>\n",
       "      <td>0.0</td>\n",
       "      <td>443.969543</td>\n",
       "      <td>2816.79077</td>\n",
       "      <td>289.934052</td>\n",
       "      <td>10138.0</td>\n",
       "      <td>59</td>\n",
       "      <td>...</td>\n",
       "      <td>0.518966</td>\n",
       "      <td>0.000000</td>\n",
       "      <td>0.0</td>\n",
       "      <td>0.141055</td>\n",
       "      <td>0.754652</td>\n",
       "      <td>0.576165</td>\n",
       "      <td>0.563362</td>\n",
       "      <td>0.933333</td>\n",
       "      <td>0</td>\n",
       "      <td>7</td>\n",
       "    </tr>\n",
       "  </tbody>\n",
       "</table>\n",
       "<p>5 rows × 38 columns</p>\n",
       "</div>"
      ],
      "text/plain": [
       "    proppant_ppf  frac_fluid_gpf  gross_perfs  frac_stages  oil_gravity  \\\n",
       "30    1311.78809      1642.58887       3977.0          0.0          0.0   \n",
       "31    1088.56238      1493.36900       7283.0          0.0          0.0   \n",
       "32     951.97060      1369.34363       7382.0          0.0          0.0   \n",
       "33    1155.36267      1299.68433       7382.0         31.0          0.0   \n",
       "34    1284.25537      1596.72742       7050.0          0.0          0.0   \n",
       "\n",
       "    peak_boepd    gor_hist  ip90_boeqpd      tvd  months_active  \\\n",
       "30   61.408554  1738.53259    47.452900  10021.0             33   \n",
       "31  416.961182  1381.57100   351.796700   9764.0             66   \n",
       "32  838.371765  1961.41300   688.525400  10798.0             64   \n",
       "33  438.325684  1325.53870   406.427765   9506.0             63   \n",
       "34  443.969543  2816.79077   289.934052  10138.0             59   \n",
       "\n",
       "         ...         scaled_gross_perfs  scaled_frac_stages  \\\n",
       "30       ...                   0.292627            0.000000   \n",
       "31       ...                   0.536127            0.000000   \n",
       "32       ...                   0.543419            0.000000   \n",
       "33       ...                   0.543419            0.442857   \n",
       "34       ...                   0.518966            0.000000   \n",
       "\n",
       "    scaled_oil_gravity  scaled_gor_hist  scaled_tvd  scaled_mid_point_lat  \\\n",
       "30                 0.0         0.087056    0.745943              0.614855   \n",
       "31                 0.0         0.069179    0.726813              0.517410   \n",
       "32                 0.0         0.098218    0.803781              0.587606   \n",
       "33                 0.0         0.066373    0.707608              0.592304   \n",
       "34                 0.0         0.141055    0.754652              0.576165   \n",
       "\n",
       "    scaled_mid_point_long  scaled_vintage  county  frac_fluid_type  \n",
       "30               0.580622        0.966667       0                7  \n",
       "31               0.581774        0.916667       0                3  \n",
       "32               0.571086        0.916667       0                0  \n",
       "33               0.570250        0.916667       0                3  \n",
       "34               0.563362        0.933333       0                7  \n",
       "\n",
       "[5 rows x 38 columns]"
      ]
     },
     "execution_count": 10,
     "metadata": {},
     "output_type": "execute_result"
    }
   ],
   "source": [
    "encoder = LabelEncoder()\n",
    "encoder.fit(df.frac_fluid_type)\n",
    "num_df['frac_fluid_type'] = encoder.transform(df.frac_fluid_type)\n",
    "num_df.head()"
   ]
  },
  {
   "cell_type": "markdown",
   "metadata": {},
   "source": [
    "### Standardize Numeric Data"
   ]
  },
  {
   "cell_type": "code",
   "execution_count": 11,
   "metadata": {},
   "outputs": [],
   "source": [
    "scaled_df = num_df.copy()\n",
    "\n",
    "scaled_df['proppant_ppf'] = (scaled_df.proppant_ppf - scaled_df.proppant_ppf.min()) / (scaled_df.proppant_ppf.max() - scaled_df.proppant_ppf.min())\n",
    "scaled_df['frac_fluid_gpf'] = (scaled_df.frac_fluid_gpf - scaled_df.frac_fluid_gpf.min()) / (scaled_df.frac_fluid_gpf.max() - scaled_df.frac_fluid_gpf.min())\n",
    "scaled_df['tvd'] = (scaled_df.tvd - scaled_df.tvd.min()) / (scaled_df.tvd.max() - scaled_df.tvd.min())\n",
    "scaled_df['frac_stages'] = (scaled_df.frac_stages - scaled_df.frac_stages.min()) / (scaled_df.frac_stages.max() - scaled_df.frac_stages.min())\n",
    "scaled_df['oil_gravity'] = (scaled_df.oil_gravity - scaled_df.oil_gravity.min()) / (scaled_df.oil_gravity.max() - scaled_df.oil_gravity.min())\n",
    "scaled_df['peak_boepd'] = (scaled_df.peak_boepd - scaled_df.peak_boepd.min()) / (scaled_df.peak_boepd.max() - scaled_df.peak_boepd.min())\n",
    "scaled_df['gor_hist'] = (scaled_df.gor_hist - scaled_df.gor_hist.min()) / (scaled_df.gor_hist.max() - scaled_df.gor_hist.min())\n",
    "scaled_df['ip90_boeqpd'] = (scaled_df.ip90_boeqpd - scaled_df.ip90_boeqpd.min()) / (scaled_df.ip90_boeqpd.max() - scaled_df.ip90_boeqpd.min())\n",
    "scaled_df['months_active'] = (scaled_df.months_active - scaled_df.months_active.min()) / (scaled_df.months_active.max() - scaled_df.months_active.min())\n",
    "scaled_df['vintage'] = (scaled_df.vintage - scaled_df.vintage.min()) / (scaled_df.vintage.max() - scaled_df.vintage.min())"
   ]
  },
  {
   "cell_type": "code",
   "execution_count": 10,
   "metadata": {},
   "outputs": [],
   "source": [
    "xgb_df = scaled_df.copy()"
   ]
  },
  {
   "cell_type": "markdown",
   "metadata": {},
   "source": [
    "### XGBoost Feature Recommender"
   ]
  },
  {
   "cell_type": "code",
   "execution_count": null,
   "metadata": {},
   "outputs": [],
   "source": [
    "xgb_params = {\n",
    "    'max_depth': 8,\n",
    "    'seed' : 493\n",
    "}\n",
    "\n",
    "dtrain = xgb.DMatrix(xgb_df, df.oil_hist, feature_names=xgb_df.columns.values)\n",
    "model = xgb.train(dict(xgb_params, silent=0), dtrain, num_boost_round=50)\n",
    "\n",
    "# plot the important features #\n",
    "fig, ax = plt.subplots(figsize=(12,8))\n",
    "xgb.plot_importance(model, max_num_features=50, height=0.8, ax=ax)\n",
    "plt.show()"
   ]
  },
  {
   "cell_type": "markdown",
   "metadata": {},
   "source": [
    "# Test Harness and Options"
   ]
  },
  {
   "cell_type": "code",
   "execution_count": 12,
   "metadata": {},
   "outputs": [],
   "source": [
    "xfeatures = ['proppant_ppf', 'frac_fluid_gpf', 'gor_hist', 'tvd', 'sur_lat', 'mid_point_lat', 'mid_point_long', 'sur_long', 'encoded_oper', 'encoded_direction', 'vintage', 'gross_perfs']\n",
    "yfeature = ['recovery']"
   ]
  },
  {
   "cell_type": "markdown",
   "metadata": {},
   "source": [
    "### Linear Regression Model: (DataFrame)\n",
    "**Returns:**\n",
    "> MSE, R2 Score, and Coefficients"
   ]
  },
  {
   "cell_type": "code",
   "execution_count": 13,
   "metadata": {},
   "outputs": [
    {
     "data": {
      "text/plain": [
       "(14058.18339234282,\n",
       " 0.27756915826909667,\n",
       " array([[ 8.06029842e-03,  7.78511902e-03,  5.10354334e-03,\n",
       "          1.15534555e-02, -4.38431594e+02,  4.69631437e+02,\n",
       "          2.33028731e+03, -2.36404799e+03, -1.10018582e-01,\n",
       "          6.69020602e+01, -2.24497837e+00,  2.08220019e-02]]))"
      ]
     },
     "execution_count": 13,
     "metadata": {},
     "output_type": "execute_result"
    }
   ],
   "source": [
    "model.lregression_test(df, xfeatures, yfeature, 0.70)"
   ]
  },
  {
   "cell_type": "markdown",
   "metadata": {},
   "source": [
    "### Ridge Regression Model: (DataFrame)\n",
    "**Returns:**\n",
    "> MSE, R2 Score, and Coefficients"
   ]
  },
  {
   "cell_type": "code",
   "execution_count": 14,
   "metadata": {},
   "outputs": [
    {
     "data": {
      "text/plain": [
       "(14084.696816831223,\n",
       " 0.27620666960069884,\n",
       " array([[ 7.84709009e-03,  8.34689331e-03,  5.17017398e-03,\n",
       "          1.15783019e-02, -2.52499867e+01,  5.66460705e+01,\n",
       "          3.99474026e+01, -7.30493173e+01, -1.07953764e-01,\n",
       "          6.68170450e+01, -2.23125933e+00,  2.06552122e-02]]))"
      ]
     },
     "execution_count": 14,
     "metadata": {},
     "output_type": "execute_result"
    }
   ],
   "source": [
    "model.rregression_test(df, xfeatures, yfeature, 0.70)"
   ]
  },
  {
   "cell_type": "markdown",
   "metadata": {},
   "source": [
    "### Poloynomial Regression Model: (DataFrame)\n",
    "**Returns:**\n",
    "> MSE, R2 Score, and Coefficients"
   ]
  },
  {
   "cell_type": "code",
   "execution_count": 15,
   "metadata": {},
   "outputs": [
    {
     "data": {
      "text/plain": [
       "(6616.7993618820465,\n",
       " 0.6599717190222025,\n",
       " array([[ 1.93034254e+13, -4.75299481e+12,  1.86172615e+13, ...,\n",
       "         -7.88257187e+09, -1.00372925e+02,  1.43703613e+01]]))"
      ]
     },
     "execution_count": 15,
     "metadata": {},
     "output_type": "execute_result"
    }
   ],
   "source": [
    "model.pregression_test(df, xfeatures, yfeature, 0.70)"
   ]
  },
  {
   "cell_type": "markdown",
   "metadata": {},
   "source": [
    "## Explore and select algorithms"
   ]
  },
  {
   "cell_type": "markdown",
   "metadata": {},
   "source": [
    "**Let's Cluster by our Top Seven features per our XGBoost function**"
   ]
  },
  {
   "cell_type": "code",
   "execution_count": 21,
   "metadata": {},
   "outputs": [],
   "source": [
    "col_list = ['scaled_proppant_ppf', 'scaled_gross_perfs', 'scaled_tvd', 'scaled_frac_fluid_gpf', \n",
    "            'scaled_gor_hist', 'encoded_oper', 'scaled_vintage']"
   ]
  },
  {
   "cell_type": "markdown",
   "metadata": {},
   "source": [
    "**We now have a new dataframe with an added column \"cluster_id\"**"
   ]
  },
  {
   "cell_type": "code",
   "execution_count": 26,
   "metadata": {},
   "outputs": [],
   "source": [
    "df = model.create_kclusters(df, col_list, 3, 'cluster_id')"
   ]
  },
  {
   "cell_type": "markdown",
   "metadata": {},
   "source": [
    "**Let's see how many oberservations we have in each cluster**"
   ]
  },
  {
   "cell_type": "code",
   "execution_count": 48,
   "metadata": {},
   "outputs": [
    {
     "data": {
      "text/plain": [
       "1    3693\n",
       "0    2331\n",
       "2    1864\n",
       "Name: cluster_id, dtype: int64"
      ]
     },
     "execution_count": 48,
     "metadata": {},
     "output_type": "execute_result"
    }
   ],
   "source": [
    "df.cluster_id.value_counts()"
   ]
  },
  {
   "cell_type": "markdown",
   "metadata": {},
   "source": [
    "# ALL Regression Types on Each Cluster"
   ]
  },
  {
   "cell_type": "markdown",
   "metadata": {},
   "source": [
    "### Cluster 0: 2331 Oberservations "
   ]
  },
  {
   "cell_type": "code",
   "execution_count": 30,
   "metadata": {},
   "outputs": [],
   "source": [
    "cluster_zero = df[df['cluster_id'] == 0]"
   ]
  },
  {
   "cell_type": "code",
   "execution_count": 31,
   "metadata": {},
   "outputs": [
    {
     "data": {
      "text/plain": [
       "(16679.996868672184,\n",
       " 0.28261853840011075,\n",
       " array([[ 3.09729348e-03,  1.09356503e-02,  4.46935316e-03,\n",
       "          9.62892664e-03,  1.21463363e+02, -1.06527227e+02,\n",
       "          3.53478492e+02, -3.63040233e+02, -6.16063722e-01,\n",
       "          9.45594448e+01, -7.27836856e-01,  2.62502348e-02]]))"
      ]
     },
     "execution_count": 31,
     "metadata": {},
     "output_type": "execute_result"
    }
   ],
   "source": [
    "model.lregression_test(cluster_zero, xfeatures, yfeature, 0.70)"
   ]
  },
  {
   "cell_type": "code",
   "execution_count": 32,
   "metadata": {},
   "outputs": [
    {
     "data": {
      "text/plain": [
       "(16622.59533466008,\n",
       " 0.2850872916434054,\n",
       " array([[ 5.46571907e-03,  1.10480498e-02,  3.90338387e-03,\n",
       "          9.73051965e-03,  3.54706132e+01, -2.03994308e+01,\n",
       "          5.47239393e+00, -8.35109351e+00, -5.98328064e-01,\n",
       "          6.95751748e+01, -2.11436249e+00,  2.58815743e-02]]))"
      ]
     },
     "execution_count": 32,
     "metadata": {},
     "output_type": "execute_result"
    }
   ],
   "source": [
    "model.rregression_test(cluster_zero, xfeatures, yfeature, 0.70)"
   ]
  },
  {
   "cell_type": "code",
   "execution_count": 33,
   "metadata": {},
   "outputs": [
    {
     "data": {
      "text/plain": [
       "(285.4364797765754,\n",
       " 0.9877238083035476,\n",
       " array([[-1.86059487e+07,  1.87777418e+07,  2.61462626e+07, ...,\n",
       "          5.92446900e+06,  2.74963032e+03, -5.88602834e+01]]))"
      ]
     },
     "execution_count": 33,
     "metadata": {},
     "output_type": "execute_result"
    }
   ],
   "source": [
    "model.pregression_test(cluster_zero, xfeatures, yfeature, 0.70)"
   ]
  },
  {
   "cell_type": "markdown",
   "metadata": {},
   "source": [
    "### Cluster 1: 3693 Observations"
   ]
  },
  {
   "cell_type": "code",
   "execution_count": 39,
   "metadata": {},
   "outputs": [],
   "source": [
    "cluster_one = df[df['cluster_id'] == 1]"
   ]
  },
  {
   "cell_type": "code",
   "execution_count": 40,
   "metadata": {},
   "outputs": [
    {
     "data": {
      "text/plain": [
       "(15192.990869385918,\n",
       " 0.3010714087401173,\n",
       " array([[ 1.62890942e-02,  2.33847206e-03,  5.99180368e-03,\n",
       "          1.07188473e-02, -8.32944069e+02,  8.64385972e+02,\n",
       "          3.70789250e+03, -3.75703724e+03, -1.80954844e-02,\n",
       "          3.92416896e+01, -3.02235351e+00,  1.75751979e-02]]))"
      ]
     },
     "execution_count": 40,
     "metadata": {},
     "output_type": "execute_result"
    }
   ],
   "source": [
    "model.lregression_test(cluster_one, xfeatures, yfeature, 0.70)"
   ]
  },
  {
   "cell_type": "code",
   "execution_count": 41,
   "metadata": {},
   "outputs": [
    {
     "data": {
      "text/plain": [
       "(15239.094020727387,\n",
       " 0.2989505089846476,\n",
       " array([[ 1.60728300e-02,  3.00647029e-03,  6.43671623e-03,\n",
       "          1.02479510e-02, -4.21135512e+01,  7.65170566e+01,\n",
       "          1.91299602e+01, -7.07617995e+01, -2.91043041e-02,\n",
       "          5.28367109e+01, -2.06954441e+00,  1.76037547e-02]]))"
      ]
     },
     "execution_count": 41,
     "metadata": {},
     "output_type": "execute_result"
    }
   ],
   "source": [
    "model.rregression_test(cluster_one, xfeatures, yfeature, 0.70)"
   ]
  },
  {
   "cell_type": "code",
   "execution_count": 42,
   "metadata": {},
   "outputs": [
    {
     "data": {
      "text/plain": [
       "(3563.091984412698,\n",
       " 0.8360858054477588,\n",
       " array([[ 7.52019836e+06, -2.32316553e+07, -1.34868463e+06, ...,\n",
       "          4.94828005e+05, -7.86278691e+00,  3.20503131e+00]]))"
      ]
     },
     "execution_count": 42,
     "metadata": {},
     "output_type": "execute_result"
    }
   ],
   "source": [
    "model.pregression_test(cluster_one, xfeatures, yfeature, 0.70)"
   ]
  },
  {
   "cell_type": "markdown",
   "metadata": {},
   "source": [
    "### Cluster 2: 1864 Observations"
   ]
  },
  {
   "cell_type": "code",
   "execution_count": 43,
   "metadata": {},
   "outputs": [],
   "source": [
    "cluster_two = df[df['cluster_id'] == 2]"
   ]
  },
  {
   "cell_type": "code",
   "execution_count": 44,
   "metadata": {},
   "outputs": [
    {
     "data": {
      "text/plain": [
       "(8250.864499658828,\n",
       " 0.26948336039163756,\n",
       " array([[ 1.00968527e-02,  8.69437837e-03,  3.14426359e-03,\n",
       "          9.48379208e-03,  6.09235269e+01, -3.78271792e+01,\n",
       "          2.53723070e+03, -2.55124770e+03, -2.43624409e-01,\n",
       "          3.64920864e+01, -1.07448185e+00,  1.47777232e-02]]))"
      ]
     },
     "execution_count": 44,
     "metadata": {},
     "output_type": "execute_result"
    }
   ],
   "source": [
    "model.lregression_test(cluster_two, xfeatures, yfeature, 0.70)"
   ]
  },
  {
   "cell_type": "code",
   "execution_count": 45,
   "metadata": {},
   "outputs": [
    {
     "data": {
      "text/plain": [
       "(8262.984416136987,\n",
       " 0.2684102848783596,\n",
       " array([[ 9.70402106e-03,  8.32725711e-03,  2.92799847e-03,\n",
       "          1.00126109e-02,  3.82076690e+01, -1.39862463e+01,\n",
       "          1.09005663e+01, -2.17554094e+01, -2.55904004e-01,\n",
       "          1.92448678e+01, -1.90269981e+00,  1.44288414e-02]]))"
      ]
     },
     "execution_count": 45,
     "metadata": {},
     "output_type": "execute_result"
    }
   ],
   "source": [
    "model.rregression_test(cluster_two, xfeatures, yfeature, 0.70)"
   ]
  },
  {
   "cell_type": "code",
   "execution_count": 46,
   "metadata": {},
   "outputs": [
    {
     "data": {
      "text/plain": [
       "(2.09052025853496e-15,\n",
       " 1.0,\n",
       " array([[  569.80786631,   569.80755276,  4740.62275672, ...,\n",
       "         -1304.39382111,  -761.48231927,   199.83695861]]))"
      ]
     },
     "execution_count": 46,
     "metadata": {},
     "output_type": "execute_result"
    }
   ],
   "source": [
    "model.pregression_test(cluster_two, xfeatures, yfeature, 0.70)"
   ]
  },
  {
   "cell_type": "markdown",
   "metadata": {},
   "source": [
    "## Interpret and report results"
   ]
  },
  {
   "cell_type": "code",
   "execution_count": null,
   "metadata": {},
   "outputs": [],
   "source": []
  },
  {
   "cell_type": "markdown",
   "metadata": {},
   "source": [
    "# Improve Results"
   ]
  },
  {
   "cell_type": "markdown",
   "metadata": {},
   "source": [
    "## Algorithm Tuning"
   ]
  },
  {
   "cell_type": "code",
   "execution_count": null,
   "metadata": {},
   "outputs": [],
   "source": []
  },
  {
   "cell_type": "markdown",
   "metadata": {},
   "source": [
    "## Ensemble Methods"
   ]
  },
  {
   "cell_type": "markdown",
   "metadata": {},
   "source": [
    "### Bagging"
   ]
  },
  {
   "cell_type": "code",
   "execution_count": null,
   "metadata": {},
   "outputs": [],
   "source": []
  },
  {
   "cell_type": "markdown",
   "metadata": {},
   "source": [
    "### Boosting"
   ]
  },
  {
   "cell_type": "code",
   "execution_count": null,
   "metadata": {},
   "outputs": [],
   "source": []
  },
  {
   "cell_type": "markdown",
   "metadata": {},
   "source": [
    "### Blending"
   ]
  },
  {
   "cell_type": "code",
   "execution_count": null,
   "metadata": {},
   "outputs": [],
   "source": []
  },
  {
   "cell_type": "markdown",
   "metadata": {},
   "source": [
    "## Extreme Feature Engineering"
   ]
  },
  {
   "cell_type": "code",
   "execution_count": null,
   "metadata": {},
   "outputs": [],
   "source": []
  }
 ],
 "metadata": {
  "kernelspec": {
   "display_name": "Python 3",
   "language": "python",
   "name": "python3"
  },
  "language_info": {
   "codemirror_mode": {
    "name": "ipython",
    "version": 3
   },
   "file_extension": ".py",
   "mimetype": "text/x-python",
   "name": "python",
   "nbconvert_exporter": "python",
   "pygments_lexer": "ipython3",
   "version": "3.7.1"
  }
 },
 "nbformat": 4,
 "nbformat_minor": 2
}
