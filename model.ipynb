{
 "cells": [
  {
   "cell_type": "code",
   "execution_count": 1,
   "metadata": {},
   "outputs": [],
   "source": [
    "# Modeling\n",
    "from sklearn.preprocessing import LabelEncoder\n",
    "from sklearn.preprocessing import MinMaxScaler\n",
    "import xgboost as xgb\n",
    "from scipy import stats\n",
    "import statsmodels.api as sm\n",
    "from sklearn.model_selection import train_test_split\n",
    "from sklearn import preprocessing\n",
    "\n",
    "# Feature Selection\n",
    "import xgboost as xgb\n",
    "from sklearn.decomposition import PCA"
   ]
  },
  {
   "cell_type": "markdown",
   "metadata": {},
   "source": [
    "# Evaluate Algorithms"
   ]
  },
  {
   "cell_type": "code",
   "execution_count": 2,
   "metadata": {},
   "outputs": [],
   "source": [
    "# ignore warnings\n",
    "import warnings\n",
    "warnings.filterwarnings(\"ignore\")\n",
    "\n",
    "# Wrangling\n",
    "from acquire_prepare import acquire_oil\n",
    "from acquire_prepare import prep_data\n",
    "\n",
    "import model\n",
    "import explore\n",
    "import numpy as np\n",
    "import pandas as pd\n",
    "\n",
    "# Visualizing\n",
    "%matplotlib inline\n",
    "import matplotlib.pyplot as plt\n",
    "import sys "
   ]
  },
  {
   "cell_type": "markdown",
   "metadata": {},
   "source": [
    "**Let's bring in the DataFrame**"
   ]
  },
  {
   "cell_type": "code",
   "execution_count": 3,
   "metadata": {},
   "outputs": [],
   "source": [
    "df = acquire_oil()\n",
    "df = prep_data(df)"
   ]
  },
  {
   "cell_type": "markdown",
   "metadata": {},
   "source": [
    "**(Rows, Columns)**"
   ]
  },
  {
   "cell_type": "code",
   "execution_count": 4,
   "metadata": {},
   "outputs": [
    {
     "data": {
      "text/plain": [
       "(7888, 62)"
      ]
     },
     "execution_count": 4,
     "metadata": {},
     "output_type": "execute_result"
    }
   ],
   "source": [
    "df.shape"
   ]
  },
  {
   "cell_type": "markdown",
   "metadata": {},
   "source": [
    "**We need to make sure the numberic types are correct**"
   ]
  },
  {
   "cell_type": "code",
   "execution_count": 5,
   "metadata": {},
   "outputs": [],
   "source": [
    "numerics = ['int64', 'float64']\n",
    "\n",
    "num_df = df.select_dtypes(include=numerics)"
   ]
  },
  {
   "cell_type": "code",
   "execution_count": 6,
   "metadata": {},
   "outputs": [],
   "source": [
    "num_df = num_df.drop(columns=['gas_hist', 'recovery', 'recovery_per_foot', \n",
    "                              'recovery_per_month', 'api14',\n",
    "                              'sur_long', 'sur_lat', 'mid_point_lat', 'mid_point_long',\n",
    "                              'well_id', 'oil_hist'])"
   ]
  },
  {
   "cell_type": "markdown",
   "metadata": {},
   "source": [
    "### Use LabelEncoder to encode county and frak_fluid_type"
   ]
  },
  {
   "cell_type": "code",
   "execution_count": 7,
   "metadata": {},
   "outputs": [],
   "source": [
    "encoder = LabelEncoder()\n",
    "\n",
    "encoder.fit(df.county)\n",
    "num_df['county'] = encoder.transform(df.county)"
   ]
  },
  {
   "cell_type": "code",
   "execution_count": 8,
   "metadata": {},
   "outputs": [],
   "source": [
    "encoder = LabelEncoder()\n",
    "encoder.fit(df.frac_fluid_type)\n",
    "num_df['frac_fluid_type'] = encoder.transform(df.frac_fluid_type)"
   ]
  },
  {
   "cell_type": "markdown",
   "metadata": {},
   "source": [
    "### Standardize Numeric Data"
   ]
  },
  {
   "cell_type": "code",
   "execution_count": 9,
   "metadata": {},
   "outputs": [],
   "source": [
    "scaled_df = num_df.copy()\n",
    "\n",
    "scaled_df['proppant_ppf'] = (scaled_df.proppant_ppf - scaled_df.proppant_ppf.min()) / (scaled_df.proppant_ppf.max() - scaled_df.proppant_ppf.min())\n",
    "scaled_df['frac_fluid_gpf'] = (scaled_df.frac_fluid_gpf - scaled_df.frac_fluid_gpf.min()) / (scaled_df.frac_fluid_gpf.max() - scaled_df.frac_fluid_gpf.min())\n",
    "scaled_df['tvd'] = (scaled_df.tvd - scaled_df.tvd.min()) / (scaled_df.tvd.max() - scaled_df.tvd.min())\n",
    "scaled_df['frac_stages'] = (scaled_df.frac_stages - scaled_df.frac_stages.min()) / (scaled_df.frac_stages.max() - scaled_df.frac_stages.min())\n",
    "scaled_df['oil_gravity'] = (scaled_df.oil_gravity - scaled_df.oil_gravity.min()) / (scaled_df.oil_gravity.max() - scaled_df.oil_gravity.min())\n",
    "scaled_df['peak_boepd'] = (scaled_df.peak_boepd - scaled_df.peak_boepd.min()) / (scaled_df.peak_boepd.max() - scaled_df.peak_boepd.min())\n",
    "scaled_df['gor_hist'] = (scaled_df.gor_hist - scaled_df.gor_hist.min()) / (scaled_df.gor_hist.max() - scaled_df.gor_hist.min())\n",
    "scaled_df['ip90_boeqpd'] = (scaled_df.ip90_boeqpd - scaled_df.ip90_boeqpd.min()) / (scaled_df.ip90_boeqpd.max() - scaled_df.ip90_boeqpd.min())\n",
    "scaled_df['months_active'] = (scaled_df.months_active - scaled_df.months_active.min()) / (scaled_df.months_active.max() - scaled_df.months_active.min())\n",
    "scaled_df['vintage'] = (scaled_df.vintage - scaled_df.vintage.min()) / (scaled_df.vintage.max() - scaled_df.vintage.min())"
   ]
  },
  {
   "cell_type": "code",
   "execution_count": 10,
   "metadata": {},
   "outputs": [],
   "source": [
    "xgb_df = scaled_df.copy()"
   ]
  },
  {
   "cell_type": "code",
   "execution_count": null,
   "metadata": {},
   "outputs": [],
   "source": [
    "xgb_params = {\n",
    "    'max_depth': 8,\n",
    "    'seed' : 493\n",
    "}\n",
    "\n",
    "dtrain = xgb.DMatrix(xgb_df, df.oil_hist, feature_names=xgb_df.columns.values)\n",
    "model = xgb.train(dict(xgb_params, silent=0), dtrain, num_boost_round=50)\n",
    "\n",
    "# plot the important features #\n",
    "fig, ax = plt.subplots(figsize=(12,8))\n",
    "xgb.plot_importance(model, max_num_features=50, height=0.8, ax=ax)\n",
    "plt.show()"
   ]
  },
  {
   "cell_type": "code",
   "execution_count": null,
   "metadata": {},
   "outputs": [],
   "source": [
    "ranked_features = explore.xgb_rank(df, df.recovery)"
   ]
  },
  {
   "cell_type": "markdown",
   "metadata": {},
   "source": [
    "# Test Harness and Options"
   ]
  },
  {
   "cell_type": "code",
   "execution_count": 11,
   "metadata": {},
   "outputs": [],
   "source": [
    "xfeatures = ['scaled_oil_gravity', 'scaled_tvd', 'scaled_vintage', 'scaled_gross_perfs', \n",
    "             'scaled_mid_point_lat', 'scaled_mid_point_long', 'scaled_formation', 'scaled_frac_stages', \n",
    "             'scaled_frac_fluid_gpf']\n",
    "yfeature = ['recovery']"
   ]
  },
  {
   "cell_type": "markdown",
   "metadata": {},
   "source": [
    "### Linear Regression Model: (DataFrame)\n",
    "**Returns:**\n",
    "> MSE, R2 Score, and Coefficients"
   ]
  },
  {
   "cell_type": "code",
   "execution_count": 12,
   "metadata": {},
   "outputs": [
    {
     "data": {
      "text/plain": [
       "(13905.018992080732,\n",
       " 0.2854400675833697,\n",
       " array([[250.30024096, 115.2345652 , -70.54714336, 203.52419749,\n",
       "          96.46689657, -29.0502284 ,  51.72282918, -33.76938055,\n",
       "          25.00698429]]),\n",
       " array([0.29456   , 0.28519117, 0.26362922]))"
      ]
     },
     "execution_count": 12,
     "metadata": {},
     "output_type": "execute_result"
    }
   ],
   "source": [
    "model.lregression_test(df, xfeatures, yfeature, 0.70)"
   ]
  },
  {
   "cell_type": "markdown",
   "metadata": {},
   "source": [
    "### Ridge Regression Model: (DataFrame)\n",
    "**Returns:**\n",
    "> MSE, R2 Score, and Coefficients"
   ]
  },
  {
   "cell_type": "code",
   "execution_count": 13,
   "metadata": {},
   "outputs": [
    {
     "data": {
      "text/plain": [
       "(13659.085346125445,\n",
       " 0.29807826171549356,\n",
       " array([[ 230.02460689,  105.73265431, -186.29647727,  238.98593132,\n",
       "           48.33557457,  -89.40195877,   48.0666349 ,  -36.0662514 ,\n",
       "           33.84206358]]),\n",
       " array([0.3090503 , 0.29118106, 0.28010626]))"
      ]
     },
     "execution_count": 13,
     "metadata": {},
     "output_type": "execute_result"
    }
   ],
   "source": [
    "model.rregression_test(df, xfeatures, yfeature, 0.70)"
   ]
  },
  {
   "cell_type": "markdown",
   "metadata": {},
   "source": [
    "### Poloynomial Regression Model: (DataFrame)\n",
    "**Returns:**\n",
    "> MSE, R2 Score, and Coefficients"
   ]
  },
  {
   "cell_type": "code",
   "execution_count": 14,
   "metadata": {},
   "outputs": [
    {
     "data": {
      "text/plain": [
       "(8136.3457908022165,\n",
       " 0.5818843036672487,\n",
       " array([[-1.49932842e+13,  7.48228818e+12, -6.60678205e+10, ...,\n",
       "         -7.25494385e-01,  4.48397064e+00,  2.70544434e+00]]),\n",
       " array([0.34339018, 0.31443862, 0.31580838]))"
      ]
     },
     "execution_count": 14,
     "metadata": {},
     "output_type": "execute_result"
    }
   ],
   "source": [
    "model.pregression_test(df, xfeatures, yfeature, 0.70)"
   ]
  },
  {
   "cell_type": "markdown",
   "metadata": {},
   "source": [
    "## Explore and select algorithms"
   ]
  },
  {
   "cell_type": "markdown",
   "metadata": {},
   "source": [
    "**Let's Cluster by our Top Seven features per our XGBoost function**"
   ]
  },
  {
   "cell_type": "code",
   "execution_count": 15,
   "metadata": {},
   "outputs": [],
   "source": [
    "col_list = ['scaled_proppant_ppf', 'scaled_gross_perfs', 'scaled_tvd', 'scaled_frac_fluid_gpf', \n",
    "            'scaled_gor_hist', 'encoded_oper', 'scaled_vintage']"
   ]
  },
  {
   "cell_type": "markdown",
   "metadata": {},
   "source": [
    "**We now have a new dataframe with an added column \"cluster_id\"**"
   ]
  },
  {
   "cell_type": "code",
   "execution_count": 16,
   "metadata": {},
   "outputs": [],
   "source": [
    "df = model.create_kclusters(df, col_list, 3, 'cluster_id')"
   ]
  },
  {
   "cell_type": "markdown",
   "metadata": {},
   "source": [
    "**Let's see how many oberservations we have in each cluster**"
   ]
  },
  {
   "cell_type": "code",
   "execution_count": 17,
   "metadata": {},
   "outputs": [
    {
     "data": {
      "text/plain": [
       "1    3693\n",
       "0    2331\n",
       "2    1864\n",
       "Name: cluster_id, dtype: int64"
      ]
     },
     "execution_count": 17,
     "metadata": {},
     "output_type": "execute_result"
    }
   ],
   "source": [
    "df.cluster_id.value_counts()"
   ]
  },
  {
   "cell_type": "markdown",
   "metadata": {},
   "source": [
    "# ALL Regression Types on Each Cluster"
   ]
  },
  {
   "cell_type": "markdown",
   "metadata": {},
   "source": [
    "### Cluster 0: 2331 Oberservations "
   ]
  },
  {
   "cell_type": "code",
   "execution_count": 18,
   "metadata": {},
   "outputs": [],
   "source": [
    "cluster_zero = df[df['cluster_id'] == 0]"
   ]
  },
  {
   "cell_type": "markdown",
   "metadata": {},
   "source": [
    "### Linear Regression Model: (70% of Cluster 0)\n",
    "**Returns:**\n",
    "> MSE, R2 Score, and Coefficients"
   ]
  },
  {
   "cell_type": "code",
   "execution_count": 19,
   "metadata": {},
   "outputs": [
    {
     "data": {
      "text/plain": [
       "(16658.329117479334,\n",
       " 0.28355043563862303,\n",
       " array([[ 166.77021447,   69.37454928, -120.30411019,  294.3857654 ,\n",
       "           48.33148693,   51.21388778,   53.51133605,  -38.15422814,\n",
       "           31.39166919]]),\n",
       " array([0.2713808 , 0.30295634, 0.25629123]))"
      ]
     },
     "execution_count": 19,
     "metadata": {},
     "output_type": "execute_result"
    }
   ],
   "source": [
    "model.lregression_test(cluster_zero, xfeatures, yfeature, 0.70)"
   ]
  },
  {
   "cell_type": "markdown",
   "metadata": {},
   "source": [
    "### Ridge Regression Model: (70% of Cluster 0)\n",
    "**Returns:**\n",
    "> MSE, R2 Score, and Coefficients"
   ]
  },
  {
   "cell_type": "code",
   "execution_count": 20,
   "metadata": {},
   "outputs": [
    {
     "data": {
      "text/plain": [
       "(16600.855132084085,\n",
       " 0.28602230490643166,\n",
       " array([[ 155.11574089,   70.86248596, -169.00396033,  307.971811  ,\n",
       "           18.02654085,    8.69125987,   46.42465947,  -43.96357454,\n",
       "           37.47291304]]),\n",
       " array([0.2756961 , 0.30412149, 0.25300147]))"
      ]
     },
     "execution_count": 20,
     "metadata": {},
     "output_type": "execute_result"
    }
   ],
   "source": [
    "model.rregression_test(cluster_zero, xfeatures, yfeature, 0.70)"
   ]
  },
  {
   "cell_type": "markdown",
   "metadata": {},
   "source": [
    "### Poloynomial Regression Model: (70% of Cluster 0)\n",
    "**Returns:**\n",
    "> MSE, R2 Score, and Coefficients"
   ]
  },
  {
   "cell_type": "code",
   "execution_count": 21,
   "metadata": {},
   "outputs": [
    {
     "data": {
      "text/plain": [
       "(7831.570041683531,\n",
       " 0.6631760061252292,\n",
       " array([[-1.79516411e+13,  8.70944899e+12, -1.01091237e+13, ...,\n",
       "          1.24839105e+08,  1.06718182e+02,  6.15136719e+00]]),\n",
       " array([0.31324604, 0.30346986, 0.21414691]))"
      ]
     },
     "execution_count": 21,
     "metadata": {},
     "output_type": "execute_result"
    }
   ],
   "source": [
    "model.pregression_test(cluster_zero, xfeatures, yfeature, 0.70)"
   ]
  },
  {
   "cell_type": "markdown",
   "metadata": {},
   "source": [
    "### Cluster 1: 3693 Observations"
   ]
  },
  {
   "cell_type": "code",
   "execution_count": 22,
   "metadata": {},
   "outputs": [],
   "source": [
    "cluster_one = df[df['cluster_id'] == 1]"
   ]
  },
  {
   "cell_type": "markdown",
   "metadata": {},
   "source": [
    "### Linear Regression Model: (70% of Cluster 1)\n",
    "**Returns:**\n",
    "> MSE, R2 Score, and Coefficients"
   ]
  },
  {
   "cell_type": "code",
   "execution_count": 23,
   "metadata": {},
   "outputs": [
    {
     "data": {
      "text/plain": [
       "(15517.51151246459,\n",
       " 0.28614236956332384,\n",
       " array([[203.96071471, 114.12346621, -27.40984845, 175.59418369,\n",
       "         127.97764385, -81.34020241,  47.89459981,  -3.45176898,\n",
       "          21.52889006]]),\n",
       " array([0.28026089, 0.25500495, 0.30896395]))"
      ]
     },
     "execution_count": 23,
     "metadata": {},
     "output_type": "execute_result"
    }
   ],
   "source": [
    "model.lregression_test(cluster_one, xfeatures, yfeature, 0.70)"
   ]
  },
  {
   "cell_type": "markdown",
   "metadata": {},
   "source": [
    "### Ridge Regression Model: (70% of Cluster 1)\n",
    "**Returns:**\n",
    "> MSE, R2 Score, and Coefficients"
   ]
  },
  {
   "cell_type": "code",
   "execution_count": 24,
   "metadata": {},
   "outputs": [
    {
     "data": {
      "text/plain": [
       "(15130.302473658707,\n",
       " 0.30395528542316386,\n",
       " array([[ 174.09512607,   99.25218486, -161.62082258,  210.18168241,\n",
       "           56.73803502, -156.28715461,   43.68469977,   -3.19092141,\n",
       "           35.14941311]]),\n",
       " array([0.2931113 , 0.27726003, 0.32629665]))"
      ]
     },
     "execution_count": 24,
     "metadata": {},
     "output_type": "execute_result"
    }
   ],
   "source": [
    "model.rregression_test(cluster_one, xfeatures, yfeature, 0.70)"
   ]
  },
  {
   "cell_type": "markdown",
   "metadata": {},
   "source": [
    "### Poloynomial Regression Model: (70% of Cluster 1)\n",
    "**Returns:**\n",
    "> MSE, R2 Score, and Coefficients"
   ]
  },
  {
   "cell_type": "code",
   "execution_count": 25,
   "metadata": {},
   "outputs": [
    {
     "data": {
      "text/plain": [
       "(7454.900910249445,\n",
       " 0.6570495279055439,\n",
       " array([[-6.10567203e+12,  2.68875622e+12, -9.60536542e+11, ...,\n",
       "          7.76449022e+07, -6.52931595e+00,  3.25341797e+00]]),\n",
       " array([0.32574976, 0.286108  , 0.33658491]))"
      ]
     },
     "execution_count": 25,
     "metadata": {},
     "output_type": "execute_result"
    }
   ],
   "source": [
    "model.pregression_test(cluster_one, xfeatures, yfeature, 0.70)"
   ]
  },
  {
   "cell_type": "markdown",
   "metadata": {},
   "source": [
    "### Cluster 2: 1864 Observations"
   ]
  },
  {
   "cell_type": "code",
   "execution_count": 26,
   "metadata": {},
   "outputs": [],
   "source": [
    "cluster_two = df[df['cluster_id'] == 2]"
   ]
  },
  {
   "cell_type": "markdown",
   "metadata": {},
   "source": [
    "### Linear Regression Model: (70% of Cluster 2)\n",
    "**Returns:**\n",
    "> MSE, R2 Score, and Coefficients"
   ]
  },
  {
   "cell_type": "code",
   "execution_count": 27,
   "metadata": {},
   "outputs": [
    {
     "data": {
      "text/plain": [
       "(7963.078638001417,\n",
       " 0.2949634007672203,\n",
       " array([[ 256.12024823,  134.12094347, -103.75267652,  155.43182392,\n",
       "           54.8408612 ,    4.75583044,   88.94667919,   -3.22715964,\n",
       "           16.01141914]]),\n",
       " array([0.34616891, 0.18726556, 0.32370302]))"
      ]
     },
     "execution_count": 27,
     "metadata": {},
     "output_type": "execute_result"
    }
   ],
   "source": [
    "model.lregression_test(cluster_two, xfeatures, yfeature, 0.70)"
   ]
  },
  {
   "cell_type": "markdown",
   "metadata": {},
   "source": [
    "### Ridge Regression Model: (70% of Cluster 2)\n",
    "**Returns:**\n",
    "> MSE, R2 Score, and Coefficients"
   ]
  },
  {
   "cell_type": "code",
   "execution_count": 28,
   "metadata": {},
   "outputs": [
    {
     "data": {
      "text/plain": [
       "(7862.457348703379,\n",
       " 0.30387222797364255,\n",
       " array([[ 2.43490480e+02,  1.15378450e+02, -1.61439322e+02,\n",
       "          1.77097036e+02,  2.65562905e+01, -3.19128447e+01,\n",
       "          8.23030420e+01, -1.10132743e-01,  2.16694581e+01]]),\n",
       " array([0.3557353, 0.1997241, 0.3276788]))"
      ]
     },
     "execution_count": 28,
     "metadata": {},
     "output_type": "execute_result"
    }
   ],
   "source": [
    "model.rregression_test(cluster_two, xfeatures, yfeature, 0.70)"
   ]
  },
  {
   "cell_type": "markdown",
   "metadata": {},
   "source": [
    "### Poloynomial Regression Model: (70% of Cluster 2)\n",
    "**Returns:**\n",
    "> MSE, R2 Score, and Coefficients"
   ]
  },
  {
   "cell_type": "code",
   "execution_count": 29,
   "metadata": {},
   "outputs": [
    {
     "data": {
      "text/plain": [
       "(2972.869567901953,\n",
       " 0.736787498227913,\n",
       " array([[ 1.02887107e+11,  6.07191650e+11,  7.61203274e+12, ...,\n",
       "          3.61841973e+07, -2.61620331e+01,  7.22473145e+00]]),\n",
       " array([-2.55619409e+01,  2.48350297e-02,  1.98969820e-01]))"
      ]
     },
     "execution_count": 29,
     "metadata": {},
     "output_type": "execute_result"
    }
   ],
   "source": [
    "model.pregression_test(cluster_two, xfeatures, yfeature, 0.70)"
   ]
  },
  {
   "cell_type": "markdown",
   "metadata": {},
   "source": [
    "## Interpret and report results"
   ]
  },
  {
   "cell_type": "code",
   "execution_count": null,
   "metadata": {},
   "outputs": [],
   "source": []
  },
  {
   "cell_type": "markdown",
   "metadata": {},
   "source": [
    "# Improve Results"
   ]
  },
  {
   "cell_type": "markdown",
   "metadata": {},
   "source": [
    "## Algorithm Tuning"
   ]
  },
  {
   "cell_type": "code",
   "execution_count": null,
   "metadata": {},
   "outputs": [],
   "source": []
  },
  {
   "cell_type": "markdown",
   "metadata": {},
   "source": [
    "## Ensemble Methods"
   ]
  },
  {
   "cell_type": "markdown",
   "metadata": {},
   "source": [
    "### Bagging"
   ]
  },
  {
   "cell_type": "code",
   "execution_count": null,
   "metadata": {},
   "outputs": [],
   "source": []
  },
  {
   "cell_type": "markdown",
   "metadata": {},
   "source": [
    "### Boosting"
   ]
  },
  {
   "cell_type": "code",
   "execution_count": null,
   "metadata": {},
   "outputs": [],
   "source": []
  },
  {
   "cell_type": "markdown",
   "metadata": {},
   "source": [
    "### Blending"
   ]
  },
  {
   "cell_type": "code",
   "execution_count": null,
   "metadata": {},
   "outputs": [],
   "source": []
  },
  {
   "cell_type": "markdown",
   "metadata": {},
   "source": [
    "## Extreme Feature Engineering"
   ]
  },
  {
   "cell_type": "code",
   "execution_count": null,
   "metadata": {},
   "outputs": [],
   "source": []
  }
 ],
 "metadata": {
  "kernelspec": {
   "display_name": "Python 3",
   "language": "python",
   "name": "python3"
  },
  "language_info": {
   "codemirror_mode": {
    "name": "ipython",
    "version": 3
   },
   "file_extension": ".py",
   "mimetype": "text/x-python",
   "name": "python",
   "nbconvert_exporter": "python",
   "pygments_lexer": "ipython3",
   "version": "3.7.1"
  }
 },
 "nbformat": 4,
 "nbformat_minor": 2
}
