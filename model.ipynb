{
 "cells": [
  {
   "cell_type": "code",
   "execution_count": 19,
   "metadata": {},
   "outputs": [],
   "source": [
    "# Modeling\n",
    "from sklearn.preprocessing import LabelEncoder\n",
    "from sklearn.preprocessing import MinMaxScaler\n",
    "import xgboost as xgb\n",
    "from scipy import stats\n",
    "import statsmodels.api as sm\n",
    "from sklearn.model_selection import train_test_split\n",
    "\n",
    "# Feature Selection\n",
    "import xgboost as xgb\n",
    "from sklearn.decomposition import PCA"
   ]
  },
  {
   "cell_type": "markdown",
   "metadata": {},
   "source": [
    "# Evaluate Algorithms"
   ]
  },
  {
   "cell_type": "code",
   "execution_count": 20,
   "metadata": {},
   "outputs": [],
   "source": [
    "# ignore warnings\n",
    "import warnings\n",
    "warnings.filterwarnings(\"ignore\")\n",
    "\n",
    "# Wrangling\n",
    "from acquire_prepare import acquire_oil\n",
    "from acquire_prepare import prep_data\n",
    "\n",
    "import model\n",
    "import numpy as np\n",
    "import pandas as pd\n",
    "\n",
    "# Visualizing\n",
    "%matplotlib inline\n",
    "import matplotlib.pyplot as plt\n",
    "import sys "
   ]
  },
  {
   "cell_type": "markdown",
   "metadata": {},
   "source": [
    "**Let's bring in the DataFrame**"
   ]
  },
  {
   "cell_type": "code",
   "execution_count": 21,
   "metadata": {},
   "outputs": [],
   "source": [
    "df = acquire_oil()\n",
    "df = prep_data(df)"
   ]
  },
  {
   "cell_type": "markdown",
   "metadata": {},
   "source": [
    "**(Rows, Columns)**"
   ]
  },
  {
   "cell_type": "code",
   "execution_count": 22,
   "metadata": {},
   "outputs": [
    {
     "data": {
      "text/plain": [
       "(7888, 62)"
      ]
     },
     "execution_count": 22,
     "metadata": {},
     "output_type": "execute_result"
    }
   ],
   "source": [
    "df.shape"
   ]
  },
  {
   "cell_type": "markdown",
   "metadata": {},
   "source": [
    "**We need to make sure the numberic types are correct**"
   ]
  },
  {
   "cell_type": "code",
   "execution_count": 32,
   "metadata": {},
   "outputs": [
    {
     "data": {
      "text/plain": [
       "Index(['api14', 'proppant_ppf', 'frac_fluid_gpf', 'gross_perfs', 'frac_stages',\n",
       "       'oil_gravity', 'peak_boepd', 'oil_hist', 'gas_hist', 'gor_hist',\n",
       "       'ip90_boeqpd', 'tvd', 'sur_lat', 'sur_long', 'well_id', 'mid_point_lat',\n",
       "       'mid_point_long', 'recovery', 'recovery_per_foot', 'months_active',\n",
       "       'recovery_per_month', 'vintage', 'vintage_bin', 'encoded_direction',\n",
       "       'encoded_frac_fluid_type', 'encoded_county', 'encoded_oper',\n",
       "       'encoded_formation', 'encoded_sub-basin', 'encoded_lateral_class',\n",
       "       'scaled_direction', 'scaled_frac_fluid_type', 'scaled_county',\n",
       "       'scaled_oper', 'scaled_formation', 'scaled_sub-basin',\n",
       "       'scaled_lateral_class', 'scaled_proppant_ppf', 'scaled_frac_fluid_gpf',\n",
       "       'scaled_gross_perfs', 'scaled_frac_stages', 'scaled_oil_gravity',\n",
       "       'scaled_gor_hist', 'scaled_tvd', 'scaled_mid_point_lat',\n",
       "       'scaled_mid_point_long', 'scaled_vintage'],\n",
       "      dtype='object')"
      ]
     },
     "execution_count": 32,
     "metadata": {},
     "output_type": "execute_result"
    }
   ],
   "source": [
    "numerics = ['int64', 'float64']\n",
    "\n",
    "num_df = df.select_dtypes(include=numerics)\n",
    "num_df.columns"
   ]
  },
  {
   "cell_type": "code",
   "execution_count": 33,
   "metadata": {},
   "outputs": [],
   "source": [
    "num_df = num_df.drop(columns=['gas_hist', 'recovery', 'recovery_per_foot', \n",
    "                              'recovery_per_month', 'api14',\n",
    "                              'sur_long', 'sur_lat', 'mid_point_lat', 'mid_point_long',\n",
    "                              'well_id', 'oil_hist'])"
   ]
  },
  {
   "cell_type": "markdown",
   "metadata": {},
   "source": [
    "### Use LabelEncoder to encode county and frak_fluid_type"
   ]
  },
  {
   "cell_type": "code",
   "execution_count": 34,
   "metadata": {},
   "outputs": [
    {
     "data": {
      "text/html": [
       "<div>\n",
       "<style scoped>\n",
       "    .dataframe tbody tr th:only-of-type {\n",
       "        vertical-align: middle;\n",
       "    }\n",
       "\n",
       "    .dataframe tbody tr th {\n",
       "        vertical-align: top;\n",
       "    }\n",
       "\n",
       "    .dataframe thead th {\n",
       "        text-align: right;\n",
       "    }\n",
       "</style>\n",
       "<table border=\"1\" class=\"dataframe\">\n",
       "  <thead>\n",
       "    <tr style=\"text-align: right;\">\n",
       "      <th></th>\n",
       "      <th>proppant_ppf</th>\n",
       "      <th>frac_fluid_gpf</th>\n",
       "      <th>gross_perfs</th>\n",
       "      <th>frac_stages</th>\n",
       "      <th>oil_gravity</th>\n",
       "      <th>peak_boepd</th>\n",
       "      <th>gor_hist</th>\n",
       "      <th>ip90_boeqpd</th>\n",
       "      <th>tvd</th>\n",
       "      <th>months_active</th>\n",
       "      <th>...</th>\n",
       "      <th>scaled_frac_fluid_gpf</th>\n",
       "      <th>scaled_gross_perfs</th>\n",
       "      <th>scaled_frac_stages</th>\n",
       "      <th>scaled_oil_gravity</th>\n",
       "      <th>scaled_gor_hist</th>\n",
       "      <th>scaled_tvd</th>\n",
       "      <th>scaled_mid_point_lat</th>\n",
       "      <th>scaled_mid_point_long</th>\n",
       "      <th>scaled_vintage</th>\n",
       "      <th>county</th>\n",
       "    </tr>\n",
       "  </thead>\n",
       "  <tbody>\n",
       "    <tr>\n",
       "      <th>30</th>\n",
       "      <td>1311.78809</td>\n",
       "      <td>1642.58887</td>\n",
       "      <td>3977.0</td>\n",
       "      <td>0.0</td>\n",
       "      <td>0.0</td>\n",
       "      <td>61.408554</td>\n",
       "      <td>1738.53259</td>\n",
       "      <td>47.452900</td>\n",
       "      <td>10021.0</td>\n",
       "      <td>33</td>\n",
       "      <td>...</td>\n",
       "      <td>0.547863</td>\n",
       "      <td>0.292627</td>\n",
       "      <td>0.000000</td>\n",
       "      <td>0.0</td>\n",
       "      <td>0.087056</td>\n",
       "      <td>0.745943</td>\n",
       "      <td>0.614855</td>\n",
       "      <td>0.580622</td>\n",
       "      <td>0.966667</td>\n",
       "      <td>0</td>\n",
       "    </tr>\n",
       "    <tr>\n",
       "      <th>31</th>\n",
       "      <td>1088.56238</td>\n",
       "      <td>1493.36900</td>\n",
       "      <td>7283.0</td>\n",
       "      <td>0.0</td>\n",
       "      <td>0.0</td>\n",
       "      <td>416.961182</td>\n",
       "      <td>1381.57100</td>\n",
       "      <td>351.796700</td>\n",
       "      <td>9764.0</td>\n",
       "      <td>66</td>\n",
       "      <td>...</td>\n",
       "      <td>0.498082</td>\n",
       "      <td>0.536127</td>\n",
       "      <td>0.000000</td>\n",
       "      <td>0.0</td>\n",
       "      <td>0.069179</td>\n",
       "      <td>0.726813</td>\n",
       "      <td>0.517410</td>\n",
       "      <td>0.581774</td>\n",
       "      <td>0.916667</td>\n",
       "      <td>0</td>\n",
       "    </tr>\n",
       "    <tr>\n",
       "      <th>32</th>\n",
       "      <td>951.97060</td>\n",
       "      <td>1369.34363</td>\n",
       "      <td>7382.0</td>\n",
       "      <td>0.0</td>\n",
       "      <td>0.0</td>\n",
       "      <td>838.371765</td>\n",
       "      <td>1961.41300</td>\n",
       "      <td>688.525400</td>\n",
       "      <td>10798.0</td>\n",
       "      <td>64</td>\n",
       "      <td>...</td>\n",
       "      <td>0.456706</td>\n",
       "      <td>0.543419</td>\n",
       "      <td>0.000000</td>\n",
       "      <td>0.0</td>\n",
       "      <td>0.098218</td>\n",
       "      <td>0.803781</td>\n",
       "      <td>0.587606</td>\n",
       "      <td>0.571086</td>\n",
       "      <td>0.916667</td>\n",
       "      <td>0</td>\n",
       "    </tr>\n",
       "    <tr>\n",
       "      <th>33</th>\n",
       "      <td>1155.36267</td>\n",
       "      <td>1299.68433</td>\n",
       "      <td>7382.0</td>\n",
       "      <td>31.0</td>\n",
       "      <td>0.0</td>\n",
       "      <td>438.325684</td>\n",
       "      <td>1325.53870</td>\n",
       "      <td>406.427765</td>\n",
       "      <td>9506.0</td>\n",
       "      <td>63</td>\n",
       "      <td>...</td>\n",
       "      <td>0.433468</td>\n",
       "      <td>0.543419</td>\n",
       "      <td>0.442857</td>\n",
       "      <td>0.0</td>\n",
       "      <td>0.066373</td>\n",
       "      <td>0.707608</td>\n",
       "      <td>0.592304</td>\n",
       "      <td>0.570250</td>\n",
       "      <td>0.916667</td>\n",
       "      <td>0</td>\n",
       "    </tr>\n",
       "    <tr>\n",
       "      <th>34</th>\n",
       "      <td>1284.25537</td>\n",
       "      <td>1596.72742</td>\n",
       "      <td>7050.0</td>\n",
       "      <td>0.0</td>\n",
       "      <td>0.0</td>\n",
       "      <td>443.969543</td>\n",
       "      <td>2816.79077</td>\n",
       "      <td>289.934052</td>\n",
       "      <td>10138.0</td>\n",
       "      <td>59</td>\n",
       "      <td>...</td>\n",
       "      <td>0.532564</td>\n",
       "      <td>0.518966</td>\n",
       "      <td>0.000000</td>\n",
       "      <td>0.0</td>\n",
       "      <td>0.141055</td>\n",
       "      <td>0.754652</td>\n",
       "      <td>0.576165</td>\n",
       "      <td>0.563362</td>\n",
       "      <td>0.933333</td>\n",
       "      <td>0</td>\n",
       "    </tr>\n",
       "  </tbody>\n",
       "</table>\n",
       "<p>5 rows × 37 columns</p>\n",
       "</div>"
      ],
      "text/plain": [
       "    proppant_ppf  frac_fluid_gpf  gross_perfs  frac_stages  oil_gravity  \\\n",
       "30    1311.78809      1642.58887       3977.0          0.0          0.0   \n",
       "31    1088.56238      1493.36900       7283.0          0.0          0.0   \n",
       "32     951.97060      1369.34363       7382.0          0.0          0.0   \n",
       "33    1155.36267      1299.68433       7382.0         31.0          0.0   \n",
       "34    1284.25537      1596.72742       7050.0          0.0          0.0   \n",
       "\n",
       "    peak_boepd    gor_hist  ip90_boeqpd      tvd  months_active   ...    \\\n",
       "30   61.408554  1738.53259    47.452900  10021.0             33   ...     \n",
       "31  416.961182  1381.57100   351.796700   9764.0             66   ...     \n",
       "32  838.371765  1961.41300   688.525400  10798.0             64   ...     \n",
       "33  438.325684  1325.53870   406.427765   9506.0             63   ...     \n",
       "34  443.969543  2816.79077   289.934052  10138.0             59   ...     \n",
       "\n",
       "    scaled_frac_fluid_gpf  scaled_gross_perfs  scaled_frac_stages  \\\n",
       "30               0.547863            0.292627            0.000000   \n",
       "31               0.498082            0.536127            0.000000   \n",
       "32               0.456706            0.543419            0.000000   \n",
       "33               0.433468            0.543419            0.442857   \n",
       "34               0.532564            0.518966            0.000000   \n",
       "\n",
       "    scaled_oil_gravity  scaled_gor_hist  scaled_tvd  scaled_mid_point_lat  \\\n",
       "30                 0.0         0.087056    0.745943              0.614855   \n",
       "31                 0.0         0.069179    0.726813              0.517410   \n",
       "32                 0.0         0.098218    0.803781              0.587606   \n",
       "33                 0.0         0.066373    0.707608              0.592304   \n",
       "34                 0.0         0.141055    0.754652              0.576165   \n",
       "\n",
       "    scaled_mid_point_long  scaled_vintage  county  \n",
       "30               0.580622        0.966667       0  \n",
       "31               0.581774        0.916667       0  \n",
       "32               0.571086        0.916667       0  \n",
       "33               0.570250        0.916667       0  \n",
       "34               0.563362        0.933333       0  \n",
       "\n",
       "[5 rows x 37 columns]"
      ]
     },
     "execution_count": 34,
     "metadata": {},
     "output_type": "execute_result"
    }
   ],
   "source": [
    "encoder = LabelEncoder()\n",
    "\n",
    "encoder.fit(df.county)\n",
    "num_df['county'] = encoder.transform(df.county)\n",
    "\n",
    "num_df.head()"
   ]
  },
  {
   "cell_type": "code",
   "execution_count": 35,
   "metadata": {},
   "outputs": [
    {
     "data": {
      "text/html": [
       "<div>\n",
       "<style scoped>\n",
       "    .dataframe tbody tr th:only-of-type {\n",
       "        vertical-align: middle;\n",
       "    }\n",
       "\n",
       "    .dataframe tbody tr th {\n",
       "        vertical-align: top;\n",
       "    }\n",
       "\n",
       "    .dataframe thead th {\n",
       "        text-align: right;\n",
       "    }\n",
       "</style>\n",
       "<table border=\"1\" class=\"dataframe\">\n",
       "  <thead>\n",
       "    <tr style=\"text-align: right;\">\n",
       "      <th></th>\n",
       "      <th>proppant_ppf</th>\n",
       "      <th>frac_fluid_gpf</th>\n",
       "      <th>gross_perfs</th>\n",
       "      <th>frac_stages</th>\n",
       "      <th>oil_gravity</th>\n",
       "      <th>peak_boepd</th>\n",
       "      <th>gor_hist</th>\n",
       "      <th>ip90_boeqpd</th>\n",
       "      <th>tvd</th>\n",
       "      <th>months_active</th>\n",
       "      <th>...</th>\n",
       "      <th>scaled_gross_perfs</th>\n",
       "      <th>scaled_frac_stages</th>\n",
       "      <th>scaled_oil_gravity</th>\n",
       "      <th>scaled_gor_hist</th>\n",
       "      <th>scaled_tvd</th>\n",
       "      <th>scaled_mid_point_lat</th>\n",
       "      <th>scaled_mid_point_long</th>\n",
       "      <th>scaled_vintage</th>\n",
       "      <th>county</th>\n",
       "      <th>frac_fluid_type</th>\n",
       "    </tr>\n",
       "  </thead>\n",
       "  <tbody>\n",
       "    <tr>\n",
       "      <th>30</th>\n",
       "      <td>1311.78809</td>\n",
       "      <td>1642.58887</td>\n",
       "      <td>3977.0</td>\n",
       "      <td>0.0</td>\n",
       "      <td>0.0</td>\n",
       "      <td>61.408554</td>\n",
       "      <td>1738.53259</td>\n",
       "      <td>47.452900</td>\n",
       "      <td>10021.0</td>\n",
       "      <td>33</td>\n",
       "      <td>...</td>\n",
       "      <td>0.292627</td>\n",
       "      <td>0.000000</td>\n",
       "      <td>0.0</td>\n",
       "      <td>0.087056</td>\n",
       "      <td>0.745943</td>\n",
       "      <td>0.614855</td>\n",
       "      <td>0.580622</td>\n",
       "      <td>0.966667</td>\n",
       "      <td>0</td>\n",
       "      <td>7</td>\n",
       "    </tr>\n",
       "    <tr>\n",
       "      <th>31</th>\n",
       "      <td>1088.56238</td>\n",
       "      <td>1493.36900</td>\n",
       "      <td>7283.0</td>\n",
       "      <td>0.0</td>\n",
       "      <td>0.0</td>\n",
       "      <td>416.961182</td>\n",
       "      <td>1381.57100</td>\n",
       "      <td>351.796700</td>\n",
       "      <td>9764.0</td>\n",
       "      <td>66</td>\n",
       "      <td>...</td>\n",
       "      <td>0.536127</td>\n",
       "      <td>0.000000</td>\n",
       "      <td>0.0</td>\n",
       "      <td>0.069179</td>\n",
       "      <td>0.726813</td>\n",
       "      <td>0.517410</td>\n",
       "      <td>0.581774</td>\n",
       "      <td>0.916667</td>\n",
       "      <td>0</td>\n",
       "      <td>3</td>\n",
       "    </tr>\n",
       "    <tr>\n",
       "      <th>32</th>\n",
       "      <td>951.97060</td>\n",
       "      <td>1369.34363</td>\n",
       "      <td>7382.0</td>\n",
       "      <td>0.0</td>\n",
       "      <td>0.0</td>\n",
       "      <td>838.371765</td>\n",
       "      <td>1961.41300</td>\n",
       "      <td>688.525400</td>\n",
       "      <td>10798.0</td>\n",
       "      <td>64</td>\n",
       "      <td>...</td>\n",
       "      <td>0.543419</td>\n",
       "      <td>0.000000</td>\n",
       "      <td>0.0</td>\n",
       "      <td>0.098218</td>\n",
       "      <td>0.803781</td>\n",
       "      <td>0.587606</td>\n",
       "      <td>0.571086</td>\n",
       "      <td>0.916667</td>\n",
       "      <td>0</td>\n",
       "      <td>0</td>\n",
       "    </tr>\n",
       "    <tr>\n",
       "      <th>33</th>\n",
       "      <td>1155.36267</td>\n",
       "      <td>1299.68433</td>\n",
       "      <td>7382.0</td>\n",
       "      <td>31.0</td>\n",
       "      <td>0.0</td>\n",
       "      <td>438.325684</td>\n",
       "      <td>1325.53870</td>\n",
       "      <td>406.427765</td>\n",
       "      <td>9506.0</td>\n",
       "      <td>63</td>\n",
       "      <td>...</td>\n",
       "      <td>0.543419</td>\n",
       "      <td>0.442857</td>\n",
       "      <td>0.0</td>\n",
       "      <td>0.066373</td>\n",
       "      <td>0.707608</td>\n",
       "      <td>0.592304</td>\n",
       "      <td>0.570250</td>\n",
       "      <td>0.916667</td>\n",
       "      <td>0</td>\n",
       "      <td>3</td>\n",
       "    </tr>\n",
       "    <tr>\n",
       "      <th>34</th>\n",
       "      <td>1284.25537</td>\n",
       "      <td>1596.72742</td>\n",
       "      <td>7050.0</td>\n",
       "      <td>0.0</td>\n",
       "      <td>0.0</td>\n",
       "      <td>443.969543</td>\n",
       "      <td>2816.79077</td>\n",
       "      <td>289.934052</td>\n",
       "      <td>10138.0</td>\n",
       "      <td>59</td>\n",
       "      <td>...</td>\n",
       "      <td>0.518966</td>\n",
       "      <td>0.000000</td>\n",
       "      <td>0.0</td>\n",
       "      <td>0.141055</td>\n",
       "      <td>0.754652</td>\n",
       "      <td>0.576165</td>\n",
       "      <td>0.563362</td>\n",
       "      <td>0.933333</td>\n",
       "      <td>0</td>\n",
       "      <td>7</td>\n",
       "    </tr>\n",
       "  </tbody>\n",
       "</table>\n",
       "<p>5 rows × 38 columns</p>\n",
       "</div>"
      ],
      "text/plain": [
       "    proppant_ppf  frac_fluid_gpf  gross_perfs  frac_stages  oil_gravity  \\\n",
       "30    1311.78809      1642.58887       3977.0          0.0          0.0   \n",
       "31    1088.56238      1493.36900       7283.0          0.0          0.0   \n",
       "32     951.97060      1369.34363       7382.0          0.0          0.0   \n",
       "33    1155.36267      1299.68433       7382.0         31.0          0.0   \n",
       "34    1284.25537      1596.72742       7050.0          0.0          0.0   \n",
       "\n",
       "    peak_boepd    gor_hist  ip90_boeqpd      tvd  months_active  \\\n",
       "30   61.408554  1738.53259    47.452900  10021.0             33   \n",
       "31  416.961182  1381.57100   351.796700   9764.0             66   \n",
       "32  838.371765  1961.41300   688.525400  10798.0             64   \n",
       "33  438.325684  1325.53870   406.427765   9506.0             63   \n",
       "34  443.969543  2816.79077   289.934052  10138.0             59   \n",
       "\n",
       "         ...         scaled_gross_perfs  scaled_frac_stages  \\\n",
       "30       ...                   0.292627            0.000000   \n",
       "31       ...                   0.536127            0.000000   \n",
       "32       ...                   0.543419            0.000000   \n",
       "33       ...                   0.543419            0.442857   \n",
       "34       ...                   0.518966            0.000000   \n",
       "\n",
       "    scaled_oil_gravity  scaled_gor_hist  scaled_tvd  scaled_mid_point_lat  \\\n",
       "30                 0.0         0.087056    0.745943              0.614855   \n",
       "31                 0.0         0.069179    0.726813              0.517410   \n",
       "32                 0.0         0.098218    0.803781              0.587606   \n",
       "33                 0.0         0.066373    0.707608              0.592304   \n",
       "34                 0.0         0.141055    0.754652              0.576165   \n",
       "\n",
       "    scaled_mid_point_long  scaled_vintage  county  frac_fluid_type  \n",
       "30               0.580622        0.966667       0                7  \n",
       "31               0.581774        0.916667       0                3  \n",
       "32               0.571086        0.916667       0                0  \n",
       "33               0.570250        0.916667       0                3  \n",
       "34               0.563362        0.933333       0                7  \n",
       "\n",
       "[5 rows x 38 columns]"
      ]
     },
     "execution_count": 35,
     "metadata": {},
     "output_type": "execute_result"
    }
   ],
   "source": [
    "encoder = LabelEncoder()\n",
    "encoder.fit(df.frac_fluid_type)\n",
    "num_df['frac_fluid_type'] = encoder.transform(df.frac_fluid_type)\n",
    "num_df.head()"
   ]
  },
  {
   "cell_type": "markdown",
   "metadata": {},
   "source": [
    "### Standardize Numeric Data"
   ]
  },
  {
   "cell_type": "code",
   "execution_count": 36,
   "metadata": {},
   "outputs": [],
   "source": [
    "scaled_df = num_df.copy()\n",
    "\n",
    "scaled_df['proppant_ppf'] = (scaled_df.proppant_ppf - scaled_df.proppant_ppf.min()) / (scaled_df.proppant_ppf.max() - scaled_df.proppant_ppf.min())\n",
    "scaled_df['frac_fluid_gpf'] = (scaled_df.frac_fluid_gpf - scaled_df.frac_fluid_gpf.min()) / (scaled_df.frac_fluid_gpf.max() - scaled_df.frac_fluid_gpf.min())\n",
    "scaled_df['tvd'] = (scaled_df.tvd - scaled_df.tvd.min()) / (scaled_df.tvd.max() - scaled_df.tvd.min())\n",
    "scaled_df['frac_stages'] = (scaled_df.frac_stages - scaled_df.frac_stages.min()) / (scaled_df.frac_stages.max() - scaled_df.frac_stages.min())\n",
    "scaled_df['oil_gravity'] = (scaled_df.oil_gravity - scaled_df.oil_gravity.min()) / (scaled_df.oil_gravity.max() - scaled_df.oil_gravity.min())\n",
    "scaled_df['peak_boepd'] = (scaled_df.peak_boepd - scaled_df.peak_boepd.min()) / (scaled_df.peak_boepd.max() - scaled_df.peak_boepd.min())\n",
    "scaled_df['gor_hist'] = (scaled_df.gor_hist - scaled_df.gor_hist.min()) / (scaled_df.gor_hist.max() - scaled_df.gor_hist.min())\n",
    "scaled_df['ip90_boeqpd'] = (scaled_df.ip90_boeqpd - scaled_df.ip90_boeqpd.min()) / (scaled_df.ip90_boeqpd.max() - scaled_df.ip90_boeqpd.min())\n",
    "scaled_df['months_active'] = (scaled_df.months_active - scaled_df.months_active.min()) / (scaled_df.months_active.max() - scaled_df.months_active.min())\n",
    "scaled_df['vintage'] = (scaled_df.vintage - scaled_df.vintage.min()) / (scaled_df.vintage.max() - scaled_df.vintage.min())"
   ]
  },
  {
   "cell_type": "code",
   "execution_count": 37,
   "metadata": {},
   "outputs": [],
   "source": [
    "xgb_df = scaled_df.copy()"
   ]
  },
  {
   "cell_type": "markdown",
   "metadata": {},
   "source": [
    "### XGBoost Feature Recommender"
   ]
  },
  {
   "cell_type": "code",
   "execution_count": null,
   "metadata": {},
   "outputs": [],
   "source": [
    "xgb_params = {\n",
    "    'max_depth': 8,\n",
    "    'seed' : 493\n",
    "}\n",
    "\n",
    "dtrain = xgb.DMatrix(xgb_df, df.oil_hist, feature_names=xgb_df.columns.values)\n",
    "model = xgb.train(dict(xgb_params, silent=0), dtrain, num_boost_round=50)\n",
    "\n",
    "# plot the important features #\n",
    "fig, ax = plt.subplots(figsize=(12,8))\n",
    "xgb.plot_importance(model, max_num_features=50, height=0.8, ax=ax)\n",
    "plt.show()"
   ]
  },
  {
   "cell_type": "markdown",
   "metadata": {},
   "source": [
    "# Test Harness and Options"
   ]
  },
  {
   "cell_type": "code",
   "execution_count": null,
   "metadata": {},
   "outputs": [],
   "source": [
    "xfeatures = ['proppant_ppf', 'frac_fluid_gpf', 'gor_hist', 'tvd', 'sur_lat', 'mid_point_lat', 'mid_point_long', 'sur_long', 'encoded_oper', 'encoded_direction', 'vintage', 'gross_perfs']\n",
    "yfeature = ['recovery']"
   ]
  },
  {
   "cell_type": "markdown",
   "metadata": {},
   "source": [
    "### Linear Regression Model: (DataFrame)\n",
    "**Returns:**\n",
    "> MSE, R2 Score, and Coefficients"
   ]
  },
  {
   "cell_type": "code",
   "execution_count": null,
   "metadata": {},
   "outputs": [],
   "source": [
    "model.lregression_test(df, xfeatures, yfeature, 0.70)"
   ]
  },
  {
   "cell_type": "markdown",
   "metadata": {},
   "source": [
    "### Ridge Regression Model: (DataFrame)\n",
    "**Returns:**\n",
    "> MSE, R2 Score, and Coefficients"
   ]
  },
  {
   "cell_type": "code",
   "execution_count": null,
   "metadata": {},
   "outputs": [],
   "source": [
    "model.rregression_test(df, xfeatures, yfeature, 0.70)"
   ]
  },
  {
   "cell_type": "markdown",
   "metadata": {},
   "source": [
    "### Poloynomial Regression Model: (DataFrame)\n",
    "**Returns:**\n",
    "> MSE, R2 Score, and Coefficients"
   ]
  },
  {
   "cell_type": "code",
   "execution_count": null,
   "metadata": {},
   "outputs": [],
   "source": [
    "model.pregression_test(df, xfeatures, yfeature, 0.70)"
   ]
  },
  {
   "cell_type": "markdown",
   "metadata": {},
   "source": [
    "## Explore and select algorithms"
   ]
  },
  {
   "cell_type": "code",
   "execution_count": null,
   "metadata": {},
   "outputs": [],
   "source": []
  },
  {
   "cell_type": "markdown",
   "metadata": {},
   "source": [
    "## Interpret and report results"
   ]
  },
  {
   "cell_type": "code",
   "execution_count": null,
   "metadata": {},
   "outputs": [],
   "source": []
  },
  {
   "cell_type": "markdown",
   "metadata": {},
   "source": [
    "# Improve Results"
   ]
  },
  {
   "cell_type": "markdown",
   "metadata": {},
   "source": [
    "## Algorithm Tuning"
   ]
  },
  {
   "cell_type": "code",
   "execution_count": null,
   "metadata": {},
   "outputs": [],
   "source": []
  },
  {
   "cell_type": "markdown",
   "metadata": {},
   "source": [
    "## Ensemble Methods"
   ]
  },
  {
   "cell_type": "markdown",
   "metadata": {},
   "source": [
    "### Bagging"
   ]
  },
  {
   "cell_type": "code",
   "execution_count": null,
   "metadata": {},
   "outputs": [],
   "source": []
  },
  {
   "cell_type": "markdown",
   "metadata": {},
   "source": [
    "### Boosting"
   ]
  },
  {
   "cell_type": "code",
   "execution_count": null,
   "metadata": {},
   "outputs": [],
   "source": []
  },
  {
   "cell_type": "markdown",
   "metadata": {},
   "source": [
    "### Blending"
   ]
  },
  {
   "cell_type": "code",
   "execution_count": null,
   "metadata": {},
   "outputs": [],
   "source": []
  },
  {
   "cell_type": "markdown",
   "metadata": {},
   "source": [
    "## Extreme Feature Engineering"
   ]
  },
  {
   "cell_type": "code",
   "execution_count": null,
   "metadata": {},
   "outputs": [],
   "source": []
  }
 ],
 "metadata": {
  "kernelspec": {
   "display_name": "Python 3",
   "language": "python",
   "name": "python3"
  },
  "language_info": {
   "codemirror_mode": {
    "name": "ipython",
    "version": 3
   },
   "file_extension": ".py",
   "mimetype": "text/x-python",
   "name": "python",
   "nbconvert_exporter": "python",
   "pygments_lexer": "ipython3",
   "version": "3.7.1"
  }
 },
 "nbformat": 4,
 "nbformat_minor": 2
}
