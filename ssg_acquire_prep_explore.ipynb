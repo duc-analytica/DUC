{
 "cells": [
  {
   "cell_type": "markdown",
   "metadata": {},
   "source": [
    "Formal Description\n",
    "1. Finding a correlation between horizontal distance drilled and the amount of oil recovered\n",
    "2. For both horizontal and vertical types of wells\n",
    "3. Resample by end date year and compare results to see if production has increased over time with the assumption of better technologies and processes"
   ]
  },
  {
   "cell_type": "markdown",
   "metadata": {},
   "source": [
    "Assumptions\n",
    "1. Cost increases per linear foot drilled\n",
    "2. Recovery per foot decreases as over a number of feet increases\n",
    "3. More risk with drilling horizontally; however it is a lot better than drilling new holes every time\n",
    "4. Geographic clustering of drilling data could lead us to different projections\n",
    "5. Higher proppant PPF/frac fluid theoretically leads to more recovery.  Not an assumption - higher costs as proppant PPF goes up."
   ]
  },
  {
   "cell_type": "markdown",
   "metadata": {},
   "source": [
    "# Data Dictionary:\n",
    "## Dimensions/Categorical:\n",
    "1. API:  American Petroleum Identification Code (10 digits) -- check for duplicates (switch to 14 digits if necessary)\n",
    "5. Entity Reserve Category:  (IGNORE: unless we get into probability)\n",
    "    - Developed Producing --\n",
    "    - Undeveloped --\n",
    "    - (Blanks) -- \n",
    "13. First Prod:  first production date, drop before 1940\n",
    "6. Formation: \n",
    "    - Name of the layer of rock\n",
    "    - Group by Formation: From one formation to the next, the rock properties are different, can be imputed from vertical depth if necessary\n",
    "9. Frac Fluid GPF:  another key driver, a continuous variable, how much water is forced into the hold to frack it. Drives up cost.   \n",
    "14. Last Prod:  last production date, drop before 1940\n",
    "4. MajorPhase:  What is the predominant thing it produces\n",
    "    - Gas\n",
    "    - Inj -- Injection (ignore)\n",
    "    - Oil\n",
    "    - Other -- Do Not Know; wells that are plugged; Shut-in that no longer produce there might be some exceptions -- KEEP\n",
    "    - SWD --  Salt Water Disposal (ignore)\n",
    "7. Prod Method:  What type of surface machine is used at that well, probably won’t use this feature. May use for anomalies. \n",
    "    - Flowing --\n",
    "    - Gas lift --\n",
    "    - Jetted --\n",
    "    - Other --\n",
    "    - Plunger Lift -- \n",
    "    - Pumping --\n",
    "    - Swabbing -- \n",
    "    - Undesignated -- \n",
    "    - Unknown --\n",
    "3. Status:\n",
    "    - Active -- producing and have ultimate recovery number\n",
    "    - Drilling -- actively being drilled, likely no recovery numbers \n",
    "    - Drilled Un-completed -- drilled and hooked up, but not yet on production, no recovery number, also referred to as a “DUC”, we will say it’s same as Active\n",
    "    - DryHole -- nothing in the hole\n",
    "    - Inactive -- same as Shut-in\n",
    "    - Injection -- we will exclude these, used for disposal water, etc.\n",
    "    - Other -- do not know\n",
    "    - P&A -- plugged and abandoned, know how much it previously produced\n",
    "    - Permitted -- the state has approved to drill, if has first and the last production, it’s active and the state hasn’t re-filed it, yet\n",
    "    - Shut-in -- also turned off, but not plugged with concrete, know how much it previously produced\n",
    "    - Uncompleted -- drilled, but have not yet hooked it up\n",
    "2. Type:  Vertical, Horizontal, or “Other” -- other will be imputed from the lateral length\n",
    "25. Well Id:  \n",
    "\n",
    "***********\n",
    "## Measures/Continuous:\n",
    "12. Frac Fluid Type:  classifier, may or may not be a driver   \n",
    "    - Acid\n",
    "    - Foam\n",
    "    - Freshwater\n",
    "    - GelXLink\n",
    "    - None\n",
    "    - Oil\n",
    "    - Other\n",
    "    - Saltwater\n",
    "    - Slickwater\n",
    "    - (Blanks) -- mean it’s unknown, but they used something\n",
    "11. Frac Stages:   number of stages of fracking, may not use, mostly null, a direct correlation between profit and frac stages, each stage drives up the cost\n",
    "16. Gas EUR:  estimated ultimate recovery of gas, gas measured in mcf (6 mcf fits in one oil barrel), may want to combine Oil EUR and Gas EUR \n",
    "20. GOR Hist: the ratio of gas to oil produced to date by well, changes every month\n",
    "21. IP90 BOEQPD: a metric that might come in handy, initially garbage comes out and then good oil, so this gives average oil recovered over 90 days, “initial potential 90-day barrel of oil equivalent (oil and gas) per day”\n",
    "10. Lateral Len:  length of perforations (to let oil into the pipe)\n",
    "26. MidPoint Lat:  midpoint surface latitude\n",
    "27. MidPoint Long:  midpoint surface longitude\n",
    "15. Oil EUR:  estimated ultimate recovery of oil, what we want to predict, oil in barrels\n",
    "17. Oil Gravity:  likely a driver, may have to impute, the thickness of the oil, viscosity, usually related to gas/oil ratio (GOR Hist), could be imputed from GOR Hist.\n",
    "19. Oil Hist: the number of barrels produced to date by well\n",
    "8. Proppant PPF:  after injecting water for fracking, sand or ceramic is injected to hold open the layers of formation, to “prop” open the layers. Measured in pound per foot. A continuous variable that will be a key driver. Drives up cost.\n",
    "18. Qi (init):  peak rate (like for a time series) at the start, initial producing rate\n",
    "22. Sur Lat:  surface latitude \n",
    "23. Sur Long:  surface longitude  "
   ]
  },
  {
   "cell_type": "code",
   "execution_count": 1,
   "metadata": {},
   "outputs": [],
   "source": [
    "import pandas as pd\n",
    "from acquire_prepare import acquire_oil\n",
    "from acquire_prepare import prep_oil"
   ]
  },
  {
   "cell_type": "code",
   "execution_count": 2,
   "metadata": {},
   "outputs": [
    {
     "data": {
      "text/plain": [
       "(4372, 25)"
      ]
     },
     "execution_count": 2,
     "metadata": {},
     "output_type": "execute_result"
    }
   ],
   "source": [
    "df = acquire_oil()\n",
    "df = prep_oil(df)\n",
    "df.shape"
   ]
  },
  {
   "cell_type": "code",
   "execution_count": 3,
   "metadata": {},
   "outputs": [
    {
     "name": "stdout",
     "output_type": "stream",
     "text": [
      "<class 'pandas.core.frame.DataFrame'>\n",
      "Index: 4372 entries, 3 to 16218\n",
      "Data columns (total 25 columns):\n",
      "api                4372 non-null float64\n",
      "type               4372 non-null category\n",
      "status             4372 non-null category\n",
      "major_phase        4372 non-null category\n",
      "formation          3015 non-null object\n",
      "prod_method        4372 non-null category\n",
      "proppant_ppf       2261 non-null float64\n",
      "frac_fluid_gpf     2586 non-null float64\n",
      "lateral_len        4297 non-null float64\n",
      "frac_stages        2819 non-null float64\n",
      "frac_fluid_type    2858 non-null category\n",
      "first_prod         4372 non-null datetime64[ns]\n",
      "last_prod          4372 non-null datetime64[ns]\n",
      "oil_eur            4372 non-null float64\n",
      "gas_eur            4372 non-null float64\n",
      "oil_gravity        4137 non-null float64\n",
      "qi_(init)          1230 non-null float64\n",
      "oil_hist           4372 non-null float64\n",
      "gor_hist           4296 non-null float64\n",
      "ip90_boeqpd        4371 non-null float64\n",
      "sur_lat            4372 non-null float64\n",
      "sur_long           4372 non-null float64\n",
      "well_id            4372 non-null int64\n",
      "mid_point_lat      4372 non-null float64\n",
      "mid_point_long     4372 non-null float64\n",
      "dtypes: category(5), datetime64[ns](2), float64(16), int64(1), object(1)\n",
      "memory usage: 740.1+ KB\n"
     ]
    }
   ],
   "source": [
    "df.info()"
   ]
  },
  {
   "cell_type": "code",
   "execution_count": null,
   "metadata": {},
   "outputs": [],
   "source": [
    "# df['recovery'] = df.oil_eur + df.gas_eur/6"
   ]
  },
  {
   "cell_type": "code",
   "execution_count": null,
   "metadata": {},
   "outputs": [],
   "source": [
    "# df.drop(columns=['client_id', 'oil_eur', 'gas_eur', 'entity_reserve_category'], inplace=True)\n",
    "# df.shape"
   ]
  },
  {
   "cell_type": "code",
   "execution_count": null,
   "metadata": {},
   "outputs": [],
   "source": [
    "# df = df[df.status != 'INJECTION']\n",
    "# df = df[df.major_phase != 'INJ']\n",
    "# df = df[df.major_phase != 'SWD']\n",
    "# df = df[df.lateral_len != 0]\n",
    "# df.sample(10)"
   ]
  },
  {
   "cell_type": "code",
   "execution_count": null,
   "metadata": {},
   "outputs": [],
   "source": [
    "# df = df[df['first_prod'].dt.year > 1940]\n",
    "# df = df[df['last_prod'].dt.year > 1940]"
   ]
  },
  {
   "cell_type": "code",
   "execution_count": null,
   "metadata": {},
   "outputs": [],
   "source": [
    "# df['api'] = df['api'].apply(lambda x: \"{:.0f}\" \\\n",
    "#                      .format(x) if not pd.isnull(x) else x)\n",
    "# df.info()"
   ]
  },
  {
   "cell_type": "code",
   "execution_count": null,
   "metadata": {},
   "outputs": [],
   "source": [
    "# df['recovery_per_ft'] = df['recovery']/df['lateral_len'] * 1000"
   ]
  },
  {
   "cell_type": "code",
   "execution_count": null,
   "metadata": {},
   "outputs": [],
   "source": [
    "df.sample(10)"
   ]
  },
  {
   "cell_type": "code",
   "execution_count": null,
   "metadata": {},
   "outputs": [],
   "source": [
    "# print (df.apply(lambda x: x.nunique()))"
   ]
  },
  {
   "cell_type": "code",
   "execution_count": null,
   "metadata": {},
   "outputs": [],
   "source": [
    "df.describe()"
   ]
  },
  {
   "cell_type": "code",
   "execution_count": null,
   "metadata": {},
   "outputs": [],
   "source": []
  }
 ],
 "metadata": {
  "kernelspec": {
   "display_name": "Python 3",
   "language": "python",
   "name": "python3"
  },
  "language_info": {
   "codemirror_mode": {
    "name": "ipython",
    "version": 3
   },
   "file_extension": ".py",
   "mimetype": "text/x-python",
   "name": "python",
   "nbconvert_exporter": "python",
   "pygments_lexer": "ipython3",
   "version": "3.7.1"
  }
 },
 "nbformat": 4,
 "nbformat_minor": 2
}
