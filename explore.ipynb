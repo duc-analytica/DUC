{
 "cells": [
  {
   "cell_type": "code",
   "execution_count": 1,
   "metadata": {},
   "outputs": [],
   "source": [
    "# ignore warnings\n",
    "import warnings\n",
    "warnings.filterwarnings(\"ignore\")\n",
    "\n",
    "# Wrangling\n",
    "from acquire_prepare import acquire_oil\n",
    "from acquire_prepare import prep_data\n",
    "import numpy as np\n",
    "import pandas as pd\n",
    "\n",
    "# Visualizing\n",
    "%matplotlib inline\n",
    "import matplotlib.pyplot as plt\n",
    "import sys # used in command to make entire array print by default\n",
    "\n",
    "# Feature Selection\n",
    "import xgboost as xgb\n",
    "from sklearn.decomposition import PCA"
   ]
  },
  {
   "cell_type": "code",
   "execution_count": 2,
   "metadata": {},
   "outputs": [
    {
     "data": {
      "application/javascript": [
       "IPython.OutputArea.prototype._should_scroll = function(lines) {\n",
       "    return false;\n",
       "}\n"
      ],
      "text/plain": [
       "<IPython.core.display.Javascript object>"
      ]
     },
     "metadata": {},
     "output_type": "display_data"
    }
   ],
   "source": [
    "%%javascript\n",
    "IPython.OutputArea.prototype._should_scroll = function(lines) {\n",
    "    return false;\n",
    "}"
   ]
  },
  {
   "cell_type": "code",
   "execution_count": 3,
   "metadata": {},
   "outputs": [],
   "source": [
    "# makes entire array print by default, \n",
    "# can add [:##] to end to set length\n",
    "np.set_printoptions(threshold=sys.maxsize)"
   ]
  },
  {
   "cell_type": "code",
   "execution_count": 4,
   "metadata": {},
   "outputs": [],
   "source": [
    "df = acquire_oil()\n",
    "df = prep_data(df)"
   ]
  },
  {
   "cell_type": "markdown",
   "metadata": {},
   "source": [
    "# Analyze Data"
   ]
  },
  {
   "cell_type": "markdown",
   "metadata": {},
   "source": [
    "## Summarize Data"
   ]
  },
  {
   "cell_type": "markdown",
   "metadata": {},
   "source": [
    "### Data Structure"
   ]
  },
  {
   "cell_type": "code",
   "execution_count": 5,
   "metadata": {},
   "outputs": [
    {
     "data": {
      "text/plain": [
       "(12523, 36)"
      ]
     },
     "execution_count": 5,
     "metadata": {},
     "output_type": "execute_result"
    }
   ],
   "source": [
    "df.shape"
   ]
  },
  {
   "cell_type": "code",
   "execution_count": 6,
   "metadata": {},
   "outputs": [
    {
     "name": "stdout",
     "output_type": "stream",
     "text": [
      "<class 'pandas.core.frame.DataFrame'>\n",
      "Index: 12523 entries, 8 to 19495\n",
      "Data columns (total 36 columns):\n",
      "api14                 12523 non-null int64\n",
      "lease_name            12523 non-null object\n",
      "well_number           12523 non-null object\n",
      "county                12523 non-null object\n",
      "type                  12523 non-null category\n",
      "status                12523 non-null category\n",
      "oper                  12523 non-null object\n",
      "multi_well_lease      12523 non-null object\n",
      "major_phase           12523 non-null category\n",
      "formation             12512 non-null object\n",
      "proppant_ppf          9711 non-null float64\n",
      "prod_method           12523 non-null category\n",
      "frac_fluid_gpf        11105 non-null float64\n",
      "lateral_len           12523 non-null float64\n",
      "frac_stages           11587 non-null float64\n",
      "frac_fluid_type       12366 non-null category\n",
      "first_prod            12523 non-null datetime64[ns]\n",
      "last_prod             12523 non-null datetime64[ns]\n",
      "oil_gravity           12204 non-null float64\n",
      "peak_boepd            12523 non-null float64\n",
      "oil_hist              12523 non-null float64\n",
      "gas_hist              12523 non-null float64\n",
      "gor_hist              12523 non-null float64\n",
      "ip90_boeqpd           12523 non-null float64\n",
      "landing_depth         12374 non-null float64\n",
      "sur_lat               12523 non-null float64\n",
      "sur_long              12523 non-null float64\n",
      "well_id               12523 non-null int64\n",
      "mid_point_lat         12523 non-null float64\n",
      "mid_point_long        12523 non-null float64\n",
      "recovery              12523 non-null float64\n",
      "recovery_per_foot     12523 non-null float64\n",
      "months_active         12523 non-null int64\n",
      "recovery_per_month    12523 non-null float64\n",
      "lateral_class         12523 non-null category\n",
      "vintage               12523 non-null int64\n",
      "dtypes: category(6), datetime64[ns](2), float64(18), int64(4), object(6)\n",
      "memory usage: 3.0+ MB\n"
     ]
    }
   ],
   "source": [
    "df.info()"
   ]
  },
  {
   "cell_type": "code",
   "execution_count": 7,
   "metadata": {},
   "outputs": [
    {
     "data": {
      "text/html": [
       "<div>\n",
       "<style scoped>\n",
       "    .dataframe tbody tr th:only-of-type {\n",
       "        vertical-align: middle;\n",
       "    }\n",
       "\n",
       "    .dataframe tbody tr th {\n",
       "        vertical-align: top;\n",
       "    }\n",
       "\n",
       "    .dataframe thead th {\n",
       "        text-align: right;\n",
       "    }\n",
       "</style>\n",
       "<table border=\"1\" class=\"dataframe\">\n",
       "  <thead>\n",
       "    <tr style=\"text-align: right;\">\n",
       "      <th></th>\n",
       "      <th>api14</th>\n",
       "      <th>lease_name</th>\n",
       "      <th>well_number</th>\n",
       "      <th>county</th>\n",
       "      <th>type</th>\n",
       "      <th>status</th>\n",
       "      <th>oper</th>\n",
       "      <th>multi_well_lease</th>\n",
       "      <th>major_phase</th>\n",
       "      <th>formation</th>\n",
       "      <th>...</th>\n",
       "      <th>sur_long</th>\n",
       "      <th>well_id</th>\n",
       "      <th>mid_point_lat</th>\n",
       "      <th>mid_point_long</th>\n",
       "      <th>recovery</th>\n",
       "      <th>recovery_per_foot</th>\n",
       "      <th>months_active</th>\n",
       "      <th>recovery_per_month</th>\n",
       "      <th>lateral_class</th>\n",
       "      <th>vintage</th>\n",
       "    </tr>\n",
       "  </thead>\n",
       "  <tbody>\n",
       "    <tr>\n",
       "      <th>3281</th>\n",
       "      <td>42173342730000</td>\n",
       "      <td>BLALOCK F</td>\n",
       "      <td>113</td>\n",
       "      <td>GLASSCOCK</td>\n",
       "      <td>Vertical</td>\n",
       "      <td>Inactive</td>\n",
       "      <td>XTO ENERGY INCORPORATED</td>\n",
       "      <td>False</td>\n",
       "      <td>OIL</td>\n",
       "      <td>FUSSELMAN</td>\n",
       "      <td>...</td>\n",
       "      <td>-101.713272</td>\n",
       "      <td>156544</td>\n",
       "      <td>31.934659</td>\n",
       "      <td>-101.713272</td>\n",
       "      <td>34.223000</td>\n",
       "      <td>3422.300000</td>\n",
       "      <td>19</td>\n",
       "      <td>1801.210526</td>\n",
       "      <td>one</td>\n",
       "      <td>2011</td>\n",
       "    </tr>\n",
       "    <tr>\n",
       "      <th>6246</th>\n",
       "      <td>42235353680000</td>\n",
       "      <td>SCOTT SUGG 2726</td>\n",
       "      <td>H 13M</td>\n",
       "      <td>IRION</td>\n",
       "      <td>Horizontal</td>\n",
       "      <td>Active</td>\n",
       "      <td>APACHE CORPORATION</td>\n",
       "      <td>True</td>\n",
       "      <td>OIL</td>\n",
       "      <td>WOLFCAMP</td>\n",
       "      <td>...</td>\n",
       "      <td>-101.076289</td>\n",
       "      <td>143938</td>\n",
       "      <td>31.264138</td>\n",
       "      <td>-101.076458</td>\n",
       "      <td>242.907503</td>\n",
       "      <td>32.058533</td>\n",
       "      <td>58</td>\n",
       "      <td>4188.060394</td>\n",
       "      <td>eight</td>\n",
       "      <td>2014</td>\n",
       "    </tr>\n",
       "    <tr>\n",
       "      <th>10652</th>\n",
       "      <td>42329406670000</td>\n",
       "      <td>RAB DAVIDSON 22D</td>\n",
       "      <td>2713K</td>\n",
       "      <td>MIDLAND</td>\n",
       "      <td>Horizontal</td>\n",
       "      <td>Active</td>\n",
       "      <td>ENCANA OIL &amp; GAS (USA) INCORPORATED</td>\n",
       "      <td>True</td>\n",
       "      <td>OIL</td>\n",
       "      <td>WOLFCAMP</td>\n",
       "      <td>...</td>\n",
       "      <td>-102.095960</td>\n",
       "      <td>146452</td>\n",
       "      <td>31.679841</td>\n",
       "      <td>-102.098966</td>\n",
       "      <td>255.185333</td>\n",
       "      <td>31.311084</td>\n",
       "      <td>34</td>\n",
       "      <td>7505.450980</td>\n",
       "      <td>nine</td>\n",
       "      <td>2016</td>\n",
       "    </tr>\n",
       "  </tbody>\n",
       "</table>\n",
       "<p>3 rows × 36 columns</p>\n",
       "</div>"
      ],
      "text/plain": [
       "                api14        lease_name well_number     county        type  \\\n",
       "3281   42173342730000         BLALOCK F         113  GLASSCOCK    Vertical   \n",
       "6246   42235353680000   SCOTT SUGG 2726       H 13M      IRION  Horizontal   \n",
       "10652  42329406670000  RAB DAVIDSON 22D       2713K    MIDLAND  Horizontal   \n",
       "\n",
       "         status                                 oper multi_well_lease  \\\n",
       "3281   Inactive              XTO ENERGY INCORPORATED            False   \n",
       "6246     Active                   APACHE CORPORATION             True   \n",
       "10652    Active  ENCANA OIL & GAS (USA) INCORPORATED             True   \n",
       "\n",
       "      major_phase  formation   ...       sur_long well_id  mid_point_lat  \\\n",
       "3281          OIL  FUSSELMAN   ...    -101.713272  156544      31.934659   \n",
       "6246          OIL   WOLFCAMP   ...    -101.076289  143938      31.264138   \n",
       "10652         OIL   WOLFCAMP   ...    -102.095960  146452      31.679841   \n",
       "\n",
       "       mid_point_long    recovery recovery_per_foot months_active  \\\n",
       "3281      -101.713272   34.223000       3422.300000            19   \n",
       "6246      -101.076458  242.907503         32.058533            58   \n",
       "10652     -102.098966  255.185333         31.311084            34   \n",
       "\n",
       "      recovery_per_month  lateral_class  vintage  \n",
       "3281         1801.210526            one     2011  \n",
       "6246         4188.060394          eight     2014  \n",
       "10652        7505.450980           nine     2016  \n",
       "\n",
       "[3 rows x 36 columns]"
      ]
     },
     "execution_count": 7,
     "metadata": {},
     "output_type": "execute_result"
    }
   ],
   "source": [
    "df.sample(3)"
   ]
  },
  {
   "cell_type": "markdown",
   "metadata": {},
   "source": [
    "### Data Distributions"
   ]
  },
  {
   "cell_type": "code",
   "execution_count": 8,
   "metadata": {},
   "outputs": [
    {
     "name": "stdout",
     "output_type": "stream",
     "text": [
      "api14                 12351\n",
      "lease_name             5763\n",
      "well_number            4213\n",
      "county                   52\n",
      "type                      2\n",
      "status                    2\n",
      "oper                    472\n",
      "multi_well_lease          2\n",
      "major_phase               3\n",
      "formation               154\n",
      "proppant_ppf           9523\n",
      "prod_method               9\n",
      "frac_fluid_gpf        10613\n",
      "lateral_len            5835\n",
      "frac_stages              65\n",
      "frac_fluid_type          10\n",
      "first_prod              601\n",
      "last_prod               406\n",
      "oil_gravity             191\n",
      "peak_boepd            11949\n",
      "oil_hist              12211\n",
      "gas_hist              12192\n",
      "gor_hist              12516\n",
      "ip90_boeqpd           12228\n",
      "landing_depth          5397\n",
      "sur_lat               12028\n",
      "sur_long              12218\n",
      "well_id               12523\n",
      "mid_point_lat         12280\n",
      "mid_point_long        12295\n",
      "recovery              12506\n",
      "recovery_per_foot     12515\n",
      "months_active           523\n",
      "recovery_per_month    12420\n",
      "lateral_class            14\n",
      "vintage                  63\n",
      "dtype: int64\n"
     ]
    }
   ],
   "source": [
    "print (df.apply(lambda x: x.nunique()))"
   ]
  },
  {
   "cell_type": "code",
   "execution_count": 9,
   "metadata": {},
   "outputs": [
    {
     "data": {
      "text/html": [
       "<div>\n",
       "<style scoped>\n",
       "    .dataframe tbody tr th:only-of-type {\n",
       "        vertical-align: middle;\n",
       "    }\n",
       "\n",
       "    .dataframe tbody tr th {\n",
       "        vertical-align: top;\n",
       "    }\n",
       "\n",
       "    .dataframe thead th {\n",
       "        text-align: right;\n",
       "    }\n",
       "</style>\n",
       "<table border=\"1\" class=\"dataframe\">\n",
       "  <thead>\n",
       "    <tr style=\"text-align: right;\">\n",
       "      <th></th>\n",
       "      <th>api14</th>\n",
       "      <th>proppant_ppf</th>\n",
       "      <th>frac_fluid_gpf</th>\n",
       "      <th>lateral_len</th>\n",
       "      <th>frac_stages</th>\n",
       "      <th>oil_gravity</th>\n",
       "      <th>peak_boepd</th>\n",
       "      <th>oil_hist</th>\n",
       "      <th>gas_hist</th>\n",
       "      <th>gor_hist</th>\n",
       "      <th>...</th>\n",
       "      <th>sur_lat</th>\n",
       "      <th>sur_long</th>\n",
       "      <th>well_id</th>\n",
       "      <th>mid_point_lat</th>\n",
       "      <th>mid_point_long</th>\n",
       "      <th>recovery</th>\n",
       "      <th>recovery_per_foot</th>\n",
       "      <th>months_active</th>\n",
       "      <th>recovery_per_month</th>\n",
       "      <th>vintage</th>\n",
       "    </tr>\n",
       "  </thead>\n",
       "  <tbody>\n",
       "    <tr>\n",
       "      <th>count</th>\n",
       "      <td>1.252300e+04</td>\n",
       "      <td>9711.000000</td>\n",
       "      <td>11105.000000</td>\n",
       "      <td>12523.000000</td>\n",
       "      <td>11587.000000</td>\n",
       "      <td>12204.000000</td>\n",
       "      <td>12523.000000</td>\n",
       "      <td>12523.000000</td>\n",
       "      <td>12523.000000</td>\n",
       "      <td>12523.000000</td>\n",
       "      <td>...</td>\n",
       "      <td>12523.000000</td>\n",
       "      <td>12523.000000</td>\n",
       "      <td>12523.000000</td>\n",
       "      <td>12523.000000</td>\n",
       "      <td>12523.000000</td>\n",
       "      <td>12523.000000</td>\n",
       "      <td>12523.000000</td>\n",
       "      <td>12523.000000</td>\n",
       "      <td>1.252300e+04</td>\n",
       "      <td>12523.000000</td>\n",
       "    </tr>\n",
       "    <tr>\n",
       "      <th>mean</th>\n",
       "      <td>4.222996e+13</td>\n",
       "      <td>1342.497292</td>\n",
       "      <td>1270.473671</td>\n",
       "      <td>4768.668131</td>\n",
       "      <td>2.648658</td>\n",
       "      <td>2.701977</td>\n",
       "      <td>483.629057</td>\n",
       "      <td>127.962449</td>\n",
       "      <td>388.979704</td>\n",
       "      <td>3671.045391</td>\n",
       "      <td>...</td>\n",
       "      <td>31.723877</td>\n",
       "      <td>-102.194086</td>\n",
       "      <td>139754.902979</td>\n",
       "      <td>31.724188</td>\n",
       "      <td>-102.194201</td>\n",
       "      <td>170.103297</td>\n",
       "      <td>262.623092</td>\n",
       "      <td>80.357023</td>\n",
       "      <td>inf</td>\n",
       "      <td>2009.232053</td>\n",
       "    </tr>\n",
       "    <tr>\n",
       "      <th>std</th>\n",
       "      <td>9.380980e+11</td>\n",
       "      <td>4008.538057</td>\n",
       "      <td>6262.632605</td>\n",
       "      <td>3150.512301</td>\n",
       "      <td>8.411421</td>\n",
       "      <td>11.204653</td>\n",
       "      <td>466.536676</td>\n",
       "      <td>114.999612</td>\n",
       "      <td>454.379270</td>\n",
       "      <td>3785.667567</td>\n",
       "      <td>...</td>\n",
       "      <td>0.530322</td>\n",
       "      <td>0.851444</td>\n",
       "      <td>19010.808820</td>\n",
       "      <td>0.530217</td>\n",
       "      <td>0.851417</td>\n",
       "      <td>176.216382</td>\n",
       "      <td>2328.416404</td>\n",
       "      <td>94.705842</td>\n",
       "      <td>NaN</td>\n",
       "      <td>10.910190</td>\n",
       "    </tr>\n",
       "    <tr>\n",
       "      <th>min</th>\n",
       "      <td>3.000528e+13</td>\n",
       "      <td>1.000000</td>\n",
       "      <td>0.000000</td>\n",
       "      <td>1.000000</td>\n",
       "      <td>0.000000</td>\n",
       "      <td>0.000000</td>\n",
       "      <td>0.071233</td>\n",
       "      <td>0.002000</td>\n",
       "      <td>0.001000</td>\n",
       "      <td>0.020168</td>\n",
       "      <td>...</td>\n",
       "      <td>30.447167</td>\n",
       "      <td>-104.359908</td>\n",
       "      <td>22866.000000</td>\n",
       "      <td>30.447167</td>\n",
       "      <td>-104.360243</td>\n",
       "      <td>0.000000</td>\n",
       "      <td>0.000000</td>\n",
       "      <td>0.000000</td>\n",
       "      <td>0.000000e+00</td>\n",
       "      <td>1955.000000</td>\n",
       "    </tr>\n",
       "    <tr>\n",
       "      <th>25%</th>\n",
       "      <td>4.221934e+13</td>\n",
       "      <td>512.766116</td>\n",
       "      <td>235.793579</td>\n",
       "      <td>1578.000000</td>\n",
       "      <td>0.000000</td>\n",
       "      <td>0.000000</td>\n",
       "      <td>101.589596</td>\n",
       "      <td>40.475500</td>\n",
       "      <td>79.340000</td>\n",
       "      <td>1270.117060</td>\n",
       "      <td>...</td>\n",
       "      <td>31.361323</td>\n",
       "      <td>-102.801819</td>\n",
       "      <td>142255.500000</td>\n",
       "      <td>31.363456</td>\n",
       "      <td>-102.802620</td>\n",
       "      <td>50.436083</td>\n",
       "      <td>15.904779</td>\n",
       "      <td>33.000000</td>\n",
       "      <td>6.948475e+02</td>\n",
       "      <td>2009.000000</td>\n",
       "    </tr>\n",
       "    <tr>\n",
       "      <th>50%</th>\n",
       "      <td>4.232934e+13</td>\n",
       "      <td>1167.159420</td>\n",
       "      <td>1063.788450</td>\n",
       "      <td>4587.000000</td>\n",
       "      <td>0.000000</td>\n",
       "      <td>0.000000</td>\n",
       "      <td>383.739075</td>\n",
       "      <td>102.894000</td>\n",
       "      <td>256.800000</td>\n",
       "      <td>2325.685550</td>\n",
       "      <td>...</td>\n",
       "      <td>31.657858</td>\n",
       "      <td>-101.955182</td>\n",
       "      <td>146368.000000</td>\n",
       "      <td>31.658005</td>\n",
       "      <td>-101.955600</td>\n",
       "      <td>126.466014</td>\n",
       "      <td>27.939733</td>\n",
       "      <td>52.000000</td>\n",
       "      <td>2.368416e+03</td>\n",
       "      <td>2014.000000</td>\n",
       "    </tr>\n",
       "    <tr>\n",
       "      <th>75%</th>\n",
       "      <td>4.238340e+13</td>\n",
       "      <td>1608.079770</td>\n",
       "      <td>1609.000000</td>\n",
       "      <td>7383.000000</td>\n",
       "      <td>0.000000</td>\n",
       "      <td>0.000000</td>\n",
       "      <td>727.376587</td>\n",
       "      <td>183.316000</td>\n",
       "      <td>530.014000</td>\n",
       "      <td>4621.494250</td>\n",
       "      <td>...</td>\n",
       "      <td>31.975325</td>\n",
       "      <td>-101.538640</td>\n",
       "      <td>150752.500000</td>\n",
       "      <td>31.978206</td>\n",
       "      <td>-101.538778</td>\n",
       "      <td>211.323089</td>\n",
       "      <td>57.854686</td>\n",
       "      <td>77.000000</td>\n",
       "      <td>4.786894e+03</td>\n",
       "      <td>2015.000000</td>\n",
       "    </tr>\n",
       "    <tr>\n",
       "      <th>max</th>\n",
       "      <td>4.250137e+13</td>\n",
       "      <td>146969.000000</td>\n",
       "      <td>424824.750000</td>\n",
       "      <td>13815.000000</td>\n",
       "      <td>70.000000</td>\n",
       "      <td>68.000000</td>\n",
       "      <td>9358.215000</td>\n",
       "      <td>1659.710000</td>\n",
       "      <td>4692.163000</td>\n",
       "      <td>19977.940000</td>\n",
       "      <td>...</td>\n",
       "      <td>33.834820</td>\n",
       "      <td>-100.689460</td>\n",
       "      <td>157521.000000</td>\n",
       "      <td>33.836550</td>\n",
       "      <td>-100.691821</td>\n",
       "      <td>999.305470</td>\n",
       "      <td>108604.047619</td>\n",
       "      <td>747.000000</td>\n",
       "      <td>inf</td>\n",
       "      <td>2018.000000</td>\n",
       "    </tr>\n",
       "  </tbody>\n",
       "</table>\n",
       "<p>8 rows × 22 columns</p>\n",
       "</div>"
      ],
      "text/plain": [
       "              api14   proppant_ppf  frac_fluid_gpf   lateral_len  \\\n",
       "count  1.252300e+04    9711.000000    11105.000000  12523.000000   \n",
       "mean   4.222996e+13    1342.497292     1270.473671   4768.668131   \n",
       "std    9.380980e+11    4008.538057     6262.632605   3150.512301   \n",
       "min    3.000528e+13       1.000000        0.000000      1.000000   \n",
       "25%    4.221934e+13     512.766116      235.793579   1578.000000   \n",
       "50%    4.232934e+13    1167.159420     1063.788450   4587.000000   \n",
       "75%    4.238340e+13    1608.079770     1609.000000   7383.000000   \n",
       "max    4.250137e+13  146969.000000   424824.750000  13815.000000   \n",
       "\n",
       "        frac_stages   oil_gravity    peak_boepd      oil_hist      gas_hist  \\\n",
       "count  11587.000000  12204.000000  12523.000000  12523.000000  12523.000000   \n",
       "mean       2.648658      2.701977    483.629057    127.962449    388.979704   \n",
       "std        8.411421     11.204653    466.536676    114.999612    454.379270   \n",
       "min        0.000000      0.000000      0.071233      0.002000      0.001000   \n",
       "25%        0.000000      0.000000    101.589596     40.475500     79.340000   \n",
       "50%        0.000000      0.000000    383.739075    102.894000    256.800000   \n",
       "75%        0.000000      0.000000    727.376587    183.316000    530.014000   \n",
       "max       70.000000     68.000000   9358.215000   1659.710000   4692.163000   \n",
       "\n",
       "           gor_hist      ...            sur_lat      sur_long        well_id  \\\n",
       "count  12523.000000      ...       12523.000000  12523.000000   12523.000000   \n",
       "mean    3671.045391      ...          31.723877   -102.194086  139754.902979   \n",
       "std     3785.667567      ...           0.530322      0.851444   19010.808820   \n",
       "min        0.020168      ...          30.447167   -104.359908   22866.000000   \n",
       "25%     1270.117060      ...          31.361323   -102.801819  142255.500000   \n",
       "50%     2325.685550      ...          31.657858   -101.955182  146368.000000   \n",
       "75%     4621.494250      ...          31.975325   -101.538640  150752.500000   \n",
       "max    19977.940000      ...          33.834820   -100.689460  157521.000000   \n",
       "\n",
       "       mid_point_lat  mid_point_long      recovery  recovery_per_foot  \\\n",
       "count   12523.000000    12523.000000  12523.000000       12523.000000   \n",
       "mean       31.724188     -102.194201    170.103297         262.623092   \n",
       "std         0.530217        0.851417    176.216382        2328.416404   \n",
       "min        30.447167     -104.360243      0.000000           0.000000   \n",
       "25%        31.363456     -102.802620     50.436083          15.904779   \n",
       "50%        31.658005     -101.955600    126.466014          27.939733   \n",
       "75%        31.978206     -101.538778    211.323089          57.854686   \n",
       "max        33.836550     -100.691821    999.305470      108604.047619   \n",
       "\n",
       "       months_active  recovery_per_month       vintage  \n",
       "count   12523.000000        1.252300e+04  12523.000000  \n",
       "mean       80.357023                 inf   2009.232053  \n",
       "std        94.705842                 NaN     10.910190  \n",
       "min         0.000000        0.000000e+00   1955.000000  \n",
       "25%        33.000000        6.948475e+02   2009.000000  \n",
       "50%        52.000000        2.368416e+03   2014.000000  \n",
       "75%        77.000000        4.786894e+03   2015.000000  \n",
       "max       747.000000                 inf   2018.000000  \n",
       "\n",
       "[8 rows x 22 columns]"
      ]
     },
     "execution_count": 9,
     "metadata": {},
     "output_type": "execute_result"
    }
   ],
   "source": [
    "df.describe()"
   ]
  },
  {
   "cell_type": "code",
   "execution_count": 10,
   "metadata": {},
   "outputs": [
    {
     "data": {
      "text/plain": [
       "36"
      ]
     },
     "execution_count": 10,
     "metadata": {},
     "output_type": "execute_result"
    }
   ],
   "source": [
    "len(df.columns) # 36 features"
   ]
  },
  {
   "cell_type": "markdown",
   "metadata": {},
   "source": [
    "## Standardize Numeric Data"
   ]
  },
  {
   "cell_type": "code",
   "execution_count": 11,
   "metadata": {},
   "outputs": [
    {
     "data": {
      "text/plain": [
       "Index(['api14', 'proppant_ppf', 'frac_fluid_gpf', 'lateral_len', 'frac_stages',\n",
       "       'oil_gravity', 'peak_boepd', 'oil_hist', 'gas_hist', 'gor_hist',\n",
       "       'ip90_boeqpd', 'landing_depth', 'sur_lat', 'sur_long', 'well_id',\n",
       "       'mid_point_lat', 'mid_point_long', 'recovery', 'recovery_per_foot',\n",
       "       'months_active', 'recovery_per_month', 'vintage'],\n",
       "      dtype='object')"
      ]
     },
     "execution_count": 11,
     "metadata": {},
     "output_type": "execute_result"
    }
   ],
   "source": [
    "numerics = ['int64', 'float64']\n",
    "\n",
    "num_df = df.select_dtypes(include=numerics)\n",
    "num_df.columns"
   ]
  },
  {
   "cell_type": "code",
   "execution_count": 12,
   "metadata": {},
   "outputs": [
    {
     "data": {
      "text/plain": [
       "Index(['proppant_ppf', 'frac_fluid_gpf', 'lateral_len', 'frac_stages',\n",
       "       'oil_gravity', 'peak_boepd', 'gor_hist', 'ip90_boeqpd', 'months_active',\n",
       "       'vintage'],\n",
       "      dtype='object')"
      ]
     },
     "execution_count": 12,
     "metadata": {},
     "output_type": "execute_result"
    }
   ],
   "source": [
    "num_df = num_df.drop(columns=['gas_hist', 'recovery', 'recovery_per_foot', \n",
    "                              'recovery_per_month', 'landing_depth', 'api14',\n",
    "                             'sur_long', 'sur_lat', 'mid_point_lat', 'mid_point_long',\n",
    "                             'well_id', 'oil_hist'])\n",
    "num_df.columns"
   ]
  },
  {
   "cell_type": "code",
   "execution_count": 13,
   "metadata": {},
   "outputs": [
    {
     "data": {
      "text/html": [
       "<div>\n",
       "<style scoped>\n",
       "    .dataframe tbody tr th:only-of-type {\n",
       "        vertical-align: middle;\n",
       "    }\n",
       "\n",
       "    .dataframe tbody tr th {\n",
       "        vertical-align: top;\n",
       "    }\n",
       "\n",
       "    .dataframe thead th {\n",
       "        text-align: right;\n",
       "    }\n",
       "</style>\n",
       "<table border=\"1\" class=\"dataframe\">\n",
       "  <thead>\n",
       "    <tr style=\"text-align: right;\">\n",
       "      <th></th>\n",
       "      <th>proppant_ppf</th>\n",
       "      <th>frac_fluid_gpf</th>\n",
       "      <th>lateral_len</th>\n",
       "      <th>frac_stages</th>\n",
       "      <th>oil_gravity</th>\n",
       "      <th>peak_boepd</th>\n",
       "      <th>gor_hist</th>\n",
       "      <th>ip90_boeqpd</th>\n",
       "      <th>months_active</th>\n",
       "      <th>vintage</th>\n",
       "    </tr>\n",
       "  </thead>\n",
       "  <tbody>\n",
       "    <tr>\n",
       "      <th>8</th>\n",
       "      <td>0.001446</td>\n",
       "      <td>0.000023</td>\n",
       "      <td>0.360649</td>\n",
       "      <td>0.000000</td>\n",
       "      <td>NaN</td>\n",
       "      <td>0.019635</td>\n",
       "      <td>0.071030</td>\n",
       "      <td>0.022445</td>\n",
       "      <td>0.128514</td>\n",
       "      <td>0.888889</td>\n",
       "    </tr>\n",
       "    <tr>\n",
       "      <th>9</th>\n",
       "      <td>0.001716</td>\n",
       "      <td>0.000655</td>\n",
       "      <td>0.376140</td>\n",
       "      <td>0.142857</td>\n",
       "      <td>NaN</td>\n",
       "      <td>0.028360</td>\n",
       "      <td>0.080742</td>\n",
       "      <td>0.016353</td>\n",
       "      <td>0.144578</td>\n",
       "      <td>0.873016</td>\n",
       "    </tr>\n",
       "    <tr>\n",
       "      <th>10</th>\n",
       "      <td>0.002262</td>\n",
       "      <td>0.000754</td>\n",
       "      <td>0.343420</td>\n",
       "      <td>0.000000</td>\n",
       "      <td>NaN</td>\n",
       "      <td>0.018393</td>\n",
       "      <td>0.087298</td>\n",
       "      <td>0.024103</td>\n",
       "      <td>0.132530</td>\n",
       "      <td>0.873016</td>\n",
       "    </tr>\n",
       "    <tr>\n",
       "      <th>11</th>\n",
       "      <td>0.007045</td>\n",
       "      <td>0.002107</td>\n",
       "      <td>0.280151</td>\n",
       "      <td>0.000000</td>\n",
       "      <td>NaN</td>\n",
       "      <td>0.003524</td>\n",
       "      <td>0.032044</td>\n",
       "      <td>0.003225</td>\n",
       "      <td>0.124498</td>\n",
       "      <td>0.873016</td>\n",
       "    </tr>\n",
       "    <tr>\n",
       "      <th>12</th>\n",
       "      <td>0.002684</td>\n",
       "      <td>0.000738</td>\n",
       "      <td>0.273780</td>\n",
       "      <td>0.157143</td>\n",
       "      <td>NaN</td>\n",
       "      <td>0.040909</td>\n",
       "      <td>0.065694</td>\n",
       "      <td>0.074228</td>\n",
       "      <td>0.145917</td>\n",
       "      <td>0.873016</td>\n",
       "    </tr>\n",
       "  </tbody>\n",
       "</table>\n",
       "</div>"
      ],
      "text/plain": [
       "    proppant_ppf  frac_fluid_gpf  lateral_len  frac_stages  oil_gravity  \\\n",
       "8       0.001446        0.000023     0.360649     0.000000          NaN   \n",
       "9       0.001716        0.000655     0.376140     0.142857          NaN   \n",
       "10      0.002262        0.000754     0.343420     0.000000          NaN   \n",
       "11      0.007045        0.002107     0.280151     0.000000          NaN   \n",
       "12      0.002684        0.000738     0.273780     0.157143          NaN   \n",
       "\n",
       "    peak_boepd  gor_hist  ip90_boeqpd  months_active   vintage  \n",
       "8     0.019635  0.071030     0.022445       0.128514  0.888889  \n",
       "9     0.028360  0.080742     0.016353       0.144578  0.873016  \n",
       "10    0.018393  0.087298     0.024103       0.132530  0.873016  \n",
       "11    0.003524  0.032044     0.003225       0.124498  0.873016  \n",
       "12    0.040909  0.065694     0.074228       0.145917  0.873016  "
      ]
     },
     "execution_count": 13,
     "metadata": {},
     "output_type": "execute_result"
    }
   ],
   "source": [
    "scaled_df = num_df.copy()\n",
    "scaled_df['proppant_ppf'] = (scaled_df.proppant_ppf - scaled_df.proppant_ppf.min()) / (scaled_df.proppant_ppf.max() - scaled_df.proppant_ppf.min())\n",
    "scaled_df['frac_fluid_gpf'] = (scaled_df.frac_fluid_gpf - scaled_df.frac_fluid_gpf.min()) / (scaled_df.frac_fluid_gpf.max() - scaled_df.frac_fluid_gpf.min())\n",
    "scaled_df['lateral_len'] = (scaled_df.lateral_len - scaled_df.lateral_len.min()) / (scaled_df.lateral_len.max() - scaled_df.lateral_len.min())\n",
    "scaled_df['frac_stages'] = (scaled_df.frac_stages - scaled_df.frac_stages.min()) / (scaled_df.frac_stages.max() - scaled_df.frac_stages.min())\n",
    "scaled_df['oil_gravity'] = (scaled_df.oil_gravity - scaled_df.oil_gravity.min()) / (scaled_df.oil_gravity.max() - scaled_df.oil_gravity.min())\n",
    "scaled_df['peak_boepd'] = (scaled_df.peak_boepd - scaled_df.peak_boepd.min()) / (scaled_df.peak_boepd.max() - scaled_df.peak_boepd.min())\n",
    "#scaled_df['oil_hist'] = (scaled_df.oil_hist - scaled_df.oil_hist.min()) / (scaled_df.oil_hist.max() - scaled_df.oil_hist.min())\n",
    "scaled_df['gor_hist'] = (scaled_df.gor_hist - scaled_df.gor_hist.min()) / (scaled_df.gor_hist.max() - scaled_df.gor_hist.min())\n",
    "scaled_df['ip90_boeqpd'] = (scaled_df.ip90_boeqpd - scaled_df.ip90_boeqpd.min()) / (scaled_df.ip90_boeqpd.max() - scaled_df.ip90_boeqpd.min())\n",
    "scaled_df['months_active'] = (scaled_df.months_active - scaled_df.months_active.min()) / (scaled_df.months_active.max() - scaled_df.months_active.min())\n",
    "scaled_df['vintage'] = (scaled_df.vintage - scaled_df.vintage.min()) / (scaled_df.vintage.max() - scaled_df.vintage.min())\n",
    "scaled_df.head()"
   ]
  },
  {
   "cell_type": "code",
   "execution_count": 14,
   "metadata": {},
   "outputs": [],
   "source": [
    "xgb_df = scaled_df.copy()"
   ]
  },
  {
   "cell_type": "markdown",
   "metadata": {},
   "source": [
    "## Visualize Data"
   ]
  },
  {
   "cell_type": "markdown",
   "metadata": {},
   "source": [
    "### Attribute Histograms"
   ]
  },
  {
   "cell_type": "markdown",
   "metadata": {},
   "source": [
    "#### XGBoost Feature Recommender"
   ]
  },
  {
   "cell_type": "code",
   "execution_count": 15,
   "metadata": {},
   "outputs": [
    {
     "data": {
      "image/png": "[encoded data removed]",
      "text/plain": [
       "<Figure size 864x576 with 1 Axes>"
      ]
     },
     "metadata": {
      "needs_background": "light"
     },
     "output_type": "display_data"
    }
   ],
   "source": [
    "xgb_params = {\n",
    "    'max_depth': 8,\n",
    "    'seed' : 493\n",
    "}\n",
    "dtrain = xgb.DMatrix(xgb_df, df.oil_hist, feature_names=xgb_df.columns.values)\n",
    "model = xgb.train(dict(xgb_params, silent=0), dtrain, num_boost_round=50)\n",
    "\n",
    "# plot the important features #\n",
    "fig, ax = plt.subplots(figsize=(12,8))\n",
    "xgb.plot_importance(model, max_num_features=50, height=0.8, ax=ax)\n",
    "plt.show()"
   ]
  },
  {
   "cell_type": "markdown",
   "metadata": {},
   "source": [
    "####  PCA (Principal Component Analysis) Feature Recommender"
   ]
  },
  {
   "cell_type": "code",
   "execution_count": null,
   "metadata": {},
   "outputs": [],
   "source": []
  },
  {
   "cell_type": "code",
   "execution_count": null,
   "metadata": {},
   "outputs": [],
   "source": []
  },
  {
   "cell_type": "code",
   "execution_count": null,
   "metadata": {},
   "outputs": [],
   "source": []
  },
  {
   "cell_type": "markdown",
   "metadata": {},
   "source": [
    "### Pairwise Scatterplots of Attributes"
   ]
  },
  {
   "cell_type": "code",
   "execution_count": null,
   "metadata": {},
   "outputs": [],
   "source": []
  },
  {
   "cell_type": "code",
   "execution_count": null,
   "metadata": {},
   "outputs": [],
   "source": []
  }
 ],
 "metadata": {
  "kernelspec": {
   "display_name": "Python 3",
   "language": "python",
   "name": "python3"
  },
  "language_info": {
   "codemirror_mode": {
    "name": "ipython",
    "version": 3
   },
   "file_extension": ".py",
   "mimetype": "text/x-python",
   "name": "python",
   "nbconvert_exporter": "python",
   "pygments_lexer": "ipython3",
   "version": "3.7.1"
  }
 },
 "nbformat": 4,
 "nbformat_minor": 2
}
