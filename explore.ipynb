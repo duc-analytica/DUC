{
 "cells": [
  {
   "cell_type": "code",
   "execution_count": 1,
   "metadata": {},
   "outputs": [],
   "source": [
    "# ignore warnings\n",
    "import warnings\n",
    "warnings.filterwarnings(\"ignore\")\n",
    "\n",
    "# Wrangling\n",
    "from acquire_prepare import acquire_oil\n",
    "from acquire_prepare import prep_data\n",
    "import numpy as np\n",
    "import pandas as pd\n",
    "\n",
    "# Visualizing\n",
    "%matplotlib inline\n",
    "import matplotlib.pyplot as plt\n",
    "import sys # used in command to make entire array print by default\n",
    "\n",
    "# Feature Selection\n",
    "import xgboost as xgb\n",
    "from sklearn.decomposition import PCA"
   ]
  },
  {
   "cell_type": "code",
   "execution_count": 2,
   "metadata": {},
   "outputs": [
    {
     "data": {
      "application/javascript": [
       "IPython.OutputArea.prototype._should_scroll = function(lines) {\n",
       "    return false;\n",
       "}\n"
      ],
      "text/plain": [
       "<IPython.core.display.Javascript object>"
      ]
     },
     "metadata": {},
     "output_type": "display_data"
    }
   ],
   "source": [
    "%%javascript\n",
    "IPython.OutputArea.prototype._should_scroll = function(lines) {\n",
    "    return false;\n",
    "}"
   ]
  },
  {
   "cell_type": "code",
   "execution_count": 3,
   "metadata": {},
   "outputs": [],
   "source": [
    "# makes entire array print by default, \n",
    "# can add [:##] to end to set length\n",
    "np.set_printoptions(threshold=sys.maxsize)"
   ]
  },
  {
   "cell_type": "code",
   "execution_count": 4,
   "metadata": {},
   "outputs": [],
   "source": [
    "df = acquire_oil()\n",
    "df = prep_data(df)"
   ]
  },
  {
   "cell_type": "markdown",
   "metadata": {},
   "source": [
    "# Analyze Data"
   ]
  },
  {
   "cell_type": "markdown",
   "metadata": {},
   "source": [
    "## Summarize Data"
   ]
  },
  {
   "cell_type": "markdown",
   "metadata": {},
   "source": [
    "### Data Structure"
   ]
  },
  {
   "cell_type": "code",
   "execution_count": 5,
   "metadata": {},
   "outputs": [
    {
     "data": {
      "text/plain": [
       "(9111, 37)"
      ]
     },
     "execution_count": 5,
     "metadata": {},
     "output_type": "execute_result"
    }
   ],
   "source": [
    "df.shape"
   ]
  },
  {
   "cell_type": "code",
   "execution_count": 6,
   "metadata": {},
   "outputs": [
    {
     "name": "stdout",
     "output_type": "stream",
     "text": [
      "<class 'pandas.core.frame.DataFrame'>\n",
      "Index: 9111 entries, 8 to 17144\n",
      "Data columns (total 37 columns):\n",
      "api14                 9111 non-null int64\n",
      "lease_name            9111 non-null object\n",
      "well_number           9111 non-null object\n",
      "county                9111 non-null object\n",
      "type                  9111 non-null category\n",
      "status                9111 non-null category\n",
      "oper                  9111 non-null object\n",
      "multi_well_lease      9111 non-null bool\n",
      "major_phase           9111 non-null category\n",
      "formation             9108 non-null object\n",
      "proppant_ppf          7901 non-null float64\n",
      "prod_method           9111 non-null category\n",
      "frac_fluid_gpf        9111 non-null float64\n",
      "lateral_len           9111 non-null float64\n",
      "frac_stages           8617 non-null float64\n",
      "frac_fluid_type       9111 non-null object\n",
      "first_prod            9111 non-null datetime64[ns]\n",
      "last_prod             9111 non-null datetime64[ns]\n",
      "oil_gravity           8871 non-null float64\n",
      "peak_boepd            9111 non-null float64\n",
      "oil_hist              9111 non-null float64\n",
      "gas_hist              9111 non-null float64\n",
      "gor_hist              9111 non-null float64\n",
      "ip90_boeqpd           9111 non-null float64\n",
      "landing_depth         9105 non-null float64\n",
      "sur_lat               9111 non-null float64\n",
      "sur_long              9111 non-null float64\n",
      "well_id               9111 non-null int64\n",
      "mid_point_lat         9111 non-null float64\n",
      "mid_point_long        9111 non-null float64\n",
      "recovery              9111 non-null float64\n",
      "recovery_per_foot     9111 non-null float64\n",
      "months_active         9111 non-null int64\n",
      "recovery_per_month    9111 non-null float64\n",
      "lateral_class         9111 non-null category\n",
      "vintage               9111 non-null int64\n",
      "vintage_bin           9111 non-null int64\n",
      "dtypes: bool(1), category(5), datetime64[ns](2), float64(18), int64(5), object(6)\n",
      "memory usage: 2.3+ MB\n"
     ]
    }
   ],
   "source": [
    "df.info()"
   ]
  },
  {
   "cell_type": "code",
   "execution_count": 7,
   "metadata": {},
   "outputs": [
    {
     "data": {
      "text/html": [
       "<div>\n",
       "<style scoped>\n",
       "    .dataframe tbody tr th:only-of-type {\n",
       "        vertical-align: middle;\n",
       "    }\n",
       "\n",
       "    .dataframe tbody tr th {\n",
       "        vertical-align: top;\n",
       "    }\n",
       "\n",
       "    .dataframe thead th {\n",
       "        text-align: right;\n",
       "    }\n",
       "</style>\n",
       "<table border=\"1\" class=\"dataframe\">\n",
       "  <thead>\n",
       "    <tr style=\"text-align: right;\">\n",
       "      <th></th>\n",
       "      <th>api14</th>\n",
       "      <th>lease_name</th>\n",
       "      <th>well_number</th>\n",
       "      <th>county</th>\n",
       "      <th>type</th>\n",
       "      <th>status</th>\n",
       "      <th>oper</th>\n",
       "      <th>multi_well_lease</th>\n",
       "      <th>major_phase</th>\n",
       "      <th>formation</th>\n",
       "      <th>...</th>\n",
       "      <th>well_id</th>\n",
       "      <th>mid_point_lat</th>\n",
       "      <th>mid_point_long</th>\n",
       "      <th>recovery</th>\n",
       "      <th>recovery_per_foot</th>\n",
       "      <th>months_active</th>\n",
       "      <th>recovery_per_month</th>\n",
       "      <th>lateral_class</th>\n",
       "      <th>vintage</th>\n",
       "      <th>vintage_bin</th>\n",
       "    </tr>\n",
       "  </thead>\n",
       "  <tbody>\n",
       "    <tr>\n",
       "      <th>13462</th>\n",
       "      <td>42383376600000</td>\n",
       "      <td>UNIVERSITY 10-19</td>\n",
       "      <td>6H</td>\n",
       "      <td>REAGAN</td>\n",
       "      <td>Horizontal</td>\n",
       "      <td>Active</td>\n",
       "      <td>pioneer</td>\n",
       "      <td>True</td>\n",
       "      <td>OIL</td>\n",
       "      <td>WOLFCAMP</td>\n",
       "      <td>...</td>\n",
       "      <td>148385</td>\n",
       "      <td>31.253701</td>\n",
       "      <td>-101.481741</td>\n",
       "      <td>145.564842</td>\n",
       "      <td>20.105641</td>\n",
       "      <td>73</td>\n",
       "      <td>1994.038932</td>\n",
       "      <td>eight</td>\n",
       "      <td>2013</td>\n",
       "      <td>4</td>\n",
       "    </tr>\n",
       "    <tr>\n",
       "      <th>10120</th>\n",
       "      <td>42329401450000</td>\n",
       "      <td>ST</td>\n",
       "      <td>4406LS</td>\n",
       "      <td>MIDLAND</td>\n",
       "      <td>Horizontal</td>\n",
       "      <td>Active</td>\n",
       "      <td>diamondback exploration &amp; prod llc</td>\n",
       "      <td>True</td>\n",
       "      <td>OIL</td>\n",
       "      <td>SPRABERRY</td>\n",
       "      <td>...</td>\n",
       "      <td>146375</td>\n",
       "      <td>31.959572</td>\n",
       "      <td>-102.221850</td>\n",
       "      <td>191.361335</td>\n",
       "      <td>36.694407</td>\n",
       "      <td>41</td>\n",
       "      <td>4667.349630</td>\n",
       "      <td>six</td>\n",
       "      <td>2015</td>\n",
       "      <td>5</td>\n",
       "    </tr>\n",
       "    <tr>\n",
       "      <th>5689</th>\n",
       "      <td>42227386080000</td>\n",
       "      <td>SHROYER-WILSON UNIT A 23-14</td>\n",
       "      <td>1SH</td>\n",
       "      <td>HOWARD</td>\n",
       "      <td>Horizontal</td>\n",
       "      <td>Active</td>\n",
       "      <td>surge operating llc</td>\n",
       "      <td>True</td>\n",
       "      <td>OIL</td>\n",
       "      <td>SPRABERRY</td>\n",
       "      <td>...</td>\n",
       "      <td>144637</td>\n",
       "      <td>32.420456</td>\n",
       "      <td>-101.573655</td>\n",
       "      <td>201.635835</td>\n",
       "      <td>30.090410</td>\n",
       "      <td>38</td>\n",
       "      <td>5306.206193</td>\n",
       "      <td>seven</td>\n",
       "      <td>2016</td>\n",
       "      <td>5</td>\n",
       "    </tr>\n",
       "  </tbody>\n",
       "</table>\n",
       "<p>3 rows × 37 columns</p>\n",
       "</div>"
      ],
      "text/plain": [
       "                api14                   lease_name well_number   county  \\\n",
       "13462  42383376600000             UNIVERSITY 10-19          6H   REAGAN   \n",
       "10120  42329401450000                           ST      4406LS  MIDLAND   \n",
       "5689   42227386080000  SHROYER-WILSON UNIT A 23-14         1SH   HOWARD   \n",
       "\n",
       "             type  status                                oper  \\\n",
       "13462  Horizontal  Active                             pioneer   \n",
       "10120  Horizontal  Active  diamondback exploration & prod llc   \n",
       "5689   Horizontal  Active                 surge operating llc   \n",
       "\n",
       "       multi_well_lease major_phase  formation     ...       well_id  \\\n",
       "13462              True         OIL   WOLFCAMP     ...        148385   \n",
       "10120              True         OIL  SPRABERRY     ...        146375   \n",
       "5689               True         OIL  SPRABERRY     ...        144637   \n",
       "\n",
       "      mid_point_lat  mid_point_long    recovery  recovery_per_foot  \\\n",
       "13462     31.253701     -101.481741  145.564842          20.105641   \n",
       "10120     31.959572     -102.221850  191.361335          36.694407   \n",
       "5689      32.420456     -101.573655  201.635835          30.090410   \n",
       "\n",
       "      months_active recovery_per_month lateral_class  vintage  vintage_bin  \n",
       "13462            73        1994.038932         eight     2013            4  \n",
       "10120            41        4667.349630           six     2015            5  \n",
       "5689             38        5306.206193         seven     2016            5  \n",
       "\n",
       "[3 rows x 37 columns]"
      ]
     },
     "execution_count": 7,
     "metadata": {},
     "output_type": "execute_result"
    }
   ],
   "source": [
    "df.sample(3)"
   ]
  },
  {
   "cell_type": "markdown",
   "metadata": {},
   "source": [
    "### Data Distributions"
   ]
  },
  {
   "cell_type": "code",
   "execution_count": 8,
   "metadata": {},
   "outputs": [
    {
     "name": "stdout",
     "output_type": "stream",
     "text": [
      "api14                 9088\n",
      "lease_name            4067\n",
      "well_number           3532\n",
      "county                  40\n",
      "type                     2\n",
      "status                   2\n",
      "oper                   356\n",
      "multi_well_lease         2\n",
      "major_phase              3\n",
      "formation               41\n",
      "proppant_ppf          7805\n",
      "prod_method              9\n",
      "frac_fluid_gpf        8935\n",
      "lateral_len           4967\n",
      "frac_stages             63\n",
      "frac_fluid_type         10\n",
      "first_prod             503\n",
      "last_prod              357\n",
      "oil_gravity            140\n",
      "peak_boepd            8776\n",
      "oil_hist              8932\n",
      "gas_hist              8904\n",
      "gor_hist              9109\n",
      "ip90_boeqpd           8965\n",
      "landing_depth         4305\n",
      "sur_lat               8821\n",
      "sur_long              8976\n",
      "well_id               9111\n",
      "mid_point_lat         9025\n",
      "mid_point_long        9030\n",
      "recovery              9104\n",
      "recovery_per_foot     9110\n",
      "months_active          405\n",
      "recovery_per_month    9038\n",
      "lateral_class           14\n",
      "vintage                 59\n",
      "vintage_bin              5\n",
      "dtype: int64\n"
     ]
    }
   ],
   "source": [
    "print (df.apply(lambda x: x.nunique()))"
   ]
  },
  {
   "cell_type": "code",
   "execution_count": 9,
   "metadata": {},
   "outputs": [
    {
     "data": {
      "text/html": [
       "<div>\n",
       "<style scoped>\n",
       "    .dataframe tbody tr th:only-of-type {\n",
       "        vertical-align: middle;\n",
       "    }\n",
       "\n",
       "    .dataframe tbody tr th {\n",
       "        vertical-align: top;\n",
       "    }\n",
       "\n",
       "    .dataframe thead th {\n",
       "        text-align: right;\n",
       "    }\n",
       "</style>\n",
       "<table border=\"1\" class=\"dataframe\">\n",
       "  <thead>\n",
       "    <tr style=\"text-align: right;\">\n",
       "      <th></th>\n",
       "      <th>api14</th>\n",
       "      <th>proppant_ppf</th>\n",
       "      <th>frac_fluid_gpf</th>\n",
       "      <th>lateral_len</th>\n",
       "      <th>frac_stages</th>\n",
       "      <th>oil_gravity</th>\n",
       "      <th>peak_boepd</th>\n",
       "      <th>oil_hist</th>\n",
       "      <th>gas_hist</th>\n",
       "      <th>gor_hist</th>\n",
       "      <th>...</th>\n",
       "      <th>sur_long</th>\n",
       "      <th>well_id</th>\n",
       "      <th>mid_point_lat</th>\n",
       "      <th>mid_point_long</th>\n",
       "      <th>recovery</th>\n",
       "      <th>recovery_per_foot</th>\n",
       "      <th>months_active</th>\n",
       "      <th>recovery_per_month</th>\n",
       "      <th>vintage</th>\n",
       "      <th>vintage_bin</th>\n",
       "    </tr>\n",
       "  </thead>\n",
       "  <tbody>\n",
       "    <tr>\n",
       "      <th>count</th>\n",
       "      <td>9.111000e+03</td>\n",
       "      <td>7901.000000</td>\n",
       "      <td>9111.000000</td>\n",
       "      <td>9111.000000</td>\n",
       "      <td>8617.000000</td>\n",
       "      <td>8871.000000</td>\n",
       "      <td>9111.000000</td>\n",
       "      <td>9111.000000</td>\n",
       "      <td>9111.000000</td>\n",
       "      <td>9111.000000</td>\n",
       "      <td>...</td>\n",
       "      <td>9111.000000</td>\n",
       "      <td>9111.000000</td>\n",
       "      <td>9111.000000</td>\n",
       "      <td>9111.000000</td>\n",
       "      <td>9111.000000</td>\n",
       "      <td>9111.000000</td>\n",
       "      <td>9111.000000</td>\n",
       "      <td>9111.000000</td>\n",
       "      <td>9111.000000</td>\n",
       "      <td>9111.000000</td>\n",
       "    </tr>\n",
       "    <tr>\n",
       "      <th>mean</th>\n",
       "      <td>4.220199e+13</td>\n",
       "      <td>1156.279041</td>\n",
       "      <td>1009.888433</td>\n",
       "      <td>5172.729777</td>\n",
       "      <td>2.906812</td>\n",
       "      <td>1.765188</td>\n",
       "      <td>456.920233</td>\n",
       "      <td>114.086108</td>\n",
       "      <td>351.319162</td>\n",
       "      <td>3744.922869</td>\n",
       "      <td>...</td>\n",
       "      <td>-101.987392</td>\n",
       "      <td>138611.010427</td>\n",
       "      <td>31.773551</td>\n",
       "      <td>-101.987553</td>\n",
       "      <td>144.982498</td>\n",
       "      <td>50.362981</td>\n",
       "      <td>70.498628</td>\n",
       "      <td>inf</td>\n",
       "      <td>2010.125672</td>\n",
       "      <td>4.348151</td>\n",
       "    </tr>\n",
       "    <tr>\n",
       "      <th>std</th>\n",
       "      <td>9.925261e+11</td>\n",
       "      <td>1538.448069</td>\n",
       "      <td>760.590435</td>\n",
       "      <td>3169.468670</td>\n",
       "      <td>8.989653</td>\n",
       "      <td>8.968751</td>\n",
       "      <td>439.033570</td>\n",
       "      <td>98.094715</td>\n",
       "      <td>384.418922</td>\n",
       "      <td>3849.852441</td>\n",
       "      <td>...</td>\n",
       "      <td>0.734190</td>\n",
       "      <td>19113.569930</td>\n",
       "      <td>0.534110</td>\n",
       "      <td>0.734224</td>\n",
       "      <td>142.761965</td>\n",
       "      <td>100.043607</td>\n",
       "      <td>76.340453</td>\n",
       "      <td>NaN</td>\n",
       "      <td>9.945555</td>\n",
       "      <td>0.882422</td>\n",
       "    </tr>\n",
       "    <tr>\n",
       "      <th>min</th>\n",
       "      <td>3.000528e+13</td>\n",
       "      <td>1.098097</td>\n",
       "      <td>0.015129</td>\n",
       "      <td>2.000000</td>\n",
       "      <td>0.000000</td>\n",
       "      <td>0.000000</td>\n",
       "      <td>0.131508</td>\n",
       "      <td>0.026000</td>\n",
       "      <td>0.001000</td>\n",
       "      <td>0.201732</td>\n",
       "      <td>...</td>\n",
       "      <td>-104.340924</td>\n",
       "      <td>88946.000000</td>\n",
       "      <td>30.447167</td>\n",
       "      <td>-104.340768</td>\n",
       "      <td>0.000000</td>\n",
       "      <td>0.000000</td>\n",
       "      <td>0.000000</td>\n",
       "      <td>0.000000</td>\n",
       "      <td>1958.000000</td>\n",
       "      <td>1.000000</td>\n",
       "    </tr>\n",
       "    <tr>\n",
       "      <th>25%</th>\n",
       "      <td>4.217337e+13</td>\n",
       "      <td>528.200562</td>\n",
       "      <td>212.993264</td>\n",
       "      <td>2089.000000</td>\n",
       "      <td>0.000000</td>\n",
       "      <td>0.000000</td>\n",
       "      <td>93.252565</td>\n",
       "      <td>36.467500</td>\n",
       "      <td>67.371000</td>\n",
       "      <td>1250.358825</td>\n",
       "      <td>...</td>\n",
       "      <td>-102.254051</td>\n",
       "      <td>142036.500000</td>\n",
       "      <td>31.414950</td>\n",
       "      <td>-102.255215</td>\n",
       "      <td>44.865418</td>\n",
       "      <td>14.224450</td>\n",
       "      <td>33.000000</td>\n",
       "      <td>641.746799</td>\n",
       "      <td>2011.000000</td>\n",
       "      <td>4.000000</td>\n",
       "    </tr>\n",
       "    <tr>\n",
       "      <th>50%</th>\n",
       "      <td>4.230133e+13</td>\n",
       "      <td>1157.637700</td>\n",
       "      <td>1054.888000</td>\n",
       "      <td>5043.000000</td>\n",
       "      <td>0.000000</td>\n",
       "      <td>0.000000</td>\n",
       "      <td>363.306100</td>\n",
       "      <td>92.798000</td>\n",
       "      <td>245.713000</td>\n",
       "      <td>2379.901860</td>\n",
       "      <td>...</td>\n",
       "      <td>-101.822388</td>\n",
       "      <td>145332.000000</td>\n",
       "      <td>31.709166</td>\n",
       "      <td>-101.820896</td>\n",
       "      <td>115.696170</td>\n",
       "      <td>23.497067</td>\n",
       "      <td>51.000000</td>\n",
       "      <td>2312.166785</td>\n",
       "      <td>2014.000000</td>\n",
       "      <td>5.000000</td>\n",
       "    </tr>\n",
       "    <tr>\n",
       "      <th>75%</th>\n",
       "      <td>4.238336e+13</td>\n",
       "      <td>1598.367550</td>\n",
       "      <td>1587.353150</td>\n",
       "      <td>7622.000000</td>\n",
       "      <td>0.000000</td>\n",
       "      <td>0.000000</td>\n",
       "      <td>677.025604</td>\n",
       "      <td>167.217000</td>\n",
       "      <td>503.609500</td>\n",
       "      <td>4793.533650</td>\n",
       "      <td>...</td>\n",
       "      <td>-101.446261</td>\n",
       "      <td>148607.500000</td>\n",
       "      <td>32.078683</td>\n",
       "      <td>-101.445960</td>\n",
       "      <td>190.867501</td>\n",
       "      <td>42.053703</td>\n",
       "      <td>71.000000</td>\n",
       "      <td>4510.027640</td>\n",
       "      <td>2015.000000</td>\n",
       "      <td>5.000000</td>\n",
       "    </tr>\n",
       "    <tr>\n",
       "      <th>max</th>\n",
       "      <td>4.250137e+13</td>\n",
       "      <td>122666.664000</td>\n",
       "      <td>2997.879640</td>\n",
       "      <td>13581.000000</td>\n",
       "      <td>70.000000</td>\n",
       "      <td>68.000000</td>\n",
       "      <td>6118.757000</td>\n",
       "      <td>863.992000</td>\n",
       "      <td>4007.768000</td>\n",
       "      <td>19968.130000</td>\n",
       "      <td>...</td>\n",
       "      <td>-100.056346</td>\n",
       "      <td>157516.000000</td>\n",
       "      <td>33.714024</td>\n",
       "      <td>-100.056315</td>\n",
       "      <td>999.305470</td>\n",
       "      <td>997.824074</td>\n",
       "      <td>726.000000</td>\n",
       "      <td>inf</td>\n",
       "      <td>2018.000000</td>\n",
       "      <td>5.000000</td>\n",
       "    </tr>\n",
       "  </tbody>\n",
       "</table>\n",
       "<p>8 rows × 23 columns</p>\n",
       "</div>"
      ],
      "text/plain": [
       "              api14   proppant_ppf  frac_fluid_gpf   lateral_len  frac_stages  \\\n",
       "count  9.111000e+03    7901.000000     9111.000000   9111.000000  8617.000000   \n",
       "mean   4.220199e+13    1156.279041     1009.888433   5172.729777     2.906812   \n",
       "std    9.925261e+11    1538.448069      760.590435   3169.468670     8.989653   \n",
       "min    3.000528e+13       1.098097        0.015129      2.000000     0.000000   \n",
       "25%    4.217337e+13     528.200562      212.993264   2089.000000     0.000000   \n",
       "50%    4.230133e+13    1157.637700     1054.888000   5043.000000     0.000000   \n",
       "75%    4.238336e+13    1598.367550     1587.353150   7622.000000     0.000000   \n",
       "max    4.250137e+13  122666.664000     2997.879640  13581.000000    70.000000   \n",
       "\n",
       "       oil_gravity   peak_boepd     oil_hist     gas_hist      gor_hist  \\\n",
       "count  8871.000000  9111.000000  9111.000000  9111.000000   9111.000000   \n",
       "mean      1.765188   456.920233   114.086108   351.319162   3744.922869   \n",
       "std       8.968751   439.033570    98.094715   384.418922   3849.852441   \n",
       "min       0.000000     0.131508     0.026000     0.001000      0.201732   \n",
       "25%       0.000000    93.252565    36.467500    67.371000   1250.358825   \n",
       "50%       0.000000   363.306100    92.798000   245.713000   2379.901860   \n",
       "75%       0.000000   677.025604   167.217000   503.609500   4793.533650   \n",
       "max      68.000000  6118.757000   863.992000  4007.768000  19968.130000   \n",
       "\n",
       "          ...          sur_long        well_id  mid_point_lat  mid_point_long  \\\n",
       "count     ...       9111.000000    9111.000000    9111.000000     9111.000000   \n",
       "mean      ...       -101.987392  138611.010427      31.773551     -101.987553   \n",
       "std       ...          0.734190   19113.569930       0.534110        0.734224   \n",
       "min       ...       -104.340924   88946.000000      30.447167     -104.340768   \n",
       "25%       ...       -102.254051  142036.500000      31.414950     -102.255215   \n",
       "50%       ...       -101.822388  145332.000000      31.709166     -101.820896   \n",
       "75%       ...       -101.446261  148607.500000      32.078683     -101.445960   \n",
       "max       ...       -100.056346  157516.000000      33.714024     -100.056315   \n",
       "\n",
       "          recovery  recovery_per_foot  months_active  recovery_per_month  \\\n",
       "count  9111.000000        9111.000000    9111.000000         9111.000000   \n",
       "mean    144.982498          50.362981      70.498628                 inf   \n",
       "std     142.761965         100.043607      76.340453                 NaN   \n",
       "min       0.000000           0.000000       0.000000            0.000000   \n",
       "25%      44.865418          14.224450      33.000000          641.746799   \n",
       "50%     115.696170          23.497067      51.000000         2312.166785   \n",
       "75%     190.867501          42.053703      71.000000         4510.027640   \n",
       "max     999.305470         997.824074     726.000000                 inf   \n",
       "\n",
       "           vintage  vintage_bin  \n",
       "count  9111.000000  9111.000000  \n",
       "mean   2010.125672     4.348151  \n",
       "std       9.945555     0.882422  \n",
       "min    1958.000000     1.000000  \n",
       "25%    2011.000000     4.000000  \n",
       "50%    2014.000000     5.000000  \n",
       "75%    2015.000000     5.000000  \n",
       "max    2018.000000     5.000000  \n",
       "\n",
       "[8 rows x 23 columns]"
      ]
     },
     "execution_count": 9,
     "metadata": {},
     "output_type": "execute_result"
    }
   ],
   "source": [
    "df.describe()"
   ]
  },
  {
   "cell_type": "code",
   "execution_count": 10,
   "metadata": {},
   "outputs": [
    {
     "data": {
      "text/plain": [
       "37"
      ]
     },
     "execution_count": 10,
     "metadata": {},
     "output_type": "execute_result"
    }
   ],
   "source": [
    "len(df.columns) # 37 features"
   ]
  },
  {
   "cell_type": "markdown",
   "metadata": {},
   "source": [
    "## Standardize Numeric Data"
   ]
  },
  {
   "cell_type": "code",
   "execution_count": 11,
   "metadata": {},
   "outputs": [
    {
     "data": {
      "text/plain": [
       "Index(['api14', 'proppant_ppf', 'frac_fluid_gpf', 'lateral_len', 'frac_stages',\n",
       "       'oil_gravity', 'peak_boepd', 'oil_hist', 'gas_hist', 'gor_hist',\n",
       "       'ip90_boeqpd', 'landing_depth', 'sur_lat', 'sur_long', 'well_id',\n",
       "       'mid_point_lat', 'mid_point_long', 'recovery', 'recovery_per_foot',\n",
       "       'months_active', 'recovery_per_month', 'vintage', 'vintage_bin'],\n",
       "      dtype='object')"
      ]
     },
     "execution_count": 11,
     "metadata": {},
     "output_type": "execute_result"
    }
   ],
   "source": [
    "numerics = ['int64', 'float64']\n",
    "\n",
    "num_df = df.select_dtypes(include=numerics)\n",
    "num_df.columns"
   ]
  },
  {
   "cell_type": "code",
   "execution_count": 12,
   "metadata": {},
   "outputs": [
    {
     "data": {
      "text/plain": [
       "Index(['proppant_ppf', 'frac_fluid_gpf', 'lateral_len', 'frac_stages',\n",
       "       'oil_gravity', 'peak_boepd', 'gor_hist', 'ip90_boeqpd', 'months_active',\n",
       "       'vintage', 'vintage_bin'],\n",
       "      dtype='object')"
      ]
     },
     "execution_count": 12,
     "metadata": {},
     "output_type": "execute_result"
    }
   ],
   "source": [
    "num_df = num_df.drop(columns=['gas_hist', 'recovery', 'recovery_per_foot', \n",
    "                              'recovery_per_month', 'landing_depth', 'api14',\n",
    "                             'sur_long', 'sur_lat', 'mid_point_lat', 'mid_point_long',\n",
    "                             'well_id', 'oil_hist'])\n",
    "num_df.columns"
   ]
  },
  {
   "cell_type": "code",
   "execution_count": 13,
   "metadata": {},
   "outputs": [
    {
     "data": {
      "text/html": [
       "<div>\n",
       "<style scoped>\n",
       "    .dataframe tbody tr th:only-of-type {\n",
       "        vertical-align: middle;\n",
       "    }\n",
       "\n",
       "    .dataframe tbody tr th {\n",
       "        vertical-align: top;\n",
       "    }\n",
       "\n",
       "    .dataframe thead th {\n",
       "        text-align: right;\n",
       "    }\n",
       "</style>\n",
       "<table border=\"1\" class=\"dataframe\">\n",
       "  <thead>\n",
       "    <tr style=\"text-align: right;\">\n",
       "      <th></th>\n",
       "      <th>proppant_ppf</th>\n",
       "      <th>frac_fluid_gpf</th>\n",
       "      <th>lateral_len</th>\n",
       "      <th>frac_stages</th>\n",
       "      <th>oil_gravity</th>\n",
       "      <th>peak_boepd</th>\n",
       "      <th>gor_hist</th>\n",
       "      <th>ip90_boeqpd</th>\n",
       "      <th>months_active</th>\n",
       "      <th>vintage</th>\n",
       "      <th>vintage_bin</th>\n",
       "    </tr>\n",
       "  </thead>\n",
       "  <tbody>\n",
       "    <tr>\n",
       "      <th>8</th>\n",
       "      <td>0.001732</td>\n",
       "      <td>0.003263</td>\n",
       "      <td>0.366816</td>\n",
       "      <td>0.000000</td>\n",
       "      <td>NaN</td>\n",
       "      <td>0.030021</td>\n",
       "      <td>0.071056</td>\n",
       "      <td>0.022445</td>\n",
       "      <td>0.132231</td>\n",
       "      <td>0.883333</td>\n",
       "      <td>4</td>\n",
       "    </tr>\n",
       "    <tr>\n",
       "      <th>9</th>\n",
       "      <td>0.002055</td>\n",
       "      <td>0.092850</td>\n",
       "      <td>0.382576</td>\n",
       "      <td>0.142857</td>\n",
       "      <td>NaN</td>\n",
       "      <td>0.043365</td>\n",
       "      <td>0.080773</td>\n",
       "      <td>0.016353</td>\n",
       "      <td>0.148760</td>\n",
       "      <td>0.866667</td>\n",
       "      <td>4</td>\n",
       "    </tr>\n",
       "    <tr>\n",
       "      <th>10</th>\n",
       "      <td>0.002709</td>\n",
       "      <td>0.106878</td>\n",
       "      <td>0.349289</td>\n",
       "      <td>0.000000</td>\n",
       "      <td>NaN</td>\n",
       "      <td>0.028122</td>\n",
       "      <td>0.087333</td>\n",
       "      <td>0.024103</td>\n",
       "      <td>0.136364</td>\n",
       "      <td>0.866667</td>\n",
       "      <td>4</td>\n",
       "    </tr>\n",
       "    <tr>\n",
       "      <th>11</th>\n",
       "      <td>0.008440</td>\n",
       "      <td>0.298529</td>\n",
       "      <td>0.284925</td>\n",
       "      <td>0.000000</td>\n",
       "      <td>NaN</td>\n",
       "      <td>0.005380</td>\n",
       "      <td>0.032051</td>\n",
       "      <td>0.003225</td>\n",
       "      <td>0.128099</td>\n",
       "      <td>0.866667</td>\n",
       "      <td>4</td>\n",
       "    </tr>\n",
       "    <tr>\n",
       "      <th>12</th>\n",
       "      <td>0.003216</td>\n",
       "      <td>0.104577</td>\n",
       "      <td>0.278445</td>\n",
       "      <td>0.157143</td>\n",
       "      <td>NaN</td>\n",
       "      <td>0.062559</td>\n",
       "      <td>0.065718</td>\n",
       "      <td>0.074228</td>\n",
       "      <td>0.150138</td>\n",
       "      <td>0.866667</td>\n",
       "      <td>4</td>\n",
       "    </tr>\n",
       "  </tbody>\n",
       "</table>\n",
       "</div>"
      ],
      "text/plain": [
       "    proppant_ppf  frac_fluid_gpf  lateral_len  frac_stages  oil_gravity  \\\n",
       "8       0.001732        0.003263     0.366816     0.000000          NaN   \n",
       "9       0.002055        0.092850     0.382576     0.142857          NaN   \n",
       "10      0.002709        0.106878     0.349289     0.000000          NaN   \n",
       "11      0.008440        0.298529     0.284925     0.000000          NaN   \n",
       "12      0.003216        0.104577     0.278445     0.157143          NaN   \n",
       "\n",
       "    peak_boepd  gor_hist  ip90_boeqpd  months_active   vintage  vintage_bin  \n",
       "8     0.030021  0.071056     0.022445       0.132231  0.883333            4  \n",
       "9     0.043365  0.080773     0.016353       0.148760  0.866667            4  \n",
       "10    0.028122  0.087333     0.024103       0.136364  0.866667            4  \n",
       "11    0.005380  0.032051     0.003225       0.128099  0.866667            4  \n",
       "12    0.062559  0.065718     0.074228       0.150138  0.866667            4  "
      ]
     },
     "execution_count": 13,
     "metadata": {},
     "output_type": "execute_result"
    }
   ],
   "source": [
    "scaled_df = num_df.copy()\n",
    "scaled_df['proppant_ppf'] = (scaled_df.proppant_ppf - scaled_df.proppant_ppf.min()) / (scaled_df.proppant_ppf.max() - scaled_df.proppant_ppf.min())\n",
    "scaled_df['frac_fluid_gpf'] = (scaled_df.frac_fluid_gpf - scaled_df.frac_fluid_gpf.min()) / (scaled_df.frac_fluid_gpf.max() - scaled_df.frac_fluid_gpf.min())\n",
    "scaled_df['lateral_len'] = (scaled_df.lateral_len - scaled_df.lateral_len.min()) / (scaled_df.lateral_len.max() - scaled_df.lateral_len.min())\n",
    "scaled_df['frac_stages'] = (scaled_df.frac_stages - scaled_df.frac_stages.min()) / (scaled_df.frac_stages.max() - scaled_df.frac_stages.min())\n",
    "scaled_df['oil_gravity'] = (scaled_df.oil_gravity - scaled_df.oil_gravity.min()) / (scaled_df.oil_gravity.max() - scaled_df.oil_gravity.min())\n",
    "scaled_df['peak_boepd'] = (scaled_df.peak_boepd - scaled_df.peak_boepd.min()) / (scaled_df.peak_boepd.max() - scaled_df.peak_boepd.min())\n",
    "#scaled_df['oil_hist'] = (scaled_df.oil_hist - scaled_df.oil_hist.min()) / (scaled_df.oil_hist.max() - scaled_df.oil_hist.min())\n",
    "scaled_df['gor_hist'] = (scaled_df.gor_hist - scaled_df.gor_hist.min()) / (scaled_df.gor_hist.max() - scaled_df.gor_hist.min())\n",
    "scaled_df['ip90_boeqpd'] = (scaled_df.ip90_boeqpd - scaled_df.ip90_boeqpd.min()) / (scaled_df.ip90_boeqpd.max() - scaled_df.ip90_boeqpd.min())\n",
    "scaled_df['months_active'] = (scaled_df.months_active - scaled_df.months_active.min()) / (scaled_df.months_active.max() - scaled_df.months_active.min())\n",
    "scaled_df['vintage'] = (scaled_df.vintage - scaled_df.vintage.min()) / (scaled_df.vintage.max() - scaled_df.vintage.min())\n",
    "scaled_df.head()"
   ]
  },
  {
   "cell_type": "code",
   "execution_count": 14,
   "metadata": {},
   "outputs": [],
   "source": [
    "xgb_df = scaled_df.copy()"
   ]
  },
  {
   "cell_type": "markdown",
   "metadata": {},
   "source": [
    "## Visualize Data"
   ]
  },
  {
   "cell_type": "markdown",
   "metadata": {},
   "source": [
    "### Attribute Histograms"
   ]
  },
  {
   "cell_type": "markdown",
   "metadata": {},
   "source": [
    "#### XGBoost Feature Recommender"
   ]
  },
  {
   "cell_type": "code",
   "execution_count": 15,
   "metadata": {},
   "outputs": [
    {
     "data": {
      "image/png": "[encoded data removed]",
      "text/plain": [
       "<Figure size 864x576 with 1 Axes>"
      ]
     },
     "metadata": {
      "needs_background": "light"
     },
     "output_type": "display_data"
    }
   ],
   "source": [
    "xgb_params = {\n",
    "    'max_depth': 8,\n",
    "    'seed' : 493\n",
    "}\n",
    "dtrain = xgb.DMatrix(xgb_df, df.oil_hist, feature_names=xgb_df.columns.values)\n",
    "model = xgb.train(dict(xgb_params, silent=0), dtrain, num_boost_round=50)\n",
    "\n",
    "# plot the important features #\n",
    "fig, ax = plt.subplots(figsize=(12,8))\n",
    "xgb.plot_importance(model, max_num_features=50, height=0.8, ax=ax)\n",
    "plt.show()"
   ]
  },
  {
   "cell_type": "markdown",
   "metadata": {},
   "source": [
    "####  PCA (Principal Component Analysis) Feature Recommender"
   ]
  },
  {
   "cell_type": "code",
   "execution_count": null,
   "metadata": {},
   "outputs": [],
   "source": []
  },
  {
   "cell_type": "code",
   "execution_count": null,
   "metadata": {},
   "outputs": [],
   "source": []
  },
  {
   "cell_type": "code",
   "execution_count": null,
   "metadata": {},
   "outputs": [],
   "source": []
  },
  {
   "cell_type": "markdown",
   "metadata": {},
   "source": [
    "### Pairwise Scatterplots of Attributes"
   ]
  },
  {
   "cell_type": "code",
   "execution_count": null,
   "metadata": {},
   "outputs": [],
   "source": []
  },
  {
   "cell_type": "code",
   "execution_count": null,
   "metadata": {},
   "outputs": [],
   "source": []
  }
 ],
 "metadata": {
  "kernelspec": {
   "display_name": "Python 3",
   "language": "python",
   "name": "python3"
  },
  "language_info": {
   "codemirror_mode": {
    "name": "ipython",
    "version": 3
   },
   "file_extension": ".py",
   "mimetype": "text/x-python",
   "name": "python",
   "nbconvert_exporter": "python",
   "pygments_lexer": "ipython3",
   "version": "3.7.1"
  }
 },
 "nbformat": 4,
 "nbformat_minor": 2
}
