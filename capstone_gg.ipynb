{
 "cells": [
  {
   "cell_type": "markdown",
   "metadata": {},
   "source": [
    "# Analyze Data"
   ]
  },
  {
   "cell_type": "markdown",
   "metadata": {},
   "source": [
    "## Summarize Data"
   ]
  },
  {
   "cell_type": "code",
   "execution_count": 1,
   "metadata": {},
   "outputs": [],
   "source": [
    "# ignore warnings\n",
    "import warnings\n",
    "warnings.filterwarnings(\"ignore\")\n",
    "\n",
    "# Wrangling\n",
    "from acquire_prepare import acquire_oil\n",
    "from acquire_prepare import prep_data\n",
    "import numpy as np\n",
    "import pandas as pd\n",
    "\n",
    "# Visualizing\n",
    "%matplotlib inline\n",
    "import matplotlib.pyplot as plt\n",
    "import sys # used in command to make entire array print by default\n",
    "import seaborn as sns\n",
    "from scipy.stats import iqr\n",
    "\n",
    "# Modeling\n",
    "from sklearn.preprocessing import LabelEncoder\n",
    "from sklearn.preprocessing import MinMaxScaler\n",
    "from scipy import stats\n",
    "import statsmodels.api as sm\n",
    "from sklearn.model_selection import train_test_split\n",
    "\n",
    "\n",
    "from acquire_prepare import acquire_oil\n",
    "from acquire_prepare import prep_data\n",
    "from explore import xgb_rank\n"
   ]
  },
  {
   "cell_type": "code",
   "execution_count": 2,
   "metadata": {},
   "outputs": [],
   "source": [
    "df = acquire_oil()\n",
    "df = prep_data(df,'midland')"
   ]
  },
  {
   "cell_type": "markdown",
   "metadata": {},
   "source": [
    "### Data Structure"
   ]
  },
  {
   "cell_type": "code",
   "execution_count": 3,
   "metadata": {},
   "outputs": [
    {
     "data": {
      "text/plain": [
       "(6164, 61)"
      ]
     },
     "execution_count": 3,
     "metadata": {},
     "output_type": "execute_result"
    }
   ],
   "source": [
    "df.shape"
   ]
  },
  {
   "cell_type": "markdown",
   "metadata": {},
   "source": [
    "## Visualize Data"
   ]
  },
  {
   "cell_type": "code",
   "execution_count": 4,
   "metadata": {},
   "outputs": [],
   "source": [
    "# df.head(3).T"
   ]
  },
  {
   "cell_type": "markdown",
   "metadata": {},
   "source": [
    "### Attribute Histograms"
   ]
  },
  {
   "cell_type": "code",
   "execution_count": 5,
   "metadata": {
    "scrolled": true
   },
   "outputs": [],
   "source": [
    "# plot the important features #\n",
    "# fig, ax = plt.subplots(figsize=(12,8))\n",
    "# xgb.plot_importance(model, max_num_features=50, height=0.8, ax=ax)\n",
    "# plt.show()"
   ]
  },
  {
   "cell_type": "code",
   "execution_count": 6,
   "metadata": {},
   "outputs": [
    {
     "name": "stdout",
     "output_type": "stream",
     "text": [
      "            feature          gain\n",
      "0         direction      0.005660\n",
      "1   frac_fluid_type      1.729102\n",
      "2         formation      1.917078\n",
      "3    frac_fluid_gpf      3.352885\n",
      "4       frac_stages      3.373000\n",
      "5      proppant_ppf      3.430897\n",
      "6            county      3.477499\n",
      "7          gor_hist      4.059082\n",
      "8               tvd      4.977039\n",
      "9     lateral_class      5.178928\n",
      "10             oper      5.646881\n",
      "11      gross_perfs      5.876164\n",
      "12    mid_point_lat      5.921427\n",
      "13          vintage      8.187249\n",
      "14   mid_point_long     12.314726\n",
      "15      oil_gravity     16.250407\n",
      "16         recovery  99731.485704\n"
     ]
    },
    {
     "data": {
      "text/html": [
       "<div>\n",
       "<style scoped>\n",
       "    .dataframe tbody tr th:only-of-type {\n",
       "        vertical-align: middle;\n",
       "    }\n",
       "\n",
       "    .dataframe tbody tr th {\n",
       "        vertical-align: top;\n",
       "    }\n",
       "\n",
       "    .dataframe thead th {\n",
       "        text-align: right;\n",
       "    }\n",
       "</style>\n",
       "<table border=\"1\" class=\"dataframe\">\n",
       "  <thead>\n",
       "    <tr style=\"text-align: right;\">\n",
       "      <th></th>\n",
       "      <th>rank</th>\n",
       "      <th>feature</th>\n",
       "      <th>gain</th>\n",
       "      <th>cum_sum</th>\n",
       "      <th>cum_perc</th>\n",
       "    </tr>\n",
       "  </thead>\n",
       "  <tbody>\n",
       "    <tr>\n",
       "      <th>0</th>\n",
       "      <td>1.0</td>\n",
       "      <td>recovery</td>\n",
       "      <td>99731.49</td>\n",
       "      <td>99731.49</td>\n",
       "      <td>99.91</td>\n",
       "    </tr>\n",
       "    <tr>\n",
       "      <th>1</th>\n",
       "      <td>2.0</td>\n",
       "      <td>oil_gravity</td>\n",
       "      <td>16.25</td>\n",
       "      <td>99747.74</td>\n",
       "      <td>99.93</td>\n",
       "    </tr>\n",
       "    <tr>\n",
       "      <th>2</th>\n",
       "      <td>3.0</td>\n",
       "      <td>mid_point_long</td>\n",
       "      <td>12.31</td>\n",
       "      <td>99760.05</td>\n",
       "      <td>99.94</td>\n",
       "    </tr>\n",
       "    <tr>\n",
       "      <th>3</th>\n",
       "      <td>4.0</td>\n",
       "      <td>vintage</td>\n",
       "      <td>8.19</td>\n",
       "      <td>99768.24</td>\n",
       "      <td>99.95</td>\n",
       "    </tr>\n",
       "    <tr>\n",
       "      <th>4</th>\n",
       "      <td>5.0</td>\n",
       "      <td>mid_point_lat</td>\n",
       "      <td>5.92</td>\n",
       "      <td>99774.16</td>\n",
       "      <td>99.96</td>\n",
       "    </tr>\n",
       "    <tr>\n",
       "      <th>5</th>\n",
       "      <td>6.0</td>\n",
       "      <td>gross_perfs</td>\n",
       "      <td>5.88</td>\n",
       "      <td>99780.04</td>\n",
       "      <td>99.96</td>\n",
       "    </tr>\n",
       "    <tr>\n",
       "      <th>6</th>\n",
       "      <td>7.0</td>\n",
       "      <td>oper</td>\n",
       "      <td>5.65</td>\n",
       "      <td>99785.69</td>\n",
       "      <td>99.97</td>\n",
       "    </tr>\n",
       "    <tr>\n",
       "      <th>7</th>\n",
       "      <td>8.0</td>\n",
       "      <td>lateral_class</td>\n",
       "      <td>5.18</td>\n",
       "      <td>99790.87</td>\n",
       "      <td>99.97</td>\n",
       "    </tr>\n",
       "    <tr>\n",
       "      <th>8</th>\n",
       "      <td>9.0</td>\n",
       "      <td>tvd</td>\n",
       "      <td>4.98</td>\n",
       "      <td>99795.85</td>\n",
       "      <td>99.98</td>\n",
       "    </tr>\n",
       "    <tr>\n",
       "      <th>9</th>\n",
       "      <td>10.0</td>\n",
       "      <td>gor_hist</td>\n",
       "      <td>4.06</td>\n",
       "      <td>99799.91</td>\n",
       "      <td>99.98</td>\n",
       "    </tr>\n",
       "    <tr>\n",
       "      <th>10</th>\n",
       "      <td>11.0</td>\n",
       "      <td>county</td>\n",
       "      <td>3.48</td>\n",
       "      <td>99803.39</td>\n",
       "      <td>99.99</td>\n",
       "    </tr>\n",
       "    <tr>\n",
       "      <th>11</th>\n",
       "      <td>12.0</td>\n",
       "      <td>proppant_ppf</td>\n",
       "      <td>3.43</td>\n",
       "      <td>99806.82</td>\n",
       "      <td>99.99</td>\n",
       "    </tr>\n",
       "    <tr>\n",
       "      <th>12</th>\n",
       "      <td>13.0</td>\n",
       "      <td>frac_stages</td>\n",
       "      <td>3.37</td>\n",
       "      <td>99810.19</td>\n",
       "      <td>99.99</td>\n",
       "    </tr>\n",
       "    <tr>\n",
       "      <th>13</th>\n",
       "      <td>14.0</td>\n",
       "      <td>frac_fluid_gpf</td>\n",
       "      <td>3.35</td>\n",
       "      <td>99813.54</td>\n",
       "      <td>100.00</td>\n",
       "    </tr>\n",
       "    <tr>\n",
       "      <th>14</th>\n",
       "      <td>15.0</td>\n",
       "      <td>formation</td>\n",
       "      <td>1.92</td>\n",
       "      <td>99815.46</td>\n",
       "      <td>100.00</td>\n",
       "    </tr>\n",
       "    <tr>\n",
       "      <th>15</th>\n",
       "      <td>16.0</td>\n",
       "      <td>frac_fluid_type</td>\n",
       "      <td>1.73</td>\n",
       "      <td>99817.19</td>\n",
       "      <td>100.00</td>\n",
       "    </tr>\n",
       "    <tr>\n",
       "      <th>16</th>\n",
       "      <td>17.0</td>\n",
       "      <td>direction</td>\n",
       "      <td>0.01</td>\n",
       "      <td>99817.20</td>\n",
       "      <td>100.00</td>\n",
       "    </tr>\n",
       "  </tbody>\n",
       "</table>\n",
       "</div>"
      ],
      "text/plain": [
       "    rank          feature      gain   cum_sum  cum_perc\n",
       "0    1.0         recovery  99731.49  99731.49     99.91\n",
       "1    2.0      oil_gravity     16.25  99747.74     99.93\n",
       "2    3.0   mid_point_long     12.31  99760.05     99.94\n",
       "3    4.0          vintage      8.19  99768.24     99.95\n",
       "4    5.0    mid_point_lat      5.92  99774.16     99.96\n",
       "5    6.0      gross_perfs      5.88  99780.04     99.96\n",
       "6    7.0             oper      5.65  99785.69     99.97\n",
       "7    8.0    lateral_class      5.18  99790.87     99.97\n",
       "8    9.0              tvd      4.98  99795.85     99.98\n",
       "9   10.0         gor_hist      4.06  99799.91     99.98\n",
       "10  11.0           county      3.48  99803.39     99.99\n",
       "11  12.0     proppant_ppf      3.43  99806.82     99.99\n",
       "12  13.0      frac_stages      3.37  99810.19     99.99\n",
       "13  14.0   frac_fluid_gpf      3.35  99813.54    100.00\n",
       "14  15.0        formation      1.92  99815.46    100.00\n",
       "15  16.0  frac_fluid_type      1.73  99817.19    100.00\n",
       "16  17.0        direction      0.01  99817.20    100.00"
      ]
     },
     "execution_count": 6,
     "metadata": {},
     "output_type": "execute_result"
    }
   ],
   "source": [
    "ranked_features, rank_df = xgb_rank(df, df.recovery)\n",
    "rank_df"
   ]
  },
  {
   "cell_type": "code",
   "execution_count": null,
   "metadata": {},
   "outputs": [],
   "source": [
    "ranked_features"
   ]
  },
  {
   "cell_type": "code",
   "execution_count": null,
   "metadata": {},
   "outputs": [],
   "source": []
  },
  {
   "cell_type": "code",
   "execution_count": null,
   "metadata": {},
   "outputs": [],
   "source": []
  },
  {
   "cell_type": "code",
   "execution_count": null,
   "metadata": {},
   "outputs": [],
   "source": []
  }
 ],
 "metadata": {
  "kernelspec": {
   "display_name": "Python 3",
   "language": "python",
   "name": "python3"
  },
  "language_info": {
   "codemirror_mode": {
    "name": "ipython",
    "version": 3
   },
   "file_extension": ".py",
   "mimetype": "text/x-python",
   "name": "python",
   "nbconvert_exporter": "python",
   "pygments_lexer": "ipython3",
   "version": "3.7.1"
  }
 },
 "nbformat": 4,
 "nbformat_minor": 2
}
