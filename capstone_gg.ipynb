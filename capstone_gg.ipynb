{
 "cells": [
  {
   "cell_type": "markdown",
   "metadata": {},
   "source": [
    "# Analyze Data"
   ]
  },
  {
   "cell_type": "markdown",
   "metadata": {},
   "source": [
    "## Summarize Data"
   ]
  },
  {
   "cell_type": "code",
   "execution_count": 1,
   "metadata": {},
   "outputs": [],
   "source": [
    "# ignore warnings\n",
    "import warnings\n",
    "warnings.filterwarnings(\"ignore\")\n",
    "\n",
    "# Wrangling\n",
    "from acquire_prepare import acquire_oil\n",
    "from acquire_prepare import prep_data\n",
    "import numpy as np\n",
    "import pandas as pd\n",
    "\n",
    "# Visualizing\n",
    "%matplotlib inline\n",
    "import matplotlib.pyplot as plt\n",
    "import sys # used in command to make entire array print by default\n",
    "import seaborn as sns\n",
    "from scipy.stats import iqr\n",
    "\n",
    "# Modeling\n",
    "from sklearn.preprocessing import LabelEncoder\n",
    "from sklearn.preprocessing import MinMaxScaler\n",
    "from scipy import stats\n",
    "import statsmodels.api as sm\n",
    "from sklearn.model_selection import train_test_split\n",
    "\n",
    "\n",
    "from acquire_prepare import acquire_oil\n",
    "from acquire_prepare import prep_data\n",
    "from model import get_scaled_df\n",
    "import xgboost as xgb\n",
    "from explore import xgb_rank\n"
   ]
  },
  {
   "cell_type": "code",
   "execution_count": 2,
   "metadata": {},
   "outputs": [],
   "source": [
    "df = acquire_oil()\n",
    "df = prep_data(df,'midland')"
   ]
  },
  {
   "cell_type": "markdown",
   "metadata": {},
   "source": [
    "### Data Structure"
   ]
  },
  {
   "cell_type": "code",
   "execution_count": 3,
   "metadata": {},
   "outputs": [
    {
     "data": {
      "text/plain": [
       "(6164, 61)"
      ]
     },
     "execution_count": 3,
     "metadata": {},
     "output_type": "execute_result"
    }
   ],
   "source": [
    "df.shape"
   ]
  },
  {
   "cell_type": "markdown",
   "metadata": {},
   "source": [
    "## Visualize Data"
   ]
  },
  {
   "cell_type": "code",
   "execution_count": 4,
   "metadata": {},
   "outputs": [],
   "source": [
    "# df.head(3).T"
   ]
  },
  {
   "cell_type": "markdown",
   "metadata": {},
   "source": [
    "### Attribute Histograms"
   ]
  },
  {
   "cell_type": "code",
   "execution_count": 5,
   "metadata": {},
   "outputs": [],
   "source": [
    "# ranked_features = xgb_rank(df, df.recovery)\n",
    "# ranked_features"
   ]
  },
  {
   "cell_type": "code",
   "execution_count": 6,
   "metadata": {},
   "outputs": [],
   "source": [
    "def xg_rank(df,target_variable,feature_percent=80,mode='gain'):\n",
    "    # ''' pass it the dataframe and the target variable,  returns a sorted list \n",
    "    #      decending order \n",
    "    # '''\n",
    "    scaled_df = get_scaled_df(df)  \n",
    "    scaled_columns = scaled_df.columns.values.tolist()\n",
    "    xgb_params = {'max_depth': 8,'seed' : 123}\n",
    "    dtrain = xgb.DMatrix(scaled_df, target_variable, feature_names=scaled_df.columns.values)\n",
    "    model = xgb.train(dict(xgb_params, silent=0), dtrain, num_boost_round=50)\n",
    "    importance_dict = model.get_score(importance_type=mode)\n",
    "    sorted_importance_dict = sorted(importance_dict.items(), key=lambda kv: kv[1])\n",
    "    importance_df = pd.DataFrame.from_dict(sorted_importance_dict)\n",
    "    importance_df.columns = ['feature',mode]   \n",
    "    importance_df.sort_values(mode, inplace = True) \n",
    "    importance_df['rank'] = importance_df[mode].rank(ascending = False)\n",
    "    importance_df.sort_values('rank', inplace = True) \n",
    "    importance_df.set_index('rank', inplace = True)\n",
    "    importance_df[mode] = importance_df[mode].apply(lambda x: round(x, 2))\n",
    "    importance_df['cum_sum'] = round(importance_df[mode].cumsum(),2)\n",
    "    importance_df['cum_perc'] = round(100*importance_df.cum_sum/importance_df[mode].sum(),2)\n",
    "    importance_df.reset_index(inplace=True) \n",
    "    feature_list =[] \n",
    "    for i in range((importance_df.shape[0])): \n",
    "        feature_name = importance_df.iloc[i,1].replace('scaled_','')\n",
    "        importance_df.iloc[i,1] = feature_name\n",
    "        cum_percent = importance_df.iloc[i,4]\n",
    "        if cum_percent > feature_percent:\n",
    "            break\n",
    "        else:\n",
    "            feature_list.append(feature_name)\n",
    "    return feature_list, importance_df\n",
    "    "
   ]
  },
  {
   "cell_type": "code",
   "execution_count": 7,
   "metadata": {
    "scrolled": true
   },
   "outputs": [],
   "source": [
    "# plot the important features #\n",
    "# fig, ax = plt.subplots(figsize=(12,8))\n",
    "# xgb.plot_importance(model, max_num_features=50, height=0.8, ax=ax)\n",
    "# plt.show()"
   ]
  },
  {
   "cell_type": "code",
   "execution_count": 8,
   "metadata": {},
   "outputs": [
    {
     "data": {
      "text/html": [
       "<div>\n",
       "<style scoped>\n",
       "    .dataframe tbody tr th:only-of-type {\n",
       "        vertical-align: middle;\n",
       "    }\n",
       "\n",
       "    .dataframe tbody tr th {\n",
       "        vertical-align: top;\n",
       "    }\n",
       "\n",
       "    .dataframe thead th {\n",
       "        text-align: right;\n",
       "    }\n",
       "</style>\n",
       "<table border=\"1\" class=\"dataframe\">\n",
       "  <thead>\n",
       "    <tr style=\"text-align: right;\">\n",
       "      <th></th>\n",
       "      <th>rank</th>\n",
       "      <th>feature</th>\n",
       "      <th>gain</th>\n",
       "      <th>cum_sum</th>\n",
       "      <th>cum_perc</th>\n",
       "    </tr>\n",
       "  </thead>\n",
       "  <tbody>\n",
       "    <tr>\n",
       "      <th>0</th>\n",
       "      <td>1.0</td>\n",
       "      <td>oil_gravity</td>\n",
       "      <td>233693.05</td>\n",
       "      <td>233693.05</td>\n",
       "      <td>35.25</td>\n",
       "    </tr>\n",
       "    <tr>\n",
       "      <th>1</th>\n",
       "      <td>2.0</td>\n",
       "      <td>gross_perfs</td>\n",
       "      <td>102573.63</td>\n",
       "      <td>336266.68</td>\n",
       "      <td>50.72</td>\n",
       "    </tr>\n",
       "    <tr>\n",
       "      <th>2</th>\n",
       "      <td>3.0</td>\n",
       "      <td>vintage</td>\n",
       "      <td>60778.02</td>\n",
       "      <td>397044.70</td>\n",
       "      <td>59.89</td>\n",
       "    </tr>\n",
       "    <tr>\n",
       "      <th>3</th>\n",
       "      <td>4.0</td>\n",
       "      <td>mid_point_lat</td>\n",
       "      <td>47585.85</td>\n",
       "      <td>444630.55</td>\n",
       "      <td>67.07</td>\n",
       "    </tr>\n",
       "    <tr>\n",
       "      <th>4</th>\n",
       "      <td>5.0</td>\n",
       "      <td>formation</td>\n",
       "      <td>35792.27</td>\n",
       "      <td>480422.82</td>\n",
       "      <td>72.47</td>\n",
       "    </tr>\n",
       "    <tr>\n",
       "      <th>5</th>\n",
       "      <td>6.0</td>\n",
       "      <td>tvd</td>\n",
       "      <td>27356.87</td>\n",
       "      <td>507779.69</td>\n",
       "      <td>76.60</td>\n",
       "    </tr>\n",
       "    <tr>\n",
       "      <th>6</th>\n",
       "      <td>7.0</td>\n",
       "      <td>mid_point_long</td>\n",
       "      <td>26853.97</td>\n",
       "      <td>534633.66</td>\n",
       "      <td>80.65</td>\n",
       "    </tr>\n",
       "    <tr>\n",
       "      <th>7</th>\n",
       "      <td>8.0</td>\n",
       "      <td>scaled_frac_fluid_gpf</td>\n",
       "      <td>20685.47</td>\n",
       "      <td>555319.13</td>\n",
       "      <td>83.77</td>\n",
       "    </tr>\n",
       "    <tr>\n",
       "      <th>8</th>\n",
       "      <td>9.0</td>\n",
       "      <td>scaled_oper</td>\n",
       "      <td>18859.56</td>\n",
       "      <td>574178.69</td>\n",
       "      <td>86.61</td>\n",
       "    </tr>\n",
       "    <tr>\n",
       "      <th>9</th>\n",
       "      <td>10.0</td>\n",
       "      <td>scaled_gor_hist</td>\n",
       "      <td>17617.17</td>\n",
       "      <td>591795.86</td>\n",
       "      <td>89.27</td>\n",
       "    </tr>\n",
       "    <tr>\n",
       "      <th>10</th>\n",
       "      <td>11.0</td>\n",
       "      <td>scaled_frac_stages</td>\n",
       "      <td>16923.74</td>\n",
       "      <td>608719.60</td>\n",
       "      <td>91.82</td>\n",
       "    </tr>\n",
       "    <tr>\n",
       "      <th>11</th>\n",
       "      <td>12.0</td>\n",
       "      <td>scaled_county</td>\n",
       "      <td>16644.41</td>\n",
       "      <td>625364.01</td>\n",
       "      <td>94.33</td>\n",
       "    </tr>\n",
       "    <tr>\n",
       "      <th>12</th>\n",
       "      <td>13.0</td>\n",
       "      <td>scaled_proppant_ppf</td>\n",
       "      <td>16082.18</td>\n",
       "      <td>641446.19</td>\n",
       "      <td>96.76</td>\n",
       "    </tr>\n",
       "    <tr>\n",
       "      <th>13</th>\n",
       "      <td>14.0</td>\n",
       "      <td>scaled_frac_fluid_type</td>\n",
       "      <td>9654.14</td>\n",
       "      <td>651100.33</td>\n",
       "      <td>98.22</td>\n",
       "    </tr>\n",
       "    <tr>\n",
       "      <th>14</th>\n",
       "      <td>15.0</td>\n",
       "      <td>scaled_lateral_class</td>\n",
       "      <td>8818.90</td>\n",
       "      <td>659919.23</td>\n",
       "      <td>99.55</td>\n",
       "    </tr>\n",
       "    <tr>\n",
       "      <th>15</th>\n",
       "      <td>16.0</td>\n",
       "      <td>scaled_direction</td>\n",
       "      <td>3011.49</td>\n",
       "      <td>662930.72</td>\n",
       "      <td>100.00</td>\n",
       "    </tr>\n",
       "  </tbody>\n",
       "</table>\n",
       "</div>"
      ],
      "text/plain": [
       "    rank                 feature       gain    cum_sum  cum_perc\n",
       "0    1.0             oil_gravity  233693.05  233693.05     35.25\n",
       "1    2.0             gross_perfs  102573.63  336266.68     50.72\n",
       "2    3.0                 vintage   60778.02  397044.70     59.89\n",
       "3    4.0           mid_point_lat   47585.85  444630.55     67.07\n",
       "4    5.0               formation   35792.27  480422.82     72.47\n",
       "5    6.0                     tvd   27356.87  507779.69     76.60\n",
       "6    7.0          mid_point_long   26853.97  534633.66     80.65\n",
       "7    8.0   scaled_frac_fluid_gpf   20685.47  555319.13     83.77\n",
       "8    9.0             scaled_oper   18859.56  574178.69     86.61\n",
       "9   10.0         scaled_gor_hist   17617.17  591795.86     89.27\n",
       "10  11.0      scaled_frac_stages   16923.74  608719.60     91.82\n",
       "11  12.0           scaled_county   16644.41  625364.01     94.33\n",
       "12  13.0     scaled_proppant_ppf   16082.18  641446.19     96.76\n",
       "13  14.0  scaled_frac_fluid_type    9654.14  651100.33     98.22\n",
       "14  15.0    scaled_lateral_class    8818.90  659919.23     99.55\n",
       "15  16.0        scaled_direction    3011.49  662930.72    100.00"
      ]
     },
     "execution_count": 8,
     "metadata": {},
     "output_type": "execute_result"
    }
   ],
   "source": [
    "ranked_features, rank_df = xgb_rank(df, df.recovery)\n",
    "rank_df"
   ]
  },
  {
   "cell_type": "code",
   "execution_count": 9,
   "metadata": {},
   "outputs": [
    {
     "data": {
      "text/plain": [
       "['oil_gravity', 'gross_perfs', 'vintage', 'mid_point_lat', 'formation', 'tvd']"
      ]
     },
     "execution_count": 9,
     "metadata": {},
     "output_type": "execute_result"
    }
   ],
   "source": [
    "ranked_features"
   ]
  },
  {
   "cell_type": "code",
   "execution_count": null,
   "metadata": {},
   "outputs": [],
   "source": []
  },
  {
   "cell_type": "code",
   "execution_count": null,
   "metadata": {},
   "outputs": [],
   "source": []
  }
 ],
 "metadata": {
  "kernelspec": {
   "display_name": "Python 3",
   "language": "python",
   "name": "python3"
  },
  "language_info": {
   "codemirror_mode": {
    "name": "ipython",
    "version": 3
   },
   "file_extension": ".py",
   "mimetype": "text/x-python",
   "name": "python",
   "nbconvert_exporter": "python",
   "pygments_lexer": "ipython3",
   "version": "3.7.1"
  }
 },
 "nbformat": 4,
 "nbformat_minor": 2
}
