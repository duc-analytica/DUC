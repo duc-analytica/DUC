{
 "cells": [
  {
   "cell_type": "code",
   "execution_count": 1,
   "metadata": {},
   "outputs": [],
   "source": [
    "# ignore warnings\n",
    "import warnings\n",
    "warnings.filterwarnings(\"ignore\")\n",
    "\n",
    "# Wrangling\n",
    "from acquire_prepare import acquire_oil\n",
    "from acquire_prepare import prep_data\n",
    "from explore import xgb_rank\n",
    "from model import get_scaled_df\n",
    "import numpy as np\n",
    "import pandas as pd\n",
    "\n",
    "# Visualizing\n",
    "import matplotlib.pyplot as plt\n",
    "import matplotlib\n",
    "import seaborn as sns\n",
    "%matplotlib inline\n",
    "import sys # used in command to make entire array print by default\n",
    "\n",
    "\n",
    "# Modeling\n",
    "from sklearn.preprocessing import LabelEncoder\n",
    "from sklearn.preprocessing import MinMaxScaler\n",
    "import xgboost as xgb\n",
    "from sklearn.decomposition import PCA\n",
    "from sklearn.model_selection import train_test_split\n",
    "from sklearn.linear_model import LinearRegression\n",
    "from sklearn.metrics import mean_squared_error, r2_score, mean_absolute_error, median_absolute_error\n",
    "\n",
    "# data manipulation \n",
    "import statsmodels.api as sm\n",
    "from sklearn.svm import SVR\n",
    "from sklearn import svm\n",
    "from sklearn import metrics\n",
    "import math\n",
    "from sklearn.model_selection import TimeSeriesSplit"
   ]
  },
  {
   "cell_type": "code",
   "execution_count": 2,
   "metadata": {},
   "outputs": [],
   "source": [
    "def filter_columns(df,listofcolumns):\n",
    "    #   ''' arguments - (dataframe), columns to include in returned dataframe\n",
    "    #  ''' \n",
    "    newdf = df.copy()\n",
    "    col_list = df.columns \n",
    "    for column in col_list:\n",
    "        if column not in listofcolumns:\n",
    "            newdf.drop([column], axis=1, inplace=True)\n",
    "    return newdf\n",
    "\n",
    "def lregressiontest(df,xfeatures,yfeature,train_size):\n",
    "    y = df[yfeature]\n",
    "    X = filter_columns(df,xfeatures)\n",
    "    X_train, X_test, y_train, y_test = train_test_split(X, y, train_size=.80, random_state=123)\n",
    "    train = pd.concat([X_train, y_train], axis=1)\n",
    "    test = pd.concat([X_test, y_test], axis=1)\n",
    "\n",
    "    column_names = X_train.columns\n",
    "    r_and_p_values = [pearsonr(X_train[col], y_train) for col in column_names]\n",
    "    corrdict = dict(zip(column_names, r_and_p_values))\n",
    "\n",
    "    ols_model = sm.OLS(y_train, X_train)\n",
    "    fit = ols_model.fit()\n",
    "    lm1 = LinearRegression(fit_intercept=False) \n",
    "    lm1.fit(X_train[xfeatures], y_train)\n",
    "    LinearRegression(copy_X=True, fit_intercept=False, n_jobs=None,\n",
    "         normalize=False)\n",
    "    lm1_y_intercept = lm1.intercept_\n",
    "    lm1_coefficients = lm1.coef_\n",
    "    y_pred_lm1 = lm1.predict(X_train[xfeatures])\n",
    "    mse = mean_squared_error(y_train, y_pred_lm1)\n",
    "    r2 = r2_score(y_train, y_pred_lm1)\n",
    "    return mse, r2, corrdict\n",
    "\n",
    "\n",
    "\n",
    "\n",
    "def linreg(X_train, y_train):\n",
    "    lr = LinearRegression()\n",
    "    lr.fit(X_train, y_train)\n",
    "    y_pred = lr.predict(X_train)\n",
    "    MAE = median_absolute_error(y_train, y_pred)\n",
    "    MSE = mean_squared_error(y_train, y_pred)\n",
    "    r2_train = r2_score(y_train, y_pred)\n",
    "    scatter = sns.scatterplot(x = y_train.recovery, y = y_pred.ravel())\n",
    "    reg_df = pd.DataFrame(lr.coef_, columns=X_vars)\n",
    "    reg_df = reg_df.transpose().sort_values(by=0, ascending=False)\n",
    "    reg_df.rename(index=str, columns={0: 'value'}, inplace=True)\n",
    "    abs_df = reg_df.copy()\n",
    "    abs_df['value'] = abs(abs_df['value'])\n",
    "    abs_df.sort_values(by='value', ascending=False)\n",
    "    return reg_df, abs_df, lr, lr.coef_, lr.intercept_, MAE, MSE, r2_train, y_pred, scatter\n",
    "\n",
    "def ridge(X_train, y_train):\n",
    "    rr = Ridge(alpha=.5)\n",
    "    rr.fit(X_train, y_train)\n",
    "    y_pred = rr.predict((X_train))\n",
    "    MAE = median_absolute_error(y_train, y_pred)\n",
    "    MSE = mean_squared_error(y_train, y_pred)\n",
    "    scatter = sns.scatterplot(x = y_train, y = y_pred.ravel())\n",
    "    return rr, rr.coef_, rr.intercept_, MAE, MSE, y_pred, scatter\n",
    "\n",
    "def svm(X_train, y_train):\n",
    "    svr_rbf = SVR(kernel='rbf', C=100, gamma=0.1, epsilon=.1)\n",
    "    svr_lin = SVR(kernel='linear', C=100, gamma='auto')\n",
    "    svr_poly = SVR(kernel='poly', C=100, gamma='auto', degree=3, epsilon=.1,\n",
    "               coef0=1)\n",
    "    y_rbf = svr_rbf.fit(X_train, y_train).predict(X_train)\n",
    "    y_lin = svr_lin.fit(X_train, y_train).predict(X_train)\n",
    "    y_poly = svr_poly.fit(X_train, y_train).predict(X_train)\n",
    "    MSE_rbf = mean_squared_error(y_train, y_rbf)\n",
    "    MSE_lin = mean_squared_error(y_train, y_lin)\n",
    "    MSE_poly = mean_squared_error(y_train, y_poly)\n",
    "    return svr_rbf, svr_lin, svr_poly, MSE_rbf, MSE_lin, MSE_poly, y_rbf, y_lin, y_poly"
   ]
  },
  {
   "cell_type": "code",
   "execution_count": 3,
   "metadata": {},
   "outputs": [
    {
     "data": {
      "text/plain": [
       "(7888, 61)"
      ]
     },
     "execution_count": 3,
     "metadata": {},
     "output_type": "execute_result"
    }
   ],
   "source": [
    "df = acquire_oil()\n",
    "df = prep_data(df)\n",
    "df.reset_index(inplace=True)\n",
    "df.shape"
   ]
  },
  {
   "cell_type": "code",
   "execution_count": 4,
   "metadata": {},
   "outputs": [],
   "source": [
    "# df.isnull().sum()"
   ]
  },
  {
   "cell_type": "code",
   "execution_count": 5,
   "metadata": {},
   "outputs": [
    {
     "data": {
      "text/html": [
       "<div>\n",
       "<style scoped>\n",
       "    .dataframe tbody tr th:only-of-type {\n",
       "        vertical-align: middle;\n",
       "    }\n",
       "\n",
       "    .dataframe tbody tr th {\n",
       "        vertical-align: top;\n",
       "    }\n",
       "\n",
       "    .dataframe thead th {\n",
       "        text-align: right;\n",
       "    }\n",
       "</style>\n",
       "<table border=\"1\" class=\"dataframe\">\n",
       "  <thead>\n",
       "    <tr style=\"text-align: right;\">\n",
       "      <th></th>\n",
       "      <th>proppant_ppf</th>\n",
       "      <th>frac_fluid_gpf</th>\n",
       "      <th>gross_perfs</th>\n",
       "      <th>frac_stages</th>\n",
       "      <th>oil_gravity</th>\n",
       "      <th>peak_boepd</th>\n",
       "      <th>oil_hist</th>\n",
       "      <th>gas_hist</th>\n",
       "      <th>gor_hist</th>\n",
       "      <th>ip90_boeqpd</th>\n",
       "      <th>...</th>\n",
       "      <th>scaled_proppant_ppf</th>\n",
       "      <th>scaled_frac_fluid_gpf</th>\n",
       "      <th>scaled_gross_perfs</th>\n",
       "      <th>scaled_frac_stages</th>\n",
       "      <th>scaled_oil_gravity</th>\n",
       "      <th>scaled_gor_hist</th>\n",
       "      <th>scaled_tvd</th>\n",
       "      <th>scaled_mid_point_lat</th>\n",
       "      <th>scaled_mid_point_long</th>\n",
       "      <th>scaled_vintage</th>\n",
       "    </tr>\n",
       "  </thead>\n",
       "  <tbody>\n",
       "    <tr>\n",
       "      <th>count</th>\n",
       "      <td>7888.000000</td>\n",
       "      <td>7888.000000</td>\n",
       "      <td>7888.000000</td>\n",
       "      <td>7888.000000</td>\n",
       "      <td>7888.000000</td>\n",
       "      <td>7888.000000</td>\n",
       "      <td>7888.000000</td>\n",
       "      <td>7888.000000</td>\n",
       "      <td>7888.000000</td>\n",
       "      <td>7888.000000</td>\n",
       "      <td>...</td>\n",
       "      <td>7888.000000</td>\n",
       "      <td>7888.000000</td>\n",
       "      <td>7888.000000</td>\n",
       "      <td>7888.000000</td>\n",
       "      <td>7888.000000</td>\n",
       "      <td>7888.000000</td>\n",
       "      <td>7888.000000</td>\n",
       "      <td>7888.000000</td>\n",
       "      <td>7888.000000</td>\n",
       "      <td>7888.000000</td>\n",
       "    </tr>\n",
       "    <tr>\n",
       "      <th>mean</th>\n",
       "      <td>1129.177020</td>\n",
       "      <td>1142.213462</td>\n",
       "      <td>5732.858773</td>\n",
       "      <td>3.204488</td>\n",
       "      <td>1.862447</td>\n",
       "      <td>508.725133</td>\n",
       "      <td>120.070635</td>\n",
       "      <td>385.288562</td>\n",
       "      <td>3888.944514</td>\n",
       "      <td>349.246186</td>\n",
       "      <td>...</td>\n",
       "      <td>0.284274</td>\n",
       "      <td>0.380934</td>\n",
       "      <td>0.421953</td>\n",
       "      <td>0.045778</td>\n",
       "      <td>0.027389</td>\n",
       "      <td>0.194749</td>\n",
       "      <td>0.520577</td>\n",
       "      <td>0.393372</td>\n",
       "      <td>0.647040</td>\n",
       "      <td>0.895554</td>\n",
       "    </tr>\n",
       "    <tr>\n",
       "      <th>std</th>\n",
       "      <td>656.539972</td>\n",
       "      <td>714.303891</td>\n",
       "      <td>2945.296014</td>\n",
       "      <td>9.336062</td>\n",
       "      <td>9.188722</td>\n",
       "      <td>443.645469</td>\n",
       "      <td>95.660116</td>\n",
       "      <td>387.207769</td>\n",
       "      <td>3815.982884</td>\n",
       "      <td>315.135247</td>\n",
       "      <td>...</td>\n",
       "      <td>0.165447</td>\n",
       "      <td>0.238298</td>\n",
       "      <td>0.216933</td>\n",
       "      <td>0.133372</td>\n",
       "      <td>0.135128</td>\n",
       "      <td>0.191106</td>\n",
       "      <td>0.254807</td>\n",
       "      <td>0.145262</td>\n",
       "      <td>0.208235</td>\n",
       "      <td>0.136712</td>\n",
       "    </tr>\n",
       "    <tr>\n",
       "      <th>min</th>\n",
       "      <td>1.098097</td>\n",
       "      <td>0.354610</td>\n",
       "      <td>4.000000</td>\n",
       "      <td>0.000000</td>\n",
       "      <td>0.000000</td>\n",
       "      <td>0.663017</td>\n",
       "      <td>0.031000</td>\n",
       "      <td>0.001000</td>\n",
       "      <td>0.212134</td>\n",
       "      <td>0.001812</td>\n",
       "      <td>...</td>\n",
       "      <td>0.000000</td>\n",
       "      <td>0.000000</td>\n",
       "      <td>0.000000</td>\n",
       "      <td>0.000000</td>\n",
       "      <td>0.000000</td>\n",
       "      <td>0.000000</td>\n",
       "      <td>0.000000</td>\n",
       "      <td>0.000000</td>\n",
       "      <td>0.000000</td>\n",
       "      <td>0.000000</td>\n",
       "    </tr>\n",
       "    <tr>\n",
       "      <th>25%</th>\n",
       "      <td>525.892109</td>\n",
       "      <td>499.423181</td>\n",
       "      <td>4056.250000</td>\n",
       "      <td>0.000000</td>\n",
       "      <td>0.000000</td>\n",
       "      <td>159.810463</td>\n",
       "      <td>46.481500</td>\n",
       "      <td>110.739000</td>\n",
       "      <td>1422.937793</td>\n",
       "      <td>94.906605</td>\n",
       "      <td>...</td>\n",
       "      <td>0.132247</td>\n",
       "      <td>0.166494</td>\n",
       "      <td>0.298464</td>\n",
       "      <td>0.000000</td>\n",
       "      <td>0.000000</td>\n",
       "      <td>0.071251</td>\n",
       "      <td>0.462055</td>\n",
       "      <td>0.280652</td>\n",
       "      <td>0.579955</td>\n",
       "      <td>0.900000</td>\n",
       "    </tr>\n",
       "    <tr>\n",
       "      <th>50%</th>\n",
       "      <td>1156.356260</td>\n",
       "      <td>1222.371400</td>\n",
       "      <td>6242.000000</td>\n",
       "      <td>0.000000</td>\n",
       "      <td>0.000000</td>\n",
       "      <td>429.084519</td>\n",
       "      <td>101.236000</td>\n",
       "      <td>284.305000</td>\n",
       "      <td>2491.502805</td>\n",
       "      <td>292.328796</td>\n",
       "      <td>...</td>\n",
       "      <td>0.291123</td>\n",
       "      <td>0.407675</td>\n",
       "      <td>0.459453</td>\n",
       "      <td>0.000000</td>\n",
       "      <td>0.000000</td>\n",
       "      <td>0.124765</td>\n",
       "      <td>0.589809</td>\n",
       "      <td>0.383685</td>\n",
       "      <td>0.696075</td>\n",
       "      <td>0.933333</td>\n",
       "    </tr>\n",
       "    <tr>\n",
       "      <th>75%</th>\n",
       "      <td>1594.793975</td>\n",
       "      <td>1653.074860</td>\n",
       "      <td>7723.250000</td>\n",
       "      <td>0.000000</td>\n",
       "      <td>0.000000</td>\n",
       "      <td>732.588900</td>\n",
       "      <td>172.310750</td>\n",
       "      <td>542.369000</td>\n",
       "      <td>4906.603828</td>\n",
       "      <td>508.700090</td>\n",
       "      <td>...</td>\n",
       "      <td>0.401608</td>\n",
       "      <td>0.551362</td>\n",
       "      <td>0.568553</td>\n",
       "      <td>0.000000</td>\n",
       "      <td>0.000000</td>\n",
       "      <td>0.245714</td>\n",
       "      <td>0.693837</td>\n",
       "      <td>0.478842</td>\n",
       "      <td>0.797456</td>\n",
       "      <td>0.950000</td>\n",
       "    </tr>\n",
       "    <tr>\n",
       "      <th>max</th>\n",
       "      <td>3969.384520</td>\n",
       "      <td>2997.879640</td>\n",
       "      <td>13581.000000</td>\n",
       "      <td>70.000000</td>\n",
       "      <td>68.000000</td>\n",
       "      <td>6118.757000</td>\n",
       "      <td>754.662000</td>\n",
       "      <td>4007.768000</td>\n",
       "      <td>19968.130000</td>\n",
       "      <td>4752.926000</td>\n",
       "      <td>...</td>\n",
       "      <td>1.000000</td>\n",
       "      <td>1.000000</td>\n",
       "      <td>1.000000</td>\n",
       "      <td>1.000000</td>\n",
       "      <td>1.000000</td>\n",
       "      <td>1.000000</td>\n",
       "      <td>1.000000</td>\n",
       "      <td>1.000000</td>\n",
       "      <td>1.000000</td>\n",
       "      <td>1.000000</td>\n",
       "    </tr>\n",
       "  </tbody>\n",
       "</table>\n",
       "<p>8 rows × 41 columns</p>\n",
       "</div>"
      ],
      "text/plain": [
       "       proppant_ppf  frac_fluid_gpf   gross_perfs  frac_stages  oil_gravity  \\\n",
       "count   7888.000000     7888.000000   7888.000000  7888.000000  7888.000000   \n",
       "mean    1129.177020     1142.213462   5732.858773     3.204488     1.862447   \n",
       "std      656.539972      714.303891   2945.296014     9.336062     9.188722   \n",
       "min        1.098097        0.354610      4.000000     0.000000     0.000000   \n",
       "25%      525.892109      499.423181   4056.250000     0.000000     0.000000   \n",
       "50%     1156.356260     1222.371400   6242.000000     0.000000     0.000000   \n",
       "75%     1594.793975     1653.074860   7723.250000     0.000000     0.000000   \n",
       "max     3969.384520     2997.879640  13581.000000    70.000000    68.000000   \n",
       "\n",
       "        peak_boepd     oil_hist     gas_hist      gor_hist  ip90_boeqpd  \\\n",
       "count  7888.000000  7888.000000  7888.000000   7888.000000  7888.000000   \n",
       "mean    508.725133   120.070635   385.288562   3888.944514   349.246186   \n",
       "std     443.645469    95.660116   387.207769   3815.982884   315.135247   \n",
       "min       0.663017     0.031000     0.001000      0.212134     0.001812   \n",
       "25%     159.810463    46.481500   110.739000   1422.937793    94.906605   \n",
       "50%     429.084519   101.236000   284.305000   2491.502805   292.328796   \n",
       "75%     732.588900   172.310750   542.369000   4906.603828   508.700090   \n",
       "max    6118.757000   754.662000  4007.768000  19968.130000  4752.926000   \n",
       "\n",
       "            ...        scaled_proppant_ppf  scaled_frac_fluid_gpf  \\\n",
       "count       ...                7888.000000            7888.000000   \n",
       "mean        ...                   0.284274               0.380934   \n",
       "std         ...                   0.165447               0.238298   \n",
       "min         ...                   0.000000               0.000000   \n",
       "25%         ...                   0.132247               0.166494   \n",
       "50%         ...                   0.291123               0.407675   \n",
       "75%         ...                   0.401608               0.551362   \n",
       "max         ...                   1.000000               1.000000   \n",
       "\n",
       "       scaled_gross_perfs  scaled_frac_stages  scaled_oil_gravity  \\\n",
       "count         7888.000000         7888.000000         7888.000000   \n",
       "mean             0.421953            0.045778            0.027389   \n",
       "std              0.216933            0.133372            0.135128   \n",
       "min              0.000000            0.000000            0.000000   \n",
       "25%              0.298464            0.000000            0.000000   \n",
       "50%              0.459453            0.000000            0.000000   \n",
       "75%              0.568553            0.000000            0.000000   \n",
       "max              1.000000            1.000000            1.000000   \n",
       "\n",
       "       scaled_gor_hist   scaled_tvd  scaled_mid_point_lat  \\\n",
       "count      7888.000000  7888.000000           7888.000000   \n",
       "mean          0.194749     0.520577              0.393372   \n",
       "std           0.191106     0.254807              0.145262   \n",
       "min           0.000000     0.000000              0.000000   \n",
       "25%           0.071251     0.462055              0.280652   \n",
       "50%           0.124765     0.589809              0.383685   \n",
       "75%           0.245714     0.693837              0.478842   \n",
       "max           1.000000     1.000000              1.000000   \n",
       "\n",
       "       scaled_mid_point_long  scaled_vintage  \n",
       "count            7888.000000     7888.000000  \n",
       "mean                0.647040        0.895554  \n",
       "std                 0.208235        0.136712  \n",
       "min                 0.000000        0.000000  \n",
       "25%                 0.579955        0.900000  \n",
       "50%                 0.696075        0.933333  \n",
       "75%                 0.797456        0.950000  \n",
       "max                 1.000000        1.000000  \n",
       "\n",
       "[8 rows x 41 columns]"
      ]
     },
     "execution_count": 5,
     "metadata": {},
     "output_type": "execute_result"
    }
   ],
   "source": [
    "df.drop(columns=['api14', 'sur_lat', 'sur_long', 'well_id']).describe()"
   ]
  },
  {
   "cell_type": "markdown",
   "metadata": {},
   "source": [
    "## Create Dataframe with Numeric Data"
   ]
  },
  {
   "cell_type": "code",
   "execution_count": 6,
   "metadata": {},
   "outputs": [],
   "source": [
    "# df.info()"
   ]
  },
  {
   "cell_type": "markdown",
   "metadata": {},
   "source": [
    "## Get scaled data into scaled_df"
   ]
  },
  {
   "cell_type": "code",
   "execution_count": 7,
   "metadata": {},
   "outputs": [],
   "source": [
    "scaled_df = get_scaled_df(df)"
   ]
  },
  {
   "cell_type": "code",
   "execution_count": 8,
   "metadata": {},
   "outputs": [
    {
     "data": {
      "text/plain": [
       "Index(['direction', 'frac_fluid_type', 'county', 'oper', 'formation',\n",
       "       'lateral_class', 'proppant_ppf', 'frac_fluid_gpf', 'gross_perfs',\n",
       "       'frac_stages', 'oil_gravity', 'gor_hist', 'tvd', 'mid_point_lat',\n",
       "       'mid_point_long', 'vintage'],\n",
       "      dtype='object')"
      ]
     },
     "execution_count": 8,
     "metadata": {},
     "output_type": "execute_result"
    }
   ],
   "source": [
    "scaled_df.columns"
   ]
  },
  {
   "cell_type": "code",
   "execution_count": 9,
   "metadata": {},
   "outputs": [
    {
     "data": {
      "text/html": [
       "<div>\n",
       "<style scoped>\n",
       "    .dataframe tbody tr th:only-of-type {\n",
       "        vertical-align: middle;\n",
       "    }\n",
       "\n",
       "    .dataframe tbody tr th {\n",
       "        vertical-align: top;\n",
       "    }\n",
       "\n",
       "    .dataframe thead th {\n",
       "        text-align: right;\n",
       "    }\n",
       "</style>\n",
       "<table border=\"1\" class=\"dataframe\">\n",
       "  <thead>\n",
       "    <tr style=\"text-align: right;\">\n",
       "      <th></th>\n",
       "      <th>direction</th>\n",
       "      <th>frac_fluid_type</th>\n",
       "      <th>county</th>\n",
       "      <th>oper</th>\n",
       "      <th>formation</th>\n",
       "      <th>lateral_class</th>\n",
       "      <th>proppant_ppf</th>\n",
       "      <th>frac_fluid_gpf</th>\n",
       "      <th>gross_perfs</th>\n",
       "      <th>frac_stages</th>\n",
       "      <th>oil_gravity</th>\n",
       "      <th>gor_hist</th>\n",
       "      <th>tvd</th>\n",
       "      <th>mid_point_lat</th>\n",
       "      <th>mid_point_long</th>\n",
       "      <th>vintage</th>\n",
       "    </tr>\n",
       "  </thead>\n",
       "  <tbody>\n",
       "    <tr>\n",
       "      <th>0</th>\n",
       "      <td>0.0</td>\n",
       "      <td>0.875</td>\n",
       "      <td>0.0</td>\n",
       "      <td>0.250000</td>\n",
       "      <td>0.763158</td>\n",
       "      <td>0.230769</td>\n",
       "      <td>0.330291</td>\n",
       "      <td>0.547863</td>\n",
       "      <td>0.292627</td>\n",
       "      <td>0.000000</td>\n",
       "      <td>0.0</td>\n",
       "      <td>0.087056</td>\n",
       "      <td>0.745943</td>\n",
       "      <td>0.614855</td>\n",
       "      <td>0.580622</td>\n",
       "      <td>0.966667</td>\n",
       "    </tr>\n",
       "    <tr>\n",
       "      <th>1</th>\n",
       "      <td>0.0</td>\n",
       "      <td>0.375</td>\n",
       "      <td>0.0</td>\n",
       "      <td>0.196970</td>\n",
       "      <td>0.763158</td>\n",
       "      <td>0.000000</td>\n",
       "      <td>0.274039</td>\n",
       "      <td>0.498082</td>\n",
       "      <td>0.536127</td>\n",
       "      <td>0.000000</td>\n",
       "      <td>0.0</td>\n",
       "      <td>0.069179</td>\n",
       "      <td>0.726813</td>\n",
       "      <td>0.517410</td>\n",
       "      <td>0.581774</td>\n",
       "      <td>0.916667</td>\n",
       "    </tr>\n",
       "    <tr>\n",
       "      <th>2</th>\n",
       "      <td>0.0</td>\n",
       "      <td>0.000</td>\n",
       "      <td>0.0</td>\n",
       "      <td>0.628788</td>\n",
       "      <td>0.763158</td>\n",
       "      <td>0.000000</td>\n",
       "      <td>0.239618</td>\n",
       "      <td>0.456706</td>\n",
       "      <td>0.543419</td>\n",
       "      <td>0.000000</td>\n",
       "      <td>0.0</td>\n",
       "      <td>0.098218</td>\n",
       "      <td>0.803781</td>\n",
       "      <td>0.587606</td>\n",
       "      <td>0.571086</td>\n",
       "      <td>0.916667</td>\n",
       "    </tr>\n",
       "    <tr>\n",
       "      <th>3</th>\n",
       "      <td>0.0</td>\n",
       "      <td>0.375</td>\n",
       "      <td>0.0</td>\n",
       "      <td>0.628788</td>\n",
       "      <td>0.763158</td>\n",
       "      <td>0.000000</td>\n",
       "      <td>0.290872</td>\n",
       "      <td>0.433468</td>\n",
       "      <td>0.543419</td>\n",
       "      <td>0.442857</td>\n",
       "      <td>0.0</td>\n",
       "      <td>0.066373</td>\n",
       "      <td>0.707608</td>\n",
       "      <td>0.592304</td>\n",
       "      <td>0.570250</td>\n",
       "      <td>0.916667</td>\n",
       "    </tr>\n",
       "    <tr>\n",
       "      <th>4</th>\n",
       "      <td>0.0</td>\n",
       "      <td>0.875</td>\n",
       "      <td>0.0</td>\n",
       "      <td>0.196970</td>\n",
       "      <td>0.763158</td>\n",
       "      <td>0.000000</td>\n",
       "      <td>0.323353</td>\n",
       "      <td>0.532564</td>\n",
       "      <td>0.518966</td>\n",
       "      <td>0.000000</td>\n",
       "      <td>0.0</td>\n",
       "      <td>0.141055</td>\n",
       "      <td>0.754652</td>\n",
       "      <td>0.576165</td>\n",
       "      <td>0.563362</td>\n",
       "      <td>0.933333</td>\n",
       "    </tr>\n",
       "  </tbody>\n",
       "</table>\n",
       "</div>"
      ],
      "text/plain": [
       "   direction  frac_fluid_type  county      oper  formation  lateral_class  \\\n",
       "0        0.0            0.875     0.0  0.250000   0.763158       0.230769   \n",
       "1        0.0            0.375     0.0  0.196970   0.763158       0.000000   \n",
       "2        0.0            0.000     0.0  0.628788   0.763158       0.000000   \n",
       "3        0.0            0.375     0.0  0.628788   0.763158       0.000000   \n",
       "4        0.0            0.875     0.0  0.196970   0.763158       0.000000   \n",
       "\n",
       "   proppant_ppf  frac_fluid_gpf  gross_perfs  frac_stages  oil_gravity  \\\n",
       "0      0.330291        0.547863     0.292627     0.000000          0.0   \n",
       "1      0.274039        0.498082     0.536127     0.000000          0.0   \n",
       "2      0.239618        0.456706     0.543419     0.000000          0.0   \n",
       "3      0.290872        0.433468     0.543419     0.442857          0.0   \n",
       "4      0.323353        0.532564     0.518966     0.000000          0.0   \n",
       "\n",
       "   gor_hist       tvd  mid_point_lat  mid_point_long   vintage  \n",
       "0  0.087056  0.745943       0.614855        0.580622  0.966667  \n",
       "1  0.069179  0.726813       0.517410        0.581774  0.916667  \n",
       "2  0.098218  0.803781       0.587606        0.571086  0.916667  \n",
       "3  0.066373  0.707608       0.592304        0.570250  0.916667  \n",
       "4  0.141055  0.754652       0.576165        0.563362  0.933333  "
      ]
     },
     "execution_count": 9,
     "metadata": {},
     "output_type": "execute_result"
    }
   ],
   "source": [
    "scaled_df.head()"
   ]
  },
  {
   "cell_type": "markdown",
   "metadata": {},
   "source": [
    "## Scale the gross_perfs limit:"
   ]
  },
  {
   "cell_type": "code",
   "execution_count": 10,
   "metadata": {},
   "outputs": [
    {
     "data": {
      "text/plain": [
       "4.0"
      ]
     },
     "execution_count": 10,
     "metadata": {},
     "output_type": "execute_result"
    }
   ],
   "source": [
    "df.gross_perfs.min()"
   ]
  },
  {
   "cell_type": "code",
   "execution_count": 11,
   "metadata": {},
   "outputs": [
    {
     "data": {
      "text/plain": [
       "13581.0"
      ]
     },
     "execution_count": 11,
     "metadata": {},
     "output_type": "execute_result"
    }
   ],
   "source": [
    "df.gross_perfs.max()"
   ]
  },
  {
   "cell_type": "code",
   "execution_count": 12,
   "metadata": {},
   "outputs": [],
   "source": [
    "gross_perfs_scaled_limit = (6000 - df.gross_perfs.min()) / (df.gross_perfs.max() - df.gross_perfs.min())"
   ]
  },
  {
   "cell_type": "code",
   "execution_count": 13,
   "metadata": {},
   "outputs": [
    {
     "data": {
      "text/plain": [
       "0.44162922589673714"
      ]
     },
     "execution_count": 13,
     "metadata": {},
     "output_type": "execute_result"
    }
   ],
   "source": [
    "gross_perfs_scaled_limit"
   ]
  },
  {
   "cell_type": "code",
   "execution_count": 14,
   "metadata": {},
   "outputs": [
    {
     "data": {
      "text/html": [
       "<div>\n",
       "<style scoped>\n",
       "    .dataframe tbody tr th:only-of-type {\n",
       "        vertical-align: middle;\n",
       "    }\n",
       "\n",
       "    .dataframe tbody tr th {\n",
       "        vertical-align: top;\n",
       "    }\n",
       "\n",
       "    .dataframe thead th {\n",
       "        text-align: right;\n",
       "    }\n",
       "</style>\n",
       "<table border=\"1\" class=\"dataframe\">\n",
       "  <thead>\n",
       "    <tr style=\"text-align: right;\">\n",
       "      <th></th>\n",
       "      <th>direction</th>\n",
       "      <th>frac_fluid_type</th>\n",
       "      <th>county</th>\n",
       "      <th>oper</th>\n",
       "      <th>formation</th>\n",
       "      <th>lateral_class</th>\n",
       "      <th>proppant_ppf</th>\n",
       "      <th>frac_fluid_gpf</th>\n",
       "      <th>gross_perfs</th>\n",
       "      <th>frac_stages</th>\n",
       "      <th>oil_gravity</th>\n",
       "      <th>gor_hist</th>\n",
       "      <th>tvd</th>\n",
       "      <th>mid_point_lat</th>\n",
       "      <th>mid_point_long</th>\n",
       "      <th>vintage</th>\n",
       "    </tr>\n",
       "  </thead>\n",
       "  <tbody>\n",
       "    <tr>\n",
       "      <th>338</th>\n",
       "      <td>0.0</td>\n",
       "      <td>0.375</td>\n",
       "      <td>0.162162</td>\n",
       "      <td>0.314394</td>\n",
       "      <td>0.763158</td>\n",
       "      <td>0.000000</td>\n",
       "      <td>0.294294</td>\n",
       "      <td>0.383583</td>\n",
       "      <td>0.566031</td>\n",
       "      <td>0.428571</td>\n",
       "      <td>0.0</td>\n",
       "      <td>0.199822</td>\n",
       "      <td>0.490397</td>\n",
       "      <td>0.174956</td>\n",
       "      <td>0.848778</td>\n",
       "      <td>0.916667</td>\n",
       "    </tr>\n",
       "    <tr>\n",
       "      <th>1680</th>\n",
       "      <td>1.0</td>\n",
       "      <td>0.375</td>\n",
       "      <td>0.405405</td>\n",
       "      <td>0.071970</td>\n",
       "      <td>0.631579</td>\n",
       "      <td>1.000000</td>\n",
       "      <td>0.067648</td>\n",
       "      <td>0.162860</td>\n",
       "      <td>0.095161</td>\n",
       "      <td>0.000000</td>\n",
       "      <td>0.0</td>\n",
       "      <td>0.250635</td>\n",
       "      <td>0.000000</td>\n",
       "      <td>0.598260</td>\n",
       "      <td>0.735652</td>\n",
       "      <td>0.916667</td>\n",
       "    </tr>\n",
       "    <tr>\n",
       "      <th>1714</th>\n",
       "      <td>0.0</td>\n",
       "      <td>0.375</td>\n",
       "      <td>0.405405</td>\n",
       "      <td>0.852273</td>\n",
       "      <td>0.763158</td>\n",
       "      <td>0.692308</td>\n",
       "      <td>0.308582</td>\n",
       "      <td>0.484795</td>\n",
       "      <td>0.684540</td>\n",
       "      <td>0.542857</td>\n",
       "      <td>0.0</td>\n",
       "      <td>0.028927</td>\n",
       "      <td>0.588879</td>\n",
       "      <td>0.621041</td>\n",
       "      <td>0.760372</td>\n",
       "      <td>0.950000</td>\n",
       "    </tr>\n",
       "  </tbody>\n",
       "</table>\n",
       "</div>"
      ],
      "text/plain": [
       "      direction  frac_fluid_type    county      oper  formation  \\\n",
       "338         0.0            0.375  0.162162  0.314394   0.763158   \n",
       "1680        1.0            0.375  0.405405  0.071970   0.631579   \n",
       "1714        0.0            0.375  0.405405  0.852273   0.763158   \n",
       "\n",
       "      lateral_class  proppant_ppf  frac_fluid_gpf  gross_perfs  frac_stages  \\\n",
       "338        0.000000      0.294294        0.383583     0.566031     0.428571   \n",
       "1680       1.000000      0.067648        0.162860     0.095161     0.000000   \n",
       "1714       0.692308      0.308582        0.484795     0.684540     0.542857   \n",
       "\n",
       "      oil_gravity  gor_hist       tvd  mid_point_lat  mid_point_long   vintage  \n",
       "338           0.0  0.199822  0.490397       0.174956        0.848778  0.916667  \n",
       "1680          0.0  0.250635  0.000000       0.598260        0.735652  0.916667  \n",
       "1714          0.0  0.028927  0.588879       0.621041        0.760372  0.950000  "
      ]
     },
     "execution_count": 14,
     "metadata": {},
     "output_type": "execute_result"
    }
   ],
   "source": [
    "scaled_df.sample(3)"
   ]
  },
  {
   "cell_type": "markdown",
   "metadata": {},
   "source": [
    "## Visualize Data"
   ]
  },
  {
   "cell_type": "markdown",
   "metadata": {},
   "source": [
    "### Attribute Histograms"
   ]
  },
  {
   "cell_type": "code",
   "execution_count": 15,
   "metadata": {},
   "outputs": [
    {
     "data": {
      "text/plain": [
       "Index(['direction', 'frac_fluid_type', 'county', 'oper', 'formation',\n",
       "       'lateral_class', 'proppant_ppf', 'frac_fluid_gpf', 'gross_perfs',\n",
       "       'frac_stages', 'oil_gravity', 'gor_hist', 'tvd', 'mid_point_lat',\n",
       "       'mid_point_long', 'vintage'],\n",
       "      dtype='object')"
      ]
     },
     "execution_count": 15,
     "metadata": {},
     "output_type": "execute_result"
    }
   ],
   "source": [
    "scaled_df.columns"
   ]
  },
  {
   "cell_type": "code",
   "execution_count": 16,
   "metadata": {},
   "outputs": [
    {
     "data": {
      "image/png": "[encoded data removed]",
      "text/plain": [
       "<Figure size 864x576 with 1 Axes>"
      ]
     },
     "metadata": {
      "needs_background": "light"
     },
     "output_type": "display_data"
    }
   ],
   "source": [
    "xgb_df = scaled_df.copy()\n",
    "\n",
    "xgb_params = {\n",
    "    'max_depth': 8,\n",
    "    'seed' : 493\n",
    "}\n",
    "dtrain = xgb.DMatrix(xgb_df, df.recovery, feature_names=xgb_df.columns.values)\n",
    "model = xgb.train(dict(xgb_params, silent=0), dtrain, num_boost_round=50)\n",
    "\n",
    "# plot the important features #\n",
    "fig, ax = plt.subplots(figsize=(12,8))\n",
    "xgb.plot_importance(model, max_num_features=50, height=0.8, ax=ax)\n",
    "plt.title('Feature Importance Comparing All Features')\n",
    "plt.show()\n",
    "\n",
    "# I think we can return xgb and model to then plot xgb.plot_importance(model,...)\n",
    "# Or maybe can save that line into a variable to return."
   ]
  },
  {
   "cell_type": "markdown",
   "metadata": {},
   "source": [
    "### Create a viz of features ranked by gain"
   ]
  },
  {
   "cell_type": "markdown",
   "metadata": {},
   "source": [
    "#### Get ranked features and that dataframe"
   ]
  },
  {
   "cell_type": "code",
   "execution_count": 17,
   "metadata": {},
   "outputs": [
    {
     "data": {
      "text/plain": [
       "['oil_gravity',\n",
       " 'tvd',\n",
       " 'vintage',\n",
       " 'gross_perfs',\n",
       " 'mid_point_lat',\n",
       " 'mid_point_long',\n",
       " 'formation']"
      ]
     },
     "execution_count": 17,
     "metadata": {},
     "output_type": "execute_result"
    }
   ],
   "source": [
    "ranked_features, best_df = xgb_rank(df, df.recovery)\n",
    "ranked_features"
   ]
  },
  {
   "cell_type": "markdown",
   "metadata": {},
   "source": [
    "['oil_gravity', 'tvd', 'vintage', 'gross_perfs', 'mid_point_lat', 'mid_point_long', 'formation']"
   ]
  },
  {
   "cell_type": "code",
   "execution_count": 18,
   "metadata": {},
   "outputs": [
    {
     "data": {
      "text/html": [
       "<div>\n",
       "<style scoped>\n",
       "    .dataframe tbody tr th:only-of-type {\n",
       "        vertical-align: middle;\n",
       "    }\n",
       "\n",
       "    .dataframe tbody tr th {\n",
       "        vertical-align: top;\n",
       "    }\n",
       "\n",
       "    .dataframe thead th {\n",
       "        text-align: right;\n",
       "    }\n",
       "</style>\n",
       "<table border=\"1\" class=\"dataframe\">\n",
       "  <thead>\n",
       "    <tr style=\"text-align: right;\">\n",
       "      <th></th>\n",
       "      <th>rank</th>\n",
       "      <th>feature</th>\n",
       "      <th>gain</th>\n",
       "      <th>cum_sum</th>\n",
       "      <th>cum_perc</th>\n",
       "    </tr>\n",
       "  </thead>\n",
       "  <tbody>\n",
       "    <tr>\n",
       "      <th>0</th>\n",
       "      <td>1.0</td>\n",
       "      <td>oil_gravity</td>\n",
       "      <td>223723.56</td>\n",
       "      <td>223723.56</td>\n",
       "      <td>27.75</td>\n",
       "    </tr>\n",
       "    <tr>\n",
       "      <th>1</th>\n",
       "      <td>2.0</td>\n",
       "      <td>tvd</td>\n",
       "      <td>114789.92</td>\n",
       "      <td>338513.48</td>\n",
       "      <td>41.99</td>\n",
       "    </tr>\n",
       "    <tr>\n",
       "      <th>2</th>\n",
       "      <td>3.0</td>\n",
       "      <td>vintage</td>\n",
       "      <td>88838.19</td>\n",
       "      <td>427351.67</td>\n",
       "      <td>53.01</td>\n",
       "    </tr>\n",
       "    <tr>\n",
       "      <th>3</th>\n",
       "      <td>4.0</td>\n",
       "      <td>gross_perfs</td>\n",
       "      <td>56380.65</td>\n",
       "      <td>483732.32</td>\n",
       "      <td>60.01</td>\n",
       "    </tr>\n",
       "    <tr>\n",
       "      <th>4</th>\n",
       "      <td>5.0</td>\n",
       "      <td>mid_point_lat</td>\n",
       "      <td>50247.11</td>\n",
       "      <td>533979.43</td>\n",
       "      <td>66.24</td>\n",
       "    </tr>\n",
       "    <tr>\n",
       "      <th>5</th>\n",
       "      <td>6.0</td>\n",
       "      <td>mid_point_long</td>\n",
       "      <td>46450.81</td>\n",
       "      <td>580430.24</td>\n",
       "      <td>72.01</td>\n",
       "    </tr>\n",
       "    <tr>\n",
       "      <th>6</th>\n",
       "      <td>7.0</td>\n",
       "      <td>formation</td>\n",
       "      <td>41038.99</td>\n",
       "      <td>621469.23</td>\n",
       "      <td>77.10</td>\n",
       "    </tr>\n",
       "    <tr>\n",
       "      <th>7</th>\n",
       "      <td>8.0</td>\n",
       "      <td>frac_stages</td>\n",
       "      <td>32487.35</td>\n",
       "      <td>653956.58</td>\n",
       "      <td>81.13</td>\n",
       "    </tr>\n",
       "    <tr>\n",
       "      <th>8</th>\n",
       "      <td>9.0</td>\n",
       "      <td>frac_fluid_gpf</td>\n",
       "      <td>29068.06</td>\n",
       "      <td>683024.64</td>\n",
       "      <td>84.73</td>\n",
       "    </tr>\n",
       "    <tr>\n",
       "      <th>9</th>\n",
       "      <td>10.0</td>\n",
       "      <td>direction</td>\n",
       "      <td>22169.15</td>\n",
       "      <td>705193.79</td>\n",
       "      <td>87.48</td>\n",
       "    </tr>\n",
       "    <tr>\n",
       "      <th>10</th>\n",
       "      <td>11.0</td>\n",
       "      <td>gor_hist</td>\n",
       "      <td>21066.49</td>\n",
       "      <td>726260.28</td>\n",
       "      <td>90.10</td>\n",
       "    </tr>\n",
       "    <tr>\n",
       "      <th>11</th>\n",
       "      <td>12.0</td>\n",
       "      <td>proppant_ppf</td>\n",
       "      <td>20492.28</td>\n",
       "      <td>746752.56</td>\n",
       "      <td>92.64</td>\n",
       "    </tr>\n",
       "    <tr>\n",
       "      <th>12</th>\n",
       "      <td>13.0</td>\n",
       "      <td>oper</td>\n",
       "      <td>19809.41</td>\n",
       "      <td>766561.97</td>\n",
       "      <td>95.10</td>\n",
       "    </tr>\n",
       "    <tr>\n",
       "      <th>13</th>\n",
       "      <td>14.0</td>\n",
       "      <td>county</td>\n",
       "      <td>16029.08</td>\n",
       "      <td>782591.05</td>\n",
       "      <td>97.08</td>\n",
       "    </tr>\n",
       "    <tr>\n",
       "      <th>14</th>\n",
       "      <td>15.0</td>\n",
       "      <td>frac_fluid_type</td>\n",
       "      <td>12369.25</td>\n",
       "      <td>794960.30</td>\n",
       "      <td>98.62</td>\n",
       "    </tr>\n",
       "    <tr>\n",
       "      <th>15</th>\n",
       "      <td>16.0</td>\n",
       "      <td>lateral_class</td>\n",
       "      <td>11136.15</td>\n",
       "      <td>806096.45</td>\n",
       "      <td>100.00</td>\n",
       "    </tr>\n",
       "  </tbody>\n",
       "</table>\n",
       "</div>"
      ],
      "text/plain": [
       "    rank          feature       gain    cum_sum  cum_perc\n",
       "0    1.0      oil_gravity  223723.56  223723.56     27.75\n",
       "1    2.0              tvd  114789.92  338513.48     41.99\n",
       "2    3.0          vintage   88838.19  427351.67     53.01\n",
       "3    4.0      gross_perfs   56380.65  483732.32     60.01\n",
       "4    5.0    mid_point_lat   50247.11  533979.43     66.24\n",
       "5    6.0   mid_point_long   46450.81  580430.24     72.01\n",
       "6    7.0        formation   41038.99  621469.23     77.10\n",
       "7    8.0      frac_stages   32487.35  653956.58     81.13\n",
       "8    9.0   frac_fluid_gpf   29068.06  683024.64     84.73\n",
       "9   10.0        direction   22169.15  705193.79     87.48\n",
       "10  11.0         gor_hist   21066.49  726260.28     90.10\n",
       "11  12.0     proppant_ppf   20492.28  746752.56     92.64\n",
       "12  13.0             oper   19809.41  766561.97     95.10\n",
       "13  14.0           county   16029.08  782591.05     97.08\n",
       "14  15.0  frac_fluid_type   12369.25  794960.30     98.62\n",
       "15  16.0    lateral_class   11136.15  806096.45    100.00"
      ]
     },
     "execution_count": 18,
     "metadata": {},
     "output_type": "execute_result"
    }
   ],
   "source": [
    "best_df"
   ]
  },
  {
   "cell_type": "code",
   "execution_count": 19,
   "metadata": {},
   "outputs": [
    {
     "data": {
      "image/png": "[encoded data removed]",
      "text/plain": [
       "<Figure size 1440x720 with 1 Axes>"
      ]
     },
     "metadata": {
      "needs_background": "light"
     },
     "output_type": "display_data"
    }
   ],
   "source": [
    "# Create a list of integers to use for xticks\n",
    "c = [0,1,2,3,4,5,6,7,8,9,10,11,12,13,14,15,16,17,18]\n",
    "\n",
    "plt.figure(figsize=(20,10))\n",
    "sns.barplot(x='feature', y='gain', data=best_df[:len(ranked_features)], palette=\"Blues_d\").tick_params(labelsize=15)\n",
    "\n",
    "group_labels = ranked_features\n",
    "\n",
    "# take the length of ranked_features and plot that many features\n",
    "plt.xticks(c[0:len(ranked_features)] , group_labels, weight='bold', fontsize=18)\n",
    "plt.yticks()\n",
    "\n",
    "plt.title('Feature Importance', weight='bold').set_fontsize('25')\n",
    "plt.xlabel('')\n",
    "plt.ylabel('gain', weight='bold').set_fontsize('18')\n",
    "\n",
    "plt.show()"
   ]
  },
  {
   "cell_type": "markdown",
   "metadata": {},
   "source": [
    "#### Run the regression with all of the features:"
   ]
  },
  {
   "cell_type": "code",
   "execution_count": 20,
   "metadata": {},
   "outputs": [
    {
     "data": {
      "text/plain": [
       "Index(['direction', 'frac_fluid_type', 'county', 'oper', 'formation',\n",
       "       'lateral_class', 'proppant_ppf', 'frac_fluid_gpf', 'gross_perfs',\n",
       "       'frac_stages', 'oil_gravity', 'gor_hist', 'tvd', 'mid_point_lat',\n",
       "       'mid_point_long', 'vintage'],\n",
       "      dtype='object')"
      ]
     },
     "execution_count": 20,
     "metadata": {},
     "output_type": "execute_result"
    }
   ],
   "source": [
    "X_vars = scaled_df.columns\n",
    "X_vars"
   ]
  },
  {
   "cell_type": "code",
   "execution_count": 21,
   "metadata": {},
   "outputs": [
    {
     "data": {
      "text/plain": [
       "999.3054703333332"
      ]
     },
     "execution_count": 21,
     "metadata": {},
     "output_type": "execute_result"
    }
   ],
   "source": [
    "df.recovery.max()"
   ]
  },
  {
   "cell_type": "code",
   "execution_count": 22,
   "metadata": {},
   "outputs": [
    {
     "name": "stdout",
     "output_type": "stream",
     "text": [
      "lr.intercept: 64.58888477333744\n",
      "MAE: 47.684237501361864\n",
      "MSE: 13555.379524016389\n",
      "r2_train: 0.30209541667035156\n"
     ]
    },
    {
     "data": {
      "text/html": [
       "<div>\n",
       "<style scoped>\n",
       "    .dataframe tbody tr th:only-of-type {\n",
       "        vertical-align: middle;\n",
       "    }\n",
       "\n",
       "    .dataframe tbody tr th {\n",
       "        vertical-align: top;\n",
       "    }\n",
       "\n",
       "    .dataframe thead th {\n",
       "        text-align: right;\n",
       "    }\n",
       "</style>\n",
       "<table border=\"1\" class=\"dataframe\">\n",
       "  <thead>\n",
       "    <tr style=\"text-align: right;\">\n",
       "      <th></th>\n",
       "      <th>value</th>\n",
       "    </tr>\n",
       "  </thead>\n",
       "  <tbody>\n",
       "    <tr>\n",
       "      <th>gross_perfs</th>\n",
       "      <td>262.670397</td>\n",
       "    </tr>\n",
       "    <tr>\n",
       "      <th>oil_gravity</th>\n",
       "      <td>183.189069</td>\n",
       "    </tr>\n",
       "    <tr>\n",
       "      <th>tvd</th>\n",
       "      <td>152.990516</td>\n",
       "    </tr>\n",
       "    <tr>\n",
       "      <th>mid_point_lat</th>\n",
       "      <td>79.837743</td>\n",
       "    </tr>\n",
       "    <tr>\n",
       "      <th>gor_hist</th>\n",
       "      <td>60.964669</td>\n",
       "    </tr>\n",
       "    <tr>\n",
       "      <th>direction</th>\n",
       "      <td>58.734352</td>\n",
       "    </tr>\n",
       "    <tr>\n",
       "      <th>formation</th>\n",
       "      <td>54.345330</td>\n",
       "    </tr>\n",
       "    <tr>\n",
       "      <th>proppant_ppf</th>\n",
       "      <td>24.039695</td>\n",
       "    </tr>\n",
       "    <tr>\n",
       "      <th>frac_fluid_gpf</th>\n",
       "      <td>16.504191</td>\n",
       "    </tr>\n",
       "    <tr>\n",
       "      <th>county</th>\n",
       "      <td>2.490560</td>\n",
       "    </tr>\n",
       "    <tr>\n",
       "      <th>frac_fluid_type</th>\n",
       "      <td>2.165819</td>\n",
       "    </tr>\n",
       "    <tr>\n",
       "      <th>lateral_class</th>\n",
       "      <td>0.322144</td>\n",
       "    </tr>\n",
       "    <tr>\n",
       "      <th>frac_stages</th>\n",
       "      <td>-18.111256</td>\n",
       "    </tr>\n",
       "    <tr>\n",
       "      <th>oper</th>\n",
       "      <td>-22.829385</td>\n",
       "    </tr>\n",
       "    <tr>\n",
       "      <th>mid_point_long</th>\n",
       "      <td>-100.090774</td>\n",
       "    </tr>\n",
       "    <tr>\n",
       "      <th>vintage</th>\n",
       "      <td>-152.551599</td>\n",
       "    </tr>\n",
       "  </tbody>\n",
       "</table>\n",
       "</div>"
      ],
      "text/plain": [
       "                      value\n",
       "gross_perfs      262.670397\n",
       "oil_gravity      183.189069\n",
       "tvd              152.990516\n",
       "mid_point_lat     79.837743\n",
       "gor_hist          60.964669\n",
       "direction         58.734352\n",
       "formation         54.345330\n",
       "proppant_ppf      24.039695\n",
       "frac_fluid_gpf    16.504191\n",
       "county             2.490560\n",
       "frac_fluid_type    2.165819\n",
       "lateral_class      0.322144\n",
       "frac_stages      -18.111256\n",
       "oper             -22.829385\n",
       "mid_point_long  -100.090774\n",
       "vintage         -152.551599"
      ]
     },
     "execution_count": 22,
     "metadata": {},
     "output_type": "execute_result"
    },
    {
     "data": {
      "image/png": "[encoded data removed]",
      "text/plain": [
       "<Figure size 432x288 with 1 Axes>"
      ]
     },
     "metadata": {
      "needs_background": "light"
     },
     "output_type": "display_data"
    }
   ],
   "source": [
    "# Independent variables:\n",
    "X_vars = scaled_df.columns\n",
    "\n",
    "# ['direction', 'frac_fluid_type', 'county', 'oper', 'formation',\n",
    "#  'lateral_class', 'proppant_ppf', 'frac_fluid_gpf', 'gross_perfs',\n",
    "#  'frac_stages', 'oil_gravity', 'gor_hist', 'tvd', 'mid_point_lat',\n",
    "#  'mid_point_long', 'vintage']\n",
    "\n",
    "# Dependent (target) variable, it is continuous\n",
    "target = ['recovery']\n",
    "\n",
    "X = scaled_df[X_vars].copy()                                                    \n",
    "y = df[target]\n",
    "\n",
    "# random_state=0 tells the sklearn function that you are not setting a seed\n",
    "# if you want to be able to duplicate results, set random_state to a positive integer\n",
    "X_train, X_test, y_train, y_test = train_test_split(X, y, train_size=.80, random_state=123)\n",
    "\n",
    "train = pd.concat([X_train, y_train], axis=1)\n",
    "test = pd.concat([X_test, y_test], axis=1)\n",
    "\n",
    "reg_df, abs_df, lr, lr.coef_, lr.intercept_, MAE, MSE, r2_train, y_pred, scatter = linreg(X_train, y_train)\n",
    "print('lr.intercept:', lr.intercept_[0])\n",
    "print('MAE:', MAE)\n",
    "print('MSE:', MSE)\n",
    "print('r2_train:', r2_train)\n",
    "reg_df"
   ]
  },
  {
   "cell_type": "code",
   "execution_count": 23,
   "metadata": {},
   "outputs": [
    {
     "name": "stdout",
     "output_type": "stream",
     "text": [
      "ranked by absolute value of coefficient:\n"
     ]
    },
    {
     "data": {
      "text/html": [
       "<div>\n",
       "<style scoped>\n",
       "    .dataframe tbody tr th:only-of-type {\n",
       "        vertical-align: middle;\n",
       "    }\n",
       "\n",
       "    .dataframe tbody tr th {\n",
       "        vertical-align: top;\n",
       "    }\n",
       "\n",
       "    .dataframe thead th {\n",
       "        text-align: right;\n",
       "    }\n",
       "</style>\n",
       "<table border=\"1\" class=\"dataframe\">\n",
       "  <thead>\n",
       "    <tr style=\"text-align: right;\">\n",
       "      <th></th>\n",
       "      <th>value</th>\n",
       "    </tr>\n",
       "  </thead>\n",
       "  <tbody>\n",
       "    <tr>\n",
       "      <th>gross_perfs</th>\n",
       "      <td>262.670397</td>\n",
       "    </tr>\n",
       "    <tr>\n",
       "      <th>oil_gravity</th>\n",
       "      <td>183.189069</td>\n",
       "    </tr>\n",
       "    <tr>\n",
       "      <th>tvd</th>\n",
       "      <td>152.990516</td>\n",
       "    </tr>\n",
       "    <tr>\n",
       "      <th>vintage</th>\n",
       "      <td>152.551599</td>\n",
       "    </tr>\n",
       "    <tr>\n",
       "      <th>mid_point_long</th>\n",
       "      <td>100.090774</td>\n",
       "    </tr>\n",
       "    <tr>\n",
       "      <th>mid_point_lat</th>\n",
       "      <td>79.837743</td>\n",
       "    </tr>\n",
       "    <tr>\n",
       "      <th>gor_hist</th>\n",
       "      <td>60.964669</td>\n",
       "    </tr>\n",
       "    <tr>\n",
       "      <th>direction</th>\n",
       "      <td>58.734352</td>\n",
       "    </tr>\n",
       "    <tr>\n",
       "      <th>formation</th>\n",
       "      <td>54.345330</td>\n",
       "    </tr>\n",
       "    <tr>\n",
       "      <th>proppant_ppf</th>\n",
       "      <td>24.039695</td>\n",
       "    </tr>\n",
       "    <tr>\n",
       "      <th>oper</th>\n",
       "      <td>22.829385</td>\n",
       "    </tr>\n",
       "    <tr>\n",
       "      <th>frac_stages</th>\n",
       "      <td>18.111256</td>\n",
       "    </tr>\n",
       "    <tr>\n",
       "      <th>frac_fluid_gpf</th>\n",
       "      <td>16.504191</td>\n",
       "    </tr>\n",
       "    <tr>\n",
       "      <th>county</th>\n",
       "      <td>2.490560</td>\n",
       "    </tr>\n",
       "    <tr>\n",
       "      <th>frac_fluid_type</th>\n",
       "      <td>2.165819</td>\n",
       "    </tr>\n",
       "    <tr>\n",
       "      <th>lateral_class</th>\n",
       "      <td>0.322144</td>\n",
       "    </tr>\n",
       "  </tbody>\n",
       "</table>\n",
       "</div>"
      ],
      "text/plain": [
       "                      value\n",
       "gross_perfs      262.670397\n",
       "oil_gravity      183.189069\n",
       "tvd              152.990516\n",
       "vintage          152.551599\n",
       "mid_point_long   100.090774\n",
       "mid_point_lat     79.837743\n",
       "gor_hist          60.964669\n",
       "direction         58.734352\n",
       "formation         54.345330\n",
       "proppant_ppf      24.039695\n",
       "oper              22.829385\n",
       "frac_stages       18.111256\n",
       "frac_fluid_gpf    16.504191\n",
       "county             2.490560\n",
       "frac_fluid_type    2.165819\n",
       "lateral_class      0.322144"
      ]
     },
     "execution_count": 23,
     "metadata": {},
     "output_type": "execute_result"
    }
   ],
   "source": [
    "print('ranked by absolute value of coefficient:')\n",
    "abs_df.sort_values(by='value', ascending=False)"
   ]
  },
  {
   "cell_type": "markdown",
   "metadata": {},
   "source": [
    "#### Filter all features for only vertical wells:"
   ]
  },
  {
   "cell_type": "code",
   "execution_count": 26,
   "metadata": {},
   "outputs": [
    {
     "data": {
      "text/plain": [
       "Index(['index', 'api14', 'lease_name', 'well_number', 'county', 'direction',\n",
       "       'status', 'oper', 'multi_well_lease', 'major_phase', 'formation',\n",
       "       'proppant_ppf', 'prod_method', 'frac_fluid_gpf', 'gross_perfs',\n",
       "       'frac_stages', 'frac_fluid_type', 'first_prod', 'last_prod',\n",
       "       'oil_gravity', 'peak_boepd', 'oil_hist', 'gas_hist', 'gor_hist',\n",
       "       'ip90_boeqpd', 'tvd', 'sur_lat', 'sur_long', 'well_id', 'mid_point_lat',\n",
       "       'mid_point_long', 'sub_basin', 'recovery', 'recovery_per_foot',\n",
       "       'months_active', 'recovery_per_month', 'lateral_class', 'vintage',\n",
       "       'vintage_bin', 'encoded_direction', 'encoded_frac_fluid_type',\n",
       "       'encoded_county', 'encoded_oper', 'encoded_formation',\n",
       "       'encoded_lateral_class', 'scaled_direction', 'scaled_frac_fluid_type',\n",
       "       'scaled_county', 'scaled_oper', 'scaled_formation',\n",
       "       'scaled_lateral_class', 'scaled_proppant_ppf', 'scaled_frac_fluid_gpf',\n",
       "       'scaled_gross_perfs', 'scaled_frac_stages', 'scaled_oil_gravity',\n",
       "       'scaled_gor_hist', 'scaled_tvd', 'scaled_mid_point_lat',\n",
       "       'scaled_mid_point_long', 'scaled_vintage'],\n",
       "      dtype='object')"
      ]
     },
     "execution_count": 26,
     "metadata": {},
     "output_type": "execute_result"
    }
   ],
   "source": [
    "df.columns"
   ]
  },
  {
   "cell_type": "code",
   "execution_count": 25,
   "metadata": {},
   "outputs": [
    {
     "ename": "AttributeError",
     "evalue": "'DataFrame' object has no attribute 'oil_eur'",
     "output_type": "error",
     "traceback": [
      "\u001b[0;31m---------------------------------------------------------------------------\u001b[0m",
      "\u001b[0;31mAttributeError\u001b[0m                            Traceback (most recent call last)",
      "\u001b[0;32m<ipython-input-25-8ec74f9c0797>\u001b[0m in \u001b[0;36m<module>\u001b[0;34m\u001b[0m\n\u001b[0;32m----> 1\u001b[0;31m \u001b[0mdf_vert\u001b[0m \u001b[0;34m=\u001b[0m \u001b[0mprep_data\u001b[0m\u001b[0;34m(\u001b[0m\u001b[0mdf\u001b[0m\u001b[0;34m,\u001b[0m\u001b[0mbasin\u001b[0m\u001b[0;34m=\u001b[0m\u001b[0;34m'all'\u001b[0m\u001b[0;34m,\u001b[0m\u001b[0mdirec\u001b[0m\u001b[0;34m=\u001b[0m\u001b[0;34m'vertical'\u001b[0m\u001b[0;34m,\u001b[0m\u001b[0mtvdmin\u001b[0m\u001b[0;34m=\u001b[0m\u001b[0;36m0\u001b[0m\u001b[0;34m,\u001b[0m\u001b[0mtvdmax\u001b[0m\u001b[0;34m=\u001b[0m\u001b[0;36m0\u001b[0m\u001b[0;34m,\u001b[0m\u001b[0mgperfmin\u001b[0m\u001b[0;34m=\u001b[0m\u001b[0;36m0\u001b[0m\u001b[0;34m,\u001b[0m\u001b[0mgperfmax\u001b[0m\u001b[0;34m=\u001b[0m\u001b[0;36m0\u001b[0m\u001b[0;34m,\u001b[0m\u001b[0mmultiwell\u001b[0m\u001b[0;34m=\u001b[0m\u001b[0;34m'all'\u001b[0m\u001b[0;34m,\u001b[0m\u001b[0mclusterid\u001b[0m\u001b[0;34m=\u001b[0m\u001b[0;36m99\u001b[0m\u001b[0;34m)\u001b[0m\u001b[0;34m\u001b[0m\u001b[0;34m\u001b[0m\u001b[0m\n\u001b[0m\u001b[1;32m      2\u001b[0m \u001b[0;31m# df_vert_scaled = get_scaled_df(df)\u001b[0m\u001b[0;34m\u001b[0m\u001b[0;34m\u001b[0m\u001b[0;34m\u001b[0m\u001b[0m\n\u001b[1;32m      3\u001b[0m \u001b[0;31m# df_vert_scaled.head(2)\u001b[0m\u001b[0;34m\u001b[0m\u001b[0;34m\u001b[0m\u001b[0;34m\u001b[0m\u001b[0m\n",
      "\u001b[0;32m~/Desktop/ds-methodologies-exercises/MyCapstoneWork/acquire_prepare.py\u001b[0m in \u001b[0;36mprep_data\u001b[0;34m(df, basin, direc, tvdmin, tvdmax, gperfmin, gperfmax, multiwell, clusterid)\u001b[0m\n\u001b[1;32m    286\u001b[0m     \u001b[0mdf\u001b[0m \u001b[0;34m=\u001b[0m \u001b[0mpost_year\u001b[0m\u001b[0;34m(\u001b[0m\u001b[0mdf\u001b[0m\u001b[0;34m)\u001b[0m\u001b[0;34m\u001b[0m\u001b[0;34m\u001b[0m\u001b[0m\n\u001b[1;32m    287\u001b[0m     \u001b[0mdf\u001b[0m \u001b[0;34m=\u001b[0m \u001b[0mreclass_status\u001b[0m\u001b[0;34m(\u001b[0m\u001b[0mdf\u001b[0m\u001b[0;34m)\u001b[0m\u001b[0;34m\u001b[0m\u001b[0;34m\u001b[0m\u001b[0m\n\u001b[0;32m--> 288\u001b[0;31m     \u001b[0mdf\u001b[0m \u001b[0;34m=\u001b[0m \u001b[0mfill_inactive_eurs\u001b[0m\u001b[0;34m(\u001b[0m\u001b[0mdf\u001b[0m\u001b[0;34m)\u001b[0m\u001b[0;34m\u001b[0m\u001b[0;34m\u001b[0m\u001b[0m\n\u001b[0m\u001b[1;32m    289\u001b[0m     \u001b[0mdf\u001b[0m \u001b[0;34m=\u001b[0m \u001b[0mdrop_na\u001b[0m\u001b[0;34m(\u001b[0m\u001b[0mdf\u001b[0m\u001b[0;34m)\u001b[0m\u001b[0;34m\u001b[0m\u001b[0;34m\u001b[0m\u001b[0m\n\u001b[1;32m    290\u001b[0m     \u001b[0mdf\u001b[0m \u001b[0;34m=\u001b[0m \u001b[0mselect_rows\u001b[0m\u001b[0;34m(\u001b[0m\u001b[0mdf\u001b[0m\u001b[0;34m)\u001b[0m\u001b[0;34m\u001b[0m\u001b[0;34m\u001b[0m\u001b[0m\n",
      "\u001b[0;32m~/Desktop/ds-methodologies-exercises/MyCapstoneWork/acquire_prepare.py\u001b[0m in \u001b[0;36mfill_inactive_eurs\u001b[0;34m(df)\u001b[0m\n\u001b[1;32m     35\u001b[0m        \u001b[0;34m'hist'\u001b[0m \u001b[0mvalues\u001b[0m   \u001b[0;34m(\u001b[0m\u001b[0mcumulative\u001b[0m \u001b[0moil\u001b[0m \u001b[0;32mor\u001b[0m \u001b[0mgas\u001b[0m \u001b[0mvolumes\u001b[0m\u001b[0;34m)\u001b[0m\u001b[0;34m\u001b[0m\u001b[0;34m\u001b[0m\u001b[0m\n\u001b[1;32m     36\u001b[0m     '''\n\u001b[0;32m---> 37\u001b[0;31m     \u001b[0mdf\u001b[0m\u001b[0;34m[\u001b[0m\u001b[0;34m'oil_eur'\u001b[0m\u001b[0;34m]\u001b[0m \u001b[0;34m=\u001b[0m \u001b[0mnp\u001b[0m\u001b[0;34m.\u001b[0m\u001b[0mwhere\u001b[0m\u001b[0;34m(\u001b[0m  \u001b[0;34m(\u001b[0m \u001b[0;34m(\u001b[0m\u001b[0mdf\u001b[0m\u001b[0;34m.\u001b[0m\u001b[0mstatus\u001b[0m \u001b[0;34m==\u001b[0m \u001b[0;34m'Inactive'\u001b[0m\u001b[0;34m)\u001b[0m \u001b[0;34m&\u001b[0m \u001b[0;34m(\u001b[0m\u001b[0mdf\u001b[0m\u001b[0;34m.\u001b[0m\u001b[0moil_eur\u001b[0m\u001b[0;34m.\u001b[0m\u001b[0misna\u001b[0m\u001b[0;34m(\u001b[0m\u001b[0;34m)\u001b[0m\u001b[0;34m)\u001b[0m \u001b[0;34m)\u001b[0m \u001b[0;34m,\u001b[0m \u001b[0mdf\u001b[0m\u001b[0;34m.\u001b[0m\u001b[0moil_hist\u001b[0m\u001b[0;34m,\u001b[0m \u001b[0mdf\u001b[0m\u001b[0;34m.\u001b[0m\u001b[0moil_eur\u001b[0m  \u001b[0;34m)\u001b[0m\u001b[0;34m\u001b[0m\u001b[0;34m\u001b[0m\u001b[0m\n\u001b[0m\u001b[1;32m     38\u001b[0m     \u001b[0mdf\u001b[0m\u001b[0;34m[\u001b[0m\u001b[0;34m'gas_eur'\u001b[0m\u001b[0;34m]\u001b[0m \u001b[0;34m=\u001b[0m \u001b[0mnp\u001b[0m\u001b[0;34m.\u001b[0m\u001b[0mwhere\u001b[0m\u001b[0;34m(\u001b[0m  \u001b[0;34m(\u001b[0m \u001b[0;34m(\u001b[0m\u001b[0mdf\u001b[0m\u001b[0;34m.\u001b[0m\u001b[0mstatus\u001b[0m \u001b[0;34m==\u001b[0m \u001b[0;34m'Inactive'\u001b[0m\u001b[0;34m)\u001b[0m \u001b[0;34m&\u001b[0m \u001b[0;34m(\u001b[0m\u001b[0mdf\u001b[0m\u001b[0;34m.\u001b[0m\u001b[0mgas_eur\u001b[0m\u001b[0;34m.\u001b[0m\u001b[0misna\u001b[0m\u001b[0;34m(\u001b[0m\u001b[0;34m)\u001b[0m\u001b[0;34m)\u001b[0m \u001b[0;34m)\u001b[0m \u001b[0;34m,\u001b[0m \u001b[0mdf\u001b[0m\u001b[0;34m.\u001b[0m\u001b[0mgas_hist\u001b[0m\u001b[0;34m,\u001b[0m \u001b[0mdf\u001b[0m\u001b[0;34m.\u001b[0m\u001b[0mgas_eur\u001b[0m  \u001b[0;34m)\u001b[0m\u001b[0;34m\u001b[0m\u001b[0;34m\u001b[0m\u001b[0m\n\u001b[1;32m     39\u001b[0m     \u001b[0;32mreturn\u001b[0m \u001b[0mdf\u001b[0m\u001b[0;34m\u001b[0m\u001b[0;34m\u001b[0m\u001b[0m\n",
      "\u001b[0;32m/usr/local/anaconda3/lib/python3.7/site-packages/pandas/core/generic.py\u001b[0m in \u001b[0;36m__getattr__\u001b[0;34m(self, name)\u001b[0m\n\u001b[1;32m   4374\u001b[0m             \u001b[0;32mif\u001b[0m \u001b[0mself\u001b[0m\u001b[0;34m.\u001b[0m\u001b[0m_info_axis\u001b[0m\u001b[0;34m.\u001b[0m\u001b[0m_can_hold_identifiers_and_holds_name\u001b[0m\u001b[0;34m(\u001b[0m\u001b[0mname\u001b[0m\u001b[0;34m)\u001b[0m\u001b[0;34m:\u001b[0m\u001b[0;34m\u001b[0m\u001b[0;34m\u001b[0m\u001b[0m\n\u001b[1;32m   4375\u001b[0m                 \u001b[0;32mreturn\u001b[0m \u001b[0mself\u001b[0m\u001b[0;34m[\u001b[0m\u001b[0mname\u001b[0m\u001b[0;34m]\u001b[0m\u001b[0;34m\u001b[0m\u001b[0;34m\u001b[0m\u001b[0m\n\u001b[0;32m-> 4376\u001b[0;31m             \u001b[0;32mreturn\u001b[0m \u001b[0mobject\u001b[0m\u001b[0;34m.\u001b[0m\u001b[0m__getattribute__\u001b[0m\u001b[0;34m(\u001b[0m\u001b[0mself\u001b[0m\u001b[0;34m,\u001b[0m \u001b[0mname\u001b[0m\u001b[0;34m)\u001b[0m\u001b[0;34m\u001b[0m\u001b[0;34m\u001b[0m\u001b[0m\n\u001b[0m\u001b[1;32m   4377\u001b[0m \u001b[0;34m\u001b[0m\u001b[0m\n\u001b[1;32m   4378\u001b[0m     \u001b[0;32mdef\u001b[0m \u001b[0m__setattr__\u001b[0m\u001b[0;34m(\u001b[0m\u001b[0mself\u001b[0m\u001b[0;34m,\u001b[0m \u001b[0mname\u001b[0m\u001b[0;34m,\u001b[0m \u001b[0mvalue\u001b[0m\u001b[0;34m)\u001b[0m\u001b[0;34m:\u001b[0m\u001b[0;34m\u001b[0m\u001b[0;34m\u001b[0m\u001b[0m\n",
      "\u001b[0;31mAttributeError\u001b[0m: 'DataFrame' object has no attribute 'oil_eur'"
     ]
    }
   ],
   "source": [
    "df_vert = prep_data(df,basin='all',direc='vertical',tvdmin=0,tvdmax=0,gperfmin=0,gperfmax=0,multiwell='all',clusterid=99)\n",
    "# df_vert_scaled = get_scaled_df(df)\n",
    "# df_vert_scaled.head(2)"
   ]
  },
  {
   "cell_type": "code",
   "execution_count": null,
   "metadata": {},
   "outputs": [],
   "source": [
    "# Independent variables:\n",
    "X_vars = ['scaled_direction', 'scaled_frac_fluid_type', 'scaled_oper', \n",
    "          'scaled_formation', 'scaled_sub_basin', 'scaled_lateral_class', \n",
    "          'scaled_proppant_ppf', 'scaled_frac_fluid_gpf', 'scaled_gross_perfs', \n",
    "          'scaled_frac_stages', 'scaled_oil_gravity', 'scaled_gor_hist', \n",
    "          'scaled_tvd', 'scaled_vintage']\n",
    "\n",
    "# Dependent (target) variable, it is continuous\n",
    "target = ['recovery']\n",
    "\n",
    "# These lines are to filter for only vertical wells:\n",
    "df_vert = scaled_df[scaled_df.scaled_direction == 1.0]\n",
    "df_vert.dropna(inplace=True)\n",
    "\n",
    "X = df_vert[X_vars].copy()                                                    \n",
    "y = df_vert[target]\n",
    "\n",
    "# random_state=0 tells the sklearn function that you are not setting a seed\n",
    "# if you want to be able to duplicate results, set random_state to a positive integer\n",
    "X_train, X_test, y_train, y_test = train_test_split(X, y, train_size=.80, random_state=123)\n",
    "\n",
    "train = pd.concat([X_train, y_train], axis=1)\n",
    "test = pd.concat([X_test, y_test], axis=1)\n",
    "\n",
    "reg_df, abs_df, lr, lr.coef_, lr.intercept_, MAE, MSE, r2_train, y_pred, scatter = linreg(X_train, y_train)\n",
    "print('lr.intercept:', lr.intercept_[0])\n",
    "print('MAE:', MAE)\n",
    "print('MSE:', MSE)\n",
    "print('r2_train:', r2_train)\n",
    "reg_df"
   ]
  },
  {
   "cell_type": "code",
   "execution_count": null,
   "metadata": {},
   "outputs": [],
   "source": [
    "print('ranked by absolute value of coefficient:')\n",
    "abs_df.sort_values(by='value', ascending=False)"
   ]
  },
  {
   "cell_type": "markdown",
   "metadata": {},
   "source": [
    "#### Test only top features suggested by XGBoost, without filtering for vertical wells."
   ]
  },
  {
   "cell_type": "code",
   "execution_count": null,
   "metadata": {},
   "outputs": [],
   "source": [
    "# Independent variables:\n",
    "X_vars = ['scaled_proppant_ppf', 'scaled_gross_perfs', 'scaled_gor_hist', 'scaled_tvd', \n",
    "          'scaled_frac_fluid_gpf', 'scaled_oper']\n",
    "# Dependent (target) variable, it is continuous\n",
    "target = ['recovery']\n",
    "\n",
    "X = scaled_df[X_vars].copy()                                                    \n",
    "y = scaled_df[target]\n",
    "\n",
    "# random_state=0 tells the sklearn function that you are not setting a seed\n",
    "# if you want to be able to duplicate results, set random_state to a positive integer\n",
    "X_train, X_test, y_train, y_test = train_test_split(X, y, train_size=.80, random_state=123)\n",
    "\n",
    "train = pd.concat([X_train, y_train], axis=1)\n",
    "test = pd.concat([X_test, y_test], axis=1)\n",
    "\n",
    "reg_df, abs_df, lr, lr.coef_, lr.intercept_, MAE, MSE, r2_train, y_pred, scatter = linreg(X_train, y_train)\n",
    "print('lr.intercept:', lr.intercept_[0])\n",
    "print('MAE:', MAE)\n",
    "print('MSE:', MSE)\n",
    "print('r2_train:', r2_train)\n",
    "reg_df"
   ]
  },
  {
   "cell_type": "code",
   "execution_count": null,
   "metadata": {},
   "outputs": [],
   "source": [
    "print('abs_df:')\n",
    "abs_df.sort_values(by='value', ascending=False)"
   ]
  },
  {
   "cell_type": "markdown",
   "metadata": {},
   "source": [
    "#### Test only top features suggested by XGBoost (exclude peak_boepd), WITH filtering for vertical wells."
   ]
  },
  {
   "cell_type": "code",
   "execution_count": null,
   "metadata": {},
   "outputs": [],
   "source": [
    "# Independent variables:\n",
    "X_vars = ['scaled_proppant_ppf', 'scaled_gross_perfs', 'scaled_gor_hist', 'scaled_tvd', \n",
    "          'scaled_frac_fluid_gpf', 'scaled_oper']\n",
    "\n",
    "# Dependent (target) variable, it is continuous\n",
    "target = ['recovery']\n",
    "\n",
    "df_vert = scaled_df[scaled_df.scaled_direction == 1.0]\n",
    "df_vert.dropna(inplace=True)\n",
    "\n",
    "X = df_vert[X_vars].copy()                                                    \n",
    "y = df_vert[['recovery']]\n",
    "\n",
    "# random_state=0 tells the sklearn function that you are not setting a seed\n",
    "# if you want to be able to duplicate results, set random_state to a positive integer\n",
    "X_train, X_test, y_train, y_test = train_test_split(X, y, train_size=.80, random_state=123)\n",
    "\n",
    "train = pd.concat([X_train, y_train], axis=1)\n",
    "test = pd.concat([X_test, y_test], axis=1)\n",
    "\n",
    "reg_df, abs_df, lr, lr.coef_, lr.intercept_, MAE, MSE, r2_train, y_pred, scatter = linreg(X_train, y_train)\n",
    "print('lr.intercept:', lr.intercept_[0])\n",
    "print('MAE:', MAE)\n",
    "print('MSE:', MSE)\n",
    "print('r2_train:', r2_train)\n",
    "reg_df"
   ]
  },
  {
   "cell_type": "code",
   "execution_count": null,
   "metadata": {},
   "outputs": [],
   "source": [
    "print('abs_df:')\n",
    "abs_df.sort_values(by='value', ascending=False)"
   ]
  },
  {
   "cell_type": "markdown",
   "metadata": {},
   "source": [
    "# Run XGBoost for each sub-basin:"
   ]
  },
  {
   "cell_type": "markdown",
   "metadata": {},
   "source": [
    "#### CP, Central Platform, including all features:"
   ]
  },
  {
   "cell_type": "code",
   "execution_count": null,
   "metadata": {},
   "outputs": [],
   "source": [
    "CP_df = scaled_df[(scaled_df['scaled_sub_basin'] == 0)]\n",
    "CP_df.sample(5)"
   ]
  },
  {
   "cell_type": "code",
   "execution_count": null,
   "metadata": {},
   "outputs": [],
   "source": [
    "xgb_df = CP_df.drop(columns=['recovery']).copy()\n",
    "\n",
    "xgb_params = {\n",
    "    'max_depth': 8,\n",
    "    'seed' : 493\n",
    "}\n",
    "dtrain = xgb.DMatrix(xgb_df, CP_df.recovery, feature_names=xgb_df.columns.values)\n",
    "model = xgb.train(dict(xgb_params, silent=0), dtrain, num_boost_round=50)\n",
    "\n",
    "# plot the important features #\n",
    "fig, ax = plt.subplots(figsize=(12,8))\n",
    "xgb.plot_importance(model, max_num_features=50, height=0.8, ax=ax)\n",
    "plt.title('Feature Importance of Central Platform Sub-basin')\n",
    "plt.show()"
   ]
  },
  {
   "cell_type": "code",
   "execution_count": null,
   "metadata": {},
   "outputs": [],
   "source": [
    "# Independent variables:\n",
    "X_vars = ['scaled_direction', 'scaled_frac_fluid_type', 'scaled_oper', \n",
    "          'scaled_formation', 'scaled_sub_basin', 'scaled_lateral_class', \n",
    "          'scaled_proppant_ppf', 'scaled_frac_fluid_gpf', 'scaled_gross_perfs', \n",
    "          'scaled_frac_stages', 'scaled_oil_gravity', 'scaled_gor_hist', \n",
    "          'scaled_tvd', 'scaled_vintage']\n",
    "\n",
    "# Dependent (target) variable, it is continuous\n",
    "target = ['recovery']\n",
    "\n",
    "X = CP_df[X_vars].copy()                                                    \n",
    "y = CP_df[target]\n",
    "\n",
    "# random_state=0 tells the sklearn function that you are not setting a seed\n",
    "# if you want to be able to duplicate results, set random_state to a positive integer\n",
    "X_train, X_test, y_train, y_test = train_test_split(X, y, train_size=.80, random_state=123)\n",
    "\n",
    "train = pd.concat([X_train, y_train], axis=1)\n",
    "test = pd.concat([X_test, y_test], axis=1)\n",
    "\n",
    "reg_df, abs_df, lr, lr.coef_, lr.intercept_, MAE, MSE, r2_train, y_pred, scatter = linreg(X_train, y_train)\n",
    "print('lr.intercept:', lr.intercept_[0])\n",
    "print('MAE:', MAE)\n",
    "print('MSE:', MSE)\n",
    "print('r2_train:', r2_train)\n",
    "reg_df"
   ]
  },
  {
   "cell_type": "code",
   "execution_count": null,
   "metadata": {},
   "outputs": [],
   "source": [
    "print('abs_df:')\n",
    "abs_df.sort_values(by='value', ascending=False)"
   ]
  },
  {
   "cell_type": "markdown",
   "metadata": {},
   "source": [
    "#### Delaware:"
   ]
  },
  {
   "cell_type": "code",
   "execution_count": null,
   "metadata": {},
   "outputs": [],
   "source": [
    "Del_df = scaled_df[(scaled_df['scaled_sub_basin'] == 0.5)]\n",
    "Del_df.sample(5)"
   ]
  },
  {
   "cell_type": "code",
   "execution_count": null,
   "metadata": {},
   "outputs": [],
   "source": [
    "xgb_df = Del_df.drop(columns=['recovery']).copy()\n",
    "\n",
    "xgb_params = {\n",
    "    'max_depth': 8,\n",
    "    'seed' : 493\n",
    "}\n",
    "dtrain = xgb.DMatrix(xgb_df, Del_df.recovery, feature_names=xgb_df.columns.values)\n",
    "model = xgb.train(dict(xgb_params, silent=0), dtrain, num_boost_round=50)\n",
    "\n",
    "# plot the important features #\n",
    "fig, ax = plt.subplots(figsize=(12,8))\n",
    "xgb.plot_importance(model, max_num_features=50, height=0.8, ax=ax)\n",
    "plt.title('Feature Importance of Delaware Sub-basin')\n",
    "plt.show()\n",
    "\n",
    "# I think we can return xgb and model to then plot xgb.plot_importance(model,...)\n",
    "# Or maybe can save that line into a variable to return."
   ]
  },
  {
   "cell_type": "code",
   "execution_count": null,
   "metadata": {},
   "outputs": [],
   "source": [
    "# Independent variables:\n",
    "X_vars = ['scaled_direction', 'scaled_frac_fluid_type', 'scaled_oper', \n",
    "          'scaled_formation', 'scaled_sub_basin', 'scaled_lateral_class', \n",
    "          'scaled_proppant_ppf', 'scaled_frac_fluid_gpf', 'scaled_gross_perfs', \n",
    "          'scaled_frac_stages', 'scaled_oil_gravity', 'scaled_gor_hist', \n",
    "          'scaled_tvd', 'scaled_vintage']\n",
    "\n",
    "# Dependent (target) variable, it is continuous\n",
    "target = ['recovery']\n",
    "\n",
    "X = Del_df[X_vars].copy()                                                    \n",
    "y = Del_df[target]\n",
    "\n",
    "# random_state=0 tells the sklearn function that you are not setting a seed\n",
    "# if you want to be able to duplicate results, set random_state to a positive integer\n",
    "X_train, X_test, y_train, y_test = train_test_split(X, y, train_size=.80, random_state=123)\n",
    "\n",
    "train = pd.concat([X_train, y_train], axis=1)\n",
    "test = pd.concat([X_test, y_test], axis=1)\n",
    "\n",
    "reg_df, abs_df, lr, lr.coef_, lr.intercept_, MAE, MSE, r2_train, y_pred, scatter = linreg(X_train, y_train)\n",
    "print('lr.intercept:', lr.intercept_[0])\n",
    "print('MAE:', MAE)\n",
    "print('MSE:', MSE)\n",
    "print('r2_train:', r2_train)\n",
    "reg_df"
   ]
  },
  {
   "cell_type": "code",
   "execution_count": null,
   "metadata": {},
   "outputs": [],
   "source": [
    "print('abs_df:')\n",
    "abs_df.sort_values(by='value', ascending=False)"
   ]
  },
  {
   "cell_type": "markdown",
   "metadata": {},
   "source": [
    "#### Midland:"
   ]
  },
  {
   "cell_type": "code",
   "execution_count": null,
   "metadata": {},
   "outputs": [],
   "source": [
    "Mid_df = scaled_df[(scaled_df['scaled_sub_basin'] == 1)]\n",
    "Mid_df.sample(5)"
   ]
  },
  {
   "cell_type": "code",
   "execution_count": null,
   "metadata": {},
   "outputs": [],
   "source": [
    "xgb_df = Mid_df.drop(columns=['recovery']).copy()\n",
    "\n",
    "xgb_params = {\n",
    "    'max_depth': 8,\n",
    "    'seed' : 493\n",
    "}\n",
    "dtrain = xgb.DMatrix(xgb_df, Mid_df.recovery, feature_names=xgb_df.columns.values)\n",
    "model = xgb.train(dict(xgb_params, silent=0), dtrain, num_boost_round=50)\n",
    "\n",
    "# plot the important features #\n",
    "fig, ax = plt.subplots(figsize=(12,8))\n",
    "xgb.plot_importance(model, max_num_features=50, height=0.8, ax=ax)\n",
    "plt.title('Feature Importance of Midland Sub-basin')\n",
    "plt.show()"
   ]
  },
  {
   "cell_type": "markdown",
   "metadata": {},
   "source": [
    "Recommended features for XGB:\n",
    "\n",
    "X_vars = ['scaled_proppant_ppf', 'scaled_gor_hist', 'scaled_gross_perfs', 'scaled_frac_fluid_gpf',\n",
    "              'scaled_tvd', 'scaled_oper']"
   ]
  },
  {
   "cell_type": "code",
   "execution_count": null,
   "metadata": {},
   "outputs": [],
   "source": [
    "# Independent variables:\n",
    "X_vars = ['scaled_direction', 'scaled_frac_fluid_type', 'scaled_oper', \n",
    "          'scaled_formation', 'scaled_sub_basin', 'scaled_lateral_class', \n",
    "          'scaled_proppant_ppf', 'scaled_frac_fluid_gpf', 'scaled_gross_perfs', \n",
    "          'scaled_frac_stages', 'scaled_oil_gravity', 'scaled_gor_hist', \n",
    "          'scaled_tvd', 'scaled_vintage']\n",
    "\n",
    "\n",
    "# Dependent (target) variable, it is continuous\n",
    "target = ['recovery']\n",
    "\n",
    "X = Mid_df[X_vars].copy()                                                    \n",
    "y = Mid_df[target]\n",
    "\n",
    "# random_state=0 tells the sklearn function that you are not setting a seed\n",
    "# if you want to be able to duplicate results, set random_state to a positive integer\n",
    "X_train, X_test, y_train, y_test = train_test_split(X, y, train_size=.80, random_state=123)\n",
    "\n",
    "train = pd.concat([X_train, y_train], axis=1)\n",
    "test = pd.concat([X_test, y_test], axis=1)\n",
    "\n",
    "reg_df, abs_df, lr, lr.coef_, lr.intercept_, MAE, MSE, r2_train, y_pred, scatter = linreg(X_train, y_train)\n",
    "print('lr.intercept:', lr.intercept_[0])\n",
    "print('MAE:', MAE)\n",
    "print('MSE:', MSE)\n",
    "print('r2_train:', r2_train)\n",
    "reg_df"
   ]
  },
  {
   "cell_type": "code",
   "execution_count": null,
   "metadata": {},
   "outputs": [],
   "source": [
    "print('abs_df:')\n",
    "abs_df.sort_values(by='value', ascending=False)"
   ]
  },
  {
   "cell_type": "markdown",
   "metadata": {},
   "source": [
    "Recommended features:\n",
    "\n",
    "XGB X_vars = ['scaled_proppant_ppf', 'scaled_gor_hist', 'scaled_gross_perfs', 'scaled_frac_fluid_gpf',\n",
    "              'scaled_tvd', 'scaled_oper']\n",
    "\n",
    "\n",
    "LM X_vars = ['scaled_gross_perfs', 'scaled_oil_gravity', 'scaled_tvd', 'scaled_vintage', \n",
    "             'scaled_direction', 'scaled_formation']"
   ]
  },
  {
   "cell_type": "markdown",
   "metadata": {},
   "source": [
    "#### Midland, horizontal wells only:"
   ]
  },
  {
   "cell_type": "code",
   "execution_count": null,
   "metadata": {},
   "outputs": [],
   "source": [
    "scaled_df.scaled_direction.value_counts()"
   ]
  },
  {
   "cell_type": "code",
   "execution_count": null,
   "metadata": {},
   "outputs": [],
   "source": [
    "Mid_Hor_df = scaled_df[(scaled_df['scaled_sub_basin'] == 1) & (scaled_df['scaled_direction'] == 0.0)]\n",
    "Mid_Hor_df.sample(5)"
   ]
  },
  {
   "cell_type": "code",
   "execution_count": null,
   "metadata": {},
   "outputs": [],
   "source": [
    "xgb_df = Mid_Hor_df.drop(columns=['recovery']).copy()\n",
    "\n",
    "xgb_params = {\n",
    "    'max_depth': 8,\n",
    "    'seed' : 493\n",
    "}\n",
    "dtrain = xgb.DMatrix(xgb_df, Mid_Hor_df.recovery, feature_names=xgb_df.columns.values)\n",
    "model = xgb.train(dict(xgb_params, silent=0), dtrain, num_boost_round=50)\n",
    "\n",
    "# plot the important features #\n",
    "fig, ax = plt.subplots(figsize=(12,8))\n",
    "xgb.plot_importance(model, max_num_features=50, height=0.8, ax=ax)\n",
    "plt.title('Midland, Horizontal Wells Only')\n",
    "plt.show()"
   ]
  },
  {
   "cell_type": "code",
   "execution_count": null,
   "metadata": {},
   "outputs": [],
   "source": [
    "# Independent variables:\n",
    "X_vars = ['scaled_direction', 'scaled_frac_fluid_type', 'scaled_oper', \n",
    "          'scaled_formation', 'scaled_sub_basin', 'scaled_lateral_class', \n",
    "          'scaled_proppant_ppf', 'scaled_frac_fluid_gpf', 'scaled_gross_perfs', \n",
    "          'scaled_frac_stages', 'scaled_oil_gravity', 'scaled_gor_hist', \n",
    "          'scaled_tvd', 'scaled_vintage']\n",
    "\n",
    "# Dependent (target) variable, it is continuous\n",
    "target = ['recovery']\n",
    "\n",
    "X = Mid_Hor_df[X_vars].copy()                                                    \n",
    "y = Mid_Hor_df[target]\n",
    "\n",
    "# random_state=0 tells the sklearn function that you are not setting a seed\n",
    "# if you want to be able to duplicate results, set random_state to a positive integer\n",
    "X_train, X_test, y_train, y_test = train_test_split(X, y, train_size=.80, random_state=123)\n",
    "\n",
    "train = pd.concat([X_train, y_train], axis=1)\n",
    "test = pd.concat([X_test, y_test], axis=1)\n",
    "\n",
    "reg_df, abs_df, lr, lr.coef_, lr.intercept_, MAE, MSE, r2_train, y_pred, scatter = linreg(X_train, y_train)\n",
    "print('lr.intercept:', lr.intercept_[0])\n",
    "print('MAE:', MAE)\n",
    "print('MSE:', MSE)\n",
    "print('r2_train:', r2_train)\n",
    "reg_df"
   ]
  },
  {
   "cell_type": "code",
   "execution_count": null,
   "metadata": {},
   "outputs": [],
   "source": [
    "print('abs_df:')\n",
    "abs_df.sort_values(by='value', ascending=False)"
   ]
  },
  {
   "cell_type": "markdown",
   "metadata": {},
   "source": [
    "#### Midland, vertical wells only:"
   ]
  },
  {
   "cell_type": "code",
   "execution_count": null,
   "metadata": {},
   "outputs": [],
   "source": [
    "Mid_Ver_df = scaled_df[(scaled_df['scaled_sub_basin'] == 1) & (scaled_df['scaled_direction'] == 1.0)]\n",
    "Mid_Ver_df.sample(5)"
   ]
  },
  {
   "cell_type": "code",
   "execution_count": null,
   "metadata": {},
   "outputs": [],
   "source": [
    "xgb_df = Mid_Ver_df.drop(columns=['recovery']).copy()\n",
    "\n",
    "xgb_params = {\n",
    "    'max_depth': 8,\n",
    "    'seed' : 493\n",
    "}\n",
    "dtrain = xgb.DMatrix(xgb_df, Mid_Ver_df.recovery, feature_names=xgb_df.columns.values)\n",
    "model = xgb.train(dict(xgb_params, silent=0), dtrain, num_boost_round=50)\n",
    "\n",
    "# plot the important features #\n",
    "fig, ax = plt.subplots(figsize=(12,8))\n",
    "xgb.plot_importance(model, max_num_features=50, height=0.8, ax=ax)\n",
    "plt.title('Midland, Vertical Wells Only')\n",
    "plt.show()"
   ]
  },
  {
   "cell_type": "code",
   "execution_count": null,
   "metadata": {},
   "outputs": [],
   "source": [
    "# Independent variables:\n",
    "X_vars = ['scaled_direction', 'scaled_frac_fluid_type', 'scaled_oper', \n",
    "          'scaled_formation', 'scaled_sub_basin', 'scaled_lateral_class', \n",
    "          'scaled_proppant_ppf', 'scaled_frac_fluid_gpf', 'scaled_gross_perfs', \n",
    "          'scaled_frac_stages', 'scaled_oil_gravity', 'scaled_gor_hist', \n",
    "          'scaled_tvd', 'scaled_vintage']\n",
    "\n",
    "# Dependent (target) variable, it is continuous\n",
    "target = ['recovery']\n",
    "\n",
    "X = Mid_Ver_df[X_vars].copy()                                                    \n",
    "y = Mid_Ver_df[target]\n",
    "\n",
    "# random_state=0 tells the sklearn function that you are not setting a seed\n",
    "# if you want to be able to duplicate results, set random_state to a positive integer\n",
    "X_train, X_test, y_train, y_test = train_test_split(X, y, train_size=.80, random_state=123)\n",
    "\n",
    "train = pd.concat([X_train, y_train], axis=1)\n",
    "test = pd.concat([X_test, y_test], axis=1)\n",
    "\n",
    "reg_df, abs_df, lr, lr.coef_, lr.intercept_, MAE, MSE, r2_train, y_pred, scatter = linreg(X_train, y_train)\n",
    "print('lr.intercept:', lr.intercept_[0])\n",
    "print('MAE:', MAE)\n",
    "print('MSE:', MSE)\n",
    "print('r2_train:', r2_train)\n",
    "reg_df"
   ]
  },
  {
   "cell_type": "code",
   "execution_count": null,
   "metadata": {},
   "outputs": [],
   "source": [
    "print('abs_df:')\n",
    "abs_df.sort_values(by='value', ascending=False)"
   ]
  },
  {
   "cell_type": "markdown",
   "metadata": {},
   "source": [
    "#### Midland, Horizontal Wells, Gross Perforations < 6000:"
   ]
  },
  {
   "cell_type": "code",
   "execution_count": null,
   "metadata": {},
   "outputs": [],
   "source": [
    "Mid_Hor_Low_df = scaled_df[(scaled_df['scaled_sub_basin'] == 1) & (scaled_df['scaled_direction'] == 0.0) & (scaled_df['scaled_gross_perfs'] < gross_perfs_scaled_limit)]\n",
    "Mid_Hor_Low_df.sample(5)"
   ]
  },
  {
   "cell_type": "code",
   "execution_count": null,
   "metadata": {},
   "outputs": [],
   "source": [
    "xgb_df = Mid_Hor_Low_df.drop(columns=['recovery']).copy()\n",
    "\n",
    "xgb_params = {\n",
    "    'max_depth': 8,\n",
    "    'seed' : 493\n",
    "}\n",
    "dtrain = xgb.DMatrix(xgb_df, Mid_Hor_Low_df.recovery, feature_names=xgb_df.columns.values)\n",
    "model = xgb.train(dict(xgb_params, silent=0), dtrain, num_boost_round=50)\n",
    "\n",
    "# plot the important features #\n",
    "fig, ax = plt.subplots(figsize=(12,8))\n",
    "xgb.plot_importance(model, max_num_features=50, height=0.8, ax=ax)\n",
    "plt.title('Midland, Horizontal Wells, Gross Perforations < 6000')\n",
    "plt.show()"
   ]
  },
  {
   "cell_type": "code",
   "execution_count": null,
   "metadata": {},
   "outputs": [],
   "source": [
    "# Independent variables:\n",
    "X_vars = ['scaled_direction', 'scaled_frac_fluid_type', 'scaled_oper', \n",
    "          'scaled_formation', 'scaled_sub_basin', 'scaled_lateral_class', \n",
    "          'scaled_proppant_ppf', 'scaled_frac_fluid_gpf', 'scaled_gross_perfs', \n",
    "          'scaled_frac_stages', 'scaled_oil_gravity', 'scaled_gor_hist', \n",
    "          'scaled_tvd', 'scaled_vintage']\n",
    "\n",
    "# Dependent (target) variable, it is continuous\n",
    "target = ['recovery']\n",
    "\n",
    "X = Mid_Hor_Low_df[X_vars].copy()                                                    \n",
    "y = Mid_Hor_Low_df[target]\n",
    "\n",
    "# random_state=0 tells the sklearn function that you are not setting a seed\n",
    "# if you want to be able to duplicate results, set random_state to a positive integer\n",
    "X_train, X_test, y_train, y_test = train_test_split(X, y, train_size=.80, random_state=123)\n",
    "\n",
    "train = pd.concat([X_train, y_train], axis=1)\n",
    "test = pd.concat([X_test, y_test], axis=1)\n",
    "\n",
    "reg_df, abs_df, lr, lr.coef_, lr.intercept_, MAE, MSE, r2_train, y_pred, scatter = linreg(X_train, y_train)\n",
    "print('lr.intercept:', lr.intercept_[0])\n",
    "print('MAE:', MAE)\n",
    "print('MSE:', MSE)\n",
    "print('r2_train:', r2_train)\n",
    "reg_df"
   ]
  },
  {
   "cell_type": "code",
   "execution_count": null,
   "metadata": {},
   "outputs": [],
   "source": [
    "print('abs_df:')\n",
    "abs_df.sort_values(by='value', ascending=False)"
   ]
  },
  {
   "cell_type": "markdown",
   "metadata": {},
   "source": [
    "#### Midland, Horizontal Wells, Gross Perforations > 6000:"
   ]
  },
  {
   "cell_type": "code",
   "execution_count": null,
   "metadata": {},
   "outputs": [],
   "source": [
    "((scaled_df['scaled_sub_basin'] == 1) & (scaled_df['scaled_direction'] == 0.0) & (scaled_df['scaled_gross_perfs'] < gross_perfs_scaled_limit)).sum()"
   ]
  },
  {
   "cell_type": "code",
   "execution_count": null,
   "metadata": {},
   "outputs": [],
   "source": [
    "((scaled_df['scaled_sub_basin'] == 1) & (scaled_df['scaled_direction'] == 0.0) & (scaled_df['scaled_gross_perfs'] > gross_perfs_scaled_limit)).sum()"
   ]
  },
  {
   "cell_type": "code",
   "execution_count": null,
   "metadata": {},
   "outputs": [],
   "source": [
    "Mid_Hor_High_df = scaled_df[(scaled_df['scaled_sub_basin'] == 1) & (scaled_df['scaled_direction'] == 0.0) & (scaled_df['scaled_gross_perfs'] > gross_perfs_scaled_limit)]\n",
    "Mid_Hor_High_df.sample(5)"
   ]
  },
  {
   "cell_type": "code",
   "execution_count": null,
   "metadata": {},
   "outputs": [],
   "source": [
    "xgb_df = Mid_Hor_High_df.drop(columns=['recovery']).copy()\n",
    "\n",
    "xgb_params = {\n",
    "    'max_depth': 8,\n",
    "    'seed' : 493\n",
    "}\n",
    "dtrain = xgb.DMatrix(xgb_df, Mid_Hor_High_df.recovery, feature_names=xgb_df.columns.values)\n",
    "model = xgb.train(dict(xgb_params, silent=0), dtrain, num_boost_round=50)\n",
    "\n",
    "# plot the important features #\n",
    "fig, ax = plt.subplots(figsize=(12,8))\n",
    "xgb.plot_importance(model, max_num_features=50, height=0.8, ax=ax)\n",
    "plt.title('Midland, Horizontal Wells, Gross Perforations > 6000')\n",
    "plt.show()"
   ]
  },
  {
   "cell_type": "code",
   "execution_count": null,
   "metadata": {},
   "outputs": [],
   "source": [
    "# Independent variables:\n",
    "X_vars = ['scaled_direction', 'scaled_frac_fluid_type', 'scaled_oper', \n",
    "          'scaled_formation', 'scaled_sub_basin', 'scaled_lateral_class', \n",
    "          'scaled_proppant_ppf', 'scaled_frac_fluid_gpf', 'scaled_gross_perfs', \n",
    "          'scaled_frac_stages', 'scaled_oil_gravity', 'scaled_gor_hist', \n",
    "          'scaled_tvd', 'scaled_vintage']\n",
    "\n",
    "# Dependent (target) variable, it is continuous\n",
    "target = ['recovery']\n",
    "\n",
    "X = Mid_Hor_High_df[X_vars].copy()                                                    \n",
    "y = Mid_Hor_High_df[target]\n",
    "\n",
    "# random_state=0 tells the sklearn function that you are not setting a seed\n",
    "# if you want to be able to duplicate results, set random_state to a positive integer\n",
    "X_train, X_test, y_train, y_test = train_test_split(X, y, train_size=.80, random_state=123)\n",
    "\n",
    "train = pd.concat([X_train, y_train], axis=1)\n",
    "test = pd.concat([X_test, y_test], axis=1)\n",
    "\n",
    "reg_df, abs_df, lr, lr.coef_, lr.intercept_, MAE, MSE, r2_train, y_pred, scatter = linreg(X_train, y_train)\n",
    "print('lr.intercept:', lr.intercept_[0])\n",
    "print('MAE:', MAE)\n",
    "print('MSE:', MSE)\n",
    "print('r2_train:', r2_train)\n",
    "reg_df"
   ]
  },
  {
   "cell_type": "code",
   "execution_count": null,
   "metadata": {},
   "outputs": [],
   "source": [
    "print('abs_df:')\n",
    "abs_df.sort_values(by='value', ascending=False)"
   ]
  },
  {
   "cell_type": "markdown",
   "metadata": {},
   "source": [
    "## Test Harness and Options"
   ]
  },
  {
   "cell_type": "markdown",
   "metadata": {},
   "source": [
    "### SVR"
   ]
  },
  {
   "cell_type": "markdown",
   "metadata": {},
   "source": [
    "#### First try on Midland sub-basin, horizontal wells."
   ]
  },
  {
   "cell_type": "code",
   "execution_count": null,
   "metadata": {},
   "outputs": [],
   "source": [
    "Mid_Hor_df = scaled_df[(scaled_df['scaled_sub_basin'] == 1) & (scaled_df['scaled_direction'] == 0.0)]\n",
    "Mid_Hor_df.sample(5)"
   ]
  },
  {
   "cell_type": "markdown",
   "metadata": {},
   "source": [
    "Recommended features:\n",
    "\n",
    "XGB X_vars = ['scaled_proppant_ppf', 'scaled_gor_hist', 'scaled_gross_perfs', 'scaled_frac_fluid_gpf',\n",
    "              'scaled_tvd', 'scaled_oper']\n",
    "\n",
    "\n",
    "LM X_vars = ['scaled_gross_perfs', 'scaled_oil_gravity', 'scaled_tvd', 'scaled_vintage', \n",
    "             'scaled_direction', 'scaled_formation']"
   ]
  },
  {
   "cell_type": "code",
   "execution_count": null,
   "metadata": {},
   "outputs": [],
   "source": [
    "X_vars = ['scaled_proppant_ppf', 'scaled_gor_hist', 'scaled_gross_perfs', \n",
    "          'scaled_frac_fluid_gpf', 'scaled_tvd', 'scaled_oper']\n",
    "\n",
    "# Dependent (target) variable, it is continuous\n",
    "target = ['recovery']\n",
    "\n",
    "X = Mid_Hor_df[X_vars]\n",
    "y = Mid_Hor_df[target]\n",
    "\n",
    "m = SVR(gamma='scale', C=1.0, epsilon=0.2)\n",
    "m_fit = m.fit(X, y) \n",
    "y_pred = m_fit.predict(X)\n",
    "# mean squared error\n",
    "mse = metrics.mean_squared_error(y_pred, y)\n",
    "# root mean squared error\n",
    "rmse = math.sqrt(mse)\n",
    "# r^2\n",
    "r2 = r2_score(y, y_pred)\n",
    "print('r2: ', r2, '   rmse:', rmse, '   mse:', mse)\n",
    "plt.plot(y_pred, 'r-', y, 'b-')\n",
    "\n",
    "plt.figure(figsize=(8,8))\n",
    "ax = plt.subplot(1, 1, 1)\n",
    "ax.plot(y_pred, y, '.')\n",
    "plt.show()\n",
    "\n",
    "# R² is a statistical measure of how close the data are to the fitted \n",
    "# regression line. \n",
    "# R² is the percentage of the response variable variation that is \n",
    "# explained by a linear model. Or:\n",
    "# R² = Explained variation / Total variation\n",
    "# R² is always between 0 and 100%:\n",
    "# 0% indicates that the model explains none of the variability of the response data around its mean.\n",
    "# 100% indicates that the model explains all the variability of the response data around its mean.\n",
    "# In general, the higher the R-squared, the better the model fits your data. \n",
    "\n",
    "# Root Mean Square Error (RMSE) is the standard deviation of the \n",
    "# residuals (prediction errors), a measure of how spread out these \n",
    "# residuals are. In other words, it tells you how concentrated the data \n",
    "# is around the line of best fit.\n",
    "\n",
    "# The mean squared error (MSE) of an estimator measures the average of \n",
    "# the squares of the errors—that is, the average squared difference \n",
    "# between the estimated values and what is estimated. "
   ]
  },
  {
   "cell_type": "code",
   "execution_count": null,
   "metadata": {},
   "outputs": [],
   "source": [
    "X_vars = ['scaled_gross_perfs', 'scaled_oil_gravity', 'scaled_tvd', \n",
    "          'scaled_vintage', 'scaled_direction', 'scaled_formation']\n",
    "\n",
    "# Dependent (target) variable, it is continuous\n",
    "target = ['recovery']\n",
    "\n",
    "X = Mid_Hor_df[X_vars]\n",
    "y = Mid_Hor_df[target]\n",
    "\n",
    "m = SVR(gamma='scale', C=1.0, epsilon=0.2)\n",
    "m_fit = m.fit(X, y) \n",
    "y_pred = m_fit.predict(X)\n",
    "# mean squared error\n",
    "mse = metrics.mean_squared_error(y_pred, y)\n",
    "# root mean squared error\n",
    "rmse = math.sqrt(mse)\n",
    "# r^2\n",
    "r2 = r2_score(y, y_pred)\n",
    "print('r2: ', r2, '   rmse:', rmse, '   mse:', mse)\n",
    "plt.plot(y_pred, 'r-', y, 'b-')\n",
    "\n",
    "plt.figure(figsize=(8,8))\n",
    "ax = plt.subplot(1, 1, 1)\n",
    "ax.plot(y_pred, y, '.')\n",
    "plt.show()"
   ]
  },
  {
   "cell_type": "code",
   "execution_count": null,
   "metadata": {},
   "outputs": [],
   "source": [
    "X_vars = ['scaled_proppant_ppf', 'scaled_gor_hist', 'scaled_gross_perfs', \n",
    "          'scaled_frac_fluid_gpf', 'scaled_tvd', 'scaled_oper']\n",
    "\n",
    "# Dependent (target) variable, it is continuous\n",
    "target = ['recovery']\n",
    "\n",
    "X = Mid_Hor_df[X_vars]\n",
    "y = Mid_Hor_df[target]\n",
    "\n",
    "m = SVR(kernel='rbf', gamma='scale', C=1.0, epsilon=0.2)\n",
    "m_fit = m.fit(X, y) \n",
    "y_pred = m_fit.predict(X)\n",
    "# mean squared error\n",
    "mse = metrics.mean_squared_error(y_pred, y)\n",
    "# root mean squared error\n",
    "rmse = math.sqrt(mse)\n",
    "# r^2\n",
    "r2 = r2_score(y, y_pred)\n",
    "print('r2: ', r2, '   rmse:', rmse, '   mse:', mse)\n",
    "plt.plot(y_pred, 'r-', y, 'b-')\n",
    "\n",
    "plt.figure(figsize=(8,8))\n",
    "ax = plt.subplot(1, 1, 1)\n",
    "ax.plot(y_pred, y, '.')\n",
    "plt.show()"
   ]
  },
  {
   "cell_type": "code",
   "execution_count": null,
   "metadata": {},
   "outputs": [],
   "source": [
    "X_vars = ['scaled_proppant_ppf', 'scaled_gor_hist', 'scaled_gross_perfs', \n",
    "          'scaled_frac_fluid_gpf', 'scaled_tvd', 'scaled_oper']\n",
    "\n",
    "# Dependent (target) variable, it is continuous\n",
    "target = ['recovery']\n",
    "\n",
    "X = Mid_Hor_df[X_vars]\n",
    "y = Mid_Hor_df[target]\n",
    "\n",
    "m = SVR(kernel='linear', gamma='scale', C=1.0, epsilon=0.2)\n",
    "m_fit = m.fit(X, y) \n",
    "y_pred = m_fit.predict(X)\n",
    "# mean squared error\n",
    "mse = metrics.mean_squared_error(y_pred, y)\n",
    "# root mean squared error\n",
    "rmse = math.sqrt(mse)\n",
    "# r^2\n",
    "r2 = r2_score(y, y_pred)\n",
    "print('r2: ', r2, '   rmse:', rmse, '   mse:', mse)\n",
    "plt.plot(y_pred, 'r-', y, 'b-')\n",
    "\n",
    "plt.figure(figsize=(8,8))\n",
    "ax = plt.subplot(1, 1, 1)\n",
    "ax.plot(y_pred, y, '.')\n",
    "plt.show()"
   ]
  },
  {
   "cell_type": "markdown",
   "metadata": {},
   "source": [
    "#### poly kernel is best, but r2 is only .055."
   ]
  },
  {
   "cell_type": "code",
   "execution_count": null,
   "metadata": {},
   "outputs": [],
   "source": [
    "X_vars = ['scaled_proppant_ppf', 'scaled_gor_hist', 'scaled_gross_perfs', \n",
    "          'scaled_frac_fluid_gpf', 'scaled_tvd', 'scaled_oper']\n",
    "\n",
    "# Dependent (target) variable, it is continuous\n",
    "target = ['recovery']\n",
    "\n",
    "X = Mid_Hor_df[X_vars]\n",
    "y = Mid_Hor_df[target]\n",
    "\n",
    "m = SVR(kernel='poly', gamma='scale', C=1.0, epsilon=0.2, degree=25)\n",
    "m_fit = m.fit(X, y) \n",
    "y_pred = m_fit.predict(X)\n",
    "# mean squared error\n",
    "mse = metrics.mean_squared_error(y_pred, y)\n",
    "# root mean squared error\n",
    "rmse = math.sqrt(mse)\n",
    "# r^2\n",
    "r2 = r2_score(y, y_pred)\n",
    "print('r2: ', r2, '   rmse:', rmse, '   mse:', mse)\n",
    "plt.plot(y_pred, 'r-', y, 'b-')\n",
    "\n",
    "plt.figure(figsize=(8,8))\n",
    "ax = plt.subplot(1, 1, 1)\n",
    "ax.plot(y_pred, y, '.')\n",
    "plt.show()"
   ]
  },
  {
   "cell_type": "markdown",
   "metadata": {},
   "source": [
    "#### using features from linear regression model is even better, but still only r2 = .057."
   ]
  },
  {
   "cell_type": "code",
   "execution_count": null,
   "metadata": {},
   "outputs": [],
   "source": [
    "X_vars = ['scaled_gross_perfs', 'scaled_oil_gravity', 'scaled_tvd', \n",
    "          'scaled_vintage', 'scaled_direction', 'scaled_formation']\n",
    "\n",
    "# Dependent (target) variable, it is continuous\n",
    "target = ['recovery']\n",
    "\n",
    "X = Mid_Hor_df[X_vars]\n",
    "y = Mid_Hor_df[target]\n",
    "\n",
    "m = SVR(kernel='poly', gamma='scale', C=1.0, epsilon=0.2, verbose=True)\n",
    "m_fit = m.fit(X, y) \n",
    "y_pred = m_fit.predict(X)\n",
    "# mean squared error\n",
    "mse = metrics.mean_squared_error(y_pred, y)\n",
    "# root mean squared error\n",
    "rmse = math.sqrt(mse)\n",
    "# r^2\n",
    "r2 = r2_score(y, y_pred)\n",
    "print('r2: ', r2, '   rmse:', rmse, '   mse:', mse)\n",
    "plt.plot(y_pred, 'r-', y, 'b-')\n",
    "\n",
    "plt.figure(figsize=(8,8))\n",
    "ax = plt.subplot(1, 1, 1)\n",
    "ax.plot(y_pred, y, '.')\n",
    "plt.show()"
   ]
  },
  {
   "cell_type": "markdown",
   "metadata": {},
   "source": [
    "#### Tried \"cheating\" by adding mid_point_long and mid_point_lat, but still r2 = .06."
   ]
  },
  {
   "cell_type": "code",
   "execution_count": null,
   "metadata": {},
   "outputs": [],
   "source": [
    "numerics = ['int64', 'float64', 'float']\n",
    "\n",
    "temp_df = df.select_dtypes(include=numerics)\n",
    "temp_df = temp_df.drop(columns=['api14', 'proppant_ppf', 'frac_fluid_gpf', \n",
    "        'gross_perfs', 'frac_stages', 'oil_gravity', 'peak_boepd', 'oil_hist', \n",
    "        'gas_hist', 'gor_hist', 'ip90_boeqpd', 'tvd', 'sur_lat', 'sur_long', \n",
    "        'well_id', 'mid_point_lat', 'mid_point_long', 'recovery_per_foot', \n",
    "        'months_active', 'recovery_per_month', 'vintage', 'vintage_bin', \n",
    "        'encoded_direction', 'encoded_frac_fluid_type', 'encoded_county', \n",
    "        'encoded_oper', 'encoded_formation', 'encoded_sub_basin', 'encoded_lateral_class', \n",
    "        'scaled_county'])\n",
    "temp_Mid_Hor_df = temp_df[(scaled_df['scaled_sub_basin'] == 1) & (scaled_df['scaled_direction'] == 0.0)]"
   ]
  },
  {
   "cell_type": "code",
   "execution_count": null,
   "metadata": {},
   "outputs": [],
   "source": [
    "# X_vars = ['scaled_direction', 'scaled_frac_fluid_type', 'scaled_oper', \n",
    "#           'scaled_formation', 'scaled_sub_basin', 'scaled_lateral_class', \n",
    "#           'scaled_proppant_ppf', 'scaled_frac_fluid_gpf', 'scaled_gross_perfs', \n",
    "#           'scaled_frac_stages', 'scaled_oil_gravity', 'scaled_gor_hist', \n",
    "#           'scaled_tvd', 'scaled_vintage']\n",
    "\n",
    "X_vars = ['scaled_gross_perfs', 'scaled_oil_gravity', 'scaled_tvd', \n",
    "          'scaled_vintage', 'scaled_direction', 'scaled_formation',\n",
    "          'scaled_mid_point_lat', 'scaled_mid_point_long']\n",
    "\n",
    "# Dependent (target) variable, it is continuous\n",
    "target = ['recovery']\n",
    "\n",
    "X = temp_Mid_Hor_df[X_vars]\n",
    "y = temp_Mid_Hor_df[target]\n",
    "\n",
    "m = SVR(kernel='poly', gamma='scale', C=1.0, epsilon=0.2)\n",
    "m_fit = m.fit(X, y) \n",
    "y_pred = m_fit.predict(X)\n",
    "# mean squared error\n",
    "mse = metrics.mean_squared_error(y_pred, y)\n",
    "# root mean squared error\n",
    "rmse = math.sqrt(mse)\n",
    "# r^2\n",
    "r2 = r2_score(y, y_pred)\n",
    "print('r2: ', r2, '   rmse:', rmse, '   mse:', mse)\n",
    "plt.plot(y_pred, 'r-', y, 'b-')\n",
    "\n",
    "plt.figure(figsize=(8,8))\n",
    "ax = plt.subplot(1, 1, 1)\n",
    "ax.plot(y_pred, y, '.')\n",
    "plt.show()"
   ]
  },
  {
   "cell_type": "code",
   "execution_count": null,
   "metadata": {},
   "outputs": [],
   "source": []
  },
  {
   "cell_type": "code",
   "execution_count": null,
   "metadata": {},
   "outputs": [],
   "source": []
  },
  {
   "cell_type": "code",
   "execution_count": null,
   "metadata": {},
   "outputs": [],
   "source": [
    "print(__doc__)\n",
    "\n",
    "import numpy as np\n",
    "from sklearn.svm import SVR\n",
    "import matplotlib.pyplot as plt\n",
    "\n",
    "# #############################################################################\n",
    "# Generate sample data\n",
    "X = np.sort(5 * np.random.rand(40, 1), axis=0)\n",
    "y = np.sin(X).ravel()\n",
    "\n",
    "# #############################################################################\n",
    "# Add noise to targets\n",
    "y[::5] += 3 * (0.5 - np.random.rand(8))\n",
    "\n",
    "# #############################################################################\n",
    "# Fit regression model\n",
    "svr_rbf = SVR(kernel='rbf', C=100, gamma=0.1, epsilon=.1)\n",
    "svr_lin = SVR(kernel='linear', C=100, gamma='auto')\n",
    "svr_poly = SVR(kernel='poly', C=100, gamma='auto', degree=3, epsilon=.1,\n",
    "               coef0=1)\n",
    "\n",
    "# #############################################################################\n",
    "# Look at the results\n",
    "lw = 2\n",
    "\n",
    "svrs = [svr_rbf, svr_lin, svr_poly]\n",
    "kernel_label = ['RBF', 'Linear', 'Polynomial']\n",
    "model_color = ['m', 'c', 'g']\n",
    "\n",
    "fig, axes = plt.subplots(nrows=1, ncols=3, figsize=(15, 10), sharey=True)\n",
    "for ix, svr in enumerate(svrs):\n",
    "    axes[ix].plot(X, svr.fit(X, y).predict(X), color=model_color[ix], lw=lw,\n",
    "                  label='{} model'.format(kernel_label[ix]))\n",
    "    axes[ix].scatter(X[svr.support_], y[svr.support_], facecolor=\"none\",\n",
    "                     edgecolor=model_color[ix], s=50,\n",
    "                     label='{} support vectors'.format(kernel_label[ix]))\n",
    "    axes[ix].scatter(X[np.setdiff1d(np.arange(len(X)), svr.support_)],\n",
    "                     y[np.setdiff1d(np.arange(len(X)), svr.support_)],\n",
    "                     facecolor=\"none\", edgecolor=\"k\", s=50,\n",
    "                     label='other training data')\n",
    "    axes[ix].legend(loc='upper center', bbox_to_anchor=(0.5, 1.1),\n",
    "                    ncol=1, fancybox=True, shadow=True)\n",
    "\n",
    "fig.text(0.5, 0.04, 'data', ha='center', va='center')\n",
    "fig.text(0.06, 0.5, 'target', ha='center', va='center', rotation='vertical')\n",
    "fig.suptitle(\"Support Vector Regression\", fontsize=14)\n",
    "plt.show()"
   ]
  },
  {
   "cell_type": "code",
   "execution_count": null,
   "metadata": {},
   "outputs": [],
   "source": [
    "print(__doc__)\n",
    "\n",
    "import numpy as np\n",
    "from sklearn.svm import SVR\n",
    "import matplotlib.pyplot as plt\n",
    "\n",
    "# #############################################################################\n",
    "# X_vars = ['scaled_proppant_ppf', 'scaled_gor_hist', 'scaled_gross_perfs', \n",
    "#           'scaled_frac_fluid_gpf', 'scaled_tvd', 'scaled_oper']\n",
    "X_vars = ['scaled_proppant_ppf']\n",
    "\n",
    "# Dependent (target) variable, it is continuous\n",
    "target = ['recovery']\n",
    "\n",
    "X = Mid_Hor_df[X_vars]\n",
    "y = Mid_Hor_df[target]\n",
    "\n",
    "# #############################################################################\n",
    "# Fit regression model\n",
    "svr_rbf = SVR(kernel='rbf', C=1.0, gamma='scale', epsilon=.2)\n",
    "svr_lin = SVR(kernel='linear', C=1.0, gamma='scale')\n",
    "svr_poly = SVR(kernel='poly', C=1.0, gamma='scale', degree=3, epsilon=.2,\n",
    "               coef0=1)\n",
    "\n",
    "# #############################################################################\n",
    "# Look at the results\n",
    "lw = 2\n",
    "\n",
    "svrs = [svr_rbf, svr_lin, svr_poly]\n",
    "kernel_label = ['RBF', 'Linear', 'Polynomial']\n",
    "model_color = ['m', 'c', 'g']\n",
    "\n",
    "fig, axes = plt.subplots(nrows=1, ncols=3, figsize=(15, 10), sharey=True)\n",
    "for ix, svr in enumerate(svrs):\n",
    "    print(ix)\n",
    "    print(svr)\n",
    "    print()\n",
    "    axes[ix].plot(X, svr.fit(X, y).predict(X), color=model_color[ix], lw=lw,\n",
    "                  label='{} model'.format(kernel_label[ix]))\n",
    "#     axes[ix].scatter(X[svr.support_], y[svr.support_], facecolor=\"none\",\n",
    "#                      edgecolor=model_color[ix], s=50,\n",
    "#                      label='{} support vectors'.format(kernel_label[ix]))\n",
    "#     axes[ix].scatter(X[np.setdiff1d(np.arange(len(X)), svr.support_)],\n",
    "#                      y[np.setdiff1d(np.arange(len(X)), svr.support_)],\n",
    "#                      facecolor=\"none\", edgecolor=\"k\", s=50,\n",
    "#                      label='other training data')\n",
    "    axes[ix].legend(loc='upper center', bbox_to_anchor=(0.5, 1.1),\n",
    "                        ncol=1, fancybox=True, shadow=True)\n",
    "\n",
    "fig.text(0.5, 0.04, 'data', ha='center', va='center')\n",
    "fig.text(0.06, 0.5, 'target', ha='center', va='center', rotation='vertical')\n",
    "fig.suptitle(\"Support Vector Regression\", fontsize=14)\n",
    "plt.show()\n",
    "\n",
    "# This is the code that worked above, but only on one at a time.\n",
    "# m = SVR(gamma='scale', C=1.0, epsilon=0.2)\n",
    "# m_fit = m.fit(X, y) \n",
    "# y_pred = m_fit.predict(X)\n",
    "# plt.plot(y_pred, 'r-', y, 'b-')\n",
    "\n",
    "# plt.figure(figsize=(8,8))\n",
    "# ax = plt.subplot(1, 1, 1)\n",
    "# ax.plot(y_pred, y, '.')\n",
    "# plt.show()"
   ]
  },
  {
   "cell_type": "markdown",
   "metadata": {},
   "source": [
    "### From curriculum:"
   ]
  },
  {
   "cell_type": "code",
   "execution_count": null,
   "metadata": {},
   "outputs": [],
   "source": [
    "SVR_XGB_df = Mid_Hor_df[['scaled_proppant_ppf', 'scaled_gor_hist', 'scaled_gross_perfs', 'scaled_frac_fluid_gpf', 'scaled_tvd', 'scaled_oper']]\n",
    "SVR_XGB_df.sample(5)"
   ]
  },
  {
   "cell_type": "code",
   "execution_count": null,
   "metadata": {},
   "outputs": [],
   "source": [
    "X_vars = ['scaled_proppant_ppf', 'scaled_gor_hist', 'scaled_gross_perfs', \n",
    "          'scaled_frac_fluid_gpf', 'scaled_tvd', 'scaled_oper']\n",
    "\n",
    "# Dependent (target) variable, it is continuous\n",
    "target = ['recovery']\n",
    "\n",
    "X = Mid_Hor_df[X_vars]\n",
    "y = Mid_Hor_df[target]\n",
    "\n",
    "m = SVR(gamma='scale', C=1.0, epsilon=0.2)\n",
    "m_fit = m.fit(X, y) \n",
    "y_pred = m_fit.predict(X)\n",
    "# mean squared error\n",
    "mse = metrics.mean_squared_error(y_pred, y)\n",
    "# root mean squared error\n",
    "rmse = math.sqrt(mse)\n",
    "# r^2\n",
    "r2 = r2_score(y, y_pred)\n",
    "print('r2: ', r2, '   rmse:', rmse, '   mse:', mse)\n",
    "plt.plot(y_pred, 'r-', y, 'b-')\n",
    "\n",
    "plt.figure(figsize=(8,8))\n",
    "ax = plt.subplot(1, 1, 1)\n",
    "ax.plot(y_pred, y, '.')\n",
    "plt.show()"
   ]
  },
  {
   "cell_type": "code",
   "execution_count": null,
   "metadata": {},
   "outputs": [],
   "source": [
    "# Independent variables:\n",
    "X_vars = ['scaled_proppant_ppf', 'scaled_gor_hist', 'scaled_gross_perfs', \n",
    "          'scaled_frac_fluid_gpf', 'scaled_tvd', 'scaled_oper']\n",
    "\n",
    "# Dependent (target) variable, it is continuous\n",
    "target = ['recovery']\n",
    "\n",
    "X = Mid_Hor_df[X_vars]\n",
    "y = Mid_Hor_df[target]\n",
    "\n",
    "\n",
    "# random_state=0 tells the sklearn function that you are not setting a seed\n",
    "# if you want to be able to duplicate results, set random_state to a positive integer\n",
    "X_train, X_test, y_train, y_test = train_test_split(X, y, train_size=.80, random_state=123)\n",
    "\n",
    "train = np.array(pd.concat([X_train, y_train], axis=1))\n",
    "test = np.array(pd.concat([X_test, y_test], axis=1))"
   ]
  },
  {
   "cell_type": "markdown",
   "metadata": {},
   "source": [
    "#### Create the Support Vector Regressor Object"
   ]
  },
  {
   "cell_type": "code",
   "execution_count": null,
   "metadata": {},
   "outputs": [],
   "source": [
    "m = SVR(kernel='rbf', C=1, gamma=0.1)\n",
    "# C is our regularization constant\n",
    "m_fit = m.fit(X_train, y_train)"
   ]
  },
  {
   "cell_type": "markdown",
   "metadata": {},
   "source": [
    "#### Predict in-sample/training dataset"
   ]
  },
  {
   "cell_type": "code",
   "execution_count": null,
   "metadata": {},
   "outputs": [],
   "source": [
    "y_pred = m_fit.predict(X_train)"
   ]
  },
  {
   "cell_type": "markdown",
   "metadata": {},
   "source": [
    "#### Evaluate"
   ]
  },
  {
   "cell_type": "code",
   "execution_count": null,
   "metadata": {},
   "outputs": [],
   "source": [
    "# mean squared error\n",
    "mse = metrics.mean_squared_error(y_pred, y_train)\n",
    "print(mse)"
   ]
  },
  {
   "cell_type": "code",
   "execution_count": null,
   "metadata": {},
   "outputs": [],
   "source": [
    "# root mean squared error\n",
    "import math\n",
    "rmse = math.sqrt(mse)\n",
    "print(rmse)"
   ]
  },
  {
   "cell_type": "markdown",
   "metadata": {},
   "source": [
    "#### Plot the predicted data"
   ]
  },
  {
   "cell_type": "code",
   "execution_count": null,
   "metadata": {},
   "outputs": [],
   "source": [
    "plt.plot(y_pred, 'b-', y_train, 'r-')"
   ]
  },
  {
   "cell_type": "markdown",
   "metadata": {},
   "source": [
    "#### Plot the predicted values with the actual values"
   ]
  },
  {
   "cell_type": "code",
   "execution_count": null,
   "metadata": {},
   "outputs": [],
   "source": [
    "plt.figure(figsize=(8,8))\n",
    "ax = plt.subplot(1, 1, 1)\n",
    "ax.plot(y_pred, y_train, '.')\n",
    "plt.show()"
   ]
  },
  {
   "cell_type": "markdown",
   "metadata": {},
   "source": [
    "#### Predict on out-of-sample/test dataset"
   ]
  },
  {
   "cell_type": "code",
   "execution_count": null,
   "metadata": {},
   "outputs": [],
   "source": [
    "y_pred = m_fit.predict(X_test)"
   ]
  },
  {
   "cell_type": "markdown",
   "metadata": {},
   "source": [
    "#### Evaluate"
   ]
  },
  {
   "cell_type": "code",
   "execution_count": null,
   "metadata": {},
   "outputs": [],
   "source": [
    "# mean squared error\n",
    "mse = metrics.mean_squared_error(y_pred, y_test)\n",
    "print(mse)"
   ]
  },
  {
   "cell_type": "code",
   "execution_count": null,
   "metadata": {},
   "outputs": [],
   "source": [
    "# root mean squared error\n",
    "import math\n",
    "rmse = math.sqrt(mse)\n",
    "print(rmse)"
   ]
  },
  {
   "cell_type": "markdown",
   "metadata": {},
   "source": [
    "#### Plot Predictions"
   ]
  },
  {
   "cell_type": "code",
   "execution_count": null,
   "metadata": {},
   "outputs": [],
   "source": [
    "plt.plot(y_pred, 'b-', y_test, 'r-')"
   ]
  },
  {
   "cell_type": "code",
   "execution_count": null,
   "metadata": {},
   "outputs": [],
   "source": []
  },
  {
   "cell_type": "code",
   "execution_count": null,
   "metadata": {},
   "outputs": [],
   "source": []
  },
  {
   "cell_type": "code",
   "execution_count": null,
   "metadata": {},
   "outputs": [],
   "source": []
  },
  {
   "cell_type": "markdown",
   "metadata": {},
   "source": [
    "# Need to add filter_columns for the following to work."
   ]
  },
  {
   "cell_type": "markdown",
   "metadata": {},
   "source": [
    "## Explore and select algorithms"
   ]
  },
  {
   "cell_type": "code",
   "execution_count": null,
   "metadata": {},
   "outputs": [],
   "source": [
    "def filter_columns(df,listofcolumns):\n",
    "    #   ''' arguments - (dataframe), columns to include in returned dataframe\n",
    "    #  ''' \n",
    "    newdf = df.copy()\n",
    "    col_list = df.columns \n",
    "    for column in col_list:\n",
    "        if column not in listofcolumns:\n",
    "            newdf.drop([column], axis=1, inplace=True)\n",
    "    return newdf"
   ]
  },
  {
   "cell_type": "code",
   "execution_count": null,
   "metadata": {},
   "outputs": [],
   "source": [
    "def lregressiontest(df,xfeatures,yfeature,train_size):\n",
    "    y = df[yfeature]\n",
    "    X = filter_columns(df,xfeatures)\n",
    "    X_train, X_test, y_train, y_test = train_test_split(X, y, train_size=.80, random_state=123)\n",
    "    train = pd.concat([X_train, y_train], axis=1)\n",
    "    test = pd.concat([X_test, y_test], axis=1)\n",
    "\n",
    "    column_names = X_train.columns\n",
    "    r_and_p_values = [pearsonr(X_train[col], y_train) for col in column_names]\n",
    "    corrdict = dict(zip(column_names, r_and_p_values))\n",
    "\n",
    "    ols_model = sm.OLS(y_train, X_train)\n",
    "    fit = ols_model.fit()\n",
    "    lm1 = LinearRegression(fit_intercept=False) \n",
    "    lm1.fit(X_train[xfeatures], y_train)\n",
    "    LinearRegression(copy_X=True, fit_intercept=False, n_jobs=None,\n",
    "         normalize=False)\n",
    "    lm1_y_intercept = lm1.intercept_\n",
    "    lm1_coefficients = lm1.coef_\n",
    "    y_pred_lm1 = lm1.predict(X_train[xfeatures])\n",
    "    mse = mean_squared_error(y_train, y_pred_lm1)\n",
    "    r2 = r2_score(y_train, y_pred_lm1)\n",
    "    return mse, r2, corrdict\n"
   ]
  },
  {
   "cell_type": "code",
   "execution_count": null,
   "metadata": {},
   "outputs": [],
   "source": [
    "X_vars = ['proppant_ppf', 'gor_hist', 'frac_fluid_gpf', \n",
    "          'months_active', 'lateral_len', 'ip90_boeqpd', 'county']\n",
    "\n",
    "lregressiontest(scaled_df, X_vars, 'recovery', .8)"
   ]
  },
  {
   "cell_type": "code",
   "execution_count": null,
   "metadata": {},
   "outputs": [],
   "source": []
  },
  {
   "cell_type": "code",
   "execution_count": null,
   "metadata": {},
   "outputs": [],
   "source": []
  },
  {
   "cell_type": "code",
   "execution_count": null,
   "metadata": {},
   "outputs": [],
   "source": []
  },
  {
   "cell_type": "code",
   "execution_count": null,
   "metadata": {},
   "outputs": [],
   "source": []
  },
  {
   "cell_type": "code",
   "execution_count": null,
   "metadata": {},
   "outputs": [],
   "source": []
  },
  {
   "cell_type": "markdown",
   "metadata": {},
   "source": [
    "## Interpret and report results"
   ]
  },
  {
   "cell_type": "code",
   "execution_count": null,
   "metadata": {},
   "outputs": [],
   "source": []
  },
  {
   "cell_type": "markdown",
   "metadata": {},
   "source": [
    "# Improve Results"
   ]
  },
  {
   "cell_type": "markdown",
   "metadata": {},
   "source": [
    "## Algorithm Tuning"
   ]
  },
  {
   "cell_type": "code",
   "execution_count": null,
   "metadata": {},
   "outputs": [],
   "source": []
  },
  {
   "cell_type": "markdown",
   "metadata": {},
   "source": [
    "## Ensemble Methods"
   ]
  },
  {
   "cell_type": "markdown",
   "metadata": {},
   "source": [
    "### Bagging"
   ]
  },
  {
   "cell_type": "code",
   "execution_count": null,
   "metadata": {},
   "outputs": [],
   "source": []
  },
  {
   "cell_type": "markdown",
   "metadata": {},
   "source": [
    "### Boosting"
   ]
  },
  {
   "cell_type": "code",
   "execution_count": null,
   "metadata": {},
   "outputs": [],
   "source": []
  },
  {
   "cell_type": "markdown",
   "metadata": {},
   "source": [
    "### Blending"
   ]
  },
  {
   "cell_type": "code",
   "execution_count": null,
   "metadata": {},
   "outputs": [],
   "source": []
  },
  {
   "cell_type": "markdown",
   "metadata": {},
   "source": [
    "## Extreme Feature Engineering"
   ]
  },
  {
   "cell_type": "code",
   "execution_count": null,
   "metadata": {},
   "outputs": [],
   "source": []
  }
 ],
 "metadata": {
  "kernelspec": {
   "display_name": "Python 3",
   "language": "python",
   "name": "python3"
  },
  "language_info": {
   "codemirror_mode": {
    "name": "ipython",
    "version": 3
   },
   "file_extension": ".py",
   "mimetype": "text/x-python",
   "name": "python",
   "nbconvert_exporter": "python",
   "pygments_lexer": "ipython3",
   "version": "3.7.1"
  }
 },
 "nbformat": 4,
 "nbformat_minor": 2
}
