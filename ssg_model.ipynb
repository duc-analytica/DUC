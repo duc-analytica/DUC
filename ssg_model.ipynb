{
 "cells": [
  {
   "cell_type": "code",
   "execution_count": 1,
   "metadata": {},
   "outputs": [],
   "source": [
    "# ignore warnings\n",
    "import warnings\n",
    "warnings.filterwarnings(\"ignore\")\n",
    "\n",
    "# Wrangling\n",
    "from acquire_prepare import acquire_oil\n",
    "from acquire_prepare import prep_data\n",
    "from model import get_scaled_df\n",
    "import numpy as np\n",
    "import pandas as pd\n",
    "\n",
    "# Visualizing\n",
    "import matplotlib.pyplot as plt\n",
    "import matplotlib\n",
    "import seaborn as sns\n",
    "%matplotlib inline\n",
    "import sys # used in command to make entire array print by default\n",
    "\n",
    "\n",
    "# Modeling\n",
    "from sklearn.preprocessing import LabelEncoder\n",
    "from sklearn.preprocessing import MinMaxScaler\n",
    "import xgboost as xgb\n",
    "from sklearn.decomposition import PCA\n",
    "from sklearn.model_selection import train_test_split\n",
    "from sklearn.linear_model import LinearRegression\n",
    "from sklearn.metrics import mean_squared_error, r2_score, mean_absolute_error, median_absolute_error\n",
    "\n",
    "# data manipulation \n",
    "import statsmodels.api as sm\n",
    "from sklearn.svm import SVR\n",
    "from sklearn import svm\n",
    "from sklearn import metrics\n",
    "import math\n",
    "from sklearn.model_selection import TimeSeriesSplit"
   ]
  },
  {
   "cell_type": "code",
   "execution_count": 2,
   "metadata": {},
   "outputs": [],
   "source": [
    "def filter_columns(df,listofcolumns):\n",
    "    #   ''' arguments - (dataframe), columns to include in returned dataframe\n",
    "    #  ''' \n",
    "    newdf = df.copy()\n",
    "    col_list = df.columns \n",
    "    for column in col_list:\n",
    "        if column not in listofcolumns:\n",
    "            newdf.drop([column], axis=1, inplace=True)\n",
    "    return newdf\n",
    "\n",
    "def lregressiontest(df,xfeatures,yfeature,train_size):\n",
    "    y = df[yfeature]\n",
    "    X = filter_columns(df,xfeatures)\n",
    "    X_train, X_test, y_train, y_test = train_test_split(X, y, train_size=.80, random_state=123)\n",
    "    train = pd.concat([X_train, y_train], axis=1)\n",
    "    test = pd.concat([X_test, y_test], axis=1)\n",
    "\n",
    "    column_names = X_train.columns\n",
    "    r_and_p_values = [pearsonr(X_train[col], y_train) for col in column_names]\n",
    "    corrdict = dict(zip(column_names, r_and_p_values))\n",
    "\n",
    "    ols_model = sm.OLS(y_train, X_train)\n",
    "    fit = ols_model.fit()\n",
    "    lm1 = LinearRegression(fit_intercept=False) \n",
    "    lm1.fit(X_train[xfeatures], y_train)\n",
    "    LinearRegression(copy_X=True, fit_intercept=False, n_jobs=None,\n",
    "         normalize=False)\n",
    "    lm1_y_intercept = lm1.intercept_\n",
    "    lm1_coefficients = lm1.coef_\n",
    "    y_pred_lm1 = lm1.predict(X_train[xfeatures])\n",
    "    mse = mean_squared_error(y_train, y_pred_lm1)\n",
    "    r2 = r2_score(y_train, y_pred_lm1)\n",
    "    return mse, r2, corrdict\n",
    "\n",
    "\n",
    "\n",
    "\n",
    "def linreg(X_train, y_train):\n",
    "    lr = LinearRegression()\n",
    "    lr.fit(X_train, y_train)\n",
    "    y_pred = lr.predict(X_train)\n",
    "    MAE = median_absolute_error(y_train, y_pred)\n",
    "    MSE = mean_squared_error(y_train, y_pred)\n",
    "    r2_train = r2_score(y_train, y_pred)\n",
    "    scatter = sns.scatterplot(x = y_train.recovery, y = y_pred.ravel())\n",
    "    reg_df = pd.DataFrame(lr.coef_, columns=X_vars)\n",
    "    reg_df = reg_df.transpose().sort_values(by=0, ascending=False)\n",
    "    reg_df.rename(index=str, columns={0: 'value'}, inplace=True)\n",
    "    abs_df = reg_df.copy()\n",
    "    abs_df['value'] = abs(abs_df['value'])\n",
    "    abs_df.sort_values(by='value', ascending=False)\n",
    "    return reg_df, abs_df, lr, lr.coef_, lr.intercept_, MAE, MSE, r2_train, y_pred, scatter\n",
    "\n",
    "def ridge(X_train, y_train):\n",
    "    rr = Ridge(alpha=.5)\n",
    "    rr.fit(X_train, y_train)\n",
    "    y_pred = rr.predict((X_train))\n",
    "    MAE = median_absolute_error(y_train, y_pred)\n",
    "    MSE = mean_squared_error(y_train, y_pred)\n",
    "    scatter = sns.scatterplot(x = y_train, y = y_pred.ravel())\n",
    "    return rr, rr.coef_, rr.intercept_, MAE, MSE, y_pred, scatter\n",
    "\n",
    "def svm(X_train, y_train):\n",
    "    svr_rbf = SVR(kernel='rbf', C=100, gamma=0.1, epsilon=.1)\n",
    "    svr_lin = SVR(kernel='linear', C=100, gamma='auto')\n",
    "    svr_poly = SVR(kernel='poly', C=100, gamma='auto', degree=3, epsilon=.1,\n",
    "               coef0=1)\n",
    "    y_rbf = svr_rbf.fit(X_train, y_train).predict(X_train)\n",
    "    y_lin = svr_lin.fit(X_train, y_train).predict(X_train)\n",
    "    y_poly = svr_poly.fit(X_train, y_train).predict(X_train)\n",
    "    MSE_rbf = mean_squared_error(y_train, y_rbf)\n",
    "    MSE_lin = mean_squared_error(y_train, y_lin)\n",
    "    MSE_poly = mean_squared_error(y_train, y_poly)\n",
    "    return svr_rbf, svr_lin, svr_poly, MSE_rbf, MSE_lin, MSE_poly, y_rbf, y_lin, y_poly"
   ]
  },
  {
   "cell_type": "code",
   "execution_count": 3,
   "metadata": {},
   "outputs": [
    {
     "data": {
      "text/plain": [
       "(7888, 63)"
      ]
     },
     "execution_count": 3,
     "metadata": {},
     "output_type": "execute_result"
    }
   ],
   "source": [
    "df = acquire_oil()\n",
    "df = prep_data(df)\n",
    "df.reset_index(inplace=True)\n",
    "df.shape"
   ]
  },
  {
   "cell_type": "code",
   "execution_count": 4,
   "metadata": {},
   "outputs": [
    {
     "data": {
      "text/plain": [
       "index                      0\n",
       "api14                      0\n",
       "lease_name                 0\n",
       "well_number                0\n",
       "county                     0\n",
       "direction                  0\n",
       "status                     0\n",
       "oper                       0\n",
       "multi_well_lease           0\n",
       "major_phase                0\n",
       "formation                  0\n",
       "proppant_ppf               0\n",
       "prod_method                0\n",
       "frac_fluid_gpf             0\n",
       "gross_perfs                0\n",
       "frac_stages                0\n",
       "frac_fluid_type            0\n",
       "first_prod                 0\n",
       "last_prod                  0\n",
       "oil_gravity                0\n",
       "peak_boepd                 0\n",
       "oil_hist                   0\n",
       "gas_hist                   0\n",
       "gor_hist                   0\n",
       "ip90_boeqpd                0\n",
       "tvd                        0\n",
       "sur_lat                    0\n",
       "sur_long                   0\n",
       "well_id                    0\n",
       "mid_point_lat              0\n",
       "                          ..\n",
       "recovery_per_foot          0\n",
       "months_active              0\n",
       "recovery_per_month         0\n",
       "lateral_class              0\n",
       "vintage                    0\n",
       "vintage_bin                0\n",
       "encoded_direction          0\n",
       "encoded_frac_fluid_type    0\n",
       "encoded_county             0\n",
       "encoded_oper               0\n",
       "encoded_formation          0\n",
       "encoded_sub_basin          0\n",
       "encoded_lateral_class      0\n",
       "scaled_direction           0\n",
       "scaled_frac_fluid_type     0\n",
       "scaled_county              0\n",
       "scaled_oper                0\n",
       "scaled_formation           0\n",
       "scaled_sub_basin           0\n",
       "scaled_lateral_class       0\n",
       "scaled_proppant_ppf        0\n",
       "scaled_frac_fluid_gpf      0\n",
       "scaled_gross_perfs         0\n",
       "scaled_frac_stages         0\n",
       "scaled_oil_gravity         0\n",
       "scaled_gor_hist            0\n",
       "scaled_tvd                 0\n",
       "scaled_mid_point_lat       0\n",
       "scaled_mid_point_long      0\n",
       "scaled_vintage             0\n",
       "Length: 63, dtype: int64"
      ]
     },
     "execution_count": 4,
     "metadata": {},
     "output_type": "execute_result"
    }
   ],
   "source": [
    "df.isnull().sum()"
   ]
  },
  {
   "cell_type": "code",
   "execution_count": 5,
   "metadata": {},
   "outputs": [
    {
     "data": {
      "text/html": [
       "<div>\n",
       "<style scoped>\n",
       "    .dataframe tbody tr th:only-of-type {\n",
       "        vertical-align: middle;\n",
       "    }\n",
       "\n",
       "    .dataframe tbody tr th {\n",
       "        vertical-align: top;\n",
       "    }\n",
       "\n",
       "    .dataframe thead th {\n",
       "        text-align: right;\n",
       "    }\n",
       "</style>\n",
       "<table border=\"1\" class=\"dataframe\">\n",
       "  <thead>\n",
       "    <tr style=\"text-align: right;\">\n",
       "      <th></th>\n",
       "      <th>proppant_ppf</th>\n",
       "      <th>frac_fluid_gpf</th>\n",
       "      <th>gross_perfs</th>\n",
       "      <th>frac_stages</th>\n",
       "      <th>oil_gravity</th>\n",
       "      <th>peak_boepd</th>\n",
       "      <th>oil_hist</th>\n",
       "      <th>gas_hist</th>\n",
       "      <th>gor_hist</th>\n",
       "      <th>ip90_boeqpd</th>\n",
       "      <th>...</th>\n",
       "      <th>scaled_proppant_ppf</th>\n",
       "      <th>scaled_frac_fluid_gpf</th>\n",
       "      <th>scaled_gross_perfs</th>\n",
       "      <th>scaled_frac_stages</th>\n",
       "      <th>scaled_oil_gravity</th>\n",
       "      <th>scaled_gor_hist</th>\n",
       "      <th>scaled_tvd</th>\n",
       "      <th>scaled_mid_point_lat</th>\n",
       "      <th>scaled_mid_point_long</th>\n",
       "      <th>scaled_vintage</th>\n",
       "    </tr>\n",
       "  </thead>\n",
       "  <tbody>\n",
       "    <tr>\n",
       "      <th>count</th>\n",
       "      <td>7888.000000</td>\n",
       "      <td>7888.000000</td>\n",
       "      <td>7888.000000</td>\n",
       "      <td>7888.000000</td>\n",
       "      <td>7888.000000</td>\n",
       "      <td>7888.000000</td>\n",
       "      <td>7888.000000</td>\n",
       "      <td>7888.000000</td>\n",
       "      <td>7888.000000</td>\n",
       "      <td>7888.000000</td>\n",
       "      <td>...</td>\n",
       "      <td>7888.000000</td>\n",
       "      <td>7888.000000</td>\n",
       "      <td>7888.000000</td>\n",
       "      <td>7888.000000</td>\n",
       "      <td>7888.000000</td>\n",
       "      <td>7888.000000</td>\n",
       "      <td>7888.000000</td>\n",
       "      <td>7888.000000</td>\n",
       "      <td>7888.000000</td>\n",
       "      <td>7888.000000</td>\n",
       "    </tr>\n",
       "    <tr>\n",
       "      <th>mean</th>\n",
       "      <td>1129.177020</td>\n",
       "      <td>1142.213462</td>\n",
       "      <td>5732.858773</td>\n",
       "      <td>3.204488</td>\n",
       "      <td>1.862447</td>\n",
       "      <td>508.725133</td>\n",
       "      <td>120.070635</td>\n",
       "      <td>385.288562</td>\n",
       "      <td>3888.944514</td>\n",
       "      <td>349.246186</td>\n",
       "      <td>...</td>\n",
       "      <td>0.284274</td>\n",
       "      <td>0.380934</td>\n",
       "      <td>0.421953</td>\n",
       "      <td>0.045778</td>\n",
       "      <td>0.027389</td>\n",
       "      <td>0.194749</td>\n",
       "      <td>0.520577</td>\n",
       "      <td>0.393372</td>\n",
       "      <td>0.647040</td>\n",
       "      <td>0.895554</td>\n",
       "    </tr>\n",
       "    <tr>\n",
       "      <th>std</th>\n",
       "      <td>656.539972</td>\n",
       "      <td>714.303891</td>\n",
       "      <td>2945.296014</td>\n",
       "      <td>9.336062</td>\n",
       "      <td>9.188722</td>\n",
       "      <td>443.645469</td>\n",
       "      <td>95.660116</td>\n",
       "      <td>387.207769</td>\n",
       "      <td>3815.982884</td>\n",
       "      <td>315.135247</td>\n",
       "      <td>...</td>\n",
       "      <td>0.165447</td>\n",
       "      <td>0.238298</td>\n",
       "      <td>0.216933</td>\n",
       "      <td>0.133372</td>\n",
       "      <td>0.135128</td>\n",
       "      <td>0.191106</td>\n",
       "      <td>0.254807</td>\n",
       "      <td>0.145262</td>\n",
       "      <td>0.208235</td>\n",
       "      <td>0.136712</td>\n",
       "    </tr>\n",
       "    <tr>\n",
       "      <th>min</th>\n",
       "      <td>1.098097</td>\n",
       "      <td>0.354610</td>\n",
       "      <td>4.000000</td>\n",
       "      <td>0.000000</td>\n",
       "      <td>0.000000</td>\n",
       "      <td>0.663017</td>\n",
       "      <td>0.031000</td>\n",
       "      <td>0.001000</td>\n",
       "      <td>0.212134</td>\n",
       "      <td>0.001812</td>\n",
       "      <td>...</td>\n",
       "      <td>0.000000</td>\n",
       "      <td>0.000000</td>\n",
       "      <td>0.000000</td>\n",
       "      <td>0.000000</td>\n",
       "      <td>0.000000</td>\n",
       "      <td>0.000000</td>\n",
       "      <td>0.000000</td>\n",
       "      <td>0.000000</td>\n",
       "      <td>0.000000</td>\n",
       "      <td>0.000000</td>\n",
       "    </tr>\n",
       "    <tr>\n",
       "      <th>25%</th>\n",
       "      <td>525.892109</td>\n",
       "      <td>499.423181</td>\n",
       "      <td>4056.250000</td>\n",
       "      <td>0.000000</td>\n",
       "      <td>0.000000</td>\n",
       "      <td>159.810463</td>\n",
       "      <td>46.481500</td>\n",
       "      <td>110.739000</td>\n",
       "      <td>1422.937793</td>\n",
       "      <td>94.906605</td>\n",
       "      <td>...</td>\n",
       "      <td>0.132247</td>\n",
       "      <td>0.166494</td>\n",
       "      <td>0.298464</td>\n",
       "      <td>0.000000</td>\n",
       "      <td>0.000000</td>\n",
       "      <td>0.071251</td>\n",
       "      <td>0.462055</td>\n",
       "      <td>0.280652</td>\n",
       "      <td>0.579955</td>\n",
       "      <td>0.900000</td>\n",
       "    </tr>\n",
       "    <tr>\n",
       "      <th>50%</th>\n",
       "      <td>1156.356260</td>\n",
       "      <td>1222.371400</td>\n",
       "      <td>6242.000000</td>\n",
       "      <td>0.000000</td>\n",
       "      <td>0.000000</td>\n",
       "      <td>429.084519</td>\n",
       "      <td>101.236000</td>\n",
       "      <td>284.305000</td>\n",
       "      <td>2491.502805</td>\n",
       "      <td>292.328796</td>\n",
       "      <td>...</td>\n",
       "      <td>0.291123</td>\n",
       "      <td>0.407675</td>\n",
       "      <td>0.459453</td>\n",
       "      <td>0.000000</td>\n",
       "      <td>0.000000</td>\n",
       "      <td>0.124765</td>\n",
       "      <td>0.589809</td>\n",
       "      <td>0.383685</td>\n",
       "      <td>0.696075</td>\n",
       "      <td>0.933333</td>\n",
       "    </tr>\n",
       "    <tr>\n",
       "      <th>75%</th>\n",
       "      <td>1594.793975</td>\n",
       "      <td>1653.074860</td>\n",
       "      <td>7723.250000</td>\n",
       "      <td>0.000000</td>\n",
       "      <td>0.000000</td>\n",
       "      <td>732.588900</td>\n",
       "      <td>172.310750</td>\n",
       "      <td>542.369000</td>\n",
       "      <td>4906.603828</td>\n",
       "      <td>508.700090</td>\n",
       "      <td>...</td>\n",
       "      <td>0.401608</td>\n",
       "      <td>0.551362</td>\n",
       "      <td>0.568553</td>\n",
       "      <td>0.000000</td>\n",
       "      <td>0.000000</td>\n",
       "      <td>0.245714</td>\n",
       "      <td>0.693837</td>\n",
       "      <td>0.478842</td>\n",
       "      <td>0.797456</td>\n",
       "      <td>0.950000</td>\n",
       "    </tr>\n",
       "    <tr>\n",
       "      <th>max</th>\n",
       "      <td>3969.384520</td>\n",
       "      <td>2997.879640</td>\n",
       "      <td>13581.000000</td>\n",
       "      <td>70.000000</td>\n",
       "      <td>68.000000</td>\n",
       "      <td>6118.757000</td>\n",
       "      <td>754.662000</td>\n",
       "      <td>4007.768000</td>\n",
       "      <td>19968.130000</td>\n",
       "      <td>4752.926000</td>\n",
       "      <td>...</td>\n",
       "      <td>1.000000</td>\n",
       "      <td>1.000000</td>\n",
       "      <td>1.000000</td>\n",
       "      <td>1.000000</td>\n",
       "      <td>1.000000</td>\n",
       "      <td>1.000000</td>\n",
       "      <td>1.000000</td>\n",
       "      <td>1.000000</td>\n",
       "      <td>1.000000</td>\n",
       "      <td>1.000000</td>\n",
       "    </tr>\n",
       "  </tbody>\n",
       "</table>\n",
       "<p>8 rows × 43 columns</p>\n",
       "</div>"
      ],
      "text/plain": [
       "       proppant_ppf  frac_fluid_gpf   gross_perfs  frac_stages  oil_gravity  \\\n",
       "count   7888.000000     7888.000000   7888.000000  7888.000000  7888.000000   \n",
       "mean    1129.177020     1142.213462   5732.858773     3.204488     1.862447   \n",
       "std      656.539972      714.303891   2945.296014     9.336062     9.188722   \n",
       "min        1.098097        0.354610      4.000000     0.000000     0.000000   \n",
       "25%      525.892109      499.423181   4056.250000     0.000000     0.000000   \n",
       "50%     1156.356260     1222.371400   6242.000000     0.000000     0.000000   \n",
       "75%     1594.793975     1653.074860   7723.250000     0.000000     0.000000   \n",
       "max     3969.384520     2997.879640  13581.000000    70.000000    68.000000   \n",
       "\n",
       "        peak_boepd     oil_hist     gas_hist      gor_hist  ip90_boeqpd  \\\n",
       "count  7888.000000  7888.000000  7888.000000   7888.000000  7888.000000   \n",
       "mean    508.725133   120.070635   385.288562   3888.944514   349.246186   \n",
       "std     443.645469    95.660116   387.207769   3815.982884   315.135247   \n",
       "min       0.663017     0.031000     0.001000      0.212134     0.001812   \n",
       "25%     159.810463    46.481500   110.739000   1422.937793    94.906605   \n",
       "50%     429.084519   101.236000   284.305000   2491.502805   292.328796   \n",
       "75%     732.588900   172.310750   542.369000   4906.603828   508.700090   \n",
       "max    6118.757000   754.662000  4007.768000  19968.130000  4752.926000   \n",
       "\n",
       "            ...        scaled_proppant_ppf  scaled_frac_fluid_gpf  \\\n",
       "count       ...                7888.000000            7888.000000   \n",
       "mean        ...                   0.284274               0.380934   \n",
       "std         ...                   0.165447               0.238298   \n",
       "min         ...                   0.000000               0.000000   \n",
       "25%         ...                   0.132247               0.166494   \n",
       "50%         ...                   0.291123               0.407675   \n",
       "75%         ...                   0.401608               0.551362   \n",
       "max         ...                   1.000000               1.000000   \n",
       "\n",
       "       scaled_gross_perfs  scaled_frac_stages  scaled_oil_gravity  \\\n",
       "count         7888.000000         7888.000000         7888.000000   \n",
       "mean             0.421953            0.045778            0.027389   \n",
       "std              0.216933            0.133372            0.135128   \n",
       "min              0.000000            0.000000            0.000000   \n",
       "25%              0.298464            0.000000            0.000000   \n",
       "50%              0.459453            0.000000            0.000000   \n",
       "75%              0.568553            0.000000            0.000000   \n",
       "max              1.000000            1.000000            1.000000   \n",
       "\n",
       "       scaled_gor_hist   scaled_tvd  scaled_mid_point_lat  \\\n",
       "count      7888.000000  7888.000000           7888.000000   \n",
       "mean          0.194749     0.520577              0.393372   \n",
       "std           0.191106     0.254807              0.145262   \n",
       "min           0.000000     0.000000              0.000000   \n",
       "25%           0.071251     0.462055              0.280652   \n",
       "50%           0.124765     0.589809              0.383685   \n",
       "75%           0.245714     0.693837              0.478842   \n",
       "max           1.000000     1.000000              1.000000   \n",
       "\n",
       "       scaled_mid_point_long  scaled_vintage  \n",
       "count            7888.000000     7888.000000  \n",
       "mean                0.647040        0.895554  \n",
       "std                 0.208235        0.136712  \n",
       "min                 0.000000        0.000000  \n",
       "25%                 0.579955        0.900000  \n",
       "50%                 0.696075        0.933333  \n",
       "75%                 0.797456        0.950000  \n",
       "max                 1.000000        1.000000  \n",
       "\n",
       "[8 rows x 43 columns]"
      ]
     },
     "execution_count": 5,
     "metadata": {},
     "output_type": "execute_result"
    }
   ],
   "source": [
    "df.drop(columns=['api14', 'sur_lat', 'sur_long', 'well_id']).describe()"
   ]
  },
  {
   "cell_type": "markdown",
   "metadata": {},
   "source": [
    "## Create Dataframe with Numeric Data"
   ]
  },
  {
   "cell_type": "code",
   "execution_count": 6,
   "metadata": {},
   "outputs": [
    {
     "data": {
      "text/plain": [
       "Index(['recovery', 'scaled_direction', 'scaled_frac_fluid_type',\n",
       "       'scaled_county', 'scaled_oper', 'scaled_formation', 'scaled_sub_basin',\n",
       "       'scaled_lateral_class', 'scaled_proppant_ppf', 'scaled_frac_fluid_gpf',\n",
       "       'scaled_gross_perfs', 'scaled_frac_stages', 'scaled_oil_gravity',\n",
       "       'scaled_gor_hist', 'scaled_tvd', 'scaled_mid_point_lat',\n",
       "       'scaled_mid_point_long', 'scaled_vintage'],\n",
       "      dtype='object')"
      ]
     },
     "execution_count": 6,
     "metadata": {},
     "output_type": "execute_result"
    }
   ],
   "source": [
    "scaled_df = get_scaled_df(df)\n",
    "scaled_df.columns"
   ]
  },
  {
   "cell_type": "markdown",
   "metadata": {},
   "source": [
    "## Scale the gross_perfs limit:"
   ]
  },
  {
   "cell_type": "code",
   "execution_count": 7,
   "metadata": {},
   "outputs": [
    {
     "data": {
      "text/plain": [
       "4.0"
      ]
     },
     "execution_count": 7,
     "metadata": {},
     "output_type": "execute_result"
    }
   ],
   "source": [
    "df.gross_perfs.min()"
   ]
  },
  {
   "cell_type": "code",
   "execution_count": 8,
   "metadata": {},
   "outputs": [
    {
     "data": {
      "text/plain": [
       "13581.0"
      ]
     },
     "execution_count": 8,
     "metadata": {},
     "output_type": "execute_result"
    }
   ],
   "source": [
    "df.gross_perfs.max()"
   ]
  },
  {
   "cell_type": "code",
   "execution_count": 9,
   "metadata": {},
   "outputs": [],
   "source": [
    "gross_perfs_scaled_limit = (6000 - df.gross_perfs.min()) / (df.gross_perfs.max() - df.gross_perfs.min())"
   ]
  },
  {
   "cell_type": "code",
   "execution_count": 10,
   "metadata": {},
   "outputs": [
    {
     "data": {
      "text/plain": [
       "0.44162922589673714"
      ]
     },
     "execution_count": 10,
     "metadata": {},
     "output_type": "execute_result"
    }
   ],
   "source": [
    "gross_perfs_scaled_limit"
   ]
  },
  {
   "cell_type": "code",
   "execution_count": 11,
   "metadata": {},
   "outputs": [
    {
     "data": {
      "text/html": [
       "<div>\n",
       "<style scoped>\n",
       "    .dataframe tbody tr th:only-of-type {\n",
       "        vertical-align: middle;\n",
       "    }\n",
       "\n",
       "    .dataframe tbody tr th {\n",
       "        vertical-align: top;\n",
       "    }\n",
       "\n",
       "    .dataframe thead th {\n",
       "        text-align: right;\n",
       "    }\n",
       "</style>\n",
       "<table border=\"1\" class=\"dataframe\">\n",
       "  <thead>\n",
       "    <tr style=\"text-align: right;\">\n",
       "      <th></th>\n",
       "      <th>recovery</th>\n",
       "      <th>scaled_direction</th>\n",
       "      <th>scaled_frac_fluid_type</th>\n",
       "      <th>scaled_county</th>\n",
       "      <th>scaled_oper</th>\n",
       "      <th>scaled_formation</th>\n",
       "      <th>scaled_sub_basin</th>\n",
       "      <th>scaled_lateral_class</th>\n",
       "      <th>scaled_proppant_ppf</th>\n",
       "      <th>scaled_frac_fluid_gpf</th>\n",
       "      <th>scaled_gross_perfs</th>\n",
       "      <th>scaled_frac_stages</th>\n",
       "      <th>scaled_oil_gravity</th>\n",
       "      <th>scaled_gor_hist</th>\n",
       "      <th>scaled_tvd</th>\n",
       "      <th>scaled_mid_point_lat</th>\n",
       "      <th>scaled_mid_point_long</th>\n",
       "      <th>scaled_vintage</th>\n",
       "    </tr>\n",
       "  </thead>\n",
       "  <tbody>\n",
       "    <tr>\n",
       "      <th>1904</th>\n",
       "      <td>157.522344</td>\n",
       "      <td>0.0</td>\n",
       "      <td>0.875</td>\n",
       "      <td>0.432432</td>\n",
       "      <td>0.765152</td>\n",
       "      <td>0.763158</td>\n",
       "      <td>1.0</td>\n",
       "      <td>0.538462</td>\n",
       "      <td>0.326197</td>\n",
       "      <td>0.376704</td>\n",
       "      <td>0.511601</td>\n",
       "      <td>0.0</td>\n",
       "      <td>0.000000</td>\n",
       "      <td>0.705314</td>\n",
       "      <td>0.468959</td>\n",
       "      <td>0.202274</td>\n",
       "      <td>0.891973</td>\n",
       "      <td>0.900000</td>\n",
       "    </tr>\n",
       "    <tr>\n",
       "      <th>4645</th>\n",
       "      <td>377.640667</td>\n",
       "      <td>0.0</td>\n",
       "      <td>0.875</td>\n",
       "      <td>0.702703</td>\n",
       "      <td>0.738636</td>\n",
       "      <td>0.763158</td>\n",
       "      <td>1.0</td>\n",
       "      <td>0.615385</td>\n",
       "      <td>0.693099</td>\n",
       "      <td>0.599211</td>\n",
       "      <td>0.377035</td>\n",
       "      <td>0.0</td>\n",
       "      <td>0.000000</td>\n",
       "      <td>0.175514</td>\n",
       "      <td>0.560667</td>\n",
       "      <td>0.281606</td>\n",
       "      <td>0.771105</td>\n",
       "      <td>0.933333</td>\n",
       "    </tr>\n",
       "    <tr>\n",
       "      <th>7012</th>\n",
       "      <td>424.495030</td>\n",
       "      <td>0.0</td>\n",
       "      <td>0.375</td>\n",
       "      <td>0.189189</td>\n",
       "      <td>0.174242</td>\n",
       "      <td>0.052632</td>\n",
       "      <td>0.5</td>\n",
       "      <td>0.153846</td>\n",
       "      <td>0.282723</td>\n",
       "      <td>0.221096</td>\n",
       "      <td>0.321205</td>\n",
       "      <td>0.0</td>\n",
       "      <td>0.697059</td>\n",
       "      <td>0.494374</td>\n",
       "      <td>0.563049</td>\n",
       "      <td>0.474893</td>\n",
       "      <td>0.046414</td>\n",
       "      <td>0.933333</td>\n",
       "    </tr>\n",
       "    <tr>\n",
       "      <th>4136</th>\n",
       "      <td>53.147833</td>\n",
       "      <td>1.0</td>\n",
       "      <td>0.250</td>\n",
       "      <td>0.702703</td>\n",
       "      <td>0.628788</td>\n",
       "      <td>0.631579</td>\n",
       "      <td>1.0</td>\n",
       "      <td>1.000000</td>\n",
       "      <td>0.092972</td>\n",
       "      <td>0.040275</td>\n",
       "      <td>0.117110</td>\n",
       "      <td>0.0</td>\n",
       "      <td>0.000000</td>\n",
       "      <td>0.236331</td>\n",
       "      <td>0.000000</td>\n",
       "      <td>0.349046</td>\n",
       "      <td>0.755248</td>\n",
       "      <td>0.650000</td>\n",
       "    </tr>\n",
       "    <tr>\n",
       "      <th>7240</th>\n",
       "      <td>110.639002</td>\n",
       "      <td>0.0</td>\n",
       "      <td>0.375</td>\n",
       "      <td>0.513514</td>\n",
       "      <td>0.768939</td>\n",
       "      <td>0.763158</td>\n",
       "      <td>0.5</td>\n",
       "      <td>0.153846</td>\n",
       "      <td>0.119524</td>\n",
       "      <td>0.119544</td>\n",
       "      <td>0.347058</td>\n",
       "      <td>0.0</td>\n",
       "      <td>0.000000</td>\n",
       "      <td>0.136481</td>\n",
       "      <td>0.820381</td>\n",
       "      <td>0.403709</td>\n",
       "      <td>0.217734</td>\n",
       "      <td>0.916667</td>\n",
       "    </tr>\n",
       "    <tr>\n",
       "      <th>1070</th>\n",
       "      <td>102.269835</td>\n",
       "      <td>0.0</td>\n",
       "      <td>0.000</td>\n",
       "      <td>0.351351</td>\n",
       "      <td>0.250000</td>\n",
       "      <td>0.763158</td>\n",
       "      <td>1.0</td>\n",
       "      <td>0.000000</td>\n",
       "      <td>0.290889</td>\n",
       "      <td>0.315921</td>\n",
       "      <td>0.568830</td>\n",
       "      <td>0.0</td>\n",
       "      <td>0.000000</td>\n",
       "      <td>0.274634</td>\n",
       "      <td>0.574364</td>\n",
       "      <td>0.382305</td>\n",
       "      <td>0.796868</td>\n",
       "      <td>0.950000</td>\n",
       "    </tr>\n",
       "    <tr>\n",
       "      <th>4869</th>\n",
       "      <td>141.519342</td>\n",
       "      <td>0.0</td>\n",
       "      <td>0.875</td>\n",
       "      <td>0.702703</td>\n",
       "      <td>0.738636</td>\n",
       "      <td>0.763158</td>\n",
       "      <td>1.0</td>\n",
       "      <td>0.538462</td>\n",
       "      <td>0.392771</td>\n",
       "      <td>0.506308</td>\n",
       "      <td>0.472048</td>\n",
       "      <td>0.0</td>\n",
       "      <td>0.000000</td>\n",
       "      <td>0.102962</td>\n",
       "      <td>0.610466</td>\n",
       "      <td>0.262446</td>\n",
       "      <td>0.752312</td>\n",
       "      <td>0.950000</td>\n",
       "    </tr>\n",
       "    <tr>\n",
       "      <th>1008</th>\n",
       "      <td>104.652833</td>\n",
       "      <td>0.0</td>\n",
       "      <td>0.375</td>\n",
       "      <td>0.351351</td>\n",
       "      <td>0.291667</td>\n",
       "      <td>0.763158</td>\n",
       "      <td>1.0</td>\n",
       "      <td>0.000000</td>\n",
       "      <td>0.410760</td>\n",
       "      <td>0.550842</td>\n",
       "      <td>0.565957</td>\n",
       "      <td>0.0</td>\n",
       "      <td>0.000000</td>\n",
       "      <td>0.093660</td>\n",
       "      <td>0.576373</td>\n",
       "      <td>0.391261</td>\n",
       "      <td>0.795222</td>\n",
       "      <td>0.950000</td>\n",
       "    </tr>\n",
       "    <tr>\n",
       "      <th>7304</th>\n",
       "      <td>292.100508</td>\n",
       "      <td>0.0</td>\n",
       "      <td>0.875</td>\n",
       "      <td>0.513514</td>\n",
       "      <td>0.768939</td>\n",
       "      <td>0.763158</td>\n",
       "      <td>0.5</td>\n",
       "      <td>0.153846</td>\n",
       "      <td>0.352461</td>\n",
       "      <td>0.631815</td>\n",
       "      <td>0.313840</td>\n",
       "      <td>0.0</td>\n",
       "      <td>0.000000</td>\n",
       "      <td>0.176626</td>\n",
       "      <td>0.831621</td>\n",
       "      <td>0.395592</td>\n",
       "      <td>0.212860</td>\n",
       "      <td>0.933333</td>\n",
       "    </tr>\n",
       "    <tr>\n",
       "      <th>3384</th>\n",
       "      <td>161.606343</td>\n",
       "      <td>0.0</td>\n",
       "      <td>0.875</td>\n",
       "      <td>0.621622</td>\n",
       "      <td>0.250000</td>\n",
       "      <td>0.763158</td>\n",
       "      <td>1.0</td>\n",
       "      <td>0.538462</td>\n",
       "      <td>0.333502</td>\n",
       "      <td>0.652586</td>\n",
       "      <td>0.501731</td>\n",
       "      <td>0.0</td>\n",
       "      <td>0.000000</td>\n",
       "      <td>0.083151</td>\n",
       "      <td>0.730311</td>\n",
       "      <td>0.468183</td>\n",
       "      <td>0.579534</td>\n",
       "      <td>0.950000</td>\n",
       "    </tr>\n",
       "  </tbody>\n",
       "</table>\n",
       "</div>"
      ],
      "text/plain": [
       "        recovery  scaled_direction  scaled_frac_fluid_type  scaled_county  \\\n",
       "1904  157.522344               0.0                   0.875       0.432432   \n",
       "4645  377.640667               0.0                   0.875       0.702703   \n",
       "7012  424.495030               0.0                   0.375       0.189189   \n",
       "4136   53.147833               1.0                   0.250       0.702703   \n",
       "7240  110.639002               0.0                   0.375       0.513514   \n",
       "1070  102.269835               0.0                   0.000       0.351351   \n",
       "4869  141.519342               0.0                   0.875       0.702703   \n",
       "1008  104.652833               0.0                   0.375       0.351351   \n",
       "7304  292.100508               0.0                   0.875       0.513514   \n",
       "3384  161.606343               0.0                   0.875       0.621622   \n",
       "\n",
       "      scaled_oper  scaled_formation  scaled_sub_basin  scaled_lateral_class  \\\n",
       "1904     0.765152          0.763158               1.0              0.538462   \n",
       "4645     0.738636          0.763158               1.0              0.615385   \n",
       "7012     0.174242          0.052632               0.5              0.153846   \n",
       "4136     0.628788          0.631579               1.0              1.000000   \n",
       "7240     0.768939          0.763158               0.5              0.153846   \n",
       "1070     0.250000          0.763158               1.0              0.000000   \n",
       "4869     0.738636          0.763158               1.0              0.538462   \n",
       "1008     0.291667          0.763158               1.0              0.000000   \n",
       "7304     0.768939          0.763158               0.5              0.153846   \n",
       "3384     0.250000          0.763158               1.0              0.538462   \n",
       "\n",
       "      scaled_proppant_ppf  scaled_frac_fluid_gpf  scaled_gross_perfs  \\\n",
       "1904             0.326197               0.376704            0.511601   \n",
       "4645             0.693099               0.599211            0.377035   \n",
       "7012             0.282723               0.221096            0.321205   \n",
       "4136             0.092972               0.040275            0.117110   \n",
       "7240             0.119524               0.119544            0.347058   \n",
       "1070             0.290889               0.315921            0.568830   \n",
       "4869             0.392771               0.506308            0.472048   \n",
       "1008             0.410760               0.550842            0.565957   \n",
       "7304             0.352461               0.631815            0.313840   \n",
       "3384             0.333502               0.652586            0.501731   \n",
       "\n",
       "      scaled_frac_stages  scaled_oil_gravity  scaled_gor_hist  scaled_tvd  \\\n",
       "1904                 0.0            0.000000         0.705314    0.468959   \n",
       "4645                 0.0            0.000000         0.175514    0.560667   \n",
       "7012                 0.0            0.697059         0.494374    0.563049   \n",
       "4136                 0.0            0.000000         0.236331    0.000000   \n",
       "7240                 0.0            0.000000         0.136481    0.820381   \n",
       "1070                 0.0            0.000000         0.274634    0.574364   \n",
       "4869                 0.0            0.000000         0.102962    0.610466   \n",
       "1008                 0.0            0.000000         0.093660    0.576373   \n",
       "7304                 0.0            0.000000         0.176626    0.831621   \n",
       "3384                 0.0            0.000000         0.083151    0.730311   \n",
       "\n",
       "      scaled_mid_point_lat  scaled_mid_point_long  scaled_vintage  \n",
       "1904              0.202274               0.891973        0.900000  \n",
       "4645              0.281606               0.771105        0.933333  \n",
       "7012              0.474893               0.046414        0.933333  \n",
       "4136              0.349046               0.755248        0.650000  \n",
       "7240              0.403709               0.217734        0.916667  \n",
       "1070              0.382305               0.796868        0.950000  \n",
       "4869              0.262446               0.752312        0.950000  \n",
       "1008              0.391261               0.795222        0.950000  \n",
       "7304              0.395592               0.212860        0.933333  \n",
       "3384              0.468183               0.579534        0.950000  "
      ]
     },
     "execution_count": 11,
     "metadata": {},
     "output_type": "execute_result"
    }
   ],
   "source": [
    "scaled_df.sample(10)"
   ]
  },
  {
   "cell_type": "markdown",
   "metadata": {},
   "source": [
    "## Visualize Data"
   ]
  },
  {
   "cell_type": "markdown",
   "metadata": {},
   "source": [
    "### Attribute Histograms"
   ]
  },
  {
   "cell_type": "code",
   "execution_count": 12,
   "metadata": {},
   "outputs": [
    {
     "data": {
      "text/plain": [
       "Index(['recovery', 'scaled_direction', 'scaled_frac_fluid_type',\n",
       "       'scaled_county', 'scaled_oper', 'scaled_formation', 'scaled_sub_basin',\n",
       "       'scaled_lateral_class', 'scaled_proppant_ppf', 'scaled_frac_fluid_gpf',\n",
       "       'scaled_gross_perfs', 'scaled_frac_stages', 'scaled_oil_gravity',\n",
       "       'scaled_gor_hist', 'scaled_tvd', 'scaled_mid_point_lat',\n",
       "       'scaled_mid_point_long', 'scaled_vintage'],\n",
       "      dtype='object')"
      ]
     },
     "execution_count": 12,
     "metadata": {},
     "output_type": "execute_result"
    }
   ],
   "source": [
    "scaled_df.columns"
   ]
  },
  {
   "cell_type": "code",
   "execution_count": 13,
   "metadata": {},
   "outputs": [
    {
     "data": {
      "image/png": "[encoded data removed]",
      "text/plain": [
       "<Figure size 864x576 with 1 Axes>"
      ]
     },
     "metadata": {
      "needs_background": "light"
     },
     "output_type": "display_data"
    }
   ],
   "source": [
    "xgb_df = scaled_df.drop(columns=['recovery']).copy()\n",
    "\n",
    "xgb_params = {\n",
    "    'max_depth': 8,\n",
    "    'seed' : 493\n",
    "}\n",
    "dtrain = xgb.DMatrix(xgb_df, scaled_df.recovery, feature_names=xgb_df.columns.values)\n",
    "model = xgb.train(dict(xgb_params, silent=0), dtrain, num_boost_round=50)\n",
    "\n",
    "# plot the important features #\n",
    "fig, ax = plt.subplots(figsize=(12,8))\n",
    "xgb.plot_importance(model, max_num_features=50, height=0.8, ax=ax)\n",
    "plt.title('Feature Importance Comparing All Features')\n",
    "plt.show()\n",
    "\n",
    "# I think we can return xgb and model to then plot xgb.plot_importance(model,...)\n",
    "# Or maybe can save that line into a variable to return."
   ]
  },
  {
   "cell_type": "code",
   "execution_count": 14,
   "metadata": {},
   "outputs": [
    {
     "data": {
      "text/plain": [
       "['scaled_direction',\n",
       " 'scaled_frac_fluid_type',\n",
       " 'scaled_county',\n",
       " 'scaled_oper',\n",
       " 'scaled_formation',\n",
       " 'scaled_sub_basin',\n",
       " 'scaled_lateral_class',\n",
       " 'scaled_proppant_ppf',\n",
       " 'scaled_frac_fluid_gpf',\n",
       " 'scaled_gross_perfs',\n",
       " 'scaled_frac_stages',\n",
       " 'scaled_oil_gravity',\n",
       " 'scaled_gor_hist',\n",
       " 'scaled_tvd',\n",
       " 'scaled_mid_point_lat',\n",
       " 'scaled_mid_point_long',\n",
       " 'scaled_vintage']"
      ]
     },
     "execution_count": 14,
     "metadata": {},
     "output_type": "execute_result"
    }
   ],
   "source": [
    "model.feature_names"
   ]
  },
  {
   "cell_type": "markdown",
   "metadata": {},
   "source": [
    "```\n",
    "The Frequency (R)/Weight (python) is the percentage representing the relative number of times a particular feature occurs in the trees of the model. In the above example, if feature1 occurred in 2 splits, 1 split and 3 splits in each of tree1, tree2 and tree3; then the weight for feature1 will be 2+1+3 = 6. The frequency for feature1 is calculated as its percentage weight over weights of all features.\n",
    "```"
   ]
  },
  {
   "cell_type": "code",
   "execution_count": 15,
   "metadata": {},
   "outputs": [
    {
     "data": {
      "text/plain": [
       "{'scaled_tvd': 623,\n",
       " 'scaled_gross_perfs': 628,\n",
       " 'scaled_vintage': 264,\n",
       " 'scaled_gor_hist': 573,\n",
       " 'scaled_mid_point_long': 532,\n",
       " 'scaled_mid_point_lat': 611,\n",
       " 'scaled_frac_fluid_gpf': 584,\n",
       " 'scaled_proppant_ppf': 699,\n",
       " 'scaled_oper': 371,\n",
       " 'scaled_frac_fluid_type': 309,\n",
       " 'scaled_county': 237,\n",
       " 'scaled_formation': 156,\n",
       " 'scaled_lateral_class': 206,\n",
       " 'scaled_oil_gravity': 63,\n",
       " 'scaled_frac_stages': 118,\n",
       " 'scaled_direction': 27,\n",
       " 'scaled_sub_basin': 10}"
      ]
     },
     "execution_count": 15,
     "metadata": {},
     "output_type": "execute_result"
    }
   ],
   "source": [
    "model.get_score(importance_type='weight')"
   ]
  },
  {
   "cell_type": "markdown",
   "metadata": {},
   "source": [
    "```\n",
    "The Coverage metric means the relative number of observations related to this feature. For example, if you have 100 observations, 4 features and 3 trees, and suppose feature1 is used to decide the leaf node for 10, 5, and 2 observations in tree1, tree2 and tree3 respectively; then the metric will count cover for this feature as 10+5+2 = 17 observations. This will be calculated for all the 4 features and the cover will be 17 expressed as a percentage for all features’ cover metrics.\n",
    "```"
   ]
  },
  {
   "cell_type": "code",
   "execution_count": 16,
   "metadata": {},
   "outputs": [
    {
     "data": {
      "text/plain": [
       "{'scaled_tvd': 835.3563402889246,\n",
       " 'scaled_gross_perfs': 638.2277070063694,\n",
       " 'scaled_vintage': 794.7727272727273,\n",
       " 'scaled_gor_hist': 315.9650959860384,\n",
       " 'scaled_mid_point_long': 869.8233082706766,\n",
       " 'scaled_mid_point_lat': 623.8576104746318,\n",
       " 'scaled_frac_fluid_gpf': 515.5650684931506,\n",
       " 'scaled_proppant_ppf': 360.6695278969957,\n",
       " 'scaled_oper': 194.5498652291105,\n",
       " 'scaled_frac_fluid_type': 85.19093851132686,\n",
       " 'scaled_county': 285.253164556962,\n",
       " 'scaled_formation': 838.2435897435897,\n",
       " 'scaled_lateral_class': 57.74757281553398,\n",
       " 'scaled_oil_gravity': 947.952380952381,\n",
       " 'scaled_frac_stages': 559.3898305084746,\n",
       " 'scaled_direction': 79.03703703703704,\n",
       " 'scaled_sub_basin': 242.5}"
      ]
     },
     "execution_count": 16,
     "metadata": {},
     "output_type": "execute_result"
    }
   ],
   "source": [
    "model.get_score(importance_type='cover')"
   ]
  },
  {
   "cell_type": "markdown",
   "metadata": {},
   "source": [
    "```\n",
    "The Gain implies the relative contribution of the corresponding feature to the model calculated by taking each feature’s contribution for each tree in the model. A higher value of this metric when compared to another feature implies it is more important for generating a prediction.\n",
    "```"
   ]
  },
  {
   "cell_type": "code",
   "execution_count": 17,
   "metadata": {},
   "outputs": [
    {
     "data": {
      "text/plain": [
       "{'scaled_tvd': 108853.72318175215,\n",
       " 'scaled_gross_perfs': 56362.38382656261,\n",
       " 'scaled_vintage': 84966.0755483947,\n",
       " 'scaled_gor_hist': 20622.9496681122,\n",
       " 'scaled_mid_point_long': 46003.44383055641,\n",
       " 'scaled_mid_point_lat': 50621.57146901109,\n",
       " 'scaled_frac_fluid_gpf': 33037.738238304875,\n",
       " 'scaled_proppant_ppf': 22524.34421791828,\n",
       " 'scaled_oper': 22778.947371913546,\n",
       " 'scaled_frac_fluid_type': 11063.094439313241,\n",
       " 'scaled_county': 15930.993259777386,\n",
       " 'scaled_formation': 36607.94874403508,\n",
       " 'scaled_lateral_class': 14152.48690792394,\n",
       " 'scaled_oil_gravity': 218096.11099010153,\n",
       " 'scaled_frac_stages': 33589.426717874245,\n",
       " 'scaled_direction': 31115.46973755749,\n",
       " 'scaled_sub_basin': 14791.0108809}"
      ]
     },
     "execution_count": 17,
     "metadata": {},
     "output_type": "execute_result"
    }
   ],
   "source": [
    "model.get_score(importance_type='gain')"
   ]
  },
  {
   "cell_type": "code",
   "execution_count": 18,
   "metadata": {},
   "outputs": [],
   "source": [
    "importance = model.get_score(importance_type='gain')"
   ]
  },
  {
   "cell_type": "code",
   "execution_count": 19,
   "metadata": {},
   "outputs": [],
   "source": [
    "sorted_list = sorted(importance.items(), key=lambda kv: kv[1])"
   ]
  },
  {
   "cell_type": "code",
   "execution_count": 20,
   "metadata": {},
   "outputs": [
    {
     "data": {
      "text/plain": [
       "[('scaled_oil_gravity', 218096.11099010153),\n",
       " ('scaled_tvd', 108853.72318175215),\n",
       " ('scaled_vintage', 84966.0755483947),\n",
       " ('scaled_gross_perfs', 56362.38382656261),\n",
       " ('scaled_mid_point_lat', 50621.57146901109),\n",
       " ('scaled_mid_point_long', 46003.44383055641),\n",
       " ('scaled_formation', 36607.94874403508),\n",
       " ('scaled_frac_stages', 33589.426717874245),\n",
       " ('scaled_frac_fluid_gpf', 33037.738238304875),\n",
       " ('scaled_direction', 31115.46973755749),\n",
       " ('scaled_oper', 22778.947371913546),\n",
       " ('scaled_proppant_ppf', 22524.34421791828),\n",
       " ('scaled_gor_hist', 20622.9496681122),\n",
       " ('scaled_county', 15930.993259777386),\n",
       " ('scaled_sub_basin', 14791.0108809),\n",
       " ('scaled_lateral_class', 14152.48690792394),\n",
       " ('scaled_frac_fluid_type', 11063.094439313241)]"
      ]
     },
     "execution_count": 20,
     "metadata": {},
     "output_type": "execute_result"
    }
   ],
   "source": [
    "sorted_list.reverse()\n",
    "sorted_list"
   ]
  },
  {
   "cell_type": "code",
   "execution_count": 21,
   "metadata": {},
   "outputs": [
    {
     "data": {
      "text/plain": [
       "821117.7190300088"
      ]
     },
     "execution_count": 21,
     "metadata": {},
     "output_type": "execute_result"
    }
   ],
   "source": [
    "total = 0\n",
    "for i in sorted_list:\n",
    "    total += i[1]\n",
    "total"
   ]
  },
  {
   "cell_type": "code",
   "execution_count": 22,
   "metadata": {},
   "outputs": [
    {
     "name": "stdout",
     "output_type": "stream",
     "text": [
      "count: 9\n",
      "portion: 0.8136938310573404\n"
     ]
    }
   ],
   "source": [
    "numerator = 0\n",
    "portion = 0\n",
    "count = 0\n",
    "for i in sorted_list:\n",
    "    if portion < .8:\n",
    "        numerator += i[1]\n",
    "        count += 1\n",
    "        portion = numerator / total\n",
    "print('count:', count)\n",
    "print('portion:', portion)"
   ]
  },
  {
   "cell_type": "code",
   "execution_count": 23,
   "metadata": {},
   "outputs": [
    {
     "data": {
      "text/plain": [
       "[('scaled_oil_gravity', 218096.11099010153),\n",
       " ('scaled_tvd', 108853.72318175215),\n",
       " ('scaled_vintage', 84966.0755483947),\n",
       " ('scaled_gross_perfs', 56362.38382656261),\n",
       " ('scaled_mid_point_lat', 50621.57146901109),\n",
       " ('scaled_mid_point_long', 46003.44383055641),\n",
       " ('scaled_formation', 36607.94874403508),\n",
       " ('scaled_frac_stages', 33589.426717874245),\n",
       " ('scaled_frac_fluid_gpf', 33037.738238304875)]"
      ]
     },
     "execution_count": 23,
     "metadata": {},
     "output_type": "execute_result"
    }
   ],
   "source": [
    "top_80 = sorted_list[:count]\n",
    "top_80"
   ]
  },
  {
   "cell_type": "code",
   "execution_count": 24,
   "metadata": {},
   "outputs": [],
   "source": [
    "top_80 = [i[0] for i in top_80]"
   ]
  },
  {
   "cell_type": "code",
   "execution_count": 38,
   "metadata": {},
   "outputs": [
    {
     "data": {
      "text/plain": [
       "['oil_gravity',\n",
       " 'tvd',\n",
       " 'vintage',\n",
       " 'gross_perfs',\n",
       " 'mid_point_lat',\n",
       " 'mid_point_long',\n",
       " 'formation',\n",
       " 'frac_stages',\n",
       " 'frac_fluid_gpf']"
      ]
     },
     "execution_count": 38,
     "metadata": {},
     "output_type": "execute_result"
    }
   ],
   "source": [
    "top_80 = list(top_80)\n",
    "top_80"
   ]
  },
  {
   "cell_type": "code",
   "execution_count": 26,
   "metadata": {},
   "outputs": [
    {
     "data": {
      "text/plain": [
       "['oil_gravity',\n",
       " 'tvd',\n",
       " 'vintage',\n",
       " 'gross_perfs',\n",
       " 'mid_point_lat',\n",
       " 'mid_point_long',\n",
       " 'formation',\n",
       " 'frac_stages',\n",
       " 'frac_fluid_gpf']"
      ]
     },
     "execution_count": 26,
     "metadata": {},
     "output_type": "execute_result"
    }
   ],
   "source": [
    "total = 0\n",
    "for i in sorted_list:\n",
    "    total += i[1]\n",
    "numerator = 0\n",
    "portion = 0\n",
    "count = 0\n",
    "for i in sorted_list:\n",
    "    if portion < .8:\n",
    "        numerator += i[1]\n",
    "        count += 1\n",
    "        portion = numerator / total\n",
    "top_80 = sorted_list[:count]\n",
    "top_80 = [i[0] for i in top_80]\n",
    "top_80 = [w.replace('scaled_', '') for w in top_80]\n",
    "top_80"
   ]
  },
  {
   "cell_type": "code",
   "execution_count": 27,
   "metadata": {},
   "outputs": [],
   "source": [
    "feature_list = [i[0] for i in sorted_list]"
   ]
  },
  {
   "cell_type": "code",
   "execution_count": 28,
   "metadata": {},
   "outputs": [
    {
     "data": {
      "text/plain": [
       "['scaled_oil_gravity',\n",
       " 'scaled_tvd',\n",
       " 'scaled_vintage',\n",
       " 'scaled_gross_perfs',\n",
       " 'scaled_mid_point_lat',\n",
       " 'scaled_mid_point_long',\n",
       " 'scaled_formation',\n",
       " 'scaled_frac_stages',\n",
       " 'scaled_frac_fluid_gpf',\n",
       " 'scaled_direction',\n",
       " 'scaled_oper',\n",
       " 'scaled_proppant_ppf',\n",
       " 'scaled_gor_hist',\n",
       " 'scaled_county',\n",
       " 'scaled_sub_basin',\n",
       " 'scaled_lateral_class',\n",
       " 'scaled_frac_fluid_type']"
      ]
     },
     "execution_count": 28,
     "metadata": {},
     "output_type": "execute_result"
    }
   ],
   "source": [
    "feature_list"
   ]
  },
  {
   "cell_type": "code",
   "execution_count": 29,
   "metadata": {},
   "outputs": [
    {
     "data": {
      "text/plain": [
       "[('scaled_oil_gravity', 218096.11099010153),\n",
       " ('scaled_tvd', 108853.72318175215),\n",
       " ('scaled_vintage', 84966.0755483947),\n",
       " ('scaled_gross_perfs', 56362.38382656261),\n",
       " ('scaled_mid_point_lat', 50621.57146901109),\n",
       " ('scaled_mid_point_long', 46003.44383055641),\n",
       " ('scaled_formation', 36607.94874403508),\n",
       " ('scaled_frac_stages', 33589.426717874245),\n",
       " ('scaled_frac_fluid_gpf', 33037.738238304875),\n",
       " ('scaled_direction', 31115.46973755749),\n",
       " ('scaled_oper', 22778.947371913546),\n",
       " ('scaled_proppant_ppf', 22524.34421791828),\n",
       " ('scaled_gor_hist', 20622.9496681122),\n",
       " ('scaled_county', 15930.993259777386),\n",
       " ('scaled_sub_basin', 14791.0108809),\n",
       " ('scaled_lateral_class', 14152.48690792394),\n",
       " ('scaled_frac_fluid_type', 11063.094439313241)]"
      ]
     },
     "execution_count": 29,
     "metadata": {},
     "output_type": "execute_result"
    }
   ],
   "source": [
    "sorted_list"
   ]
  },
  {
   "cell_type": "code",
   "execution_count": 30,
   "metadata": {},
   "outputs": [
    {
     "data": {
      "image/png": "[encoded data removed]",
      "text/plain": [
       "<Figure size 432x288 with 1 Axes>"
      ]
     },
     "metadata": {
      "needs_background": "light"
     },
     "output_type": "display_data"
    }
   ],
   "source": [
    "label = []\n",
    "gain = []\n",
    "\n",
    "for i in range(len(sorted_list)):\n",
    "  label.append(sorted_list[i][0])\n",
    "  gain.append(sorted_list[i][1])\n",
    "    \n",
    "indices = np.arange(len(sorted_list))\n",
    "plt.bar(indices, gain, color='b')\n",
    "plt.xticks(indices, label, rotation='vertical')\n",
    "plt.tight_layout()\n",
    "plt.show()"
   ]
  },
  {
   "cell_type": "markdown",
   "metadata": {},
   "source": [
    "Top recommended features without any partitions:\n",
    "\n",
    "top_80 is ['oil_gravity', 'tvd', 'vintage', 'gross_perfs', 'mid_point_lat', \n",
    "           'mid_point_long', 'formation', 'frac_stages', 'frac_fluid_gpf']"
   ]
  },
  {
   "cell_type": "markdown",
   "metadata": {},
   "source": [
    "#### Run the regression with all of the features:"
   ]
  },
  {
   "cell_type": "code",
   "execution_count": 31,
   "metadata": {},
   "outputs": [
    {
     "name": "stdout",
     "output_type": "stream",
     "text": [
      "lr.intercept: 35.703863690348214\n",
      "MAE: 47.48904568500501\n",
      "MSE: 13825.582566377463\n",
      "r2_train: 0.2881838960552847\n"
     ]
    },
    {
     "data": {
      "text/html": [
       "<div>\n",
       "<style scoped>\n",
       "    .dataframe tbody tr th:only-of-type {\n",
       "        vertical-align: middle;\n",
       "    }\n",
       "\n",
       "    .dataframe tbody tr th {\n",
       "        vertical-align: top;\n",
       "    }\n",
       "\n",
       "    .dataframe thead th {\n",
       "        text-align: right;\n",
       "    }\n",
       "</style>\n",
       "<table border=\"1\" class=\"dataframe\">\n",
       "  <thead>\n",
       "    <tr style=\"text-align: right;\">\n",
       "      <th></th>\n",
       "      <th>value</th>\n",
       "    </tr>\n",
       "  </thead>\n",
       "  <tbody>\n",
       "    <tr>\n",
       "      <th>scaled_gross_perfs</th>\n",
       "      <td>246.705999</td>\n",
       "    </tr>\n",
       "    <tr>\n",
       "      <th>scaled_tvd</th>\n",
       "      <td>231.359596</td>\n",
       "    </tr>\n",
       "    <tr>\n",
       "      <th>scaled_oil_gravity</th>\n",
       "      <td>220.657935</td>\n",
       "    </tr>\n",
       "    <tr>\n",
       "      <th>scaled_direction</th>\n",
       "      <td>95.582864</td>\n",
       "    </tr>\n",
       "    <tr>\n",
       "      <th>scaled_formation</th>\n",
       "      <td>31.922117</td>\n",
       "    </tr>\n",
       "    <tr>\n",
       "      <th>scaled_gor_hist</th>\n",
       "      <td>28.553974</td>\n",
       "    </tr>\n",
       "    <tr>\n",
       "      <th>scaled_frac_fluid_gpf</th>\n",
       "      <td>19.696598</td>\n",
       "    </tr>\n",
       "    <tr>\n",
       "      <th>scaled_proppant_ppf</th>\n",
       "      <td>16.848142</td>\n",
       "    </tr>\n",
       "    <tr>\n",
       "      <th>scaled_lateral_class</th>\n",
       "      <td>0.001790</td>\n",
       "    </tr>\n",
       "    <tr>\n",
       "      <th>scaled_frac_fluid_type</th>\n",
       "      <td>-3.902107</td>\n",
       "    </tr>\n",
       "    <tr>\n",
       "      <th>scaled_oper</th>\n",
       "      <td>-20.200033</td>\n",
       "    </tr>\n",
       "    <tr>\n",
       "      <th>scaled_frac_stages</th>\n",
       "      <td>-26.869332</td>\n",
       "    </tr>\n",
       "    <tr>\n",
       "      <th>scaled_sub_basin</th>\n",
       "      <td>-41.015638</td>\n",
       "    </tr>\n",
       "    <tr>\n",
       "      <th>scaled_vintage</th>\n",
       "      <td>-135.875355</td>\n",
       "    </tr>\n",
       "  </tbody>\n",
       "</table>\n",
       "</div>"
      ],
      "text/plain": [
       "                             value\n",
       "scaled_gross_perfs      246.705999\n",
       "scaled_tvd              231.359596\n",
       "scaled_oil_gravity      220.657935\n",
       "scaled_direction         95.582864\n",
       "scaled_formation         31.922117\n",
       "scaled_gor_hist          28.553974\n",
       "scaled_frac_fluid_gpf    19.696598\n",
       "scaled_proppant_ppf      16.848142\n",
       "scaled_lateral_class      0.001790\n",
       "scaled_frac_fluid_type   -3.902107\n",
       "scaled_oper             -20.200033\n",
       "scaled_frac_stages      -26.869332\n",
       "scaled_sub_basin        -41.015638\n",
       "scaled_vintage         -135.875355"
      ]
     },
     "execution_count": 31,
     "metadata": {},
     "output_type": "execute_result"
    },
    {
     "data": {
      "image/png": "[encoded data removed]",
      "text/plain": [
       "<Figure size 432x288 with 1 Axes>"
      ]
     },
     "metadata": {
      "needs_background": "light"
     },
     "output_type": "display_data"
    }
   ],
   "source": [
    "# Independent variables:\n",
    "X_vars = ['scaled_direction', 'scaled_frac_fluid_type', 'scaled_oper', \n",
    "          'scaled_formation', 'scaled_sub_basin', 'scaled_lateral_class', \n",
    "          'scaled_proppant_ppf', 'scaled_frac_fluid_gpf', 'scaled_gross_perfs', \n",
    "          'scaled_frac_stages', 'scaled_oil_gravity', 'scaled_gor_hist', \n",
    "          'scaled_tvd', 'scaled_vintage']\n",
    "\n",
    "# Dependent (target) variable, it is continuous\n",
    "target = ['recovery']\n",
    "\n",
    "X = scaled_df[X_vars].copy()                                                    \n",
    "y = scaled_df[target]\n",
    "\n",
    "# random_state=0 tells the sklearn function that you are not setting a seed\n",
    "# if you want to be able to duplicate results, set random_state to a positive integer\n",
    "X_train, X_test, y_train, y_test = train_test_split(X, y, train_size=.80, random_state=123)\n",
    "\n",
    "train = pd.concat([X_train, y_train], axis=1)\n",
    "test = pd.concat([X_test, y_test], axis=1)\n",
    "\n",
    "reg_df, abs_df, lr, lr.coef_, lr.intercept_, MAE, MSE, r2_train, y_pred, scatter = linreg(X_train, y_train)\n",
    "print('lr.intercept:', lr.intercept_[0])\n",
    "print('MAE:', MAE)\n",
    "print('MSE:', MSE)\n",
    "print('r2_train:', r2_train)\n",
    "reg_df"
   ]
  },
  {
   "cell_type": "code",
   "execution_count": 32,
   "metadata": {},
   "outputs": [
    {
     "name": "stdout",
     "output_type": "stream",
     "text": [
      "ranked by absolute value of coefficient:\n"
     ]
    },
    {
     "data": {
      "text/html": [
       "<div>\n",
       "<style scoped>\n",
       "    .dataframe tbody tr th:only-of-type {\n",
       "        vertical-align: middle;\n",
       "    }\n",
       "\n",
       "    .dataframe tbody tr th {\n",
       "        vertical-align: top;\n",
       "    }\n",
       "\n",
       "    .dataframe thead th {\n",
       "        text-align: right;\n",
       "    }\n",
       "</style>\n",
       "<table border=\"1\" class=\"dataframe\">\n",
       "  <thead>\n",
       "    <tr style=\"text-align: right;\">\n",
       "      <th></th>\n",
       "      <th>value</th>\n",
       "    </tr>\n",
       "  </thead>\n",
       "  <tbody>\n",
       "    <tr>\n",
       "      <th>scaled_gross_perfs</th>\n",
       "      <td>246.705999</td>\n",
       "    </tr>\n",
       "    <tr>\n",
       "      <th>scaled_tvd</th>\n",
       "      <td>231.359596</td>\n",
       "    </tr>\n",
       "    <tr>\n",
       "      <th>scaled_oil_gravity</th>\n",
       "      <td>220.657935</td>\n",
       "    </tr>\n",
       "    <tr>\n",
       "      <th>scaled_vintage</th>\n",
       "      <td>135.875355</td>\n",
       "    </tr>\n",
       "    <tr>\n",
       "      <th>scaled_direction</th>\n",
       "      <td>95.582864</td>\n",
       "    </tr>\n",
       "    <tr>\n",
       "      <th>scaled_sub_basin</th>\n",
       "      <td>41.015638</td>\n",
       "    </tr>\n",
       "    <tr>\n",
       "      <th>scaled_formation</th>\n",
       "      <td>31.922117</td>\n",
       "    </tr>\n",
       "    <tr>\n",
       "      <th>scaled_gor_hist</th>\n",
       "      <td>28.553974</td>\n",
       "    </tr>\n",
       "    <tr>\n",
       "      <th>scaled_frac_stages</th>\n",
       "      <td>26.869332</td>\n",
       "    </tr>\n",
       "    <tr>\n",
       "      <th>scaled_oper</th>\n",
       "      <td>20.200033</td>\n",
       "    </tr>\n",
       "    <tr>\n",
       "      <th>scaled_frac_fluid_gpf</th>\n",
       "      <td>19.696598</td>\n",
       "    </tr>\n",
       "    <tr>\n",
       "      <th>scaled_proppant_ppf</th>\n",
       "      <td>16.848142</td>\n",
       "    </tr>\n",
       "    <tr>\n",
       "      <th>scaled_frac_fluid_type</th>\n",
       "      <td>3.902107</td>\n",
       "    </tr>\n",
       "    <tr>\n",
       "      <th>scaled_lateral_class</th>\n",
       "      <td>0.001790</td>\n",
       "    </tr>\n",
       "  </tbody>\n",
       "</table>\n",
       "</div>"
      ],
      "text/plain": [
       "                             value\n",
       "scaled_gross_perfs      246.705999\n",
       "scaled_tvd              231.359596\n",
       "scaled_oil_gravity      220.657935\n",
       "scaled_vintage          135.875355\n",
       "scaled_direction         95.582864\n",
       "scaled_sub_basin         41.015638\n",
       "scaled_formation         31.922117\n",
       "scaled_gor_hist          28.553974\n",
       "scaled_frac_stages       26.869332\n",
       "scaled_oper              20.200033\n",
       "scaled_frac_fluid_gpf    19.696598\n",
       "scaled_proppant_ppf      16.848142\n",
       "scaled_frac_fluid_type    3.902107\n",
       "scaled_lateral_class      0.001790"
      ]
     },
     "execution_count": 32,
     "metadata": {},
     "output_type": "execute_result"
    }
   ],
   "source": [
    "print('ranked by absolute value of coefficient:')\n",
    "abs_df.sort_values(by='value', ascending=False)"
   ]
  },
  {
   "cell_type": "markdown",
   "metadata": {},
   "source": [
    "#### Filter all features for only vertical wells:"
   ]
  },
  {
   "cell_type": "code",
   "execution_count": 33,
   "metadata": {},
   "outputs": [
    {
     "name": "stdout",
     "output_type": "stream",
     "text": [
      "lr.intercept: 83.83137313848582\n",
      "MAE: 15.749651439377764\n",
      "MSE: 1038.7673669068106\n",
      "r2_train: 0.3840437047014128\n"
     ]
    },
    {
     "data": {
      "text/html": [
       "<div>\n",
       "<style scoped>\n",
       "    .dataframe tbody tr th:only-of-type {\n",
       "        vertical-align: middle;\n",
       "    }\n",
       "\n",
       "    .dataframe tbody tr th {\n",
       "        vertical-align: top;\n",
       "    }\n",
       "\n",
       "    .dataframe thead th {\n",
       "        text-align: right;\n",
       "    }\n",
       "</style>\n",
       "<table border=\"1\" class=\"dataframe\">\n",
       "  <thead>\n",
       "    <tr style=\"text-align: right;\">\n",
       "      <th></th>\n",
       "      <th>value</th>\n",
       "    </tr>\n",
       "  </thead>\n",
       "  <tbody>\n",
       "    <tr>\n",
       "      <th>scaled_gross_perfs</th>\n",
       "      <td>321.893567</td>\n",
       "    </tr>\n",
       "    <tr>\n",
       "      <th>scaled_tvd</th>\n",
       "      <td>46.176780</td>\n",
       "    </tr>\n",
       "    <tr>\n",
       "      <th>scaled_formation</th>\n",
       "      <td>35.552998</td>\n",
       "    </tr>\n",
       "    <tr>\n",
       "      <th>scaled_gor_hist</th>\n",
       "      <td>31.666983</td>\n",
       "    </tr>\n",
       "    <tr>\n",
       "      <th>scaled_frac_fluid_gpf</th>\n",
       "      <td>27.656582</td>\n",
       "    </tr>\n",
       "    <tr>\n",
       "      <th>scaled_frac_fluid_type</th>\n",
       "      <td>0.208054</td>\n",
       "    </tr>\n",
       "    <tr>\n",
       "      <th>scaled_direction</th>\n",
       "      <td>0.000000</td>\n",
       "    </tr>\n",
       "    <tr>\n",
       "      <th>scaled_sub_basin</th>\n",
       "      <td>-0.858266</td>\n",
       "    </tr>\n",
       "    <tr>\n",
       "      <th>scaled_oper</th>\n",
       "      <td>-6.124377</td>\n",
       "    </tr>\n",
       "    <tr>\n",
       "      <th>scaled_proppant_ppf</th>\n",
       "      <td>-6.266215</td>\n",
       "    </tr>\n",
       "    <tr>\n",
       "      <th>scaled_lateral_class</th>\n",
       "      <td>-20.764706</td>\n",
       "    </tr>\n",
       "    <tr>\n",
       "      <th>scaled_oil_gravity</th>\n",
       "      <td>-36.711763</td>\n",
       "    </tr>\n",
       "    <tr>\n",
       "      <th>scaled_vintage</th>\n",
       "      <td>-115.798225</td>\n",
       "    </tr>\n",
       "    <tr>\n",
       "      <th>scaled_frac_stages</th>\n",
       "      <td>-353.065294</td>\n",
       "    </tr>\n",
       "  </tbody>\n",
       "</table>\n",
       "</div>"
      ],
      "text/plain": [
       "                             value\n",
       "scaled_gross_perfs      321.893567\n",
       "scaled_tvd               46.176780\n",
       "scaled_formation         35.552998\n",
       "scaled_gor_hist          31.666983\n",
       "scaled_frac_fluid_gpf    27.656582\n",
       "scaled_frac_fluid_type    0.208054\n",
       "scaled_direction          0.000000\n",
       "scaled_sub_basin         -0.858266\n",
       "scaled_oper              -6.124377\n",
       "scaled_proppant_ppf      -6.266215\n",
       "scaled_lateral_class    -20.764706\n",
       "scaled_oil_gravity      -36.711763\n",
       "scaled_vintage         -115.798225\n",
       "scaled_frac_stages     -353.065294"
      ]
     },
     "execution_count": 33,
     "metadata": {},
     "output_type": "execute_result"
    },
    {
     "data": {
      "image/png": "[encoded data removed]",
      "text/plain": [
       "<Figure size 432x288 with 1 Axes>"
      ]
     },
     "metadata": {
      "needs_background": "light"
     },
     "output_type": "display_data"
    }
   ],
   "source": [
    "# Independent variables:\n",
    "X_vars = ['scaled_direction', 'scaled_frac_fluid_type', 'scaled_oper', \n",
    "          'scaled_formation', 'scaled_sub_basin', 'scaled_lateral_class', \n",
    "          'scaled_proppant_ppf', 'scaled_frac_fluid_gpf', 'scaled_gross_perfs', \n",
    "          'scaled_frac_stages', 'scaled_oil_gravity', 'scaled_gor_hist', \n",
    "          'scaled_tvd', 'scaled_vintage']\n",
    "\n",
    "# Dependent (target) variable, it is continuous\n",
    "target = ['recovery']\n",
    "\n",
    "# These lines are to filter for only vertical wells:\n",
    "df_vert = scaled_df[scaled_df.scaled_direction == 1.0]\n",
    "df_vert.dropna(inplace=True)\n",
    "\n",
    "X = df_vert[X_vars].copy()                                                    \n",
    "y = df_vert[target]\n",
    "\n",
    "# random_state=0 tells the sklearn function that you are not setting a seed\n",
    "# if you want to be able to duplicate results, set random_state to a positive integer\n",
    "X_train, X_test, y_train, y_test = train_test_split(X, y, train_size=.80, random_state=123)\n",
    "\n",
    "train = pd.concat([X_train, y_train], axis=1)\n",
    "test = pd.concat([X_test, y_test], axis=1)\n",
    "\n",
    "reg_df, abs_df, lr, lr.coef_, lr.intercept_, MAE, MSE, r2_train, y_pred, scatter = linreg(X_train, y_train)\n",
    "print('lr.intercept:', lr.intercept_[0])\n",
    "print('MAE:', MAE)\n",
    "print('MSE:', MSE)\n",
    "print('r2_train:', r2_train)\n",
    "reg_df"
   ]
  },
  {
   "cell_type": "code",
   "execution_count": 34,
   "metadata": {},
   "outputs": [
    {
     "name": "stdout",
     "output_type": "stream",
     "text": [
      "ranked by absolute value of coefficient:\n"
     ]
    },
    {
     "data": {
      "text/html": [
       "<div>\n",
       "<style scoped>\n",
       "    .dataframe tbody tr th:only-of-type {\n",
       "        vertical-align: middle;\n",
       "    }\n",
       "\n",
       "    .dataframe tbody tr th {\n",
       "        vertical-align: top;\n",
       "    }\n",
       "\n",
       "    .dataframe thead th {\n",
       "        text-align: right;\n",
       "    }\n",
       "</style>\n",
       "<table border=\"1\" class=\"dataframe\">\n",
       "  <thead>\n",
       "    <tr style=\"text-align: right;\">\n",
       "      <th></th>\n",
       "      <th>value</th>\n",
       "    </tr>\n",
       "  </thead>\n",
       "  <tbody>\n",
       "    <tr>\n",
       "      <th>scaled_frac_stages</th>\n",
       "      <td>353.065294</td>\n",
       "    </tr>\n",
       "    <tr>\n",
       "      <th>scaled_gross_perfs</th>\n",
       "      <td>321.893567</td>\n",
       "    </tr>\n",
       "    <tr>\n",
       "      <th>scaled_vintage</th>\n",
       "      <td>115.798225</td>\n",
       "    </tr>\n",
       "    <tr>\n",
       "      <th>scaled_tvd</th>\n",
       "      <td>46.176780</td>\n",
       "    </tr>\n",
       "    <tr>\n",
       "      <th>scaled_oil_gravity</th>\n",
       "      <td>36.711763</td>\n",
       "    </tr>\n",
       "    <tr>\n",
       "      <th>scaled_formation</th>\n",
       "      <td>35.552998</td>\n",
       "    </tr>\n",
       "    <tr>\n",
       "      <th>scaled_gor_hist</th>\n",
       "      <td>31.666983</td>\n",
       "    </tr>\n",
       "    <tr>\n",
       "      <th>scaled_frac_fluid_gpf</th>\n",
       "      <td>27.656582</td>\n",
       "    </tr>\n",
       "    <tr>\n",
       "      <th>scaled_lateral_class</th>\n",
       "      <td>20.764706</td>\n",
       "    </tr>\n",
       "    <tr>\n",
       "      <th>scaled_proppant_ppf</th>\n",
       "      <td>6.266215</td>\n",
       "    </tr>\n",
       "    <tr>\n",
       "      <th>scaled_oper</th>\n",
       "      <td>6.124377</td>\n",
       "    </tr>\n",
       "    <tr>\n",
       "      <th>scaled_sub_basin</th>\n",
       "      <td>0.858266</td>\n",
       "    </tr>\n",
       "    <tr>\n",
       "      <th>scaled_frac_fluid_type</th>\n",
       "      <td>0.208054</td>\n",
       "    </tr>\n",
       "    <tr>\n",
       "      <th>scaled_direction</th>\n",
       "      <td>0.000000</td>\n",
       "    </tr>\n",
       "  </tbody>\n",
       "</table>\n",
       "</div>"
      ],
      "text/plain": [
       "                             value\n",
       "scaled_frac_stages      353.065294\n",
       "scaled_gross_perfs      321.893567\n",
       "scaled_vintage          115.798225\n",
       "scaled_tvd               46.176780\n",
       "scaled_oil_gravity       36.711763\n",
       "scaled_formation         35.552998\n",
       "scaled_gor_hist          31.666983\n",
       "scaled_frac_fluid_gpf    27.656582\n",
       "scaled_lateral_class     20.764706\n",
       "scaled_proppant_ppf       6.266215\n",
       "scaled_oper               6.124377\n",
       "scaled_sub_basin          0.858266\n",
       "scaled_frac_fluid_type    0.208054\n",
       "scaled_direction          0.000000"
      ]
     },
     "execution_count": 34,
     "metadata": {},
     "output_type": "execute_result"
    }
   ],
   "source": [
    "print('ranked by absolute value of coefficient:')\n",
    "abs_df.sort_values(by='value', ascending=False)"
   ]
  },
  {
   "cell_type": "markdown",
   "metadata": {},
   "source": [
    "#### Test only top features suggested by XGBoost, without filtering for vertical wells."
   ]
  },
  {
   "cell_type": "code",
   "execution_count": 36,
   "metadata": {},
   "outputs": [
    {
     "data": {
      "text/plain": [
       "['oil_gravity',\n",
       " 'tvd',\n",
       " 'vintage',\n",
       " 'gross_perfs',\n",
       " 'mid_point_lat',\n",
       " 'mid_point_long',\n",
       " 'formation',\n",
       " 'frac_stages',\n",
       " 'frac_fluid_gpf']"
      ]
     },
     "execution_count": 36,
     "metadata": {},
     "output_type": "execute_result"
    }
   ],
   "source": [
    "top_80"
   ]
  },
  {
   "cell_type": "code",
   "execution_count": 35,
   "metadata": {},
   "outputs": [
    {
     "ename": "KeyError",
     "evalue": "\"['oil_gravity' 'tvd' 'vintage' 'gross_perfs' 'mid_point_lat'\\n 'mid_point_long' 'formation' 'frac_stages' 'frac_fluid_gpf'] not in index\"",
     "output_type": "error",
     "traceback": [
      "\u001b[0;31m---------------------------------------------------------------------------\u001b[0m",
      "\u001b[0;31mKeyError\u001b[0m                                  Traceback (most recent call last)",
      "\u001b[0;32m<ipython-input-35-c0177d626cff>\u001b[0m in \u001b[0;36m<module>\u001b[0;34m\u001b[0m\n\u001b[1;32m      5\u001b[0m \u001b[0mtarget\u001b[0m \u001b[0;34m=\u001b[0m \u001b[0;34m[\u001b[0m\u001b[0;34m'recovery'\u001b[0m\u001b[0;34m]\u001b[0m\u001b[0;34m\u001b[0m\u001b[0;34m\u001b[0m\u001b[0m\n\u001b[1;32m      6\u001b[0m \u001b[0;34m\u001b[0m\u001b[0m\n\u001b[0;32m----> 7\u001b[0;31m \u001b[0mX\u001b[0m \u001b[0;34m=\u001b[0m \u001b[0mscaled_df\u001b[0m\u001b[0;34m[\u001b[0m\u001b[0mX_vars\u001b[0m\u001b[0;34m]\u001b[0m\u001b[0;34m.\u001b[0m\u001b[0mcopy\u001b[0m\u001b[0;34m(\u001b[0m\u001b[0;34m)\u001b[0m\u001b[0;34m\u001b[0m\u001b[0;34m\u001b[0m\u001b[0m\n\u001b[0m\u001b[1;32m      8\u001b[0m \u001b[0my\u001b[0m \u001b[0;34m=\u001b[0m \u001b[0mscaled_df\u001b[0m\u001b[0;34m[\u001b[0m\u001b[0mtarget\u001b[0m\u001b[0;34m]\u001b[0m\u001b[0;34m\u001b[0m\u001b[0;34m\u001b[0m\u001b[0m\n\u001b[1;32m      9\u001b[0m \u001b[0;34m\u001b[0m\u001b[0m\n",
      "\u001b[0;32m/usr/local/anaconda3/lib/python3.7/site-packages/pandas/core/frame.py\u001b[0m in \u001b[0;36m__getitem__\u001b[0;34m(self, key)\u001b[0m\n\u001b[1;32m   2680\u001b[0m         \u001b[0;32mif\u001b[0m \u001b[0misinstance\u001b[0m\u001b[0;34m(\u001b[0m\u001b[0mkey\u001b[0m\u001b[0;34m,\u001b[0m \u001b[0;34m(\u001b[0m\u001b[0mSeries\u001b[0m\u001b[0;34m,\u001b[0m \u001b[0mnp\u001b[0m\u001b[0;34m.\u001b[0m\u001b[0mndarray\u001b[0m\u001b[0;34m,\u001b[0m \u001b[0mIndex\u001b[0m\u001b[0;34m,\u001b[0m \u001b[0mlist\u001b[0m\u001b[0;34m)\u001b[0m\u001b[0;34m)\u001b[0m\u001b[0;34m:\u001b[0m\u001b[0;34m\u001b[0m\u001b[0;34m\u001b[0m\u001b[0m\n\u001b[1;32m   2681\u001b[0m             \u001b[0;31m# either boolean or fancy integer index\u001b[0m\u001b[0;34m\u001b[0m\u001b[0;34m\u001b[0m\u001b[0;34m\u001b[0m\u001b[0m\n\u001b[0;32m-> 2682\u001b[0;31m             \u001b[0;32mreturn\u001b[0m \u001b[0mself\u001b[0m\u001b[0;34m.\u001b[0m\u001b[0m_getitem_array\u001b[0m\u001b[0;34m(\u001b[0m\u001b[0mkey\u001b[0m\u001b[0;34m)\u001b[0m\u001b[0;34m\u001b[0m\u001b[0;34m\u001b[0m\u001b[0m\n\u001b[0m\u001b[1;32m   2683\u001b[0m         \u001b[0;32melif\u001b[0m \u001b[0misinstance\u001b[0m\u001b[0;34m(\u001b[0m\u001b[0mkey\u001b[0m\u001b[0;34m,\u001b[0m \u001b[0mDataFrame\u001b[0m\u001b[0;34m)\u001b[0m\u001b[0;34m:\u001b[0m\u001b[0;34m\u001b[0m\u001b[0;34m\u001b[0m\u001b[0m\n\u001b[1;32m   2684\u001b[0m             \u001b[0;32mreturn\u001b[0m \u001b[0mself\u001b[0m\u001b[0;34m.\u001b[0m\u001b[0m_getitem_frame\u001b[0m\u001b[0;34m(\u001b[0m\u001b[0mkey\u001b[0m\u001b[0;34m)\u001b[0m\u001b[0;34m\u001b[0m\u001b[0;34m\u001b[0m\u001b[0m\n",
      "\u001b[0;32m/usr/local/anaconda3/lib/python3.7/site-packages/pandas/core/frame.py\u001b[0m in \u001b[0;36m_getitem_array\u001b[0;34m(self, key)\u001b[0m\n\u001b[1;32m   2724\u001b[0m             \u001b[0;32mreturn\u001b[0m \u001b[0mself\u001b[0m\u001b[0;34m.\u001b[0m\u001b[0m_take\u001b[0m\u001b[0;34m(\u001b[0m\u001b[0mindexer\u001b[0m\u001b[0;34m,\u001b[0m \u001b[0maxis\u001b[0m\u001b[0;34m=\u001b[0m\u001b[0;36m0\u001b[0m\u001b[0;34m)\u001b[0m\u001b[0;34m\u001b[0m\u001b[0;34m\u001b[0m\u001b[0m\n\u001b[1;32m   2725\u001b[0m         \u001b[0;32melse\u001b[0m\u001b[0;34m:\u001b[0m\u001b[0;34m\u001b[0m\u001b[0;34m\u001b[0m\u001b[0m\n\u001b[0;32m-> 2726\u001b[0;31m             \u001b[0mindexer\u001b[0m \u001b[0;34m=\u001b[0m \u001b[0mself\u001b[0m\u001b[0;34m.\u001b[0m\u001b[0mloc\u001b[0m\u001b[0;34m.\u001b[0m\u001b[0m_convert_to_indexer\u001b[0m\u001b[0;34m(\u001b[0m\u001b[0mkey\u001b[0m\u001b[0;34m,\u001b[0m \u001b[0maxis\u001b[0m\u001b[0;34m=\u001b[0m\u001b[0;36m1\u001b[0m\u001b[0;34m)\u001b[0m\u001b[0;34m\u001b[0m\u001b[0;34m\u001b[0m\u001b[0m\n\u001b[0m\u001b[1;32m   2727\u001b[0m             \u001b[0;32mreturn\u001b[0m \u001b[0mself\u001b[0m\u001b[0;34m.\u001b[0m\u001b[0m_take\u001b[0m\u001b[0;34m(\u001b[0m\u001b[0mindexer\u001b[0m\u001b[0;34m,\u001b[0m \u001b[0maxis\u001b[0m\u001b[0;34m=\u001b[0m\u001b[0;36m1\u001b[0m\u001b[0;34m)\u001b[0m\u001b[0;34m\u001b[0m\u001b[0;34m\u001b[0m\u001b[0m\n\u001b[1;32m   2728\u001b[0m \u001b[0;34m\u001b[0m\u001b[0m\n",
      "\u001b[0;32m/usr/local/anaconda3/lib/python3.7/site-packages/pandas/core/indexing.py\u001b[0m in \u001b[0;36m_convert_to_indexer\u001b[0;34m(self, obj, axis, is_setter)\u001b[0m\n\u001b[1;32m   1325\u001b[0m                 \u001b[0;32mif\u001b[0m \u001b[0mmask\u001b[0m\u001b[0;34m.\u001b[0m\u001b[0many\u001b[0m\u001b[0;34m(\u001b[0m\u001b[0;34m)\u001b[0m\u001b[0;34m:\u001b[0m\u001b[0;34m\u001b[0m\u001b[0;34m\u001b[0m\u001b[0m\n\u001b[1;32m   1326\u001b[0m                     raise KeyError('{mask} not in index'\n\u001b[0;32m-> 1327\u001b[0;31m                                    .format(mask=objarr[mask]))\n\u001b[0m\u001b[1;32m   1328\u001b[0m \u001b[0;34m\u001b[0m\u001b[0m\n\u001b[1;32m   1329\u001b[0m                 \u001b[0;32mreturn\u001b[0m \u001b[0mcom\u001b[0m\u001b[0;34m.\u001b[0m\u001b[0m_values_from_object\u001b[0m\u001b[0;34m(\u001b[0m\u001b[0mindexer\u001b[0m\u001b[0;34m)\u001b[0m\u001b[0;34m\u001b[0m\u001b[0;34m\u001b[0m\u001b[0m\n",
      "\u001b[0;31mKeyError\u001b[0m: \"['oil_gravity' 'tvd' 'vintage' 'gross_perfs' 'mid_point_lat'\\n 'mid_point_long' 'formation' 'frac_stages' 'frac_fluid_gpf'] not in index\""
     ]
    }
   ],
   "source": [
    "# Independent variables:\n",
    "X_vars = top_80\n",
    "\n",
    "# Dependent (target) variable, it is continuous\n",
    "target = ['recovery']\n",
    "\n",
    "X = scaled_df[X_vars].copy()                                                    \n",
    "y = scaled_df[target]\n",
    "\n",
    "# random_state=0 tells the sklearn function that you are not setting a seed\n",
    "# if you want to be able to duplicate results, set random_state to a positive integer\n",
    "X_train, X_test, y_train, y_test = train_test_split(X, y, train_size=.80, random_state=123)\n",
    "\n",
    "train = pd.concat([X_train, y_train], axis=1)\n",
    "test = pd.concat([X_test, y_test], axis=1)\n",
    "\n",
    "reg_df, abs_df, lr, lr.coef_, lr.intercept_, MAE, MSE, r2_train, y_pred, scatter = linreg(X_train, y_train)\n",
    "print('lr.intercept:', lr.intercept_[0])\n",
    "print('MAE:', MAE)\n",
    "print('MSE:', MSE)\n",
    "print('r2_train:', r2_train)\n",
    "reg_df"
   ]
  },
  {
   "cell_type": "code",
   "execution_count": null,
   "metadata": {},
   "outputs": [],
   "source": [
    "print('abs_df:')\n",
    "abs_df.sort_values(by='value', ascending=False)"
   ]
  },
  {
   "cell_type": "markdown",
   "metadata": {},
   "source": [
    "#### Test only top features suggested by XGBoost (exclude peak_boepd), WITH filtering for vertical wells."
   ]
  },
  {
   "cell_type": "code",
   "execution_count": null,
   "metadata": {},
   "outputs": [],
   "source": [
    "# Independent variables:\n",
    "X_vars = ['scaled_proppant_ppf', 'scaled_gross_perfs', 'scaled_gor_hist', 'scaled_tvd', \n",
    "          'scaled_frac_fluid_gpf', 'scaled_oper']\n",
    "\n",
    "# Dependent (target) variable, it is continuous\n",
    "target = ['recovery']\n",
    "\n",
    "df_vert = scaled_df[scaled_df.scaled_direction == 1.0]\n",
    "df_vert.dropna(inplace=True)\n",
    "\n",
    "X = df_vert[X_vars].copy()                                                    \n",
    "y = df_vert[['recovery']]\n",
    "\n",
    "# random_state=0 tells the sklearn function that you are not setting a seed\n",
    "# if you want to be able to duplicate results, set random_state to a positive integer\n",
    "X_train, X_test, y_train, y_test = train_test_split(X, y, train_size=.80, random_state=123)\n",
    "\n",
    "train = pd.concat([X_train, y_train], axis=1)\n",
    "test = pd.concat([X_test, y_test], axis=1)\n",
    "\n",
    "reg_df, abs_df, lr, lr.coef_, lr.intercept_, MAE, MSE, r2_train, y_pred, scatter = linreg(X_train, y_train)\n",
    "print('lr.intercept:', lr.intercept_[0])\n",
    "print('MAE:', MAE)\n",
    "print('MSE:', MSE)\n",
    "print('r2_train:', r2_train)\n",
    "reg_df"
   ]
  },
  {
   "cell_type": "code",
   "execution_count": null,
   "metadata": {},
   "outputs": [],
   "source": [
    "print('abs_df:')\n",
    "abs_df.sort_values(by='value', ascending=False)"
   ]
  },
  {
   "cell_type": "markdown",
   "metadata": {},
   "source": [
    "# Run XGBoost for each sub-basin:"
   ]
  },
  {
   "cell_type": "markdown",
   "metadata": {},
   "source": [
    "#### CP, Central Platform, including all features:"
   ]
  },
  {
   "cell_type": "code",
   "execution_count": null,
   "metadata": {},
   "outputs": [],
   "source": [
    "CP_df = scaled_df[(scaled_df['scaled_sub_basin'] == 0)]\n",
    "CP_df.sample(5)"
   ]
  },
  {
   "cell_type": "code",
   "execution_count": null,
   "metadata": {},
   "outputs": [],
   "source": [
    "xgb_df = CP_df.drop(columns=['recovery']).copy()\n",
    "\n",
    "xgb_params = {\n",
    "    'max_depth': 8,\n",
    "    'seed' : 493\n",
    "}\n",
    "dtrain = xgb.DMatrix(xgb_df, CP_df.recovery, feature_names=xgb_df.columns.values)\n",
    "model = xgb.train(dict(xgb_params, silent=0), dtrain, num_boost_round=50)\n",
    "\n",
    "# plot the important features #\n",
    "fig, ax = plt.subplots(figsize=(12,8))\n",
    "xgb.plot_importance(model, max_num_features=50, height=0.8, ax=ax)\n",
    "plt.title('Feature Importance of Central Platform Sub-basin')\n",
    "plt.show()"
   ]
  },
  {
   "cell_type": "code",
   "execution_count": null,
   "metadata": {},
   "outputs": [],
   "source": [
    "# Independent variables:\n",
    "X_vars = ['scaled_direction', 'scaled_frac_fluid_type', 'scaled_oper', \n",
    "          'scaled_formation', 'scaled_sub_basin', 'scaled_lateral_class', \n",
    "          'scaled_proppant_ppf', 'scaled_frac_fluid_gpf', 'scaled_gross_perfs', \n",
    "          'scaled_frac_stages', 'scaled_oil_gravity', 'scaled_gor_hist', \n",
    "          'scaled_tvd', 'scaled_vintage']\n",
    "\n",
    "# Dependent (target) variable, it is continuous\n",
    "target = ['recovery']\n",
    "\n",
    "X = CP_df[X_vars].copy()                                                    \n",
    "y = CP_df[target]\n",
    "\n",
    "# random_state=0 tells the sklearn function that you are not setting a seed\n",
    "# if you want to be able to duplicate results, set random_state to a positive integer\n",
    "X_train, X_test, y_train, y_test = train_test_split(X, y, train_size=.80, random_state=123)\n",
    "\n",
    "train = pd.concat([X_train, y_train], axis=1)\n",
    "test = pd.concat([X_test, y_test], axis=1)\n",
    "\n",
    "reg_df, abs_df, lr, lr.coef_, lr.intercept_, MAE, MSE, r2_train, y_pred, scatter = linreg(X_train, y_train)\n",
    "print('lr.intercept:', lr.intercept_[0])\n",
    "print('MAE:', MAE)\n",
    "print('MSE:', MSE)\n",
    "print('r2_train:', r2_train)\n",
    "reg_df"
   ]
  },
  {
   "cell_type": "code",
   "execution_count": null,
   "metadata": {},
   "outputs": [],
   "source": [
    "print('abs_df:')\n",
    "abs_df.sort_values(by='value', ascending=False)"
   ]
  },
  {
   "cell_type": "markdown",
   "metadata": {},
   "source": [
    "#### Delaware:"
   ]
  },
  {
   "cell_type": "code",
   "execution_count": null,
   "metadata": {},
   "outputs": [],
   "source": [
    "Del_df = scaled_df[(scaled_df['scaled_sub_basin'] == 0.5)]\n",
    "Del_df.sample(5)"
   ]
  },
  {
   "cell_type": "code",
   "execution_count": null,
   "metadata": {},
   "outputs": [],
   "source": [
    "xgb_df = Del_df.drop(columns=['recovery']).copy()\n",
    "\n",
    "xgb_params = {\n",
    "    'max_depth': 8,\n",
    "    'seed' : 493\n",
    "}\n",
    "dtrain = xgb.DMatrix(xgb_df, Del_df.recovery, feature_names=xgb_df.columns.values)\n",
    "model = xgb.train(dict(xgb_params, silent=0), dtrain, num_boost_round=50)\n",
    "\n",
    "# plot the important features #\n",
    "fig, ax = plt.subplots(figsize=(12,8))\n",
    "xgb.plot_importance(model, max_num_features=50, height=0.8, ax=ax)\n",
    "plt.title('Feature Importance of Delaware Sub-basin')\n",
    "plt.show()\n",
    "\n",
    "# I think we can return xgb and model to then plot xgb.plot_importance(model,...)\n",
    "# Or maybe can save that line into a variable to return."
   ]
  },
  {
   "cell_type": "code",
   "execution_count": null,
   "metadata": {},
   "outputs": [],
   "source": [
    "# Independent variables:\n",
    "X_vars = ['scaled_direction', 'scaled_frac_fluid_type', 'scaled_oper', \n",
    "          'scaled_formation', 'scaled_sub_basin', 'scaled_lateral_class', \n",
    "          'scaled_proppant_ppf', 'scaled_frac_fluid_gpf', 'scaled_gross_perfs', \n",
    "          'scaled_frac_stages', 'scaled_oil_gravity', 'scaled_gor_hist', \n",
    "          'scaled_tvd', 'scaled_vintage']\n",
    "\n",
    "# Dependent (target) variable, it is continuous\n",
    "target = ['recovery']\n",
    "\n",
    "X = Del_df[X_vars].copy()                                                    \n",
    "y = Del_df[target]\n",
    "\n",
    "# random_state=0 tells the sklearn function that you are not setting a seed\n",
    "# if you want to be able to duplicate results, set random_state to a positive integer\n",
    "X_train, X_test, y_train, y_test = train_test_split(X, y, train_size=.80, random_state=123)\n",
    "\n",
    "train = pd.concat([X_train, y_train], axis=1)\n",
    "test = pd.concat([X_test, y_test], axis=1)\n",
    "\n",
    "reg_df, abs_df, lr, lr.coef_, lr.intercept_, MAE, MSE, r2_train, y_pred, scatter = linreg(X_train, y_train)\n",
    "print('lr.intercept:', lr.intercept_[0])\n",
    "print('MAE:', MAE)\n",
    "print('MSE:', MSE)\n",
    "print('r2_train:', r2_train)\n",
    "reg_df"
   ]
  },
  {
   "cell_type": "code",
   "execution_count": null,
   "metadata": {},
   "outputs": [],
   "source": [
    "print('abs_df:')\n",
    "abs_df.sort_values(by='value', ascending=False)"
   ]
  },
  {
   "cell_type": "markdown",
   "metadata": {},
   "source": [
    "#### Midland:"
   ]
  },
  {
   "cell_type": "code",
   "execution_count": null,
   "metadata": {},
   "outputs": [],
   "source": [
    "Mid_df = scaled_df[(scaled_df['scaled_sub_basin'] == 1)]\n",
    "Mid_df.sample(5)"
   ]
  },
  {
   "cell_type": "code",
   "execution_count": null,
   "metadata": {},
   "outputs": [],
   "source": [
    "xgb_df = Mid_df.drop(columns=['recovery']).copy()\n",
    "\n",
    "xgb_params = {\n",
    "    'max_depth': 8,\n",
    "    'seed' : 493\n",
    "}\n",
    "dtrain = xgb.DMatrix(xgb_df, Mid_df.recovery, feature_names=xgb_df.columns.values)\n",
    "model = xgb.train(dict(xgb_params, silent=0), dtrain, num_boost_round=50)\n",
    "\n",
    "# plot the important features #\n",
    "fig, ax = plt.subplots(figsize=(12,8))\n",
    "xgb.plot_importance(model, max_num_features=50, height=0.8, ax=ax)\n",
    "plt.title('Feature Importance of Midland Sub-basin')\n",
    "plt.show()"
   ]
  },
  {
   "cell_type": "markdown",
   "metadata": {},
   "source": [
    "Recommended features for XGB:\n",
    "\n",
    "X_vars = ['scaled_proppant_ppf', 'scaled_gor_hist', 'scaled_gross_perfs', 'scaled_frac_fluid_gpf',\n",
    "              'scaled_tvd', 'scaled_oper']"
   ]
  },
  {
   "cell_type": "code",
   "execution_count": null,
   "metadata": {},
   "outputs": [],
   "source": [
    "# Independent variables:\n",
    "X_vars = ['scaled_direction', 'scaled_frac_fluid_type', 'scaled_oper', \n",
    "          'scaled_formation', 'scaled_sub_basin', 'scaled_lateral_class', \n",
    "          'scaled_proppant_ppf', 'scaled_frac_fluid_gpf', 'scaled_gross_perfs', \n",
    "          'scaled_frac_stages', 'scaled_oil_gravity', 'scaled_gor_hist', \n",
    "          'scaled_tvd', 'scaled_vintage']\n",
    "\n",
    "\n",
    "# Dependent (target) variable, it is continuous\n",
    "target = ['recovery']\n",
    "\n",
    "X = Mid_df[X_vars].copy()                                                    \n",
    "y = Mid_df[target]\n",
    "\n",
    "# random_state=0 tells the sklearn function that you are not setting a seed\n",
    "# if you want to be able to duplicate results, set random_state to a positive integer\n",
    "X_train, X_test, y_train, y_test = train_test_split(X, y, train_size=.80, random_state=123)\n",
    "\n",
    "train = pd.concat([X_train, y_train], axis=1)\n",
    "test = pd.concat([X_test, y_test], axis=1)\n",
    "\n",
    "reg_df, abs_df, lr, lr.coef_, lr.intercept_, MAE, MSE, r2_train, y_pred, scatter = linreg(X_train, y_train)\n",
    "print('lr.intercept:', lr.intercept_[0])\n",
    "print('MAE:', MAE)\n",
    "print('MSE:', MSE)\n",
    "print('r2_train:', r2_train)\n",
    "reg_df"
   ]
  },
  {
   "cell_type": "code",
   "execution_count": null,
   "metadata": {},
   "outputs": [],
   "source": [
    "print('abs_df:')\n",
    "abs_df.sort_values(by='value', ascending=False)"
   ]
  },
  {
   "cell_type": "markdown",
   "metadata": {},
   "source": [
    "Recommended features:\n",
    "\n",
    "XGB X_vars = ['scaled_proppant_ppf', 'scaled_gor_hist', 'scaled_gross_perfs', 'scaled_frac_fluid_gpf',\n",
    "              'scaled_tvd', 'scaled_oper']\n",
    "\n",
    "\n",
    "LM X_vars = ['scaled_gross_perfs', 'scaled_oil_gravity', 'scaled_tvd', 'scaled_vintage', \n",
    "             'scaled_direction', 'scaled_formation']"
   ]
  },
  {
   "cell_type": "markdown",
   "metadata": {},
   "source": [
    "#### Midland, horizontal wells only:"
   ]
  },
  {
   "cell_type": "code",
   "execution_count": null,
   "metadata": {},
   "outputs": [],
   "source": [
    "scaled_df.scaled_direction.value_counts()"
   ]
  },
  {
   "cell_type": "code",
   "execution_count": null,
   "metadata": {},
   "outputs": [],
   "source": [
    "Mid_Hor_df = scaled_df[(scaled_df['scaled_sub_basin'] == 1) & (scaled_df['scaled_direction'] == 0.0)]\n",
    "Mid_Hor_df.sample(5)"
   ]
  },
  {
   "cell_type": "code",
   "execution_count": null,
   "metadata": {},
   "outputs": [],
   "source": [
    "xgb_df = Mid_Hor_df.drop(columns=['recovery']).copy()\n",
    "\n",
    "xgb_params = {\n",
    "    'max_depth': 8,\n",
    "    'seed' : 493\n",
    "}\n",
    "dtrain = xgb.DMatrix(xgb_df, Mid_Hor_df.recovery, feature_names=xgb_df.columns.values)\n",
    "model = xgb.train(dict(xgb_params, silent=0), dtrain, num_boost_round=50)\n",
    "\n",
    "# plot the important features #\n",
    "fig, ax = plt.subplots(figsize=(12,8))\n",
    "xgb.plot_importance(model, max_num_features=50, height=0.8, ax=ax)\n",
    "plt.title('Midland, Horizontal Wells Only')\n",
    "plt.show()"
   ]
  },
  {
   "cell_type": "code",
   "execution_count": null,
   "metadata": {},
   "outputs": [],
   "source": [
    "# Independent variables:\n",
    "X_vars = ['scaled_direction', 'scaled_frac_fluid_type', 'scaled_oper', \n",
    "          'scaled_formation', 'scaled_sub_basin', 'scaled_lateral_class', \n",
    "          'scaled_proppant_ppf', 'scaled_frac_fluid_gpf', 'scaled_gross_perfs', \n",
    "          'scaled_frac_stages', 'scaled_oil_gravity', 'scaled_gor_hist', \n",
    "          'scaled_tvd', 'scaled_vintage']\n",
    "\n",
    "# Dependent (target) variable, it is continuous\n",
    "target = ['recovery']\n",
    "\n",
    "X = Mid_Hor_df[X_vars].copy()                                                    \n",
    "y = Mid_Hor_df[target]\n",
    "\n",
    "# random_state=0 tells the sklearn function that you are not setting a seed\n",
    "# if you want to be able to duplicate results, set random_state to a positive integer\n",
    "X_train, X_test, y_train, y_test = train_test_split(X, y, train_size=.80, random_state=123)\n",
    "\n",
    "train = pd.concat([X_train, y_train], axis=1)\n",
    "test = pd.concat([X_test, y_test], axis=1)\n",
    "\n",
    "reg_df, abs_df, lr, lr.coef_, lr.intercept_, MAE, MSE, r2_train, y_pred, scatter = linreg(X_train, y_train)\n",
    "print('lr.intercept:', lr.intercept_[0])\n",
    "print('MAE:', MAE)\n",
    "print('MSE:', MSE)\n",
    "print('r2_train:', r2_train)\n",
    "reg_df"
   ]
  },
  {
   "cell_type": "code",
   "execution_count": null,
   "metadata": {},
   "outputs": [],
   "source": [
    "print('abs_df:')\n",
    "abs_df.sort_values(by='value', ascending=False)"
   ]
  },
  {
   "cell_type": "markdown",
   "metadata": {},
   "source": [
    "#### Midland, vertical wells only:"
   ]
  },
  {
   "cell_type": "code",
   "execution_count": null,
   "metadata": {},
   "outputs": [],
   "source": [
    "Mid_Ver_df = scaled_df[(scaled_df['scaled_sub_basin'] == 1) & (scaled_df['scaled_direction'] == 1.0)]\n",
    "Mid_Ver_df.sample(5)"
   ]
  },
  {
   "cell_type": "code",
   "execution_count": null,
   "metadata": {},
   "outputs": [],
   "source": [
    "xgb_df = Mid_Ver_df.drop(columns=['recovery']).copy()\n",
    "\n",
    "xgb_params = {\n",
    "    'max_depth': 8,\n",
    "    'seed' : 493\n",
    "}\n",
    "dtrain = xgb.DMatrix(xgb_df, Mid_Ver_df.recovery, feature_names=xgb_df.columns.values)\n",
    "model = xgb.train(dict(xgb_params, silent=0), dtrain, num_boost_round=50)\n",
    "\n",
    "# plot the important features #\n",
    "fig, ax = plt.subplots(figsize=(12,8))\n",
    "xgb.plot_importance(model, max_num_features=50, height=0.8, ax=ax)\n",
    "plt.title('Midland, Vertical Wells Only')\n",
    "plt.show()"
   ]
  },
  {
   "cell_type": "code",
   "execution_count": null,
   "metadata": {},
   "outputs": [],
   "source": [
    "# Independent variables:\n",
    "X_vars = ['scaled_direction', 'scaled_frac_fluid_type', 'scaled_oper', \n",
    "          'scaled_formation', 'scaled_sub_basin', 'scaled_lateral_class', \n",
    "          'scaled_proppant_ppf', 'scaled_frac_fluid_gpf', 'scaled_gross_perfs', \n",
    "          'scaled_frac_stages', 'scaled_oil_gravity', 'scaled_gor_hist', \n",
    "          'scaled_tvd', 'scaled_vintage']\n",
    "\n",
    "# Dependent (target) variable, it is continuous\n",
    "target = ['recovery']\n",
    "\n",
    "X = Mid_Ver_df[X_vars].copy()                                                    \n",
    "y = Mid_Ver_df[target]\n",
    "\n",
    "# random_state=0 tells the sklearn function that you are not setting a seed\n",
    "# if you want to be able to duplicate results, set random_state to a positive integer\n",
    "X_train, X_test, y_train, y_test = train_test_split(X, y, train_size=.80, random_state=123)\n",
    "\n",
    "train = pd.concat([X_train, y_train], axis=1)\n",
    "test = pd.concat([X_test, y_test], axis=1)\n",
    "\n",
    "reg_df, abs_df, lr, lr.coef_, lr.intercept_, MAE, MSE, r2_train, y_pred, scatter = linreg(X_train, y_train)\n",
    "print('lr.intercept:', lr.intercept_[0])\n",
    "print('MAE:', MAE)\n",
    "print('MSE:', MSE)\n",
    "print('r2_train:', r2_train)\n",
    "reg_df"
   ]
  },
  {
   "cell_type": "code",
   "execution_count": null,
   "metadata": {},
   "outputs": [],
   "source": [
    "print('abs_df:')\n",
    "abs_df.sort_values(by='value', ascending=False)"
   ]
  },
  {
   "cell_type": "markdown",
   "metadata": {},
   "source": [
    "#### Midland, Horizontal Wells, Gross Perforations < 6000:"
   ]
  },
  {
   "cell_type": "code",
   "execution_count": null,
   "metadata": {},
   "outputs": [],
   "source": [
    "Mid_Hor_Low_df = scaled_df[(scaled_df['scaled_sub_basin'] == 1) & (scaled_df['scaled_direction'] == 0.0) & (scaled_df['scaled_gross_perfs'] < gross_perfs_scaled_limit)]\n",
    "Mid_Hor_Low_df.sample(5)"
   ]
  },
  {
   "cell_type": "code",
   "execution_count": null,
   "metadata": {},
   "outputs": [],
   "source": [
    "xgb_df = Mid_Hor_Low_df.drop(columns=['recovery']).copy()\n",
    "\n",
    "xgb_params = {\n",
    "    'max_depth': 8,\n",
    "    'seed' : 493\n",
    "}\n",
    "dtrain = xgb.DMatrix(xgb_df, Mid_Hor_Low_df.recovery, feature_names=xgb_df.columns.values)\n",
    "model = xgb.train(dict(xgb_params, silent=0), dtrain, num_boost_round=50)\n",
    "\n",
    "# plot the important features #\n",
    "fig, ax = plt.subplots(figsize=(12,8))\n",
    "xgb.plot_importance(model, max_num_features=50, height=0.8, ax=ax)\n",
    "plt.title('Midland, Horizontal Wells, Gross Perforations < 6000')\n",
    "plt.show()"
   ]
  },
  {
   "cell_type": "code",
   "execution_count": null,
   "metadata": {},
   "outputs": [],
   "source": [
    "# Independent variables:\n",
    "X_vars = ['scaled_direction', 'scaled_frac_fluid_type', 'scaled_oper', \n",
    "          'scaled_formation', 'scaled_sub_basin', 'scaled_lateral_class', \n",
    "          'scaled_proppant_ppf', 'scaled_frac_fluid_gpf', 'scaled_gross_perfs', \n",
    "          'scaled_frac_stages', 'scaled_oil_gravity', 'scaled_gor_hist', \n",
    "          'scaled_tvd', 'scaled_vintage']\n",
    "\n",
    "# Dependent (target) variable, it is continuous\n",
    "target = ['recovery']\n",
    "\n",
    "X = Mid_Hor_Low_df[X_vars].copy()                                                    \n",
    "y = Mid_Hor_Low_df[target]\n",
    "\n",
    "# random_state=0 tells the sklearn function that you are not setting a seed\n",
    "# if you want to be able to duplicate results, set random_state to a positive integer\n",
    "X_train, X_test, y_train, y_test = train_test_split(X, y, train_size=.80, random_state=123)\n",
    "\n",
    "train = pd.concat([X_train, y_train], axis=1)\n",
    "test = pd.concat([X_test, y_test], axis=1)\n",
    "\n",
    "reg_df, abs_df, lr, lr.coef_, lr.intercept_, MAE, MSE, r2_train, y_pred, scatter = linreg(X_train, y_train)\n",
    "print('lr.intercept:', lr.intercept_[0])\n",
    "print('MAE:', MAE)\n",
    "print('MSE:', MSE)\n",
    "print('r2_train:', r2_train)\n",
    "reg_df"
   ]
  },
  {
   "cell_type": "code",
   "execution_count": null,
   "metadata": {},
   "outputs": [],
   "source": [
    "print('abs_df:')\n",
    "abs_df.sort_values(by='value', ascending=False)"
   ]
  },
  {
   "cell_type": "markdown",
   "metadata": {},
   "source": [
    "#### Midland, Horizontal Wells, Gross Perforations > 6000:"
   ]
  },
  {
   "cell_type": "code",
   "execution_count": null,
   "metadata": {},
   "outputs": [],
   "source": [
    "((scaled_df['scaled_sub_basin'] == 1) & (scaled_df['scaled_direction'] == 0.0) & (scaled_df['scaled_gross_perfs'] < gross_perfs_scaled_limit)).sum()"
   ]
  },
  {
   "cell_type": "code",
   "execution_count": null,
   "metadata": {},
   "outputs": [],
   "source": [
    "((scaled_df['scaled_sub_basin'] == 1) & (scaled_df['scaled_direction'] == 0.0) & (scaled_df['scaled_gross_perfs'] > gross_perfs_scaled_limit)).sum()"
   ]
  },
  {
   "cell_type": "code",
   "execution_count": null,
   "metadata": {},
   "outputs": [],
   "source": [
    "Mid_Hor_High_df = scaled_df[(scaled_df['scaled_sub_basin'] == 1) & (scaled_df['scaled_direction'] == 0.0) & (scaled_df['scaled_gross_perfs'] > gross_perfs_scaled_limit)]\n",
    "Mid_Hor_High_df.sample(5)"
   ]
  },
  {
   "cell_type": "code",
   "execution_count": null,
   "metadata": {},
   "outputs": [],
   "source": [
    "xgb_df = Mid_Hor_High_df.drop(columns=['recovery']).copy()\n",
    "\n",
    "xgb_params = {\n",
    "    'max_depth': 8,\n",
    "    'seed' : 493\n",
    "}\n",
    "dtrain = xgb.DMatrix(xgb_df, Mid_Hor_High_df.recovery, feature_names=xgb_df.columns.values)\n",
    "model = xgb.train(dict(xgb_params, silent=0), dtrain, num_boost_round=50)\n",
    "\n",
    "# plot the important features #\n",
    "fig, ax = plt.subplots(figsize=(12,8))\n",
    "xgb.plot_importance(model, max_num_features=50, height=0.8, ax=ax)\n",
    "plt.title('Midland, Horizontal Wells, Gross Perforations > 6000')\n",
    "plt.show()"
   ]
  },
  {
   "cell_type": "code",
   "execution_count": null,
   "metadata": {},
   "outputs": [],
   "source": [
    "# Independent variables:\n",
    "X_vars = ['scaled_direction', 'scaled_frac_fluid_type', 'scaled_oper', \n",
    "          'scaled_formation', 'scaled_sub_basin', 'scaled_lateral_class', \n",
    "          'scaled_proppant_ppf', 'scaled_frac_fluid_gpf', 'scaled_gross_perfs', \n",
    "          'scaled_frac_stages', 'scaled_oil_gravity', 'scaled_gor_hist', \n",
    "          'scaled_tvd', 'scaled_vintage']\n",
    "\n",
    "# Dependent (target) variable, it is continuous\n",
    "target = ['recovery']\n",
    "\n",
    "X = Mid_Hor_High_df[X_vars].copy()                                                    \n",
    "y = Mid_Hor_High_df[target]\n",
    "\n",
    "# random_state=0 tells the sklearn function that you are not setting a seed\n",
    "# if you want to be able to duplicate results, set random_state to a positive integer\n",
    "X_train, X_test, y_train, y_test = train_test_split(X, y, train_size=.80, random_state=123)\n",
    "\n",
    "train = pd.concat([X_train, y_train], axis=1)\n",
    "test = pd.concat([X_test, y_test], axis=1)\n",
    "\n",
    "reg_df, abs_df, lr, lr.coef_, lr.intercept_, MAE, MSE, r2_train, y_pred, scatter = linreg(X_train, y_train)\n",
    "print('lr.intercept:', lr.intercept_[0])\n",
    "print('MAE:', MAE)\n",
    "print('MSE:', MSE)\n",
    "print('r2_train:', r2_train)\n",
    "reg_df"
   ]
  },
  {
   "cell_type": "code",
   "execution_count": null,
   "metadata": {},
   "outputs": [],
   "source": [
    "print('abs_df:')\n",
    "abs_df.sort_values(by='value', ascending=False)"
   ]
  },
  {
   "cell_type": "markdown",
   "metadata": {},
   "source": [
    "## Test Harness and Options"
   ]
  },
  {
   "cell_type": "markdown",
   "metadata": {},
   "source": [
    "### SVR"
   ]
  },
  {
   "cell_type": "markdown",
   "metadata": {},
   "source": [
    "#### First try on Midland sub-basin, horizontal wells."
   ]
  },
  {
   "cell_type": "code",
   "execution_count": null,
   "metadata": {},
   "outputs": [],
   "source": [
    "Mid_Hor_df = scaled_df[(scaled_df['scaled_sub_basin'] == 1) & (scaled_df['scaled_direction'] == 0.0)]\n",
    "Mid_Hor_df.sample(5)"
   ]
  },
  {
   "cell_type": "markdown",
   "metadata": {},
   "source": [
    "Recommended features:\n",
    "\n",
    "XGB X_vars = ['scaled_proppant_ppf', 'scaled_gor_hist', 'scaled_gross_perfs', 'scaled_frac_fluid_gpf',\n",
    "              'scaled_tvd', 'scaled_oper']\n",
    "\n",
    "\n",
    "LM X_vars = ['scaled_gross_perfs', 'scaled_oil_gravity', 'scaled_tvd', 'scaled_vintage', \n",
    "             'scaled_direction', 'scaled_formation']"
   ]
  },
  {
   "cell_type": "code",
   "execution_count": null,
   "metadata": {},
   "outputs": [],
   "source": [
    "X_vars = ['scaled_proppant_ppf', 'scaled_gor_hist', 'scaled_gross_perfs', \n",
    "          'scaled_frac_fluid_gpf', 'scaled_tvd', 'scaled_oper']\n",
    "\n",
    "# Dependent (target) variable, it is continuous\n",
    "target = ['recovery']\n",
    "\n",
    "X = Mid_Hor_df[X_vars]\n",
    "y = Mid_Hor_df[target]\n",
    "\n",
    "m = SVR(gamma='scale', C=1.0, epsilon=0.2)\n",
    "m_fit = m.fit(X, y) \n",
    "y_pred = m_fit.predict(X)\n",
    "# mean squared error\n",
    "mse = metrics.mean_squared_error(y_pred, y)\n",
    "# root mean squared error\n",
    "rmse = math.sqrt(mse)\n",
    "# r^2\n",
    "r2 = r2_score(y, y_pred)\n",
    "print('r2: ', r2, '   rmse:', rmse, '   mse:', mse)\n",
    "plt.plot(y_pred, 'r-', y, 'b-')\n",
    "\n",
    "plt.figure(figsize=(8,8))\n",
    "ax = plt.subplot(1, 1, 1)\n",
    "ax.plot(y_pred, y, '.')\n",
    "plt.show()\n",
    "\n",
    "# R² is a statistical measure of how close the data are to the fitted \n",
    "# regression line. \n",
    "# R² is the percentage of the response variable variation that is \n",
    "# explained by a linear model. Or:\n",
    "# R² = Explained variation / Total variation\n",
    "# R² is always between 0 and 100%:\n",
    "# 0% indicates that the model explains none of the variability of the response data around its mean.\n",
    "# 100% indicates that the model explains all the variability of the response data around its mean.\n",
    "# In general, the higher the R-squared, the better the model fits your data. \n",
    "\n",
    "# Root Mean Square Error (RMSE) is the standard deviation of the \n",
    "# residuals (prediction errors), a measure of how spread out these \n",
    "# residuals are. In other words, it tells you how concentrated the data \n",
    "# is around the line of best fit.\n",
    "\n",
    "# The mean squared error (MSE) of an estimator measures the average of \n",
    "# the squares of the errors—that is, the average squared difference \n",
    "# between the estimated values and what is estimated. "
   ]
  },
  {
   "cell_type": "code",
   "execution_count": null,
   "metadata": {},
   "outputs": [],
   "source": [
    "X_vars = ['scaled_gross_perfs', 'scaled_oil_gravity', 'scaled_tvd', \n",
    "          'scaled_vintage', 'scaled_direction', 'scaled_formation']\n",
    "\n",
    "# Dependent (target) variable, it is continuous\n",
    "target = ['recovery']\n",
    "\n",
    "X = Mid_Hor_df[X_vars]\n",
    "y = Mid_Hor_df[target]\n",
    "\n",
    "m = SVR(gamma='scale', C=1.0, epsilon=0.2)\n",
    "m_fit = m.fit(X, y) \n",
    "y_pred = m_fit.predict(X)\n",
    "# mean squared error\n",
    "mse = metrics.mean_squared_error(y_pred, y)\n",
    "# root mean squared error\n",
    "rmse = math.sqrt(mse)\n",
    "# r^2\n",
    "r2 = r2_score(y, y_pred)\n",
    "print('r2: ', r2, '   rmse:', rmse, '   mse:', mse)\n",
    "plt.plot(y_pred, 'r-', y, 'b-')\n",
    "\n",
    "plt.figure(figsize=(8,8))\n",
    "ax = plt.subplot(1, 1, 1)\n",
    "ax.plot(y_pred, y, '.')\n",
    "plt.show()"
   ]
  },
  {
   "cell_type": "code",
   "execution_count": null,
   "metadata": {},
   "outputs": [],
   "source": [
    "X_vars = ['scaled_proppant_ppf', 'scaled_gor_hist', 'scaled_gross_perfs', \n",
    "          'scaled_frac_fluid_gpf', 'scaled_tvd', 'scaled_oper']\n",
    "\n",
    "# Dependent (target) variable, it is continuous\n",
    "target = ['recovery']\n",
    "\n",
    "X = Mid_Hor_df[X_vars]\n",
    "y = Mid_Hor_df[target]\n",
    "\n",
    "m = SVR(kernel='rbf', gamma='scale', C=1.0, epsilon=0.2)\n",
    "m_fit = m.fit(X, y) \n",
    "y_pred = m_fit.predict(X)\n",
    "# mean squared error\n",
    "mse = metrics.mean_squared_error(y_pred, y)\n",
    "# root mean squared error\n",
    "rmse = math.sqrt(mse)\n",
    "# r^2\n",
    "r2 = r2_score(y, y_pred)\n",
    "print('r2: ', r2, '   rmse:', rmse, '   mse:', mse)\n",
    "plt.plot(y_pred, 'r-', y, 'b-')\n",
    "\n",
    "plt.figure(figsize=(8,8))\n",
    "ax = plt.subplot(1, 1, 1)\n",
    "ax.plot(y_pred, y, '.')\n",
    "plt.show()"
   ]
  },
  {
   "cell_type": "code",
   "execution_count": null,
   "metadata": {},
   "outputs": [],
   "source": [
    "X_vars = ['scaled_proppant_ppf', 'scaled_gor_hist', 'scaled_gross_perfs', \n",
    "          'scaled_frac_fluid_gpf', 'scaled_tvd', 'scaled_oper']\n",
    "\n",
    "# Dependent (target) variable, it is continuous\n",
    "target = ['recovery']\n",
    "\n",
    "X = Mid_Hor_df[X_vars]\n",
    "y = Mid_Hor_df[target]\n",
    "\n",
    "m = SVR(kernel='linear', gamma='scale', C=1.0, epsilon=0.2)\n",
    "m_fit = m.fit(X, y) \n",
    "y_pred = m_fit.predict(X)\n",
    "# mean squared error\n",
    "mse = metrics.mean_squared_error(y_pred, y)\n",
    "# root mean squared error\n",
    "rmse = math.sqrt(mse)\n",
    "# r^2\n",
    "r2 = r2_score(y, y_pred)\n",
    "print('r2: ', r2, '   rmse:', rmse, '   mse:', mse)\n",
    "plt.plot(y_pred, 'r-', y, 'b-')\n",
    "\n",
    "plt.figure(figsize=(8,8))\n",
    "ax = plt.subplot(1, 1, 1)\n",
    "ax.plot(y_pred, y, '.')\n",
    "plt.show()"
   ]
  },
  {
   "cell_type": "markdown",
   "metadata": {},
   "source": [
    "#### poly kernel is best, but r2 is only .055."
   ]
  },
  {
   "cell_type": "code",
   "execution_count": null,
   "metadata": {},
   "outputs": [],
   "source": [
    "X_vars = ['scaled_proppant_ppf', 'scaled_gor_hist', 'scaled_gross_perfs', \n",
    "          'scaled_frac_fluid_gpf', 'scaled_tvd', 'scaled_oper']\n",
    "\n",
    "# Dependent (target) variable, it is continuous\n",
    "target = ['recovery']\n",
    "\n",
    "X = Mid_Hor_df[X_vars]\n",
    "y = Mid_Hor_df[target]\n",
    "\n",
    "m = SVR(kernel='poly', gamma='scale', C=1.0, epsilon=0.2, degree=25)\n",
    "m_fit = m.fit(X, y) \n",
    "y_pred = m_fit.predict(X)\n",
    "# mean squared error\n",
    "mse = metrics.mean_squared_error(y_pred, y)\n",
    "# root mean squared error\n",
    "rmse = math.sqrt(mse)\n",
    "# r^2\n",
    "r2 = r2_score(y, y_pred)\n",
    "print('r2: ', r2, '   rmse:', rmse, '   mse:', mse)\n",
    "plt.plot(y_pred, 'r-', y, 'b-')\n",
    "\n",
    "plt.figure(figsize=(8,8))\n",
    "ax = plt.subplot(1, 1, 1)\n",
    "ax.plot(y_pred, y, '.')\n",
    "plt.show()"
   ]
  },
  {
   "cell_type": "markdown",
   "metadata": {},
   "source": [
    "#### using features from linear regression model is even better, but still only r2 = .057."
   ]
  },
  {
   "cell_type": "code",
   "execution_count": null,
   "metadata": {},
   "outputs": [],
   "source": [
    "X_vars = ['scaled_gross_perfs', 'scaled_oil_gravity', 'scaled_tvd', \n",
    "          'scaled_vintage', 'scaled_direction', 'scaled_formation']\n",
    "\n",
    "# Dependent (target) variable, it is continuous\n",
    "target = ['recovery']\n",
    "\n",
    "X = Mid_Hor_df[X_vars]\n",
    "y = Mid_Hor_df[target]\n",
    "\n",
    "m = SVR(kernel='poly', gamma='scale', C=1.0, epsilon=0.2, verbose=True)\n",
    "m_fit = m.fit(X, y) \n",
    "y_pred = m_fit.predict(X)\n",
    "# mean squared error\n",
    "mse = metrics.mean_squared_error(y_pred, y)\n",
    "# root mean squared error\n",
    "rmse = math.sqrt(mse)\n",
    "# r^2\n",
    "r2 = r2_score(y, y_pred)\n",
    "print('r2: ', r2, '   rmse:', rmse, '   mse:', mse)\n",
    "plt.plot(y_pred, 'r-', y, 'b-')\n",
    "\n",
    "plt.figure(figsize=(8,8))\n",
    "ax = plt.subplot(1, 1, 1)\n",
    "ax.plot(y_pred, y, '.')\n",
    "plt.show()"
   ]
  },
  {
   "cell_type": "markdown",
   "metadata": {},
   "source": [
    "#### Tried \"cheating\" by adding mid_point_long and mid_point_lat, but still r2 = .06."
   ]
  },
  {
   "cell_type": "code",
   "execution_count": null,
   "metadata": {},
   "outputs": [],
   "source": [
    "numerics = ['int64', 'float64', 'float']\n",
    "\n",
    "temp_df = df.select_dtypes(include=numerics)\n",
    "temp_df = temp_df.drop(columns=['api14', 'proppant_ppf', 'frac_fluid_gpf', \n",
    "        'gross_perfs', 'frac_stages', 'oil_gravity', 'peak_boepd', 'oil_hist', \n",
    "        'gas_hist', 'gor_hist', 'ip90_boeqpd', 'tvd', 'sur_lat', 'sur_long', \n",
    "        'well_id', 'mid_point_lat', 'mid_point_long', 'recovery_per_foot', \n",
    "        'months_active', 'recovery_per_month', 'vintage', 'vintage_bin', \n",
    "        'encoded_direction', 'encoded_frac_fluid_type', 'encoded_county', \n",
    "        'encoded_oper', 'encoded_formation', 'encoded_sub_basin', 'encoded_lateral_class', \n",
    "        'scaled_county'])\n",
    "temp_Mid_Hor_df = temp_df[(scaled_df['scaled_sub_basin'] == 1) & (scaled_df['scaled_direction'] == 0.0)]"
   ]
  },
  {
   "cell_type": "code",
   "execution_count": null,
   "metadata": {},
   "outputs": [],
   "source": [
    "# X_vars = ['scaled_direction', 'scaled_frac_fluid_type', 'scaled_oper', \n",
    "#           'scaled_formation', 'scaled_sub_basin', 'scaled_lateral_class', \n",
    "#           'scaled_proppant_ppf', 'scaled_frac_fluid_gpf', 'scaled_gross_perfs', \n",
    "#           'scaled_frac_stages', 'scaled_oil_gravity', 'scaled_gor_hist', \n",
    "#           'scaled_tvd', 'scaled_vintage']\n",
    "\n",
    "X_vars = ['scaled_gross_perfs', 'scaled_oil_gravity', 'scaled_tvd', \n",
    "          'scaled_vintage', 'scaled_direction', 'scaled_formation',\n",
    "          'scaled_mid_point_lat', 'scaled_mid_point_long']\n",
    "\n",
    "# Dependent (target) variable, it is continuous\n",
    "target = ['recovery']\n",
    "\n",
    "X = temp_Mid_Hor_df[X_vars]\n",
    "y = temp_Mid_Hor_df[target]\n",
    "\n",
    "m = SVR(kernel='poly', gamma='scale', C=1.0, epsilon=0.2)\n",
    "m_fit = m.fit(X, y) \n",
    "y_pred = m_fit.predict(X)\n",
    "# mean squared error\n",
    "mse = metrics.mean_squared_error(y_pred, y)\n",
    "# root mean squared error\n",
    "rmse = math.sqrt(mse)\n",
    "# r^2\n",
    "r2 = r2_score(y, y_pred)\n",
    "print('r2: ', r2, '   rmse:', rmse, '   mse:', mse)\n",
    "plt.plot(y_pred, 'r-', y, 'b-')\n",
    "\n",
    "plt.figure(figsize=(8,8))\n",
    "ax = plt.subplot(1, 1, 1)\n",
    "ax.plot(y_pred, y, '.')\n",
    "plt.show()"
   ]
  },
  {
   "cell_type": "code",
   "execution_count": null,
   "metadata": {},
   "outputs": [],
   "source": []
  },
  {
   "cell_type": "code",
   "execution_count": null,
   "metadata": {},
   "outputs": [],
   "source": []
  },
  {
   "cell_type": "code",
   "execution_count": null,
   "metadata": {},
   "outputs": [],
   "source": [
    "print(__doc__)\n",
    "\n",
    "import numpy as np\n",
    "from sklearn.svm import SVR\n",
    "import matplotlib.pyplot as plt\n",
    "\n",
    "# #############################################################################\n",
    "# Generate sample data\n",
    "X = np.sort(5 * np.random.rand(40, 1), axis=0)\n",
    "y = np.sin(X).ravel()\n",
    "\n",
    "# #############################################################################\n",
    "# Add noise to targets\n",
    "y[::5] += 3 * (0.5 - np.random.rand(8))\n",
    "\n",
    "# #############################################################################\n",
    "# Fit regression model\n",
    "svr_rbf = SVR(kernel='rbf', C=100, gamma=0.1, epsilon=.1)\n",
    "svr_lin = SVR(kernel='linear', C=100, gamma='auto')\n",
    "svr_poly = SVR(kernel='poly', C=100, gamma='auto', degree=3, epsilon=.1,\n",
    "               coef0=1)\n",
    "\n",
    "# #############################################################################\n",
    "# Look at the results\n",
    "lw = 2\n",
    "\n",
    "svrs = [svr_rbf, svr_lin, svr_poly]\n",
    "kernel_label = ['RBF', 'Linear', 'Polynomial']\n",
    "model_color = ['m', 'c', 'g']\n",
    "\n",
    "fig, axes = plt.subplots(nrows=1, ncols=3, figsize=(15, 10), sharey=True)\n",
    "for ix, svr in enumerate(svrs):\n",
    "    axes[ix].plot(X, svr.fit(X, y).predict(X), color=model_color[ix], lw=lw,\n",
    "                  label='{} model'.format(kernel_label[ix]))\n",
    "    axes[ix].scatter(X[svr.support_], y[svr.support_], facecolor=\"none\",\n",
    "                     edgecolor=model_color[ix], s=50,\n",
    "                     label='{} support vectors'.format(kernel_label[ix]))\n",
    "    axes[ix].scatter(X[np.setdiff1d(np.arange(len(X)), svr.support_)],\n",
    "                     y[np.setdiff1d(np.arange(len(X)), svr.support_)],\n",
    "                     facecolor=\"none\", edgecolor=\"k\", s=50,\n",
    "                     label='other training data')\n",
    "    axes[ix].legend(loc='upper center', bbox_to_anchor=(0.5, 1.1),\n",
    "                    ncol=1, fancybox=True, shadow=True)\n",
    "\n",
    "fig.text(0.5, 0.04, 'data', ha='center', va='center')\n",
    "fig.text(0.06, 0.5, 'target', ha='center', va='center', rotation='vertical')\n",
    "fig.suptitle(\"Support Vector Regression\", fontsize=14)\n",
    "plt.show()"
   ]
  },
  {
   "cell_type": "code",
   "execution_count": null,
   "metadata": {},
   "outputs": [],
   "source": [
    "print(__doc__)\n",
    "\n",
    "import numpy as np\n",
    "from sklearn.svm import SVR\n",
    "import matplotlib.pyplot as plt\n",
    "\n",
    "# #############################################################################\n",
    "# X_vars = ['scaled_proppant_ppf', 'scaled_gor_hist', 'scaled_gross_perfs', \n",
    "#           'scaled_frac_fluid_gpf', 'scaled_tvd', 'scaled_oper']\n",
    "X_vars = ['scaled_proppant_ppf']\n",
    "\n",
    "# Dependent (target) variable, it is continuous\n",
    "target = ['recovery']\n",
    "\n",
    "X = Mid_Hor_df[X_vars]\n",
    "y = Mid_Hor_df[target]\n",
    "\n",
    "# #############################################################################\n",
    "# Fit regression model\n",
    "svr_rbf = SVR(kernel='rbf', C=1.0, gamma='scale', epsilon=.2)\n",
    "svr_lin = SVR(kernel='linear', C=1.0, gamma='scale')\n",
    "svr_poly = SVR(kernel='poly', C=1.0, gamma='scale', degree=3, epsilon=.2,\n",
    "               coef0=1)\n",
    "\n",
    "# #############################################################################\n",
    "# Look at the results\n",
    "lw = 2\n",
    "\n",
    "svrs = [svr_rbf, svr_lin, svr_poly]\n",
    "kernel_label = ['RBF', 'Linear', 'Polynomial']\n",
    "model_color = ['m', 'c', 'g']\n",
    "\n",
    "fig, axes = plt.subplots(nrows=1, ncols=3, figsize=(15, 10), sharey=True)\n",
    "for ix, svr in enumerate(svrs):\n",
    "    print(ix)\n",
    "    print(svr)\n",
    "    print()\n",
    "    axes[ix].plot(X, svr.fit(X, y).predict(X), color=model_color[ix], lw=lw,\n",
    "                  label='{} model'.format(kernel_label[ix]))\n",
    "#     axes[ix].scatter(X[svr.support_], y[svr.support_], facecolor=\"none\",\n",
    "#                      edgecolor=model_color[ix], s=50,\n",
    "#                      label='{} support vectors'.format(kernel_label[ix]))\n",
    "#     axes[ix].scatter(X[np.setdiff1d(np.arange(len(X)), svr.support_)],\n",
    "#                      y[np.setdiff1d(np.arange(len(X)), svr.support_)],\n",
    "#                      facecolor=\"none\", edgecolor=\"k\", s=50,\n",
    "#                      label='other training data')\n",
    "    axes[ix].legend(loc='upper center', bbox_to_anchor=(0.5, 1.1),\n",
    "                        ncol=1, fancybox=True, shadow=True)\n",
    "\n",
    "fig.text(0.5, 0.04, 'data', ha='center', va='center')\n",
    "fig.text(0.06, 0.5, 'target', ha='center', va='center', rotation='vertical')\n",
    "fig.suptitle(\"Support Vector Regression\", fontsize=14)\n",
    "plt.show()\n",
    "\n",
    "# This is the code that worked above, but only on one at a time.\n",
    "# m = SVR(gamma='scale', C=1.0, epsilon=0.2)\n",
    "# m_fit = m.fit(X, y) \n",
    "# y_pred = m_fit.predict(X)\n",
    "# plt.plot(y_pred, 'r-', y, 'b-')\n",
    "\n",
    "# plt.figure(figsize=(8,8))\n",
    "# ax = plt.subplot(1, 1, 1)\n",
    "# ax.plot(y_pred, y, '.')\n",
    "# plt.show()"
   ]
  },
  {
   "cell_type": "markdown",
   "metadata": {},
   "source": [
    "### From curriculum:"
   ]
  },
  {
   "cell_type": "code",
   "execution_count": null,
   "metadata": {},
   "outputs": [],
   "source": [
    "SVR_XGB_df = Mid_Hor_df[['scaled_proppant_ppf', 'scaled_gor_hist', 'scaled_gross_perfs', 'scaled_frac_fluid_gpf', 'scaled_tvd', 'scaled_oper']]\n",
    "SVR_XGB_df.sample(5)"
   ]
  },
  {
   "cell_type": "code",
   "execution_count": null,
   "metadata": {},
   "outputs": [],
   "source": [
    "X_vars = ['scaled_proppant_ppf', 'scaled_gor_hist', 'scaled_gross_perfs', \n",
    "          'scaled_frac_fluid_gpf', 'scaled_tvd', 'scaled_oper']\n",
    "\n",
    "# Dependent (target) variable, it is continuous\n",
    "target = ['recovery']\n",
    "\n",
    "X = Mid_Hor_df[X_vars]\n",
    "y = Mid_Hor_df[target]\n",
    "\n",
    "m = SVR(gamma='scale', C=1.0, epsilon=0.2)\n",
    "m_fit = m.fit(X, y) \n",
    "y_pred = m_fit.predict(X)\n",
    "# mean squared error\n",
    "mse = metrics.mean_squared_error(y_pred, y)\n",
    "# root mean squared error\n",
    "rmse = math.sqrt(mse)\n",
    "# r^2\n",
    "r2 = r2_score(y, y_pred)\n",
    "print('r2: ', r2, '   rmse:', rmse, '   mse:', mse)\n",
    "plt.plot(y_pred, 'r-', y, 'b-')\n",
    "\n",
    "plt.figure(figsize=(8,8))\n",
    "ax = plt.subplot(1, 1, 1)\n",
    "ax.plot(y_pred, y, '.')\n",
    "plt.show()"
   ]
  },
  {
   "cell_type": "code",
   "execution_count": null,
   "metadata": {},
   "outputs": [],
   "source": [
    "# Independent variables:\n",
    "X_vars = ['scaled_proppant_ppf', 'scaled_gor_hist', 'scaled_gross_perfs', \n",
    "          'scaled_frac_fluid_gpf', 'scaled_tvd', 'scaled_oper']\n",
    "\n",
    "# Dependent (target) variable, it is continuous\n",
    "target = ['recovery']\n",
    "\n",
    "X = Mid_Hor_df[X_vars]\n",
    "y = Mid_Hor_df[target]\n",
    "\n",
    "\n",
    "# random_state=0 tells the sklearn function that you are not setting a seed\n",
    "# if you want to be able to duplicate results, set random_state to a positive integer\n",
    "X_train, X_test, y_train, y_test = train_test_split(X, y, train_size=.80, random_state=123)\n",
    "\n",
    "train = np.array(pd.concat([X_train, y_train], axis=1))\n",
    "test = np.array(pd.concat([X_test, y_test], axis=1))"
   ]
  },
  {
   "cell_type": "markdown",
   "metadata": {},
   "source": [
    "#### Create the Support Vector Regressor Object"
   ]
  },
  {
   "cell_type": "code",
   "execution_count": null,
   "metadata": {},
   "outputs": [],
   "source": [
    "m = SVR(kernel='rbf', C=1, gamma=0.1)\n",
    "# C is our regularization constant\n",
    "m_fit = m.fit(X_train, y_train)"
   ]
  },
  {
   "cell_type": "markdown",
   "metadata": {},
   "source": [
    "#### Predict in-sample/training dataset"
   ]
  },
  {
   "cell_type": "code",
   "execution_count": null,
   "metadata": {},
   "outputs": [],
   "source": [
    "y_pred = m_fit.predict(X_train)"
   ]
  },
  {
   "cell_type": "markdown",
   "metadata": {},
   "source": [
    "#### Evaluate"
   ]
  },
  {
   "cell_type": "code",
   "execution_count": null,
   "metadata": {},
   "outputs": [],
   "source": [
    "# mean squared error\n",
    "mse = metrics.mean_squared_error(y_pred, y_train)\n",
    "print(mse)"
   ]
  },
  {
   "cell_type": "code",
   "execution_count": null,
   "metadata": {},
   "outputs": [],
   "source": [
    "# root mean squared error\n",
    "import math\n",
    "rmse = math.sqrt(mse)\n",
    "print(rmse)"
   ]
  },
  {
   "cell_type": "markdown",
   "metadata": {},
   "source": [
    "#### Plot the predicted data"
   ]
  },
  {
   "cell_type": "code",
   "execution_count": null,
   "metadata": {},
   "outputs": [],
   "source": [
    "plt.plot(y_pred, 'b-', y_train, 'r-')"
   ]
  },
  {
   "cell_type": "markdown",
   "metadata": {},
   "source": [
    "#### Plot the predicted values with the actual values"
   ]
  },
  {
   "cell_type": "code",
   "execution_count": null,
   "metadata": {},
   "outputs": [],
   "source": [
    "plt.figure(figsize=(8,8))\n",
    "ax = plt.subplot(1, 1, 1)\n",
    "ax.plot(y_pred, y_train, '.')\n",
    "plt.show()"
   ]
  },
  {
   "cell_type": "markdown",
   "metadata": {},
   "source": [
    "#### Predict on out-of-sample/test dataset"
   ]
  },
  {
   "cell_type": "code",
   "execution_count": null,
   "metadata": {},
   "outputs": [],
   "source": [
    "y_pred = m_fit.predict(X_test)"
   ]
  },
  {
   "cell_type": "markdown",
   "metadata": {},
   "source": [
    "#### Evaluate"
   ]
  },
  {
   "cell_type": "code",
   "execution_count": null,
   "metadata": {},
   "outputs": [],
   "source": [
    "# mean squared error\n",
    "mse = metrics.mean_squared_error(y_pred, y_test)\n",
    "print(mse)"
   ]
  },
  {
   "cell_type": "code",
   "execution_count": null,
   "metadata": {},
   "outputs": [],
   "source": [
    "# root mean squared error\n",
    "import math\n",
    "rmse = math.sqrt(mse)\n",
    "print(rmse)"
   ]
  },
  {
   "cell_type": "markdown",
   "metadata": {},
   "source": [
    "#### Plot Predictions"
   ]
  },
  {
   "cell_type": "code",
   "execution_count": null,
   "metadata": {},
   "outputs": [],
   "source": [
    "plt.plot(y_pred, 'b-', y_test, 'r-')"
   ]
  },
  {
   "cell_type": "code",
   "execution_count": null,
   "metadata": {},
   "outputs": [],
   "source": []
  },
  {
   "cell_type": "code",
   "execution_count": null,
   "metadata": {},
   "outputs": [],
   "source": []
  },
  {
   "cell_type": "code",
   "execution_count": null,
   "metadata": {},
   "outputs": [],
   "source": []
  },
  {
   "cell_type": "markdown",
   "metadata": {},
   "source": [
    "# Need to add filter_columns for the following to work."
   ]
  },
  {
   "cell_type": "markdown",
   "metadata": {},
   "source": [
    "## Explore and select algorithms"
   ]
  },
  {
   "cell_type": "code",
   "execution_count": null,
   "metadata": {},
   "outputs": [],
   "source": [
    "def filter_columns(df,listofcolumns):\n",
    "    #   ''' arguments - (dataframe), columns to include in returned dataframe\n",
    "    #  ''' \n",
    "    newdf = df.copy()\n",
    "    col_list = df.columns \n",
    "    for column in col_list:\n",
    "        if column not in listofcolumns:\n",
    "            newdf.drop([column], axis=1, inplace=True)\n",
    "    return newdf"
   ]
  },
  {
   "cell_type": "code",
   "execution_count": null,
   "metadata": {},
   "outputs": [],
   "source": [
    "def lregressiontest(df,xfeatures,yfeature,train_size):\n",
    "    y = df[yfeature]\n",
    "    X = filter_columns(df,xfeatures)\n",
    "    X_train, X_test, y_train, y_test = train_test_split(X, y, train_size=.80, random_state=123)\n",
    "    train = pd.concat([X_train, y_train], axis=1)\n",
    "    test = pd.concat([X_test, y_test], axis=1)\n",
    "\n",
    "    column_names = X_train.columns\n",
    "    r_and_p_values = [pearsonr(X_train[col], y_train) for col in column_names]\n",
    "    corrdict = dict(zip(column_names, r_and_p_values))\n",
    "\n",
    "    ols_model = sm.OLS(y_train, X_train)\n",
    "    fit = ols_model.fit()\n",
    "    lm1 = LinearRegression(fit_intercept=False) \n",
    "    lm1.fit(X_train[xfeatures], y_train)\n",
    "    LinearRegression(copy_X=True, fit_intercept=False, n_jobs=None,\n",
    "         normalize=False)\n",
    "    lm1_y_intercept = lm1.intercept_\n",
    "    lm1_coefficients = lm1.coef_\n",
    "    y_pred_lm1 = lm1.predict(X_train[xfeatures])\n",
    "    mse = mean_squared_error(y_train, y_pred_lm1)\n",
    "    r2 = r2_score(y_train, y_pred_lm1)\n",
    "    return mse, r2, corrdict\n"
   ]
  },
  {
   "cell_type": "code",
   "execution_count": null,
   "metadata": {},
   "outputs": [],
   "source": [
    "X_vars = ['proppant_ppf', 'gor_hist', 'frac_fluid_gpf', \n",
    "          'months_active', 'lateral_len', 'ip90_boeqpd', 'county']\n",
    "\n",
    "lregressiontest(scaled_df, X_vars, 'recovery', .8)"
   ]
  },
  {
   "cell_type": "code",
   "execution_count": null,
   "metadata": {},
   "outputs": [],
   "source": []
  },
  {
   "cell_type": "code",
   "execution_count": null,
   "metadata": {},
   "outputs": [],
   "source": []
  },
  {
   "cell_type": "code",
   "execution_count": null,
   "metadata": {},
   "outputs": [],
   "source": []
  },
  {
   "cell_type": "code",
   "execution_count": null,
   "metadata": {},
   "outputs": [],
   "source": []
  },
  {
   "cell_type": "code",
   "execution_count": null,
   "metadata": {},
   "outputs": [],
   "source": []
  },
  {
   "cell_type": "markdown",
   "metadata": {},
   "source": [
    "## Interpret and report results"
   ]
  },
  {
   "cell_type": "code",
   "execution_count": null,
   "metadata": {},
   "outputs": [],
   "source": []
  },
  {
   "cell_type": "markdown",
   "metadata": {},
   "source": [
    "# Improve Results"
   ]
  },
  {
   "cell_type": "markdown",
   "metadata": {},
   "source": [
    "## Algorithm Tuning"
   ]
  },
  {
   "cell_type": "code",
   "execution_count": null,
   "metadata": {},
   "outputs": [],
   "source": []
  },
  {
   "cell_type": "markdown",
   "metadata": {},
   "source": [
    "## Ensemble Methods"
   ]
  },
  {
   "cell_type": "markdown",
   "metadata": {},
   "source": [
    "### Bagging"
   ]
  },
  {
   "cell_type": "code",
   "execution_count": null,
   "metadata": {},
   "outputs": [],
   "source": []
  },
  {
   "cell_type": "markdown",
   "metadata": {},
   "source": [
    "### Boosting"
   ]
  },
  {
   "cell_type": "code",
   "execution_count": null,
   "metadata": {},
   "outputs": [],
   "source": []
  },
  {
   "cell_type": "markdown",
   "metadata": {},
   "source": [
    "### Blending"
   ]
  },
  {
   "cell_type": "code",
   "execution_count": null,
   "metadata": {},
   "outputs": [],
   "source": []
  },
  {
   "cell_type": "markdown",
   "metadata": {},
   "source": [
    "## Extreme Feature Engineering"
   ]
  },
  {
   "cell_type": "code",
   "execution_count": null,
   "metadata": {},
   "outputs": [],
   "source": []
  }
 ],
 "metadata": {
  "kernelspec": {
   "display_name": "Python 3",
   "language": "python",
   "name": "python3"
  },
  "language_info": {
   "codemirror_mode": {
    "name": "ipython",
    "version": 3
   },
   "file_extension": ".py",
   "mimetype": "text/x-python",
   "name": "python",
   "nbconvert_exporter": "python",
   "pygments_lexer": "ipython3",
   "version": "3.7.1"
  }
 },
 "nbformat": 4,
 "nbformat_minor": 2
}
